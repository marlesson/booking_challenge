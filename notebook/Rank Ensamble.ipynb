{
 "cells": [
  {
   "cell_type": "code",
   "execution_count": 1,
   "metadata": {},
   "outputs": [],
   "source": [
    "import pandas as pd\n",
    "import seaborn as sns\n",
    "import numpy as np\n",
    "from collections import defaultdict\n",
    "from tqdm import tqdm\n",
    "import matplotlib.pyplot as plt\n",
    "import numpy as np\n",
    "sns.set_theme(style=\"ticks\")\n",
    "\n",
    "#https://github.com/qpwo/pySCF\n",
    "#from social_choice.profile import Profile#, ballot_box, plurality\n",
    "\n",
    "#https://github.com/djcunningham0/rankaggregation\n",
    "import rankaggregation as ra"
   ]
  },
  {
   "cell_type": "markdown",
   "metadata": {},
   "source": [
    "# Read Submission"
   ]
  },
  {
   "cell_type": "code",
   "execution_count": 2,
   "metadata": {},
   "outputs": [],
   "source": [
    "base_path      = '/media/workspace/booking_challenge/output/evaluation/EvaluationTask/results/'\n",
    "\n",
    "# Local\n",
    "\n",
    "model1  = \"SupervisedModelTraining____mars_gym_model_b____ae4b748000_ecd98441ed\"\n",
    "model2 = \"SupervisedModelTraining____mars_gym_model_b____8ee4956f7b_58ecb72721\"\n",
    "model3 = \"SupervisedModelTraining____mars_gym_model_b____7b80cf80f0_8ee798d706\"\n",
    "model4 = \"SupervisedModelTraining____mars_gym_model_b____4c23d3f48d_941b2a9df2\"\n",
    "\n",
    "\n",
    "files          = [model1, model2, model3, model4]\n",
    "model_names    = ['model1', 'model2', 'model3','model4']"
   ]
  },
  {
   "cell_type": "code",
   "execution_count": 3,
   "metadata": {},
   "outputs": [
    {
     "data": {
      "text/plain": [
       "dict_keys(['model1', 'model2', 'model3', 'model4'])"
      ]
     },
     "execution_count": 3,
     "metadata": {},
     "output_type": "execute_result"
    }
   ],
   "source": [
    "\n",
    "df_sub = {}\n",
    "for i in range(len(files)):\n",
    "    path = base_path+files[i]+'/all_reclist_{}.csv'.format(files[i].split(\"/\")[-1])\n",
    "    _df   = pd.read_csv(path)\n",
    "    _df['reclist'] = _df['reclist'].apply(eval)\n",
    "    df_sub[model_names[i]] = _df\n",
    "\n",
    "df_sub.keys()"
   ]
  },
  {
   "cell_type": "code",
   "execution_count": 4,
   "metadata": {},
   "outputs": [
    {
     "data": {
      "text/html": [
       "<div>\n",
       "<style scoped>\n",
       "    .dataframe tbody tr th:only-of-type {\n",
       "        vertical-align: middle;\n",
       "    }\n",
       "\n",
       "    .dataframe tbody tr th {\n",
       "        vertical-align: top;\n",
       "    }\n",
       "\n",
       "    .dataframe thead th {\n",
       "        text-align: right;\n",
       "    }\n",
       "</style>\n",
       "<table border=\"1\" class=\"dataframe\">\n",
       "  <thead>\n",
       "    <tr style=\"text-align: right;\">\n",
       "      <th></th>\n",
       "      <th>utrip_id</th>\n",
       "      <th>reclist</th>\n",
       "    </tr>\n",
       "  </thead>\n",
       "  <tbody>\n",
       "    <tr>\n",
       "      <th>0</th>\n",
       "      <td>1000033_1</td>\n",
       "      <td>[38677, 48968, 49087, 34123, 8335, 12320, 2919...</td>\n",
       "    </tr>\n",
       "    <tr>\n",
       "      <th>1</th>\n",
       "      <td>1000045_1</td>\n",
       "      <td>[36063, 17127, 60002, 58178, 2122, 23940, 699,...</td>\n",
       "    </tr>\n",
       "    <tr>\n",
       "      <th>2</th>\n",
       "      <td>1000212_1</td>\n",
       "      <td>[18417, 23714, 29738, 3505, 66648, 7240, 47389...</td>\n",
       "    </tr>\n",
       "    <tr>\n",
       "      <th>3</th>\n",
       "      <td>1000241_1</td>\n",
       "      <td>[53363, 56198, 30688, 18508, 32815, 12430, 174...</td>\n",
       "    </tr>\n",
       "    <tr>\n",
       "      <th>4</th>\n",
       "      <td>1000876_1</td>\n",
       "      <td>[17013, 63151, 4932, 60222, 15343, 11652, 5343...</td>\n",
       "    </tr>\n",
       "  </tbody>\n",
       "</table>\n",
       "</div>"
      ],
      "text/plain": [
       "    utrip_id                                            reclist\n",
       "0  1000033_1  [38677, 48968, 49087, 34123, 8335, 12320, 2919...\n",
       "1  1000045_1  [36063, 17127, 60002, 58178, 2122, 23940, 699,...\n",
       "2  1000212_1  [18417, 23714, 29738, 3505, 66648, 7240, 47389...\n",
       "3  1000241_1  [53363, 56198, 30688, 18508, 32815, 12430, 174...\n",
       "4  1000876_1  [17013, 63151, 4932, 60222, 15343, 11652, 5343..."
      ]
     },
     "execution_count": 4,
     "metadata": {},
     "output_type": "execute_result"
    }
   ],
   "source": [
    "df_sub['model1'].head()"
   ]
  },
  {
   "cell_type": "code",
   "execution_count": 5,
   "metadata": {},
   "outputs": [
    {
     "data": {
      "text/plain": [
       "dict_keys(['model1', 'model2', 'model3', 'model4'])"
      ]
     },
     "execution_count": 5,
     "metadata": {},
     "output_type": "execute_result"
    }
   ],
   "source": [
    "df_sub.keys()"
   ]
  },
  {
   "cell_type": "markdown",
   "metadata": {},
   "source": [
    "## Ranked"
   ]
  },
  {
   "cell_type": "code",
   "execution_count": 6,
   "metadata": {},
   "outputs": [],
   "source": [
    "# import itertools\n",
    "# import numpy as np\n",
    "# from collections import OrderedDict\n",
    "\n",
    "# # list(df_sub.keys())\n",
    "# def get_list(df_sub, uid, models = []):\n",
    "#     return list(OrderedDict.fromkeys(list(itertools.chain(*[list(df_sub[k].iloc[uid].values) \n",
    "#                                                  for k in models]))))\n",
    "\n",
    "# candidates = get_list(df_sub, 0, ['model', 'coocorrence', 'most_popular'])\n",
    "# candidates"
   ]
  },
  {
   "cell_type": "code",
   "execution_count": 7,
   "metadata": {},
   "outputs": [],
   "source": [
    "def get_rerank(reclist, type = 'instant_runoff'):\n",
    "    if type == 'instant_runoff':\n",
    "        return agg.instant_runoff(ballots)\n",
    "    elif type == 'borda':\n",
    "        l = agg.borda(ballots)\n",
    "    elif type == 'dowdall':\n",
    "        l = agg.dowdall(ballots)\n",
    "    elif type == 'average_rank':\n",
    "        l = agg.average_rank(ballots)\n",
    "    \n",
    "    return [i[0] for i in l]\n",
    "\n",
    "agg = ra.RankAggregator()"
   ]
  },
  {
   "cell_type": "code",
   "execution_count": 11,
   "metadata": {},
   "outputs": [],
   "source": [
    "#df_sub['model1']"
   ]
  },
  {
   "cell_type": "code",
   "execution_count": 16,
   "metadata": {
    "scrolled": true
   },
   "outputs": [
    {
     "name": "stderr",
     "output_type": "stream",
     "text": [
      "  1%|▏         | 290/21671 [00:00<00:15, 1412.38it/s]"
     ]
    },
    {
     "name": "stdout",
     "output_type": "stream",
     "text": [
      "dowdall ...\n"
     ]
    },
    {
     "name": "stderr",
     "output_type": "stream",
     "text": [
      "100%|██████████| 21671/21671 [00:15<00:00, 1406.12it/s]\n",
      "  0%|          | 15/21671 [00:00<02:27, 146.39it/s]"
     ]
    },
    {
     "name": "stdout",
     "output_type": "stream",
     "text": [
      "borda ...\n"
     ]
    },
    {
     "name": "stderr",
     "output_type": "stream",
     "text": [
      "100%|██████████| 21671/21671 [02:48<00:00, 128.28it/s]\n",
      "  0%|          | 13/21671 [00:00<03:03, 118.14it/s]"
     ]
    },
    {
     "name": "stdout",
     "output_type": "stream",
     "text": [
      "average_rank ...\n"
     ]
    },
    {
     "name": "stderr",
     "output_type": "stream",
     "text": [
      "100%|██████████| 21671/21671 [03:13<00:00, 112.07it/s]\n",
      "  0%|          | 0/21671 [00:00<?, ?it/s]"
     ]
    },
    {
     "name": "stdout",
     "output_type": "stream",
     "text": [
      "instant_runoff ...\n"
     ]
    },
    {
     "name": "stderr",
     "output_type": "stream",
     "text": [
      "\n"
     ]
    },
    {
     "ename": "ValueError",
     "evalue": "candidates must be a list or string",
     "output_type": "error",
     "traceback": [
      "\u001b[0;31m---------------------------------------------------------------------------\u001b[0m",
      "\u001b[0;31mValueError\u001b[0m                                Traceback (most recent call last)",
      "\u001b[0;32m<ipython-input-16-b49947ba6957>\u001b[0m in \u001b[0;36m<module>\u001b[0;34m\u001b[0m\n\u001b[1;32m     10\u001b[0m \u001b[0;34m\u001b[0m\u001b[0m\n\u001b[1;32m     11\u001b[0m         \u001b[0mballots\u001b[0m  \u001b[0;34m=\u001b[0m \u001b[0;34m[\u001b[0m\u001b[0mlist\u001b[0m\u001b[0;34m(\u001b[0m\u001b[0mdf_sub\u001b[0m\u001b[0;34m[\u001b[0m\u001b[0mk\u001b[0m\u001b[0;34m]\u001b[0m\u001b[0;34m.\u001b[0m\u001b[0miloc\u001b[0m\u001b[0;34m[\u001b[0m\u001b[0muid\u001b[0m\u001b[0;34m]\u001b[0m\u001b[0;34m[\u001b[0m\u001b[0;34m'reclist'\u001b[0m\u001b[0;34m]\u001b[0m\u001b[0;34m)\u001b[0m \u001b[0;32mfor\u001b[0m \u001b[0mk\u001b[0m \u001b[0;32min\u001b[0m \u001b[0mmodel_names\u001b[0m\u001b[0;34m]\u001b[0m\u001b[0;34m\u001b[0m\u001b[0;34m\u001b[0m\u001b[0m\n\u001b[0;32m---> 12\u001b[0;31m         \u001b[0mreranked\u001b[0m \u001b[0;34m=\u001b[0m \u001b[0mlist\u001b[0m\u001b[0;34m(\u001b[0m\u001b[0mnp\u001b[0m\u001b[0;34m.\u001b[0m\u001b[0marray\u001b[0m\u001b[0;34m(\u001b[0m\u001b[0mget_rerank\u001b[0m\u001b[0;34m(\u001b[0m\u001b[0mballots\u001b[0m\u001b[0;34m,\u001b[0m \u001b[0mkind_rerank\u001b[0m\u001b[0;34m)\u001b[0m\u001b[0;34m)\u001b[0m\u001b[0;34m.\u001b[0m\u001b[0mastype\u001b[0m\u001b[0;34m(\u001b[0m\u001b[0mint\u001b[0m\u001b[0;34m)\u001b[0m\u001b[0;34m)\u001b[0m\u001b[0;34m[\u001b[0m\u001b[0;34m:\u001b[0m\u001b[0mreclist_size\u001b[0m\u001b[0;34m]\u001b[0m\u001b[0;34m\u001b[0m\u001b[0;34m\u001b[0m\u001b[0m\n\u001b[0m\u001b[1;32m     13\u001b[0m         \u001b[0mreranked_list\u001b[0m\u001b[0;34m.\u001b[0m\u001b[0mappend\u001b[0m\u001b[0;34m(\u001b[0m\u001b[0mreranked\u001b[0m\u001b[0;34m)\u001b[0m\u001b[0;34m\u001b[0m\u001b[0;34m\u001b[0m\u001b[0m\n\u001b[1;32m     14\u001b[0m \u001b[0;34m\u001b[0m\u001b[0m\n",
      "\u001b[0;32m<ipython-input-7-3b5610e64dc8>\u001b[0m in \u001b[0;36mget_rerank\u001b[0;34m(reclist, type)\u001b[0m\n\u001b[1;32m      1\u001b[0m \u001b[0;32mdef\u001b[0m \u001b[0mget_rerank\u001b[0m\u001b[0;34m(\u001b[0m\u001b[0mreclist\u001b[0m\u001b[0;34m,\u001b[0m \u001b[0mtype\u001b[0m \u001b[0;34m=\u001b[0m \u001b[0;34m'instant_runoff'\u001b[0m\u001b[0;34m)\u001b[0m\u001b[0;34m:\u001b[0m\u001b[0;34m\u001b[0m\u001b[0;34m\u001b[0m\u001b[0m\n\u001b[1;32m      2\u001b[0m     \u001b[0;32mif\u001b[0m \u001b[0mtype\u001b[0m \u001b[0;34m==\u001b[0m \u001b[0;34m'instant_runoff'\u001b[0m\u001b[0;34m:\u001b[0m\u001b[0;34m\u001b[0m\u001b[0;34m\u001b[0m\u001b[0m\n\u001b[0;32m----> 3\u001b[0;31m         \u001b[0;32mreturn\u001b[0m \u001b[0magg\u001b[0m\u001b[0;34m.\u001b[0m\u001b[0minstant_runoff\u001b[0m\u001b[0;34m(\u001b[0m\u001b[0mballots\u001b[0m\u001b[0;34m)\u001b[0m\u001b[0;34m\u001b[0m\u001b[0;34m\u001b[0m\u001b[0m\n\u001b[0m\u001b[1;32m      4\u001b[0m     \u001b[0;32melif\u001b[0m \u001b[0mtype\u001b[0m \u001b[0;34m==\u001b[0m \u001b[0;34m'borda'\u001b[0m\u001b[0;34m:\u001b[0m\u001b[0;34m\u001b[0m\u001b[0;34m\u001b[0m\u001b[0m\n\u001b[1;32m      5\u001b[0m         \u001b[0ml\u001b[0m \u001b[0;34m=\u001b[0m \u001b[0magg\u001b[0m\u001b[0;34m.\u001b[0m\u001b[0mborda\u001b[0m\u001b[0;34m(\u001b[0m\u001b[0mballots\u001b[0m\u001b[0;34m)\u001b[0m\u001b[0;34m\u001b[0m\u001b[0;34m\u001b[0m\u001b[0m\n",
      "\u001b[0;32m~/anaconda3/lib/python3.7/site-packages/rankaggregation/rankaggregator.py\u001b[0m in \u001b[0;36minstant_runoff\u001b[0;34m(self, rank_list)\u001b[0m\n\u001b[1;32m     75\u001b[0m             \u001b[0mwinner\u001b[0m \u001b[0;34m=\u001b[0m \u001b[0mself\u001b[0m\u001b[0;34m.\u001b[0m\u001b[0m_irv\u001b[0m\u001b[0;34m(\u001b[0m\u001b[0mrank_list\u001b[0m\u001b[0;34m)\u001b[0m\u001b[0;34m\u001b[0m\u001b[0;34m\u001b[0m\u001b[0m\n\u001b[1;32m     76\u001b[0m             \u001b[0mfinal_list\u001b[0m\u001b[0;34m.\u001b[0m\u001b[0mappend\u001b[0m\u001b[0;34m(\u001b[0m\u001b[0mwinner\u001b[0m\u001b[0;34m)\u001b[0m\u001b[0;34m\u001b[0m\u001b[0;34m\u001b[0m\u001b[0m\n\u001b[0;32m---> 77\u001b[0;31m             \u001b[0mrank_list\u001b[0m \u001b[0;34m=\u001b[0m \u001b[0mself\u001b[0m\u001b[0;34m.\u001b[0m\u001b[0m_drop_candidates\u001b[0m\u001b[0;34m(\u001b[0m\u001b[0mrank_list\u001b[0m\u001b[0;34m,\u001b[0m \u001b[0mcandidates\u001b[0m\u001b[0;34m=\u001b[0m\u001b[0mwinner\u001b[0m\u001b[0;34m)\u001b[0m\u001b[0;34m\u001b[0m\u001b[0;34m\u001b[0m\u001b[0m\n\u001b[0m\u001b[1;32m     78\u001b[0m \u001b[0;34m\u001b[0m\u001b[0m\n\u001b[1;32m     79\u001b[0m         \u001b[0;32mreturn\u001b[0m \u001b[0mfinal_list\u001b[0m\u001b[0;34m\u001b[0m\u001b[0;34m\u001b[0m\u001b[0m\n",
      "\u001b[0;32m~/anaconda3/lib/python3.7/site-packages/rankaggregation/rankaggregator.py\u001b[0m in \u001b[0;36m_drop_candidates\u001b[0;34m(self, rank_list, candidates)\u001b[0m\n\u001b[1;32m     40\u001b[0m             \u001b[0mcandidates\u001b[0m \u001b[0;34m=\u001b[0m \u001b[0;34m[\u001b[0m\u001b[0mcandidates\u001b[0m\u001b[0;34m]\u001b[0m\u001b[0;34m\u001b[0m\u001b[0;34m\u001b[0m\u001b[0m\n\u001b[1;32m     41\u001b[0m         \u001b[0;32melif\u001b[0m \u001b[0;32mnot\u001b[0m \u001b[0misinstance\u001b[0m\u001b[0;34m(\u001b[0m\u001b[0mcandidates\u001b[0m\u001b[0;34m,\u001b[0m \u001b[0mlist\u001b[0m\u001b[0;34m)\u001b[0m\u001b[0;34m:\u001b[0m\u001b[0;34m\u001b[0m\u001b[0;34m\u001b[0m\u001b[0m\n\u001b[0;32m---> 42\u001b[0;31m             \u001b[0;32mraise\u001b[0m \u001b[0mValueError\u001b[0m\u001b[0;34m(\u001b[0m\u001b[0;34m'candidates must be a list or string'\u001b[0m\u001b[0;34m)\u001b[0m\u001b[0;34m\u001b[0m\u001b[0;34m\u001b[0m\u001b[0m\n\u001b[0m\u001b[1;32m     43\u001b[0m \u001b[0;34m\u001b[0m\u001b[0m\n\u001b[1;32m     44\u001b[0m         \u001b[0;32mfor\u001b[0m \u001b[0mi\u001b[0m\u001b[0;34m,\u001b[0m \u001b[0mlst\u001b[0m \u001b[0;32min\u001b[0m \u001b[0menumerate\u001b[0m\u001b[0;34m(\u001b[0m\u001b[0mrank_list\u001b[0m\u001b[0;34m)\u001b[0m\u001b[0;34m:\u001b[0m\u001b[0;34m\u001b[0m\u001b[0;34m\u001b[0m\u001b[0m\n",
      "\u001b[0;31mValueError\u001b[0m: candidates must be a list or string"
     ]
    }
   ],
   "source": [
    "methods = ['dowdall', 'borda',  'average_rank', 'instant_runoff']\n",
    "reclist_size = 4\n",
    "\n",
    "for kind_rerank in methods:\n",
    "    print(kind_rerank, \"...\")\n",
    "    df_final = df_sub['model1'].copy()\n",
    "    \n",
    "    reranked_list = []\n",
    "    for uid in tqdm(range(len(df_sub['model1']))):\n",
    "        \n",
    "        ballots  = [list(df_sub[k].iloc[uid]['reclist']) for k in model_names]\n",
    "        reranked = list(np.array(get_rerank(ballots, kind_rerank)).astype(int))[:reclist_size]\n",
    "        reranked_list.append(reranked)\n",
    "    \n",
    "    #np.savetxt('metadada/final_submission_{}.csv'.format(kind_rerank), reranked_list, fmt='%i', delimiter=',') \n",
    "\n",
    "    #def save_submission(self, df_metric, rank_list):\n",
    "\n",
    "    df_final['reclist']  = list(reranked_list)\n",
    "    df_final['city_id_1'] = df_final['reclist'].apply(lambda reclist: reclist[0])\n",
    "    df_final['city_id_2'] = df_final['reclist'].apply(lambda reclist: reclist[1])\n",
    "    df_final['city_id_3'] = df_final['reclist'].apply(lambda reclist: reclist[2])\n",
    "    df_final['city_id_4'] = df_final['reclist'].apply(lambda reclist: reclist[3])\n",
    "\n",
    "    # base submission\n",
    "    df_final[['utrip_id', 'city_id_1', 'city_id_2', 'city_id_3', 'city_id_4']]\\\n",
    "        .to_csv('metadada/final_submission_{}.csv'.format(kind_rerank), index=False)    "
   ]
  }
 ],
 "metadata": {
  "kernelspec": {
   "display_name": "Python 3",
   "language": "python",
   "name": "python3"
  },
  "language_info": {
   "codemirror_mode": {
    "name": "ipython",
    "version": 3
   },
   "file_extension": ".py",
   "mimetype": "text/x-python",
   "name": "python",
   "nbconvert_exporter": "python",
   "pygments_lexer": "ipython3",
   "version": "3.7.3"
  },
  "toc": {
   "base_numbering": 1,
   "nav_menu": {},
   "number_sections": true,
   "sideBar": true,
   "skip_h1_title": false,
   "title_cell": "Table of Contents",
   "title_sidebar": "Contents",
   "toc_cell": false,
   "toc_position": {},
   "toc_section_display": true,
   "toc_window_display": false
  }
 },
 "nbformat": 4,
 "nbformat_minor": 4
}
