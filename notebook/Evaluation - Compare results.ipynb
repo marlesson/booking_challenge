{
 "cells": [
  {
   "source": [
    "## Tunning Analisis"
   ],
   "cell_type": "markdown",
   "metadata": {}
  },
  {
   "cell_type": "code",
   "execution_count": 1,
   "metadata": {},
   "outputs": [],
   "source": [
    "import pandas as pd\n",
    "import json\n",
    "import os\n",
    "from pandas.io.json import json_normalize\n",
    "import numpy as np\n",
    "import scipy\n",
    "pd.options.display.float_format = '{:.3f}'.format\n"
   ]
  },
  {
   "cell_type": "code",
   "execution_count": 2,
   "metadata": {},
   "outputs": [],
   "source": [
    "# output/evaluation/EvaluationTask/results/SupervisedModelTraining____mars_gym_model_b____0ad3fb1a1b_50a71bd4ea\n",
    "path = '/home/marlesson/workspace/booking_challenge/output/evaluation/EvaluationTask/results'\n",
    "PATH_TRAIN = \"/home/marlesson/workspace/booking_challenge/output/models/\""
   ]
  },
  {
   "cell_type": "code",
   "execution_count": 3,
   "metadata": {},
   "outputs": [
    {
     "output_type": "execute_result",
     "data": {
      "text/plain": [
       "['SupervisedModelTraining____mars_gym_model_b____0764c5f891_355b97b1fc',\n",
       " 'SupervisedModelTraining____mars_gym_model_b____afcd4a7d0a_576a025ffc',\n",
       " 'SupervisedModelTraining____mars_gym_model_b____ff21a20921_1700041a22',\n",
       " 'SupervisedModelTraining____mars_gym_model_b____5c66e1190d_5c6fa6a721',\n",
       " 'SupervisedModelTraining____mars_gym_model_b____6e9297d3fc_78560e9fab']"
      ]
     },
     "metadata": {},
     "execution_count": 3
    }
   ],
   "source": [
    "paths = []\n",
    "models = []\n",
    "\n",
    "for root, dirs, files in os.walk(path):\n",
    "    if \"/results\" in root and \"Evaluation\" in root:\n",
    "        for d in dirs:\n",
    "            paths.append(os.path.join(root, d))\n",
    "            models.append(d)  # .replace(\"_\"+d.split(\"_\")[-1], \"\")\n",
    "models[:5]"
   ]
  },
  {
   "cell_type": "code",
   "execution_count": 4,
   "metadata": {},
   "outputs": [],
   "source": [
    "\n",
    "results =  dict(zip(models, paths))\n",
    "results\n",
    "def fetch_training_path():\n",
    "    paths = []\n",
    "    models = []\n",
    "    for root, dirs, files in os.walk(PATH_TRAIN):\n",
    "        if \"/results\" in root:\n",
    "            for d in dirs:\n",
    "                paths.append(os.path.join(root, d))\n",
    "                models.append(d)\n",
    "\n",
    "    return dict(zip(models, paths))\n",
    "\n",
    "#results"
   ]
  },
  {
   "cell_type": "code",
   "execution_count": 5,
   "metadata": {},
   "outputs": [],
   "source": [
    "def json2df(paths, file, idx):\n",
    "    data = []\n",
    "    for model, path in paths.items():\n",
    "        file_path = os.path.join(path, file)\n",
    "        try:\n",
    "            with open(file_path) as json_file:\n",
    "                d = json.load(json_file)\n",
    "                d[\"path\"] = path.split(\"/\")[-1]\n",
    "                d[\"model\"] = d[\"path\"].replace(\"_\" + d[\"path\"].split(\"_\")[-1], \"\")\n",
    "\n",
    "                data.append(d)\n",
    "        except:\n",
    "            data.append({\"path\": path.split(\"/\")[-1]})\n",
    "\n",
    "    df = pd.DataFrame.from_dict(json_normalize(data), orient=\"columns\")\n",
    "\n",
    "    df = df.set_index(idx)\n",
    "\n",
    "    return df"
   ]
  },
  {
   "cell_type": "code",
   "execution_count": 6,
   "metadata": {},
   "outputs": [
    {
     "output_type": "execute_result",
     "data": {
      "text/plain": [
       "                                                                                            task_name  \\\n",
       "path                                                                                                    \n",
       "SupervisedModelTraining____mars_gym_model_b____...                                                NaN   \n",
       "SupervisedModelTraining____mars_gym_model_b____...                                                NaN   \n",
       "SupervisedModelTraining____mars_gym_model_b____...                                                NaN   \n",
       "SupervisedModelTraining____mars_gym_model_b____...                                                NaN   \n",
       "SupervisedModelTraining____mars_gym_model_b____...                                                NaN   \n",
       "SupervisedModelTraining____mars_gym_model_b____...                                                NaN   \n",
       "SupervisedModelTraining____mars_gym_model_b____...  SupervisedModelTraining____mars_gym_model_b___...   \n",
       "SupervisedModelTraining____mars_gym_model_b____...  SupervisedModelTraining____mars_gym_model_b___...   \n",
       "SupervisedModelTraining____mars_gym_model_b____...  SupervisedModelTraining____mars_gym_model_b___...   \n",
       "SupervisedModelTraining____mars_gym_model_b____...  SupervisedModelTraining____mars_gym_model_b___...   \n",
       "SupervisedModelTraining____mars_gym_model_b____...  SupervisedModelTraining____mars_gym_model_b___...   \n",
       "SupervisedModelTraining____mars_gym_model_b____...  SupervisedModelTraining____mars_gym_model_b___...   \n",
       "SupervisedModelTraining____mars_gym_model_b____...                                                NaN   \n",
       "SupervisedModelTraining____mars_gym_model_b____...                                                NaN   \n",
       "SupervisedModelTraining____mars_gym_model_b____...  SupervisedModelTraining____mars_gym_model_b___...   \n",
       "SupervisedModelTraining____mars_gym_model_b____...  SupervisedModelTraining____mars_gym_model_b___...   \n",
       "SupervisedModelTraining____mars_gym_model_b____...  SupervisedModelTraining____mars_gym_model_b___...   \n",
       "SupervisedModelTraining____mars_gym_model_b____...  SupervisedModelTraining____mars_gym_model_b___...   \n",
       "SupervisedModelTraining____mars_gym_model_b____...                                                NaN   \n",
       "SupervisedModelTraining____mars_gym_model_b____...  SupervisedModelTraining____mars_gym_model_b___...   \n",
       "SupervisedModelTraining____mars_gym_model_b____...  SupervisedModelTraining____mars_gym_model_b___...   \n",
       "SupervisedModelTraining____mars_gym_model_b____...  SupervisedModelTraining____mars_gym_model_b___...   \n",
       "SupervisedModelTraining____mars_gym_model_b____...                                                NaN   \n",
       "SupervisedModelTraining____mars_gym_model_b____...  SupervisedModelTraining____mars_gym_model_b___...   \n",
       "SupervisedModelTraining____mars_gym_model_b____...  SupervisedModelTraining____mars_gym_model_b___...   \n",
       "SupervisedModelTraining____mars_gym_model_b____...                                                NaN   \n",
       "SupervisedModelTraining____mars_gym_model_b____...  SupervisedModelTraining____mars_gym_model_b___...   \n",
       "SupervisedModelTraining____mars_gym_model_b____...  SupervisedModelTraining____mars_gym_model_b___...   \n",
       "SupervisedModelTraining____mars_gym_model_b____...                                                NaN   \n",
       "SupervisedModelTraining____mars_gym_model_b____...  SupervisedModelTraining____mars_gym_model_b___...   \n",
       "SupervisedModelTraining____mars_gym_model_b____...  SupervisedModelTraining____mars_gym_model_b___...   \n",
       "SupervisedModelTraining____mars_gym_model_b____...                                                NaN   \n",
       "SupervisedModelTraining____mars_gym_model_b____...  SupervisedModelTraining____mars_gym_model_b___...   \n",
       "SupervisedModelTraining____mars_gym_model_b____...  SupervisedModelTraining____mars_gym_model_b___...   \n",
       "SupervisedModelTraining____mars_gym_model_b____...  SupervisedModelTraining____mars_gym_model_b___...   \n",
       "SupervisedModelTraining____mars_gym_model_b____...  SupervisedModelTraining____mars_gym_model_b___...   \n",
       "SupervisedModelTraining____mars_gym_model_b____...                                                NaN   \n",
       "SupervisedModelTraining____mars_gym_model_b____...                                                NaN   \n",
       "SupervisedModelTraining____mars_gym_model_b____...  SupervisedModelTraining____mars_gym_model_b___...   \n",
       "SupervisedModelTraining____mars_gym_model_b____...  SupervisedModelTraining____mars_gym_model_b___...   \n",
       "SupervisedModelTraining____mars_gym_model_b____...  SupervisedModelTraining____mars_gym_model_b___...   \n",
       "SupervisedModelTraining____mars_gym_model_b____...  SupervisedModelTraining____mars_gym_model_b___...   \n",
       "SupervisedModelTraining____mars_gym_model_b____...  SupervisedModelTraining____mars_gym_model_b___...   \n",
       "SupervisedModelTraining____mars_gym_model_b____...                                                NaN   \n",
       "SupervisedModelTraining____mars_gym_model_b____...  SupervisedModelTraining____mars_gym_model_b___...   \n",
       "SupervisedModelTraining____mars_gym_model_b____...  SupervisedModelTraining____mars_gym_model_b___...   \n",
       "SupervisedModelTraining____mars_gym_model_b____...  SupervisedModelTraining____mars_gym_model_b___...   \n",
       "SupervisedModelTraining____mars_gym_model_b____...  SupervisedModelTraining____mars_gym_model_b___...   \n",
       "SupervisedModelTraining____mars_gym_model_b____...  SupervisedModelTraining____mars_gym_model_b___...   \n",
       "SupervisedModelTraining____mars_gym_model_b____...  SupervisedModelTraining____mars_gym_model_b___...   \n",
       "SupervisedModelTraining____mars_gym_model_b____...  SupervisedModelTraining____mars_gym_model_b___...   \n",
       "SupervisedModelTraining____mars_gym_model_b____...  SupervisedModelTraining____mars_gym_model_b___...   \n",
       "SupervisedModelTraining____mars_gym_model_b____...  SupervisedModelTraining____mars_gym_model_b___...   \n",
       "SupervisedModelTraining____mars_gym_model_b____...  SupervisedModelTraining____mars_gym_model_b___...   \n",
       "\n",
       "                                                       count  acc@4  \\\n",
       "path                                                                  \n",
       "SupervisedModelTraining____mars_gym_model_b____...       nan    nan   \n",
       "SupervisedModelTraining____mars_gym_model_b____...       nan    nan   \n",
       "SupervisedModelTraining____mars_gym_model_b____...       nan    nan   \n",
       "SupervisedModelTraining____mars_gym_model_b____...       nan    nan   \n",
       "SupervisedModelTraining____mars_gym_model_b____...       nan    nan   \n",
       "SupervisedModelTraining____mars_gym_model_b____...       nan    nan   \n",
       "SupervisedModelTraining____mars_gym_model_b____... 21671.000  0.499   \n",
       "SupervisedModelTraining____mars_gym_model_b____... 21671.000  0.000   \n",
       "SupervisedModelTraining____mars_gym_model_b____... 21671.000  0.367   \n",
       "SupervisedModelTraining____mars_gym_model_b____... 21671.000  0.495   \n",
       "SupervisedModelTraining____mars_gym_model_b____... 21671.000  0.011   \n",
       "SupervisedModelTraining____mars_gym_model_b____... 21671.000  0.528   \n",
       "SupervisedModelTraining____mars_gym_model_b____...       nan    nan   \n",
       "SupervisedModelTraining____mars_gym_model_b____...       nan    nan   \n",
       "SupervisedModelTraining____mars_gym_model_b____... 21671.000  0.002   \n",
       "SupervisedModelTraining____mars_gym_model_b____... 21671.000  0.000   \n",
       "SupervisedModelTraining____mars_gym_model_b____... 21671.000  0.000   \n",
       "SupervisedModelTraining____mars_gym_model_b____... 21671.000  0.002   \n",
       "SupervisedModelTraining____mars_gym_model_b____...       nan    nan   \n",
       "SupervisedModelTraining____mars_gym_model_b____... 21671.000  0.503   \n",
       "SupervisedModelTraining____mars_gym_model_b____... 21671.000  0.528   \n",
       "SupervisedModelTraining____mars_gym_model_b____... 21671.000  0.032   \n",
       "SupervisedModelTraining____mars_gym_model_b____...       nan    nan   \n",
       "SupervisedModelTraining____mars_gym_model_b____... 21671.000  0.000   \n",
       "SupervisedModelTraining____mars_gym_model_b____... 21671.000  0.000   \n",
       "SupervisedModelTraining____mars_gym_model_b____...       nan    nan   \n",
       "SupervisedModelTraining____mars_gym_model_b____... 21671.000  0.000   \n",
       "SupervisedModelTraining____mars_gym_model_b____... 21671.000  0.014   \n",
       "SupervisedModelTraining____mars_gym_model_b____...       nan    nan   \n",
       "SupervisedModelTraining____mars_gym_model_b____... 21671.000  0.001   \n",
       "SupervisedModelTraining____mars_gym_model_b____... 21671.000  0.002   \n",
       "SupervisedModelTraining____mars_gym_model_b____...       nan    nan   \n",
       "SupervisedModelTraining____mars_gym_model_b____... 21671.000  0.013   \n",
       "SupervisedModelTraining____mars_gym_model_b____... 21671.000  0.515   \n",
       "SupervisedModelTraining____mars_gym_model_b____... 21671.000  0.531   \n",
       "SupervisedModelTraining____mars_gym_model_b____... 21671.000  0.505   \n",
       "SupervisedModelTraining____mars_gym_model_b____...       nan    nan   \n",
       "SupervisedModelTraining____mars_gym_model_b____...       nan    nan   \n",
       "SupervisedModelTraining____mars_gym_model_b____... 21671.000  0.000   \n",
       "SupervisedModelTraining____mars_gym_model_b____... 21671.000  0.000   \n",
       "SupervisedModelTraining____mars_gym_model_b____... 21671.000  0.438   \n",
       "SupervisedModelTraining____mars_gym_model_b____... 21671.000  0.491   \n",
       "SupervisedModelTraining____mars_gym_model_b____... 21671.000  0.293   \n",
       "SupervisedModelTraining____mars_gym_model_b____...       nan    nan   \n",
       "SupervisedModelTraining____mars_gym_model_b____... 21671.000  0.398   \n",
       "SupervisedModelTraining____mars_gym_model_b____... 21671.000  0.518   \n",
       "SupervisedModelTraining____mars_gym_model_b____... 21671.000  0.478   \n",
       "SupervisedModelTraining____mars_gym_model_b____... 21671.000  0.536   \n",
       "SupervisedModelTraining____mars_gym_model_b____... 21671.000  0.003   \n",
       "SupervisedModelTraining____mars_gym_model_b____... 21671.000  0.000   \n",
       "SupervisedModelTraining____mars_gym_model_b____... 21671.000  0.478   \n",
       "SupervisedModelTraining____mars_gym_model_b____... 21671.000  0.000   \n",
       "SupervisedModelTraining____mars_gym_model_b____... 21671.000  0.414   \n",
       "SupervisedModelTraining____mars_gym_model_b____... 21671.000  0.403   \n",
       "\n",
       "                                                                                                model  \n",
       "path                                                                                                   \n",
       "SupervisedModelTraining____mars_gym_model_b____...                                                NaN  \n",
       "SupervisedModelTraining____mars_gym_model_b____...                                                NaN  \n",
       "SupervisedModelTraining____mars_gym_model_b____...                                                NaN  \n",
       "SupervisedModelTraining____mars_gym_model_b____...                                                NaN  \n",
       "SupervisedModelTraining____mars_gym_model_b____...                                                NaN  \n",
       "SupervisedModelTraining____mars_gym_model_b____...                                                NaN  \n",
       "SupervisedModelTraining____mars_gym_model_b____...  SupervisedModelTraining____mars_gym_model_b___...  \n",
       "SupervisedModelTraining____mars_gym_model_b____...  SupervisedModelTraining____mars_gym_model_b___...  \n",
       "SupervisedModelTraining____mars_gym_model_b____...  SupervisedModelTraining____mars_gym_model_b___...  \n",
       "SupervisedModelTraining____mars_gym_model_b____...  SupervisedModelTraining____mars_gym_model_b___...  \n",
       "SupervisedModelTraining____mars_gym_model_b____...  SupervisedModelTraining____mars_gym_model_b___...  \n",
       "SupervisedModelTraining____mars_gym_model_b____...  SupervisedModelTraining____mars_gym_model_b___...  \n",
       "SupervisedModelTraining____mars_gym_model_b____...                                                NaN  \n",
       "SupervisedModelTraining____mars_gym_model_b____...                                                NaN  \n",
       "SupervisedModelTraining____mars_gym_model_b____...  SupervisedModelTraining____mars_gym_model_b___...  \n",
       "SupervisedModelTraining____mars_gym_model_b____...  SupervisedModelTraining____mars_gym_model_b___...  \n",
       "SupervisedModelTraining____mars_gym_model_b____...  SupervisedModelTraining____mars_gym_model_b___...  \n",
       "SupervisedModelTraining____mars_gym_model_b____...  SupervisedModelTraining____mars_gym_model_b___...  \n",
       "SupervisedModelTraining____mars_gym_model_b____...                                                NaN  \n",
       "SupervisedModelTraining____mars_gym_model_b____...  SupervisedModelTraining____mars_gym_model_b___...  \n",
       "SupervisedModelTraining____mars_gym_model_b____...  SupervisedModelTraining____mars_gym_model_b___...  \n",
       "SupervisedModelTraining____mars_gym_model_b____...  SupervisedModelTraining____mars_gym_model_b___...  \n",
       "SupervisedModelTraining____mars_gym_model_b____...                                                NaN  \n",
       "SupervisedModelTraining____mars_gym_model_b____...  SupervisedModelTraining____mars_gym_model_b___...  \n",
       "SupervisedModelTraining____mars_gym_model_b____...  SupervisedModelTraining____mars_gym_model_b___...  \n",
       "SupervisedModelTraining____mars_gym_model_b____...                                                NaN  \n",
       "SupervisedModelTraining____mars_gym_model_b____...  SupervisedModelTraining____mars_gym_model_b___...  \n",
       "SupervisedModelTraining____mars_gym_model_b____...  SupervisedModelTraining____mars_gym_model_b___...  \n",
       "SupervisedModelTraining____mars_gym_model_b____...                                                NaN  \n",
       "SupervisedModelTraining____mars_gym_model_b____...  SupervisedModelTraining____mars_gym_model_b___...  \n",
       "SupervisedModelTraining____mars_gym_model_b____...  SupervisedModelTraining____mars_gym_model_b___...  \n",
       "SupervisedModelTraining____mars_gym_model_b____...                                                NaN  \n",
       "SupervisedModelTraining____mars_gym_model_b____...  SupervisedModelTraining____mars_gym_model_b___...  \n",
       "SupervisedModelTraining____mars_gym_model_b____...  SupervisedModelTraining____mars_gym_model_b___...  \n",
       "SupervisedModelTraining____mars_gym_model_b____...  SupervisedModelTraining____mars_gym_model_b___...  \n",
       "SupervisedModelTraining____mars_gym_model_b____...  SupervisedModelTraining____mars_gym_model_b___...  \n",
       "SupervisedModelTraining____mars_gym_model_b____...                                                NaN  \n",
       "SupervisedModelTraining____mars_gym_model_b____...                                                NaN  \n",
       "SupervisedModelTraining____mars_gym_model_b____...  SupervisedModelTraining____mars_gym_model_b___...  \n",
       "SupervisedModelTraining____mars_gym_model_b____...  SupervisedModelTraining____mars_gym_model_b___...  \n",
       "SupervisedModelTraining____mars_gym_model_b____...  SupervisedModelTraining____mars_gym_model_b___...  \n",
       "SupervisedModelTraining____mars_gym_model_b____...  SupervisedModelTraining____mars_gym_model_b___...  \n",
       "SupervisedModelTraining____mars_gym_model_b____...  SupervisedModelTraining____mars_gym_model_b___...  \n",
       "SupervisedModelTraining____mars_gym_model_b____...                                                NaN  \n",
       "SupervisedModelTraining____mars_gym_model_b____...  SupervisedModelTraining____mars_gym_model_b___...  \n",
       "SupervisedModelTraining____mars_gym_model_b____...  SupervisedModelTraining____mars_gym_model_b___...  \n",
       "SupervisedModelTraining____mars_gym_model_b____...  SupervisedModelTraining____mars_gym_model_b___...  \n",
       "SupervisedModelTraining____mars_gym_model_b____...  SupervisedModelTraining____mars_gym_model_b___...  \n",
       "SupervisedModelTraining____mars_gym_model_b____...  SupervisedModelTraining____mars_gym_model_b___...  \n",
       "SupervisedModelTraining____mars_gym_model_b____...  SupervisedModelTraining____mars_gym_model_b___...  \n",
       "SupervisedModelTraining____mars_gym_model_b____...  SupervisedModelTraining____mars_gym_model_b___...  \n",
       "SupervisedModelTraining____mars_gym_model_b____...  SupervisedModelTraining____mars_gym_model_b___...  \n",
       "SupervisedModelTraining____mars_gym_model_b____...  SupervisedModelTraining____mars_gym_model_b___...  \n",
       "SupervisedModelTraining____mars_gym_model_b____...  SupervisedModelTraining____mars_gym_model_b___...  "
      ],
      "text/html": "<div>\n<style scoped>\n    .dataframe tbody tr th:only-of-type {\n        vertical-align: middle;\n    }\n\n    .dataframe tbody tr th {\n        vertical-align: top;\n    }\n\n    .dataframe thead th {\n        text-align: right;\n    }\n</style>\n<table border=\"1\" class=\"dataframe\">\n  <thead>\n    <tr style=\"text-align: right;\">\n      <th></th>\n      <th>task_name</th>\n      <th>count</th>\n      <th>acc@4</th>\n      <th>model</th>\n    </tr>\n    <tr>\n      <th>path</th>\n      <th></th>\n      <th></th>\n      <th></th>\n      <th></th>\n    </tr>\n  </thead>\n  <tbody>\n    <tr>\n      <th>SupervisedModelTraining____mars_gym_model_b____0764c5f891_355b97b1fc</th>\n      <td>NaN</td>\n      <td>nan</td>\n      <td>nan</td>\n      <td>NaN</td>\n    </tr>\n    <tr>\n      <th>SupervisedModelTraining____mars_gym_model_b____afcd4a7d0a_576a025ffc</th>\n      <td>NaN</td>\n      <td>nan</td>\n      <td>nan</td>\n      <td>NaN</td>\n    </tr>\n    <tr>\n      <th>SupervisedModelTraining____mars_gym_model_b____ff21a20921_1700041a22</th>\n      <td>NaN</td>\n      <td>nan</td>\n      <td>nan</td>\n      <td>NaN</td>\n    </tr>\n    <tr>\n      <th>SupervisedModelTraining____mars_gym_model_b____5c66e1190d_5c6fa6a721</th>\n      <td>NaN</td>\n      <td>nan</td>\n      <td>nan</td>\n      <td>NaN</td>\n    </tr>\n    <tr>\n      <th>SupervisedModelTraining____mars_gym_model_b____6e9297d3fc_78560e9fab</th>\n      <td>NaN</td>\n      <td>nan</td>\n      <td>nan</td>\n      <td>NaN</td>\n    </tr>\n    <tr>\n      <th>SupervisedModelTraining____mars_gym_model_b____ac24361b61_6d24cfc6f6</th>\n      <td>NaN</td>\n      <td>nan</td>\n      <td>nan</td>\n      <td>NaN</td>\n    </tr>\n    <tr>\n      <th>SupervisedModelTraining____mars_gym_model_b____7487ccc8f2_c55e42d498</th>\n      <td>SupervisedModelTraining____mars_gym_model_b___...</td>\n      <td>21671.000</td>\n      <td>0.499</td>\n      <td>SupervisedModelTraining____mars_gym_model_b___...</td>\n    </tr>\n    <tr>\n      <th>SupervisedModelTraining____mars_gym_model_b____0a0a18893b_3581e6e23c</th>\n      <td>SupervisedModelTraining____mars_gym_model_b___...</td>\n      <td>21671.000</td>\n      <td>0.000</td>\n      <td>SupervisedModelTraining____mars_gym_model_b___...</td>\n    </tr>\n    <tr>\n      <th>SupervisedModelTraining____mars_gym_model_b____fe94ffde36_9045760f56</th>\n      <td>SupervisedModelTraining____mars_gym_model_b___...</td>\n      <td>21671.000</td>\n      <td>0.367</td>\n      <td>SupervisedModelTraining____mars_gym_model_b___...</td>\n    </tr>\n    <tr>\n      <th>SupervisedModelTraining____mars_gym_model_b____1bfbece2c9_5047bc44f0</th>\n      <td>SupervisedModelTraining____mars_gym_model_b___...</td>\n      <td>21671.000</td>\n      <td>0.495</td>\n      <td>SupervisedModelTraining____mars_gym_model_b___...</td>\n    </tr>\n    <tr>\n      <th>SupervisedModelTraining____mars_gym_model_b____ff91355eaf_21b15937a9</th>\n      <td>SupervisedModelTraining____mars_gym_model_b___...</td>\n      <td>21671.000</td>\n      <td>0.011</td>\n      <td>SupervisedModelTraining____mars_gym_model_b___...</td>\n    </tr>\n    <tr>\n      <th>SupervisedModelTraining____mars_gym_model_b____8985ad6a19_aaf950fa32</th>\n      <td>SupervisedModelTraining____mars_gym_model_b___...</td>\n      <td>21671.000</td>\n      <td>0.528</td>\n      <td>SupervisedModelTraining____mars_gym_model_b___...</td>\n    </tr>\n    <tr>\n      <th>SupervisedModelTraining____mars_gym_model_b____60c09b7433_c63e1f10ec</th>\n      <td>NaN</td>\n      <td>nan</td>\n      <td>nan</td>\n      <td>NaN</td>\n    </tr>\n    <tr>\n      <th>SupervisedModelTraining____mars_gym_model_b____1114b343b6_a4cd52724e</th>\n      <td>NaN</td>\n      <td>nan</td>\n      <td>nan</td>\n      <td>NaN</td>\n    </tr>\n    <tr>\n      <th>SupervisedModelTraining____mars_gym_model_b____574aece487_158f100e4a</th>\n      <td>SupervisedModelTraining____mars_gym_model_b___...</td>\n      <td>21671.000</td>\n      <td>0.002</td>\n      <td>SupervisedModelTraining____mars_gym_model_b___...</td>\n    </tr>\n    <tr>\n      <th>SupervisedModelTraining____mars_gym_model_b____3c881def21_7e9d55ce5a</th>\n      <td>SupervisedModelTraining____mars_gym_model_b___...</td>\n      <td>21671.000</td>\n      <td>0.000</td>\n      <td>SupervisedModelTraining____mars_gym_model_b___...</td>\n    </tr>\n    <tr>\n      <th>SupervisedModelTraining____mars_gym_model_b____4d24d90ff8_4ca6efdb85</th>\n      <td>SupervisedModelTraining____mars_gym_model_b___...</td>\n      <td>21671.000</td>\n      <td>0.000</td>\n      <td>SupervisedModelTraining____mars_gym_model_b___...</td>\n    </tr>\n    <tr>\n      <th>SupervisedModelTraining____mars_gym_model_b____b488049e06_fb948ae46b</th>\n      <td>SupervisedModelTraining____mars_gym_model_b___...</td>\n      <td>21671.000</td>\n      <td>0.002</td>\n      <td>SupervisedModelTraining____mars_gym_model_b___...</td>\n    </tr>\n    <tr>\n      <th>SupervisedModelTraining____mars_gym_model_b____faaadec7eb_5a391302d8</th>\n      <td>NaN</td>\n      <td>nan</td>\n      <td>nan</td>\n      <td>NaN</td>\n    </tr>\n    <tr>\n      <th>SupervisedModelTraining____mars_gym_model_b____822330452c_f8e1cce339</th>\n      <td>SupervisedModelTraining____mars_gym_model_b___...</td>\n      <td>21671.000</td>\n      <td>0.503</td>\n      <td>SupervisedModelTraining____mars_gym_model_b___...</td>\n    </tr>\n    <tr>\n      <th>SupervisedModelTraining____mars_gym_model_b____291ff27fbc_aea0d50b66</th>\n      <td>SupervisedModelTraining____mars_gym_model_b___...</td>\n      <td>21671.000</td>\n      <td>0.528</td>\n      <td>SupervisedModelTraining____mars_gym_model_b___...</td>\n    </tr>\n    <tr>\n      <th>SupervisedModelTraining____mars_gym_model_b____0930dd1b34_875976231e</th>\n      <td>SupervisedModelTraining____mars_gym_model_b___...</td>\n      <td>21671.000</td>\n      <td>0.032</td>\n      <td>SupervisedModelTraining____mars_gym_model_b___...</td>\n    </tr>\n    <tr>\n      <th>SupervisedModelTraining____mars_gym_model_b____1bfbece2c9_850a1c3b9d</th>\n      <td>NaN</td>\n      <td>nan</td>\n      <td>nan</td>\n      <td>NaN</td>\n    </tr>\n    <tr>\n      <th>SupervisedModelTraining____mars_gym_model_b____2812b88680_5ca9e7e6a3</th>\n      <td>SupervisedModelTraining____mars_gym_model_b___...</td>\n      <td>21671.000</td>\n      <td>0.000</td>\n      <td>SupervisedModelTraining____mars_gym_model_b___...</td>\n    </tr>\n    <tr>\n      <th>SupervisedModelTraining____mars_gym_model_b____f8ac2605a6_b5c3ab6bed</th>\n      <td>SupervisedModelTraining____mars_gym_model_b___...</td>\n      <td>21671.000</td>\n      <td>0.000</td>\n      <td>SupervisedModelTraining____mars_gym_model_b___...</td>\n    </tr>\n    <tr>\n      <th>SupervisedModelTraining____mars_gym_model_b____c33423a919_978f853228</th>\n      <td>NaN</td>\n      <td>nan</td>\n      <td>nan</td>\n      <td>NaN</td>\n    </tr>\n    <tr>\n      <th>SupervisedModelTraining____mars_gym_model_b____16a8189b8b_64e80958f1</th>\n      <td>SupervisedModelTraining____mars_gym_model_b___...</td>\n      <td>21671.000</td>\n      <td>0.000</td>\n      <td>SupervisedModelTraining____mars_gym_model_b___...</td>\n    </tr>\n    <tr>\n      <th>SupervisedModelTraining____mars_gym_model_b____0c49038918_6c3359aba3</th>\n      <td>SupervisedModelTraining____mars_gym_model_b___...</td>\n      <td>21671.000</td>\n      <td>0.014</td>\n      <td>SupervisedModelTraining____mars_gym_model_b___...</td>\n    </tr>\n    <tr>\n      <th>SupervisedModelTraining____mars_gym_model_b____28c9da0941_e8d21ea5a0</th>\n      <td>NaN</td>\n      <td>nan</td>\n      <td>nan</td>\n      <td>NaN</td>\n    </tr>\n    <tr>\n      <th>SupervisedModelTraining____mars_gym_model_b____8e22c283e9_993a62eef8</th>\n      <td>SupervisedModelTraining____mars_gym_model_b___...</td>\n      <td>21671.000</td>\n      <td>0.001</td>\n      <td>SupervisedModelTraining____mars_gym_model_b___...</td>\n    </tr>\n    <tr>\n      <th>SupervisedModelTraining____mars_gym_model_b____851efa5172_1f4dc218b6</th>\n      <td>SupervisedModelTraining____mars_gym_model_b___...</td>\n      <td>21671.000</td>\n      <td>0.002</td>\n      <td>SupervisedModelTraining____mars_gym_model_b___...</td>\n    </tr>\n    <tr>\n      <th>SupervisedModelTraining____mars_gym_model_b____2ebf53ead9_953433cf63</th>\n      <td>NaN</td>\n      <td>nan</td>\n      <td>nan</td>\n      <td>NaN</td>\n    </tr>\n    <tr>\n      <th>SupervisedModelTraining____mars_gym_model_b____96fa7fe13d_bc615bbb0e</th>\n      <td>SupervisedModelTraining____mars_gym_model_b___...</td>\n      <td>21671.000</td>\n      <td>0.013</td>\n      <td>SupervisedModelTraining____mars_gym_model_b___...</td>\n    </tr>\n    <tr>\n      <th>SupervisedModelTraining____mars_gym_model_b____5c19dd615c_d7f0e12f42</th>\n      <td>SupervisedModelTraining____mars_gym_model_b___...</td>\n      <td>21671.000</td>\n      <td>0.515</td>\n      <td>SupervisedModelTraining____mars_gym_model_b___...</td>\n    </tr>\n    <tr>\n      <th>SupervisedModelTraining____mars_gym_model_b____99c98cd3a2_74c3a97475</th>\n      <td>SupervisedModelTraining____mars_gym_model_b___...</td>\n      <td>21671.000</td>\n      <td>0.531</td>\n      <td>SupervisedModelTraining____mars_gym_model_b___...</td>\n    </tr>\n    <tr>\n      <th>SupervisedModelTraining____mars_gym_model_b____37ce2fdd57_3e17239d2d</th>\n      <td>SupervisedModelTraining____mars_gym_model_b___...</td>\n      <td>21671.000</td>\n      <td>0.505</td>\n      <td>SupervisedModelTraining____mars_gym_model_b___...</td>\n    </tr>\n    <tr>\n      <th>SupervisedModelTraining____mars_gym_model_b____14221c9db3_d79e0af865</th>\n      <td>NaN</td>\n      <td>nan</td>\n      <td>nan</td>\n      <td>NaN</td>\n    </tr>\n    <tr>\n      <th>SupervisedModelTraining____mars_gym_model_b____d5fc32a77e_689c865399</th>\n      <td>NaN</td>\n      <td>nan</td>\n      <td>nan</td>\n      <td>NaN</td>\n    </tr>\n    <tr>\n      <th>SupervisedModelTraining____mars_gym_model_b____d6ea2403f2_9564bc4d03</th>\n      <td>SupervisedModelTraining____mars_gym_model_b___...</td>\n      <td>21671.000</td>\n      <td>0.000</td>\n      <td>SupervisedModelTraining____mars_gym_model_b___...</td>\n    </tr>\n    <tr>\n      <th>SupervisedModelTraining____mars_gym_model_b____88fed69335_2ebffb3b0b</th>\n      <td>SupervisedModelTraining____mars_gym_model_b___...</td>\n      <td>21671.000</td>\n      <td>0.000</td>\n      <td>SupervisedModelTraining____mars_gym_model_b___...</td>\n    </tr>\n    <tr>\n      <th>SupervisedModelTraining____mars_gym_model_b____a57b2a2e08_7ed0fed479</th>\n      <td>SupervisedModelTraining____mars_gym_model_b___...</td>\n      <td>21671.000</td>\n      <td>0.438</td>\n      <td>SupervisedModelTraining____mars_gym_model_b___...</td>\n    </tr>\n    <tr>\n      <th>SupervisedModelTraining____mars_gym_model_b____12daefa6a8_41f61edda0</th>\n      <td>SupervisedModelTraining____mars_gym_model_b___...</td>\n      <td>21671.000</td>\n      <td>0.491</td>\n      <td>SupervisedModelTraining____mars_gym_model_b___...</td>\n    </tr>\n    <tr>\n      <th>SupervisedModelTraining____mars_gym_model_b____48b139b75f_046bb6ea53</th>\n      <td>SupervisedModelTraining____mars_gym_model_b___...</td>\n      <td>21671.000</td>\n      <td>0.293</td>\n      <td>SupervisedModelTraining____mars_gym_model_b___...</td>\n    </tr>\n    <tr>\n      <th>SupervisedModelTraining____mars_gym_model_b____2ff261d832_8b3754b133</th>\n      <td>NaN</td>\n      <td>nan</td>\n      <td>nan</td>\n      <td>NaN</td>\n    </tr>\n    <tr>\n      <th>SupervisedModelTraining____mars_gym_model_b____853b62f016_b65e9d4e12</th>\n      <td>SupervisedModelTraining____mars_gym_model_b___...</td>\n      <td>21671.000</td>\n      <td>0.398</td>\n      <td>SupervisedModelTraining____mars_gym_model_b___...</td>\n    </tr>\n    <tr>\n      <th>SupervisedModelTraining____mars_gym_model_b____0ad3fb1a1b_50a71bd4ea</th>\n      <td>SupervisedModelTraining____mars_gym_model_b___...</td>\n      <td>21671.000</td>\n      <td>0.518</td>\n      <td>SupervisedModelTraining____mars_gym_model_b___...</td>\n    </tr>\n    <tr>\n      <th>SupervisedModelTraining____mars_gym_model_b____57e987a1ff_68fa998dbd</th>\n      <td>SupervisedModelTraining____mars_gym_model_b___...</td>\n      <td>21671.000</td>\n      <td>0.478</td>\n      <td>SupervisedModelTraining____mars_gym_model_b___...</td>\n    </tr>\n    <tr>\n      <th>SupervisedModelTraining____mars_gym_model_b____8b3a2d61ff_8156cbebdd</th>\n      <td>SupervisedModelTraining____mars_gym_model_b___...</td>\n      <td>21671.000</td>\n      <td>0.536</td>\n      <td>SupervisedModelTraining____mars_gym_model_b___...</td>\n    </tr>\n    <tr>\n      <th>SupervisedModelTraining____mars_gym_model_b____1bb94700cc_b585fa33e1</th>\n      <td>SupervisedModelTraining____mars_gym_model_b___...</td>\n      <td>21671.000</td>\n      <td>0.003</td>\n      <td>SupervisedModelTraining____mars_gym_model_b___...</td>\n    </tr>\n    <tr>\n      <th>SupervisedModelTraining____mars_gym_model_b____619db32d51_b4e52ffaa1</th>\n      <td>SupervisedModelTraining____mars_gym_model_b___...</td>\n      <td>21671.000</td>\n      <td>0.000</td>\n      <td>SupervisedModelTraining____mars_gym_model_b___...</td>\n    </tr>\n    <tr>\n      <th>SupervisedModelTraining____mars_gym_model_b____dd9dbf19d5_f8aeba0c24</th>\n      <td>SupervisedModelTraining____mars_gym_model_b___...</td>\n      <td>21671.000</td>\n      <td>0.478</td>\n      <td>SupervisedModelTraining____mars_gym_model_b___...</td>\n    </tr>\n    <tr>\n      <th>SupervisedModelTraining____mars_gym_model_b____6b5c4e0f46_de74242baa</th>\n      <td>SupervisedModelTraining____mars_gym_model_b___...</td>\n      <td>21671.000</td>\n      <td>0.000</td>\n      <td>SupervisedModelTraining____mars_gym_model_b___...</td>\n    </tr>\n    <tr>\n      <th>SupervisedModelTraining____mars_gym_model_b____a1a8c0a50b_9d1b8fbffb</th>\n      <td>SupervisedModelTraining____mars_gym_model_b___...</td>\n      <td>21671.000</td>\n      <td>0.414</td>\n      <td>SupervisedModelTraining____mars_gym_model_b___...</td>\n    </tr>\n    <tr>\n      <th>SupervisedModelTraining____mars_gym_model_b____0333185519_97f616458c</th>\n      <td>SupervisedModelTraining____mars_gym_model_b___...</td>\n      <td>21671.000</td>\n      <td>0.403</td>\n      <td>SupervisedModelTraining____mars_gym_model_b___...</td>\n    </tr>\n  </tbody>\n</table>\n</div>"
     },
     "metadata": {},
     "execution_count": 6
    }
   ],
   "source": [
    "metrics = json2df(results, \"metric.json\", \"path\")\n",
    "metrics"
   ]
  },
  {
   "cell_type": "code",
   "execution_count": 7,
   "metadata": {},
   "outputs": [
    {
     "output_type": "execute_result",
     "data": {
      "text/plain": [
       "(54, 4)"
      ]
     },
     "metadata": {},
     "execution_count": 7
    }
   ],
   "source": [
    "metrics.shape"
   ]
  },
  {
   "cell_type": "code",
   "execution_count": 8,
   "metadata": {},
   "outputs": [
    {
     "output_type": "execute_result",
     "data": {
      "text/plain": [
       "                                                             project  \\\n",
       "path                                                                   \n",
       "SupervisedModelTraining____mars_gym_model_b____...  config.conf1_rnn   \n",
       "SupervisedModelTraining____mars_gym_model_b____...  config.conf1_rnn   \n",
       "SupervisedModelTraining____mars_gym_model_b____...  config.conf1_rnn   \n",
       "SupervisedModelTraining____mars_gym_model_b____...  config.conf1_rnn   \n",
       "SupervisedModelTraining____mars_gym_model_b____...  config.conf1_rnn   \n",
       "\n",
       "                                                    sample_size  \\\n",
       "path                                                              \n",
       "SupervisedModelTraining____mars_gym_model_b____...       -1.000   \n",
       "SupervisedModelTraining____mars_gym_model_b____...       -1.000   \n",
       "SupervisedModelTraining____mars_gym_model_b____...       -1.000   \n",
       "SupervisedModelTraining____mars_gym_model_b____...       -1.000   \n",
       "SupervisedModelTraining____mars_gym_model_b____...       -1.000   \n",
       "\n",
       "                                                    minimum_interactions  \\\n",
       "path                                                                       \n",
       "SupervisedModelTraining____mars_gym_model_b____...                 5.000   \n",
       "SupervisedModelTraining____mars_gym_model_b____...                 5.000   \n",
       "SupervisedModelTraining____mars_gym_model_b____...                 5.000   \n",
       "SupervisedModelTraining____mars_gym_model_b____...                 5.000   \n",
       "SupervisedModelTraining____mars_gym_model_b____...                 5.000   \n",
       "\n",
       "                                                    session_test_size  \\\n",
       "path                                                                    \n",
       "SupervisedModelTraining____mars_gym_model_b____...              0.100   \n",
       "SupervisedModelTraining____mars_gym_model_b____...              0.100   \n",
       "SupervisedModelTraining____mars_gym_model_b____...              0.100   \n",
       "SupervisedModelTraining____mars_gym_model_b____...              0.100   \n",
       "SupervisedModelTraining____mars_gym_model_b____...              0.100   \n",
       "\n",
       "                                                    test_size  \\\n",
       "path                                                            \n",
       "SupervisedModelTraining____mars_gym_model_b____...      0.000   \n",
       "SupervisedModelTraining____mars_gym_model_b____...      0.000   \n",
       "SupervisedModelTraining____mars_gym_model_b____...      0.000   \n",
       "SupervisedModelTraining____mars_gym_model_b____...      0.000   \n",
       "SupervisedModelTraining____mars_gym_model_b____...      0.000   \n",
       "\n",
       "                                                   dataset_split_method  \\\n",
       "path                                                                      \n",
       "SupervisedModelTraining____mars_gym_model_b____...                 time   \n",
       "SupervisedModelTraining____mars_gym_model_b____...                 time   \n",
       "SupervisedModelTraining____mars_gym_model_b____...                 time   \n",
       "SupervisedModelTraining____mars_gym_model_b____...                 time   \n",
       "SupervisedModelTraining____mars_gym_model_b____...                 time   \n",
       "\n",
       "                                                   test_split_type  val_size  \\\n",
       "path                                                                           \n",
       "SupervisedModelTraining____mars_gym_model_b____...          random     0.100   \n",
       "SupervisedModelTraining____mars_gym_model_b____...          random     0.100   \n",
       "SupervisedModelTraining____mars_gym_model_b____...          random     0.100   \n",
       "SupervisedModelTraining____mars_gym_model_b____...          random     0.100   \n",
       "SupervisedModelTraining____mars_gym_model_b____...          random     0.100   \n",
       "\n",
       "                                                    n_splits  split_index  \\\n",
       "path                                                                        \n",
       "SupervisedModelTraining____mars_gym_model_b____...     5.000        0.000   \n",
       "SupervisedModelTraining____mars_gym_model_b____...     5.000        0.000   \n",
       "SupervisedModelTraining____mars_gym_model_b____...     5.000        0.000   \n",
       "SupervisedModelTraining____mars_gym_model_b____...     5.000        0.000   \n",
       "SupervisedModelTraining____mars_gym_model_b____...     5.000        0.000   \n",
       "\n",
       "                                                    ...  \\\n",
       "path                                                ...   \n",
       "SupervisedModelTraining____mars_gym_model_b____...  ...   \n",
       "SupervisedModelTraining____mars_gym_model_b____...  ...   \n",
       "SupervisedModelTraining____mars_gym_model_b____...  ...   \n",
       "SupervisedModelTraining____mars_gym_model_b____...  ...   \n",
       "SupervisedModelTraining____mars_gym_model_b____...  ...   \n",
       "\n",
       "                                                   recommender_extra_params.from_index_mapping  \\\n",
       "path                                                                                             \n",
       "SupervisedModelTraining____mars_gym_model_b____...                                       False   \n",
       "SupervisedModelTraining____mars_gym_model_b____...                                       False   \n",
       "SupervisedModelTraining____mars_gym_model_b____...                                       False   \n",
       "SupervisedModelTraining____mars_gym_model_b____...                                       False   \n",
       "SupervisedModelTraining____mars_gym_model_b____...                                       False   \n",
       "\n",
       "                                                   recommender_extra_params.path_item_embedding  \\\n",
       "path                                                                                              \n",
       "SupervisedModelTraining____mars_gym_model_b____...                                        False   \n",
       "SupervisedModelTraining____mars_gym_model_b____...                                        False   \n",
       "SupervisedModelTraining____mars_gym_model_b____...                                        False   \n",
       "SupervisedModelTraining____mars_gym_model_b____...                                        False   \n",
       "SupervisedModelTraining____mars_gym_model_b____...                                        False   \n",
       "\n",
       "                                                   recommender_extra_params.freeze_embedding  \\\n",
       "path                                                                                           \n",
       "SupervisedModelTraining____mars_gym_model_b____...                                     False   \n",
       "SupervisedModelTraining____mars_gym_model_b____...                                     False   \n",
       "SupervisedModelTraining____mars_gym_model_b____...                                     False   \n",
       "SupervisedModelTraining____mars_gym_model_b____...                                     False   \n",
       "SupervisedModelTraining____mars_gym_model_b____...                                     False   \n",
       "\n",
       "                                                    optimizer_params.weight_decay  \\\n",
       "path                                                                                \n",
       "SupervisedModelTraining____mars_gym_model_b____...                          0.000   \n",
       "SupervisedModelTraining____mars_gym_model_b____...                          0.010   \n",
       "SupervisedModelTraining____mars_gym_model_b____...                            nan   \n",
       "SupervisedModelTraining____mars_gym_model_b____...                          0.010   \n",
       "SupervisedModelTraining____mars_gym_model_b____...                          0.010   \n",
       "\n",
       "                                                   loss_function_params.alpha  \\\n",
       "path                                                                            \n",
       "SupervisedModelTraining____mars_gym_model_b____...                      1.000   \n",
       "SupervisedModelTraining____mars_gym_model_b____...                      1.000   \n",
       "SupervisedModelTraining____mars_gym_model_b____...                        nan   \n",
       "SupervisedModelTraining____mars_gym_model_b____...                      1.000   \n",
       "SupervisedModelTraining____mars_gym_model_b____...                      1.000   \n",
       "\n",
       "                                                    loss_function_params.gamma  \\\n",
       "path                                                                             \n",
       "SupervisedModelTraining____mars_gym_model_b____...                       3.000   \n",
       "SupervisedModelTraining____mars_gym_model_b____...                       3.000   \n",
       "SupervisedModelTraining____mars_gym_model_b____...                         nan   \n",
       "SupervisedModelTraining____mars_gym_model_b____...                       3.000   \n",
       "SupervisedModelTraining____mars_gym_model_b____...                       3.000   \n",
       "\n",
       "                                                    loss_function_params.c  \\\n",
       "path                                                                         \n",
       "SupervisedModelTraining____mars_gym_model_b____...                   1.000   \n",
       "SupervisedModelTraining____mars_gym_model_b____...                   0.700   \n",
       "SupervisedModelTraining____mars_gym_model_b____...                     nan   \n",
       "SupervisedModelTraining____mars_gym_model_b____...                   0.700   \n",
       "SupervisedModelTraining____mars_gym_model_b____...                   1.000   \n",
       "\n",
       "                                                   data_frames_preparation_extra_params.user_features_file  \\\n",
       "path                                                                                                         \n",
       "SupervisedModelTraining____mars_gym_model_b____...                                                NaN        \n",
       "SupervisedModelTraining____mars_gym_model_b____...                                                NaN        \n",
       "SupervisedModelTraining____mars_gym_model_b____...                                                NaN        \n",
       "SupervisedModelTraining____mars_gym_model_b____...                           all_user_features_10.csv        \n",
       "SupervisedModelTraining____mars_gym_model_b____...                           all_user_features_10.csv        \n",
       "\n",
       "                                                   loss_function_params.epsilon  \\\n",
       "path                                                                              \n",
       "SupervisedModelTraining____mars_gym_model_b____...                          nan   \n",
       "SupervisedModelTraining____mars_gym_model_b____...                          nan   \n",
       "SupervisedModelTraining____mars_gym_model_b____...                          nan   \n",
       "SupervisedModelTraining____mars_gym_model_b____...                        0.100   \n",
       "SupervisedModelTraining____mars_gym_model_b____...                        0.200   \n",
       "\n",
       "                                                    recommender_extra_params.n_user_features  \n",
       "path                                                                                          \n",
       "SupervisedModelTraining____mars_gym_model_b____...                                       nan  \n",
       "SupervisedModelTraining____mars_gym_model_b____...                                       nan  \n",
       "SupervisedModelTraining____mars_gym_model_b____...                                       nan  \n",
       "SupervisedModelTraining____mars_gym_model_b____...                                       nan  \n",
       "SupervisedModelTraining____mars_gym_model_b____...                                       nan  \n",
       "\n",
       "[5 rows x 59 columns]"
      ],
      "text/html": "<div>\n<style scoped>\n    .dataframe tbody tr th:only-of-type {\n        vertical-align: middle;\n    }\n\n    .dataframe tbody tr th {\n        vertical-align: top;\n    }\n\n    .dataframe thead th {\n        text-align: right;\n    }\n</style>\n<table border=\"1\" class=\"dataframe\">\n  <thead>\n    <tr style=\"text-align: right;\">\n      <th></th>\n      <th>project</th>\n      <th>sample_size</th>\n      <th>minimum_interactions</th>\n      <th>session_test_size</th>\n      <th>test_size</th>\n      <th>dataset_split_method</th>\n      <th>test_split_type</th>\n      <th>val_size</th>\n      <th>n_splits</th>\n      <th>split_index</th>\n      <th>...</th>\n      <th>recommender_extra_params.from_index_mapping</th>\n      <th>recommender_extra_params.path_item_embedding</th>\n      <th>recommender_extra_params.freeze_embedding</th>\n      <th>optimizer_params.weight_decay</th>\n      <th>loss_function_params.alpha</th>\n      <th>loss_function_params.gamma</th>\n      <th>loss_function_params.c</th>\n      <th>data_frames_preparation_extra_params.user_features_file</th>\n      <th>loss_function_params.epsilon</th>\n      <th>recommender_extra_params.n_user_features</th>\n    </tr>\n    <tr>\n      <th>path</th>\n      <th></th>\n      <th></th>\n      <th></th>\n      <th></th>\n      <th></th>\n      <th></th>\n      <th></th>\n      <th></th>\n      <th></th>\n      <th></th>\n      <th></th>\n      <th></th>\n      <th></th>\n      <th></th>\n      <th></th>\n      <th></th>\n      <th></th>\n      <th></th>\n      <th></th>\n      <th></th>\n      <th></th>\n    </tr>\n  </thead>\n  <tbody>\n    <tr>\n      <th>SupervisedModelTraining____mars_gym_model_b____a57b2a2e08</th>\n      <td>config.conf1_rnn</td>\n      <td>-1.000</td>\n      <td>5.000</td>\n      <td>0.100</td>\n      <td>0.000</td>\n      <td>time</td>\n      <td>random</td>\n      <td>0.100</td>\n      <td>5.000</td>\n      <td>0.000</td>\n      <td>...</td>\n      <td>False</td>\n      <td>False</td>\n      <td>False</td>\n      <td>0.000</td>\n      <td>1.000</td>\n      <td>3.000</td>\n      <td>1.000</td>\n      <td>NaN</td>\n      <td>nan</td>\n      <td>nan</td>\n    </tr>\n    <tr>\n      <th>SupervisedModelTraining____mars_gym_model_b____0333185519</th>\n      <td>config.conf1_rnn</td>\n      <td>-1.000</td>\n      <td>5.000</td>\n      <td>0.100</td>\n      <td>0.000</td>\n      <td>time</td>\n      <td>random</td>\n      <td>0.100</td>\n      <td>5.000</td>\n      <td>0.000</td>\n      <td>...</td>\n      <td>False</td>\n      <td>False</td>\n      <td>False</td>\n      <td>0.010</td>\n      <td>1.000</td>\n      <td>3.000</td>\n      <td>0.700</td>\n      <td>NaN</td>\n      <td>nan</td>\n      <td>nan</td>\n    </tr>\n    <tr>\n      <th>SupervisedModelTraining____mars_gym_model_b____9b6807074a</th>\n      <td>config.conf1_rnn</td>\n      <td>-1.000</td>\n      <td>5.000</td>\n      <td>0.100</td>\n      <td>0.000</td>\n      <td>time</td>\n      <td>random</td>\n      <td>0.100</td>\n      <td>5.000</td>\n      <td>0.000</td>\n      <td>...</td>\n      <td>False</td>\n      <td>False</td>\n      <td>False</td>\n      <td>nan</td>\n      <td>nan</td>\n      <td>nan</td>\n      <td>nan</td>\n      <td>NaN</td>\n      <td>nan</td>\n      <td>nan</td>\n    </tr>\n    <tr>\n      <th>SupervisedModelTraining____mars_gym_model_b____d5fc32a77e</th>\n      <td>config.conf1_rnn</td>\n      <td>-1.000</td>\n      <td>5.000</td>\n      <td>0.100</td>\n      <td>0.000</td>\n      <td>time</td>\n      <td>random</td>\n      <td>0.100</td>\n      <td>5.000</td>\n      <td>0.000</td>\n      <td>...</td>\n      <td>False</td>\n      <td>False</td>\n      <td>False</td>\n      <td>0.010</td>\n      <td>1.000</td>\n      <td>3.000</td>\n      <td>0.700</td>\n      <td>all_user_features_10.csv</td>\n      <td>0.100</td>\n      <td>nan</td>\n    </tr>\n    <tr>\n      <th>SupervisedModelTraining____mars_gym_model_b____5c66e1190d</th>\n      <td>config.conf1_rnn</td>\n      <td>-1.000</td>\n      <td>5.000</td>\n      <td>0.100</td>\n      <td>0.000</td>\n      <td>time</td>\n      <td>random</td>\n      <td>0.100</td>\n      <td>5.000</td>\n      <td>0.000</td>\n      <td>...</td>\n      <td>False</td>\n      <td>False</td>\n      <td>False</td>\n      <td>0.010</td>\n      <td>1.000</td>\n      <td>3.000</td>\n      <td>1.000</td>\n      <td>all_user_features_10.csv</td>\n      <td>0.200</td>\n      <td>nan</td>\n    </tr>\n  </tbody>\n</table>\n<p>5 rows × 59 columns</p>\n</div>"
     },
     "metadata": {},
     "execution_count": 8
    }
   ],
   "source": [
    "params = json2df(fetch_training_path(), \"params.json\", \"path\")\n",
    "params.head()"
   ]
  },
  {
   "cell_type": "code",
   "execution_count": 9,
   "metadata": {},
   "outputs": [
    {
     "output_type": "execute_result",
     "data": {
      "text/plain": [
       "project                                                                                     config.conf1_rnn\n",
       "sample_size                                                                                           -1.000\n",
       "minimum_interactions                                                                                   5.000\n",
       "session_test_size                                                                                      0.100\n",
       "test_size                                                                                              0.000\n",
       "dataset_split_method                                                                                    time\n",
       "test_split_type                                                                                       random\n",
       "val_size                                                                                               0.100\n",
       "n_splits                                                                                               5.000\n",
       "split_index                                                                                            0.000\n",
       "sampling_strategy                                                                                       none\n",
       "balance_fields                                                                                            []\n",
       "use_sampling_in_validation                                                                             False\n",
       "seed                                                                                                  42.000\n",
       "observation                                                                                                 \n",
       "load_index_mapping_path                                                                                  NaN\n",
       "negative_proportion                                                                                    0.000\n",
       "recommender_module_class                                                                     model.NARMModel\n",
       "device                                                                                                  cuda\n",
       "batch_size                                                                                            64.000\n",
       "epochs                                                                                               200.000\n",
       "optimizer                                                                                               adam\n",
       "learning_rate                                                                                          0.001\n",
       "loss_function_class                                                                           loss.FocalLoss\n",
       "loss_function                                                                                             ce\n",
       "gradient_norm_clipping                                                                                 0.000\n",
       "gradient_norm_clipping_type                                                                            2.000\n",
       "early_stopping_patience                                                                                5.000\n",
       "early_stopping_min_delta                                                                               0.000\n",
       "monitor_metric                                                                                      val_loss\n",
       "monitor_mode                                                                                             min\n",
       "generator_workers                                                                                      0.000\n",
       "pin_memory                                                                                             False\n",
       "run_evaluate                                                                                           False\n",
       "run_evaluate_extra_params                                         --only-new-interactions --only-exist-items\n",
       "sample_size_eval                                                                                         NaN\n",
       "metrics                                                                        [loss, top_k_acc, top_k_acc2]\n",
       "bandit_policy_class                                                        mars_gym.model.bandit.ModelPolicy\n",
       "model                                                         SupervisedModelTraining____mars_gym_model_b___\n",
       "data_frames_preparation_extra_params.test_split                                                        0.100\n",
       "data_frames_preparation_extra_params.window_trip                                                      10.000\n",
       "data_frames_preparation_extra_params.column_stratification                                           user_id\n",
       "data_frames_preparation_extra_params.filter_last_step                                                   True\n",
       "data_frames_preparation_extra_params.balance_sample_step                                          200000.000\n",
       "data_frames_preparation_extra_params.filter_trip_size                                                  0.000\n",
       "recommender_extra_params.n_factors                                                                   200.000\n",
       "recommender_extra_params.hidden_size                                                                  10.000\n",
       "recommender_extra_params.n_layers                                                                      1.000\n",
       "recommender_extra_params.dropout                                                                       0.600\n",
       "recommender_extra_params.from_index_mapping                                                            False\n",
       "recommender_extra_params.path_item_embedding                                                           False\n",
       "recommender_extra_params.freeze_embedding                                                              False\n",
       "optimizer_params.weight_decay                                                                          0.000\n",
       "loss_function_params.alpha                                                                             1.000\n",
       "loss_function_params.gamma                                                                             3.000\n",
       "loss_function_params.c                                                                                 1.000\n",
       "data_frames_preparation_extra_params.user_features_file                                                  NaN\n",
       "loss_function_params.epsilon                                                                             NaN\n",
       "recommender_extra_params.n_user_features                                                                 NaN\n",
       "Name: SupervisedModelTraining____mars_gym_model_b____a57b2a2e08, dtype: object"
      ]
     },
     "metadata": {},
     "execution_count": 9
    }
   ],
   "source": [
    "params.iloc[0]"
   ]
  },
  {
   "cell_type": "code",
   "execution_count": 10,
   "metadata": {},
   "outputs": [
    {
     "output_type": "execute_result",
     "data": {
      "text/plain": [
       "(61, 59)"
      ]
     },
     "metadata": {},
     "execution_count": 10
    }
   ],
   "source": [
    "params.shape"
   ]
  },
  {
   "cell_type": "code",
   "execution_count": 11,
   "metadata": {},
   "outputs": [
    {
     "output_type": "execute_result",
     "data": {
      "text/plain": [
       "onf1_rnn   \n",
       "SupervisedModelTraining____mars_gym_model_b____...  config.conf1_rnn   \n",
       "SupervisedModelTraining____mars_gym_model_b____...  config.conf1_rnn   \n",
       "SupervisedModelTraining____mars_gym_model_b____...  config.conf1_rnn   \n",
       "SupervisedModelTraining____mars_gym_model_b____...  config.conf1_rnn   \n",
       "...                                                              ...   \n",
       "SupervisedModelTraining____mars_gym_model_b____...  config.conf1_rnn   \n",
       "SupervisedModelTraining____mars_gym_model_b____...  config.conf1_rnn   \n",
       "SupervisedModelTraining____mars_gym_model_b____...  config.conf1_rnn   \n",
       "SupervisedModelTraining____mars_gym_model_b____...  config.conf1_rnn   \n",
       "SupervisedModelTraining____mars_gym_model_b____...  config.conf1_rnn   \n",
       "\n",
       "                                                    sample_size  \\\n",
       "path                                                              \n",
       "SupervisedModelTraining____mars_gym_model_b____...       -1.000   \n",
       "SupervisedModelTraining____mars_gym_model_b____...       -1.000   \n",
       "SupervisedModelTraining____mars_gym_model_b____...       -1.000   \n",
       "SupervisedModelTraining____mars_gym_model_b____...       -1.000   \n",
       "SupervisedModelTraining____mars_gym_model_b____...       -1.000   \n",
       "...                                                         ...   \n",
       "SupervisedModelTraining____mars_gym_model_b____...       -1.000   \n",
       "SupervisedModelTraining____mars_gym_model_b____...       -1.000   \n",
       "SupervisedModelTraining____mars_gym_model_b____...       -1.000   \n",
       "SupervisedModelTraining____mars_gym_model_b____...       -1.000   \n",
       "SupervisedModelTraining____mars_gym_model_b____...       -1.000   \n",
       "\n",
       "                                                    minimum_interactions  \\\n",
       "path                                                                       \n",
       "SupervisedModelTraining____mars_gym_model_b____...                 5.000   \n",
       "SupervisedModelTraining____mars_gym_model_b____...                 5.000   \n",
       "SupervisedModelTraining____mars_gym_model_b____...                 5.000   \n",
       "SupervisedModelTraining____mars_gym_model_b____...                 5.000   \n",
       "SupervisedModelTraining____mars_gym_model_b____...                 5.000   \n",
       "...                                                                  ...   \n",
       "SupervisedModelTraining____mars_gym_model_b____...                 5.000   \n",
       "SupervisedModelTraining____mars_gym_model_b____...                 5.000   \n",
       "SupervisedModelTraining____mars_gym_model_b____...                 5.000   \n",
       "SupervisedModelTraining____mars_gym_model_b____...                 5.000   \n",
       "SupervisedModelTraining____mars_gym_model_b____...                 5.000   \n",
       "\n",
       "                                                    session_test_size  \\\n",
       "path                                                                    \n",
       "SupervisedModelTraining____mars_gym_model_b____...              0.100   \n",
       "SupervisedModelTraining____mars_gym_model_b____...              0.100   \n",
       "SupervisedModelTraining____mars_gym_model_b____...              0.100   \n",
       "SupervisedModelTraining____mars_gym_model_b____...              0.100   \n",
       "SupervisedModelTraining____mars_gym_model_b____...              0.100   \n",
       "...                                                               ...   \n",
       "SupervisedModelTraining____mars_gym_model_b____...              0.100   \n",
       "SupervisedModelTraining____mars_gym_model_b____...              0.100   \n",
       "SupervisedModelTraining____mars_gym_model_b____...              0.100   \n",
       "SupervisedModelTraining____mars_gym_model_b____...              0.100   \n",
       "SupervisedModelTraining____mars_gym_model_b____...              0.100   \n",
       "\n",
       "                                                    test_size  \\\n",
       "path                                                            \n",
       "SupervisedModelTraining____mars_gym_model_b____...      0.000   \n",
       "SupervisedModelTraining____mars_gym_model_b____...      0.000   \n",
       "SupervisedModelTraining____mars_gym_model_b____...      0.000   \n",
       "SupervisedModelTraining____mars_gym_model_b____...      0.000   \n",
       "SupervisedModelTraining____mars_gym_model_b____...      0.000   \n",
       "...                                                       ...   \n",
       "SupervisedModelTraining____mars_gym_model_b____...      0.000   \n",
       "SupervisedModelTraining____mars_gym_model_b____...      0.000   \n",
       "SupervisedModelTraining____mars_gym_model_b____...      0.000   \n",
       "SupervisedModelTraining____mars_gym_model_b____...      0.000   \n",
       "SupervisedModelTraining____mars_gym_model_b____...      0.000   \n",
       "\n",
       "                                                   dataset_split_method  \\\n",
       "path                                                                      \n",
       "SupervisedModelTraining____mars_gym_model_b____...                 time   \n",
       "SupervisedModelTraining____mars_gym_model_b____...                 time   \n",
       "SupervisedModelTraining____mars_gym_model_b____...                 time   \n",
       "SupervisedModelTraining____mars_gym_model_b____...                 time   \n",
       "SupervisedModelTraining____mars_gym_model_b____...                 time   \n",
       "...                                                                 ...   \n",
       "SupervisedModelTraining____mars_gym_model_b____...                 time   \n",
       "SupervisedModelTraining____mars_gym_model_b____...                 time   \n",
       "SupervisedModelTraining____mars_gym_model_b____...                 time   \n",
       "SupervisedModelTraining____mars_gym_model_b____...                 time   \n",
       "SupervisedModelTraining____mars_gym_model_b____...                 time   \n",
       "\n",
       "                                                   test_split_type  val_size  \\\n",
       "path                                                                           \n",
       "SupervisedModelTraining____mars_gym_model_b____...          random     0.100   \n",
       "SupervisedModelTraining____mars_gym_model_b____...          random     0.100   \n",
       "SupervisedModelTraining____mars_gym_model_b____...          random     0.100   \n",
       "SupervisedModelTraining____mars_gym_model_b____...          random     0.100   \n",
       "SupervisedModelTraining____mars_gym_model_b____...          random     0.100   \n",
       "...                                                            ...       ...   \n",
       "SupervisedModelTraining____mars_gym_model_b____...          random     0.100   \n",
       "SupervisedModelTraining____mars_gym_model_b____...          random     0.100   \n",
       "SupervisedModelTraining____mars_gym_model_b____...          random     0.100   \n",
       "SupervisedModelTraining____mars_gym_model_b____...          random     0.100   \n",
       "SupervisedModelTraining____mars_gym_model_b____...          random     0.100   \n",
       "\n",
       "                                                    n_splits  split_index  \\\n",
       "path                                                                        \n",
       "SupervisedModelTraining____mars_gym_model_b____...     5.000        0.000   \n",
       "SupervisedModelTraining____mars_gym_model_b____...     5.000        0.000   \n",
       "SupervisedModelTraining____mars_gym_model_b____...     5.000        0.000   \n",
       "SupervisedModelTraining____mars_gym_model_b____...     5.000        0.000   \n",
       "SupervisedModelTraining____mars_gym_model_b____...     5.000        0.000   \n",
       "...                                                      ...          ...   \n",
       "SupervisedModelTraining____mars_gym_model_b____...     5.000        0.000   \n",
       "SupervisedModelTraining____mars_gym_model_b____...     5.000        0.000   \n",
       "SupervisedModelTraining____mars_gym_model_b____...     5.000        0.000   \n",
       "SupervisedModelTraining____mars_gym_model_b____...     5.000        0.000   \n",
       "SupervisedModelTraining____mars_gym_model_b____...     5.000        0.000   \n",
       "\n",
       "                                                    ...  \\\n",
       "path                                                ...   \n",
       "SupervisedModelTraining____mars_gym_model_b____...  ...   \n",
       "SupervisedModelTraining____mars_gym_model_b____...  ...   \n",
       "SupervisedModelTraining____mars_gym_model_b____...  ...   \n",
       "SupervisedModelTraining____mars_gym_model_b____...  ...   \n",
       "SupervisedModelTraining____mars_gym_model_b____...  ...   \n",
       "...                                                 ...   \n",
       "SupervisedModelTraining____mars_gym_model_b____...  ...   \n",
       "SupervisedModelTraining____mars_gym_model_b____...  ...   \n",
       "SupervisedModelTraining____mars_gym_model_b____...  ...   \n",
       "SupervisedModelTraining____mars_gym_model_b____...  ...   \n",
       "SupervisedModelTraining____mars_gym_model_b____...  ...   \n",
       "\n",
       "                                                   recommender_extra_params.from_index_mapping  \\\n",
       "path                                                                                             \n",
       "SupervisedModelTraining____mars_gym_model_b____...                                       False   \n",
       "SupervisedModelTraining____mars_gym_model_b____...                                       False   \n",
       "SupervisedModelTraining____mars_gym_model_b____...                                       False   \n",
       "SupervisedModelTraining____mars_gym_model_b____...                                       False   \n",
       "SupervisedModelTraining____mars_gym_model_b____...                                       False   \n",
       "...                                                                                        ...   \n",
       "SupervisedModelTraining____mars_gym_model_b____...                                       False   \n",
       "SupervisedModelTraining____mars_gym_model_b____...                                       False   \n",
       "SupervisedModelTraining____mars_gym_model_b____...                                       False   \n",
       "SupervisedModelTraining____mars_gym_model_b____...                                       False   \n",
       "SupervisedModelTraining____mars_gym_model_b____...                                       False   \n",
       "\n",
       "                                                   recommender_extra_params.path_item_embedding  \\\n",
       "path                                                                                              \n",
       "SupervisedModelTraining____mars_gym_model_b____...                                        False   \n",
       "SupervisedModelTraining____mars_gym_model_b____...                                        False   \n",
       "SupervisedModelTraining____mars_gym_model_b____...                                        False   \n",
       "SupervisedModelTraining____mars_gym_model_b____...                                        False   \n",
       "SupervisedModelTraining____mars_gym_model_b____...                                        False   \n",
       "...                                                                                         ...   \n",
       "SupervisedModelTraining____mars_gym_model_b____...                                        False   \n",
       "SupervisedModelTraining____mars_gym_model_b____...                                        False   \n",
       "SupervisedModelTraining____mars_gym_model_b____...                                        False   \n",
       "SupervisedModelTraining____mars_gym_model_b____...                                        False   \n",
       "SupervisedModelTraining____mars_gym_model_b____...                                        False   \n",
       "\n",
       "                                                   recommender_extra_params.freeze_embedding  \\\n",
       "path                                                                                           \n",
       "SupervisedModelTraining____mars_gym_model_b____...                                     False   \n",
       "SupervisedModelTraining____mars_gym_model_b____...                                     False   \n",
       "SupervisedModelTraining____mars_gym_model_b____...                                     False   \n",
       "SupervisedModelTraining____mars_gym_model_b____...                                     False   \n",
       "SupervisedModelTraining____mars_gym_model_b____...                                     False   \n",
       "...                                                                                      ...   \n",
       "SupervisedModelTraining____mars_gym_model_b____...                                     False   \n",
       "SupervisedModelTraining____mars_gym_model_b____...                                     False   \n",
       "SupervisedModelTraining____mars_gym_model_b____...                                     False   \n",
       "SupervisedModelTraining____mars_gym_model_b____...                                     False   \n",
       "SupervisedModelTraining____mars_gym_model_b____...                                     False   \n",
       "\n",
       "                                                    optimizer_params.weight_decay  \\\n",
       "path                                                                                \n",
       "SupervisedModelTraining____mars_gym_model_b____...                          0.000   \n",
       "SupervisedModelTraining____mars_gym_model_b____...                          0.010   \n",
       "SupervisedModelTraining____mars_gym_model_b____...                            nan   \n",
       "SupervisedModelTraining____mars_gym_model_b____...                          0.010   \n",
       "SupervisedModelTraining____mars_gym_model_b____...                          0.010   \n",
       "...                                                                           ...   \n",
       "SupervisedModelTraining____mars_gym_model_b____...                          0.000   \n",
       "SupervisedModelTraining____mars_gym_model_b____...                          0.001   \n",
       "SupervisedModelTraining____mars_gym_model_b____...                          0.010   \n",
       "SupervisedModelTraining____mars_gym_model_b____...                          0.000   \n",
       "SupervisedModelTraining____mars_gym_model_b____...                          0.000   \n",
       "\n",
       "                                                   loss_function_params.alpha  \\\n",
       "path                                                                            \n",
       "SupervisedModelTraining____mars_gym_model_b____...                      1.000   \n",
       "SupervisedModelTraining____mars_gym_model_b____...                      1.000   \n",
       "SupervisedModelTraining____mars_gym_model_b____...                        nan   \n",
       "SupervisedModelTraining____mars_gym_model_b____...                      1.000   \n",
       "SupervisedModelTraining____mars_gym_model_b____...                      1.000   \n",
       "...                                                                       ...   \n",
       "SupervisedModelTraining____mars_gym_model_b____...                      1.000   \n",
       "SupervisedModelTraining____mars_gym_model_b____...                      1.000   \n",
       "SupervisedModelTraining____mars_gym_model_b____...                      1.000   \n",
       "SupervisedModelTraining____mars_gym_model_b____...                      1.000   \n",
       "SupervisedModelTraining____mars_gym_model_b____...                      1.000   \n",
       "\n",
       "                                                    loss_function_params.gamma  \\\n",
       "path                                                                             \n",
       "SupervisedModelTraining____mars_gym_model_b____...                       3.000   \n",
       "SupervisedModelTraining____mars_gym_model_b____...                       3.000   \n",
       "SupervisedModelTraining____mars_gym_model_b____...                         nan   \n",
       "SupervisedModelTraining____mars_gym_model_b____...                       3.000   \n",
       "SupervisedModelTraining____mars_gym_model_b____...                       3.000   \n",
       "...                                                                        ...   \n",
       "SupervisedModelTraining____mars_gym_model_b____...                       3.000   \n",
       "SupervisedModelTraining____mars_gym_model_b____...                       3.000   \n",
       "SupervisedModelTraining____mars_gym_model_b____...                       3.000   \n",
       "SupervisedModelTraining____mars_gym_model_b____...                       3.000   \n",
       "SupervisedModelTraining____mars_gym_model_b____...                       3.000   \n",
       "\n",
       "                                                    loss_function_params.c  \\\n",
       "path                                                                         \n",
       "SupervisedModelTraining____mars_gym_model_b____...                   1.000   \n",
       "SupervisedModelTraining____mars_gym_model_b____...                   0.700   \n",
       "SupervisedModelTraining____mars_gym_model_b____...                     nan   \n",
       "SupervisedModelTraining____mars_gym_model_b____...                   0.700   \n",
       "SupervisedModelTraining____mars_gym_model_b____...                   1.000   \n",
       "...                                                                    ...   \n",
       "SupervisedModelTraining____mars_gym_model_b____...                   1.000   \n",
       "SupervisedModelTraining____mars_gym_model_b____...                   0.000   \n",
       "SupervisedModelTraining____mars_gym_model_b____...                   0.700   \n",
       "SupervisedModelTraining____mars_gym_model_b____...                   0.000   \n",
       "SupervisedModelTraining____mars_gym_model_b____...                   0.500   \n",
       "\n",
       "                                                   data_frames_preparation_extra_params.user_features_file  \\\n",
       "path                                                                                                         \n",
       "SupervisedModelTraining____mars_gym_model_b____...                                                NaN        \n",
       "SupervisedModelTraining____mars_gym_model_b____...                                                NaN        \n",
       "SupervisedModelTraining____mars_gym_model_b____...                                                NaN        \n",
       "SupervisedModelTraining____mars_gym_model_b____...                           all_user_features_10.csv        \n",
       "SupervisedModelTraining____mars_gym_model_b____...                           all_user_features_10.csv        \n",
       "...                                                                                               ...        \n",
       "SupervisedModelTraining____mars_gym_model_b____...                                                NaN        \n",
       "SupervisedModelTraining____mars_gym_model_b____...                                                NaN        \n",
       "SupervisedModelTraining____mars_gym_model_b____...                           all_user_features_10.csv        \n",
       "SupervisedModelTraining____mars_gym_model_b____...                                                NaN        \n",
       "SupervisedModelTraining____mars_gym_model_b____...                           all_user_features_10.csv        \n",
       "\n",
       "                                                   loss_function_params.epsilon  \\\n",
       "path                                                                              \n",
       "SupervisedModelTraining____mars_gym_model_b____...                          nan   \n",
       "SupervisedModelTraining____mars_gym_model_b____...                          nan   \n",
       "SupervisedModelTraining____mars_gym_model_b____...                          nan   \n",
       "SupervisedModelTraining____mars_gym_model_b____...                        0.100   \n",
       "SupervisedModelTraining____mars_gym_model_b____...                        0.200   \n",
       "...                                                                         ...   \n",
       "SupervisedModelTraining____mars_gym_model_b____...                          nan   \n",
       "SupervisedModelTraining____mars_gym_model_b____...                          nan   \n",
       "SupervisedModelTraining____mars_gym_model_b____...                        0.500   \n",
       "SupervisedModelTraining____mars_gym_model_b____...                          nan   \n",
       "SupervisedModelTraining____mars_gym_model_b____...                        0.100   \n",
       "\n",
       "                                                    recommender_extra_params.n_user_features  \n",
       "path                                                                                          \n",
       "SupervisedModelTraining____mars_gym_model_b____...                                       nan  \n",
       "SupervisedModelTraining____mars_gym_model_b____...                                       nan  \n",
       "SupervisedModelTraining____mars_gym_model_b____...                                       nan  \n",
       "SupervisedModelTraining____mars_gym_model_b____...                                       nan  \n",
       "SupervisedModelTraining____mars_gym_model_b____...                                       nan  \n",
       "...                                                                                      ...  \n",
       "SupervisedModelTraining____mars_gym_model_b____...                                       nan  \n",
       "SupervisedModelTraining____mars_gym_model_b____...                                       nan  \n",
       "SupervisedModelTraining____mars_gym_model_b____...                                       nan  \n",
       "SupervisedModelTraining____mars_gym_model_b____...                                       nan  \n",
       "SupervisedModelTraining____mars_gym_model_b____...                                       nan  \n",
       "\n",
       "[61 rows x 59 columns]"
      ],
      "text/html": "<div>\n<style scoped>\n    .dataframe tbody tr th:only-of-type {\n        vertical-align: middle;\n    }\n\n    .dataframe tbody tr th {\n        vertical-align: top;\n    }\n\n    .dataframe thead th {\n        text-align: right;\n    }\n</style>\n<table border=\"1\" class=\"dataframe\">\n  <thead>\n    <tr style=\"text-align: right;\">\n      <th></th>\n      <th>project</th>\n      <th>sample_size</th>\n      <th>minimum_interactions</th>\n      <th>session_test_size</th>\n      <th>test_size</th>\n      <th>dataset_split_method</th>\n      <th>test_split_type</th>\n      <th>val_size</th>\n      <th>n_splits</th>\n      <th>split_index</th>\n      <th>...</th>\n      <th>recommender_extra_params.from_index_mapping</th>\n      <th>recommender_extra_params.path_item_embedding</th>\n      <th>recommender_extra_params.freeze_embedding</th>\n      <th>optimizer_params.weight_decay</th>\n      <th>loss_function_params.alpha</th>\n      <th>loss_function_params.gamma</th>\n      <th>loss_function_params.c</th>\n      <th>data_frames_preparation_extra_params.user_features_file</th>\n      <th>loss_function_params.epsilon</th>\n      <th>recommender_extra_params.n_user_features</th>\n    </tr>\n    <tr>\n      <th>path</th>\n      <th></th>\n      <th></th>\n      <th></th>\n      <th></th>\n      <th></th>\n      <th></th>\n      <th></th>\n      <th></th>\n      <th></th>\n      <th></th>\n      <th></th>\n      <th></th>\n      <th></th>\n      <th></th>\n      <th></th>\n      <th></th>\n      <th></th>\n      <th></th>\n      <th></th>\n      <th></th>\n      <th></th>\n    </tr>\n  </thead>\n  <tbody>\n    <tr>\n      <th>SupervisedModelTraining____mars_gym_model_b____a57b2a2e08</th>\n      <td>config.conf1_rnn</td>\n      <td>-1.000</td>\n      <td>5.000</td>\n      <td>0.100</td>\n      <td>0.000</td>\n      <td>time</td>\n      <td>random</td>\n      <td>0.100</td>\n      <td>5.000</td>\n      <td>0.000</td>\n      <td>...</td>\n      <td>False</td>\n      <td>False</td>\n      <td>False</td>\n      <td>0.000</td>\n      <td>1.000</td>\n      <td>3.000</td>\n      <td>1.000</td>\n      <td>NaN</td>\n      <td>nan</td>\n      <td>nan</td>\n    </tr>\n    <tr>\n      <th>SupervisedModelTraining____mars_gym_model_b____0333185519</th>\n      <td>config.conf1_rnn</td>\n      <td>-1.000</td>\n      <td>5.000</td>\n      <td>0.100</td>\n      <td>0.000</td>\n      <td>time</td>\n      <td>random</td>\n      <td>0.100</td>\n      <td>5.000</td>\n      <td>0.000</td>\n      <td>...</td>\n      <td>False</td>\n      <td>False</td>\n      <td>False</td>\n      <td>0.010</td>\n      <td>1.000</td>\n      <td>3.000</td>\n      <td>0.700</td>\n      <td>NaN</td>\n      <td>nan</td>\n      <td>nan</td>\n    </tr>\n    <tr>\n      <th>SupervisedModelTraining____mars_gym_model_b____9b6807074a</th>\n      <td>config.conf1_rnn</td>\n      <td>-1.000</td>\n      <td>5.000</td>\n      <td>0.100</td>\n      <td>0.000</td>\n      <td>time</td>\n      <td>random</td>\n      <td>0.100</td>\n      <td>5.000</td>\n      <td>0.000</td>\n      <td>...</td>\n      <td>False</td>\n      <td>False</td>\n      <td>False</td>\n      <td>nan</td>\n      <td>nan</td>\n      <td>nan</td>\n      <td>nan</td>\n      <td>NaN</td>\n      <td>nan</td>\n      <td>nan</td>\n    </tr>\n    <tr>\n      <th>SupervisedModelTraining____mars_gym_model_b____d5fc32a77e</th>\n      <td>config.conf1_rnn</td>\n      <td>-1.000</td>\n      <td>5.000</td>\n      <td>0.100</td>\n      <td>0.000</td>\n      <td>time</td>\n      <td>random</td>\n      <td>0.100</td>\n      <td>5.000</td>\n      <td>0.000</td>\n      <td>...</td>\n      <td>False</td>\n      <td>False</td>\n      <td>False</td>\n      <td>0.010</td>\n      <td>1.000</td>\n      <td>3.000</td>\n      <td>0.700</td>\n      <td>all_user_features_10.csv</td>\n      <td>0.100</td>\n      <td>nan</td>\n    </tr>\n    <tr>\n      <th>SupervisedModelTraining____mars_gym_model_b____5c66e1190d</th>\n      <td>config.conf1_rnn</td>\n      <td>-1.000</td>\n      <td>5.000</td>\n      <td>0.100</td>\n      <td>0.000</td>\n      <td>time</td>\n      <td>random</td>\n      <td>0.100</td>\n      <td>5.000</td>\n      <td>0.000</td>\n      <td>...</td>\n      <td>False</td>\n      <td>False</td>\n      <td>False</td>\n      <td>0.010</td>\n      <td>1.000</td>\n      <td>3.000</td>\n      <td>1.000</td>\n      <td>all_user_features_10.csv</td>\n      <td>0.200</td>\n      <td>nan</td>\n    </tr>\n    <tr>\n      <th>...</th>\n      <td>...</td>\n      <td>...</td>\n      <td>...</td>\n      <td>...</td>\n      <td>...</td>\n      <td>...</td>\n      <td>...</td>\n      <td>...</td>\n      <td>...</td>\n      <td>...</td>\n      <td>...</td>\n      <td>...</td>\n      <td>...</td>\n      <td>...</td>\n      <td>...</td>\n      <td>...</td>\n      <td>...</td>\n      <td>...</td>\n      <td>...</td>\n      <td>...</td>\n      <td>...</td>\n    </tr>\n    <tr>\n      <th>SupervisedModelTraining____mars_gym_model_b____a1a8c0a50b</th>\n      <td>config.conf1_rnn</td>\n      <td>-1.000</td>\n      <td>5.000</td>\n      <td>0.100</td>\n      <td>0.000</td>\n      <td>time</td>\n      <td>random</td>\n      <td>0.100</td>\n      <td>5.000</td>\n      <td>0.000</td>\n      <td>...</td>\n      <td>False</td>\n      <td>False</td>\n      <td>False</td>\n      <td>0.000</td>\n      <td>1.000</td>\n      <td>3.000</td>\n      <td>1.000</td>\n      <td>NaN</td>\n      <td>nan</td>\n      <td>nan</td>\n    </tr>\n    <tr>\n      <th>SupervisedModelTraining____mars_gym_model_b____574aece487</th>\n      <td>config.conf1_rnn</td>\n      <td>-1.000</td>\n      <td>5.000</td>\n      <td>0.100</td>\n      <td>0.000</td>\n      <td>time</td>\n      <td>random</td>\n      <td>0.100</td>\n      <td>5.000</td>\n      <td>0.000</td>\n      <td>...</td>\n      <td>False</td>\n      <td>False</td>\n      <td>False</td>\n      <td>0.001</td>\n      <td>1.000</td>\n      <td>3.000</td>\n      <td>0.000</td>\n      <td>NaN</td>\n      <td>nan</td>\n      <td>nan</td>\n    </tr>\n    <tr>\n      <th>SupervisedModelTraining____mars_gym_model_b____60c09b7433</th>\n      <td>config.conf1_rnn</td>\n      <td>-1.000</td>\n      <td>5.000</td>\n      <td>0.100</td>\n      <td>0.000</td>\n      <td>time</td>\n      <td>random</td>\n      <td>0.100</td>\n      <td>5.000</td>\n      <td>0.000</td>\n      <td>...</td>\n      <td>False</td>\n      <td>False</td>\n      <td>False</td>\n      <td>0.010</td>\n      <td>1.000</td>\n      <td>3.000</td>\n      <td>0.700</td>\n      <td>all_user_features_10.csv</td>\n      <td>0.500</td>\n      <td>nan</td>\n    </tr>\n    <tr>\n      <th>SupervisedModelTraining____mars_gym_model_b____16a8189b8b</th>\n      <td>config.conf1_rnn</td>\n      <td>-1.000</td>\n      <td>5.000</td>\n      <td>0.100</td>\n      <td>0.000</td>\n      <td>time</td>\n      <td>random</td>\n      <td>0.100</td>\n      <td>5.000</td>\n      <td>0.000</td>\n      <td>...</td>\n      <td>False</td>\n      <td>False</td>\n      <td>False</td>\n      <td>0.000</td>\n      <td>1.000</td>\n      <td>3.000</td>\n      <td>0.000</td>\n      <td>NaN</td>\n      <td>nan</td>\n      <td>nan</td>\n    </tr>\n    <tr>\n      <th>SupervisedModelTraining____mars_gym_model_b____2ebf53ead9</th>\n      <td>config.conf1_rnn</td>\n      <td>-1.000</td>\n      <td>5.000</td>\n      <td>0.100</td>\n      <td>0.000</td>\n      <td>time</td>\n      <td>random</td>\n      <td>0.100</td>\n      <td>5.000</td>\n      <td>0.000</td>\n      <td>...</td>\n      <td>False</td>\n      <td>False</td>\n      <td>False</td>\n      <td>0.000</td>\n      <td>1.000</td>\n      <td>3.000</td>\n      <td>0.500</td>\n      <td>all_user_features_10.csv</td>\n      <td>0.100</td>\n      <td>nan</td>\n    </tr>\n  </tbody>\n</table>\n<p>61 rows × 59 columns</p>\n</div>"
     },
     "metadata": {},
     "execution_count": 11
    }
   ],
   "source": [
    "params"
   ]
  },
  {
   "cell_type": "markdown",
   "metadata": {},
   "source": [
    "## Data"
   ]
  },
  {
   "cell_type": "code",
   "execution_count": 12,
   "metadata": {},
   "outputs": [
    {
     "output_type": "execute_result",
     "data": {
      "text/plain": [
       "                                              path_x  \\\n",
       "0  SupervisedModelTraining____mars_gym_model_b___...   \n",
       "1  SupervisedModelTraining____mars_gym_model_b___...   \n",
       "2  SupervisedModelTraining____mars_gym_model_b___...   \n",
       "3  SupervisedModelTraining____mars_gym_model_b___...   \n",
       "4  SupervisedModelTraining____mars_gym_model_b___...   \n",
       "\n",
       "                                           task_name     count  acc@4  \\\n",
       "0  SupervisedModelTraining____mars_gym_model_b___... 21671.000  0.499   \n",
       "1  SupervisedModelTraining____mars_gym_model_b___... 21671.000  0.000   \n",
       "2  SupervisedModelTraining____mars_gym_model_b___... 21671.000  0.367   \n",
       "3  SupervisedModelTraining____mars_gym_model_b___... 21671.000  0.495   \n",
       "4  SupervisedModelTraining____mars_gym_model_b___... 21671.000  0.011   \n",
       "\n",
       "                                             model_x  \\\n",
       "0  SupervisedModelTraining____mars_gym_model_b___...   \n",
       "1  SupervisedModelTraining____mars_gym_model_b___...   \n",
       "2  SupervisedModelTraining____mars_gym_model_b___...   \n",
       "3  SupervisedModelTraining____mars_gym_model_b___...   \n",
       "4  SupervisedModelTraining____mars_gym_model_b___...   \n",
       "\n",
       "                                              path_y           project  \\\n",
       "0  SupervisedModelTraining____mars_gym_model_b___...  config.conf1_rnn   \n",
       "1  SupervisedModelTraining____mars_gym_model_b___...  config.conf1_rnn   \n",
       "2  SupervisedModelTraining____mars_gym_model_b___...  config.conf1_rnn   \n",
       "3  SupervisedModelTraining____mars_gym_model_b___...  config.conf1_rnn   \n",
       "4  SupervisedModelTraining____mars_gym_model_b___...  config.conf1_rnn   \n",
       "\n",
       "   sample_size  minimum_interactions  session_test_size  ...  \\\n",
       "0       -1.000                 5.000              0.100  ...   \n",
       "1       -1.000                 5.000              0.100  ...   \n",
       "2       -1.000                 5.000              0.100  ...   \n",
       "3       -1.000                 5.000              0.100  ...   \n",
       "4       -1.000                 5.000              0.100  ...   \n",
       "\n",
       "   recommender_extra_params.from_index_mapping  \\\n",
       "0                                        False   \n",
       "1                                        False   \n",
       "2                                        False   \n",
       "3                                        False   \n",
       "4                                        False   \n",
       "\n",
       "  recommender_extra_params.path_item_embedding  \\\n",
       "0                                        False   \n",
       "1                                        False   \n",
       "2                                        False   \n",
       "3                                        False   \n",
       "4                                        False   \n",
       "\n",
       "  recommender_extra_params.freeze_embedding  optimizer_params.weight_decay  \\\n",
       "0                                     False                          0.010   \n",
       "1                                     False                          0.000   \n",
       "2                                     False                          0.000   \n",
       "3                                     False                          0.010   \n",
       "4                                     False                          0.010   \n",
       "\n",
       "   loss_function_params.alpha  loss_function_params.gamma  \\\n",
       "0                       1.000                       3.000   \n",
       "1                       1.000                       3.000   \n",
       "2                       1.000                       3.000   \n",
       "3                       1.000                       3.000   \n",
       "4                       1.000                       3.000   \n",
       "\n",
       "  loss_function_params.c  \\\n",
       "0                  0.800   \n",
       "1                  0.000   \n",
       "2                  1.000   \n",
       "3                  0.800   \n",
       "4                  0.000   \n",
       "\n",
       "  data_frames_preparation_extra_params.user_features_file  \\\n",
       "0                          all_user_features_100.csv        \n",
       "1                                                NaN        \n",
       "2                                                NaN        \n",
       "3                                                NaN        \n",
       "4                                                NaN        \n",
       "\n",
       "  loss_function_params.epsilon  recommender_extra_params.n_user_features  \n",
       "0                        0.100                                       nan  \n",
       "1                          nan                                       nan  \n",
       "2                          nan                                       nan  \n",
       "3                          nan                                       nan  \n",
       "4                          nan                                       nan  \n",
       "\n",
       "[5 rows x 65 columns]"
      ],
      "text/html": "<div>\n<style scoped>\n    .dataframe tbody tr th:only-of-type {\n        vertical-align: middle;\n    }\n\n    .dataframe tbody tr th {\n        vertical-align: top;\n    }\n\n    .dataframe thead th {\n        text-align: right;\n    }\n</style>\n<table border=\"1\" class=\"dataframe\">\n  <thead>\n    <tr style=\"text-align: right;\">\n      <th></th>\n      <th>path_x</th>\n      <th>task_name</th>\n      <th>count</th>\n      <th>acc@4</th>\n      <th>model_x</th>\n      <th>path_y</th>\n      <th>project</th>\n      <th>sample_size</th>\n      <th>minimum_interactions</th>\n      <th>session_test_size</th>\n      <th>...</th>\n      <th>recommender_extra_params.from_index_mapping</th>\n      <th>recommender_extra_params.path_item_embedding</th>\n      <th>recommender_extra_params.freeze_embedding</th>\n      <th>optimizer_params.weight_decay</th>\n      <th>loss_function_params.alpha</th>\n      <th>loss_function_params.gamma</th>\n      <th>loss_function_params.c</th>\n      <th>data_frames_preparation_extra_params.user_features_file</th>\n      <th>loss_function_params.epsilon</th>\n      <th>recommender_extra_params.n_user_features</th>\n    </tr>\n  </thead>\n  <tbody>\n    <tr>\n      <th>0</th>\n      <td>SupervisedModelTraining____mars_gym_model_b___...</td>\n      <td>SupervisedModelTraining____mars_gym_model_b___...</td>\n      <td>21671.000</td>\n      <td>0.499</td>\n      <td>SupervisedModelTraining____mars_gym_model_b___...</td>\n      <td>SupervisedModelTraining____mars_gym_model_b___...</td>\n      <td>config.conf1_rnn</td>\n      <td>-1.000</td>\n      <td>5.000</td>\n      <td>0.100</td>\n      <td>...</td>\n      <td>False</td>\n      <td>False</td>\n      <td>False</td>\n      <td>0.010</td>\n      <td>1.000</td>\n      <td>3.000</td>\n      <td>0.800</td>\n      <td>all_user_features_100.csv</td>\n      <td>0.100</td>\n      <td>nan</td>\n    </tr>\n    <tr>\n      <th>1</th>\n      <td>SupervisedModelTraining____mars_gym_model_b___...</td>\n      <td>SupervisedModelTraining____mars_gym_model_b___...</td>\n      <td>21671.000</td>\n      <td>0.000</td>\n      <td>SupervisedModelTraining____mars_gym_model_b___...</td>\n      <td>SupervisedModelTraining____mars_gym_model_b___...</td>\n      <td>config.conf1_rnn</td>\n      <td>-1.000</td>\n      <td>5.000</td>\n      <td>0.100</td>\n      <td>...</td>\n      <td>False</td>\n      <td>False</td>\n      <td>False</td>\n      <td>0.000</td>\n      <td>1.000</td>\n      <td>3.000</td>\n      <td>0.000</td>\n      <td>NaN</td>\n      <td>nan</td>\n      <td>nan</td>\n    </tr>\n    <tr>\n      <th>2</th>\n      <td>SupervisedModelTraining____mars_gym_model_b___...</td>\n      <td>SupervisedModelTraining____mars_gym_model_b___...</td>\n      <td>21671.000</td>\n      <td>0.367</td>\n      <td>SupervisedModelTraining____mars_gym_model_b___...</td>\n      <td>SupervisedModelTraining____mars_gym_model_b___...</td>\n      <td>config.conf1_rnn</td>\n      <td>-1.000</td>\n      <td>5.000</td>\n      <td>0.100</td>\n      <td>...</td>\n      <td>False</td>\n      <td>False</td>\n      <td>False</td>\n      <td>0.000</td>\n      <td>1.000</td>\n      <td>3.000</td>\n      <td>1.000</td>\n      <td>NaN</td>\n      <td>nan</td>\n      <td>nan</td>\n    </tr>\n    <tr>\n      <th>3</th>\n      <td>SupervisedModelTraining____mars_gym_model_b___...</td>\n      <td>SupervisedModelTraining____mars_gym_model_b___...</td>\n      <td>21671.000</td>\n      <td>0.495</td>\n      <td>SupervisedModelTraining____mars_gym_model_b___...</td>\n      <td>SupervisedModelTraining____mars_gym_model_b___...</td>\n      <td>config.conf1_rnn</td>\n      <td>-1.000</td>\n      <td>5.000</td>\n      <td>0.100</td>\n      <td>...</td>\n      <td>False</td>\n      <td>False</td>\n      <td>False</td>\n      <td>0.010</td>\n      <td>1.000</td>\n      <td>3.000</td>\n      <td>0.800</td>\n      <td>NaN</td>\n      <td>nan</td>\n      <td>nan</td>\n    </tr>\n    <tr>\n      <th>4</th>\n      <td>SupervisedModelTraining____mars_gym_model_b___...</td>\n      <td>SupervisedModelTraining____mars_gym_model_b___...</td>\n      <td>21671.000</td>\n      <td>0.011</td>\n      <td>SupervisedModelTraining____mars_gym_model_b___...</td>\n      <td>SupervisedModelTraining____mars_gym_model_b___...</td>\n      <td>config.conf1_rnn</td>\n      <td>-1.000</td>\n      <td>5.000</td>\n      <td>0.100</td>\n      <td>...</td>\n      <td>False</td>\n      <td>False</td>\n      <td>False</td>\n      <td>0.010</td>\n      <td>1.000</td>\n      <td>3.000</td>\n      <td>0.000</td>\n      <td>NaN</td>\n      <td>nan</td>\n      <td>nan</td>\n    </tr>\n  </tbody>\n</table>\n<p>5 rows × 65 columns</p>\n</div>"
     },
     "metadata": {},
     "execution_count": 12
    }
   ],
   "source": [
    "df = metrics.reset_index().merge(params.reset_index(), left_on='model', right_on='path')\n",
    "#df['model_class'] = df.apply(lambda row: str(row['model_task']).split(\"_\")[0] + \".\"+str(row['recommender_module_class']), axis=1)\n",
    "df.head()"
   ]
  },
  {
   "cell_type": "code",
   "execution_count": 13,
   "metadata": {},
   "outputs": [
    {
     "output_type": "execute_result",
     "data": {
      "text/plain": [
       "mars_gym_model_b___...  config.conf1_rnn   \n",
       "12  SupervisedModelTraining____mars_gym_model_b___...  config.conf1_rnn   \n",
       "13  SupervisedModelTraining____mars_gym_model_b___...  config.conf1_rnn   \n",
       "14  SupervisedModelTraining____mars_gym_model_b___...  config.conf1_rnn   \n",
       "15  SupervisedModelTraining____mars_gym_model_b___...  config.conf1_rnn   \n",
       "16  SupervisedModelTraining____mars_gym_model_b___...  config.conf1_rnn   \n",
       "17  SupervisedModelTraining____mars_gym_model_b___...  config.conf1_rnn   \n",
       "18  SupervisedModelTraining____mars_gym_model_b___...  config.conf1_rnn   \n",
       "19  SupervisedModelTraining____mars_gym_model_b___...  config.conf1_rnn   \n",
       "20  SupervisedModelTraining____mars_gym_model_b___...  config.conf1_rnn   \n",
       "21  SupervisedModelTraining____mars_gym_model_b___...  config.conf1_rnn   \n",
       "22  SupervisedModelTraining____mars_gym_model_b___...  config.conf1_rnn   \n",
       "23  SupervisedModelTraining____mars_gym_model_b___...  config.conf1_rnn   \n",
       "24  SupervisedModelTraining____mars_gym_model_b___...  config.conf1_rnn   \n",
       "25  SupervisedModelTraining____mars_gym_model_b___...  config.conf1_rnn   \n",
       "26  SupervisedModelTraining____mars_gym_model_b___...  config.conf1_rnn   \n",
       "27  SupervisedModelTraining____mars_gym_model_b___...  config.conf1_rnn   \n",
       "28  SupervisedModelTraining____mars_gym_model_b___...  config.conf1_rnn   \n",
       "29  SupervisedModelTraining____mars_gym_model_b___...  config.conf1_rnn   \n",
       "30  SupervisedModelTraining____mars_gym_model_b___...  config.conf1_rnn   \n",
       "31  SupervisedModelTraining____mars_gym_model_b___...  config.conf1_rnn   \n",
       "32  SupervisedModelTraining____mars_gym_model_b___...  config.conf1_rnn   \n",
       "33  SupervisedModelTraining____mars_gym_model_b___...  config.conf1_rnn   \n",
       "34  SupervisedModelTraining____mars_gym_model_b___...  config.conf1_rnn   \n",
       "35  SupervisedModelTraining____mars_gym_model_b___...  config.conf1_rnn   \n",
       "36  SupervisedModelTraining____mars_gym_model_b___...  config.conf1_rnn   \n",
       "\n",
       "    sample_size  minimum_interactions  session_test_size  ...  \\\n",
       "0        -1.000                 5.000              0.100  ...   \n",
       "1        -1.000                 5.000              0.100  ...   \n",
       "2        -1.000                 5.000              0.100  ...   \n",
       "3        -1.000                 5.000              0.100  ...   \n",
       "4        -1.000                 5.000              0.100  ...   \n",
       "5        -1.000                 5.000              0.100  ...   \n",
       "6        -1.000                 5.000              0.100  ...   \n",
       "7        -1.000                 5.000              0.100  ...   \n",
       "8        -1.000                 5.000              0.100  ...   \n",
       "9        -1.000                 5.000              0.100  ...   \n",
       "10       -1.000                 5.000              0.100  ...   \n",
       "11       -1.000                 5.000              0.100  ...   \n",
       "12       -1.000                 5.000              0.100  ...   \n",
       "13       -1.000                 5.000              0.100  ...   \n",
       "14       -1.000                 5.000              0.100  ...   \n",
       "15       -1.000                 5.000              0.100  ...   \n",
       "16       -1.000                 5.000              0.100  ...   \n",
       "17       -1.000                 5.000              0.100  ...   \n",
       "18       -1.000                 5.000              0.100  ...   \n",
       "19       -1.000                 5.000              0.100  ...   \n",
       "20       -1.000                 5.000              0.100  ...   \n",
       "21       -1.000                 5.000              0.100  ...   \n",
       "22       -1.000                 5.000              0.100  ...   \n",
       "23       -1.000                 5.000              0.100  ...   \n",
       "24       -1.000                 5.000              0.100  ...   \n",
       "25       -1.000                 5.000              0.100  ...   \n",
       "26       -1.000                 5.000              0.100  ...   \n",
       "27       -1.000                 5.000              0.100  ...   \n",
       "28       -1.000                 5.000              0.100  ...   \n",
       "29       -1.000                 5.000              0.100  ...   \n",
       "30       -1.000                 5.000              0.100  ...   \n",
       "31       -1.000                 5.000              0.100  ...   \n",
       "32       -1.000                 5.000              0.100  ...   \n",
       "33       -1.000                 5.000              0.100  ...   \n",
       "34       -1.000                 5.000              0.100  ...   \n",
       "35       -1.000                 5.000              0.100  ...   \n",
       "36       -1.000                 5.000              0.100  ...   \n",
       "\n",
       "    recommender_extra_params.from_index_mapping  \\\n",
       "0                                         False   \n",
       "1                                         False   \n",
       "2                                         False   \n",
       "3                                         False   \n",
       "4                                         False   \n",
       "5                                         False   \n",
       "6                                         False   \n",
       "7                                         False   \n",
       "8                                         False   \n",
       "9                                         False   \n",
       "10                                        False   \n",
       "11                                        False   \n",
       "12                                        False   \n",
       "13                                        False   \n",
       "14                                        False   \n",
       "15                                        False   \n",
       "16                                        False   \n",
       "17                                        False   \n",
       "18                                        False   \n",
       "19                                        False   \n",
       "20                                        False   \n",
       "21                                        False   \n",
       "22                                        False   \n",
       "23                                        False   \n",
       "24                                        False   \n",
       "25                                        False   \n",
       "26                                        False   \n",
       "27                                        False   \n",
       "28                                        False   \n",
       "29                                        False   \n",
       "30                                        False   \n",
       "31                                        False   \n",
       "32                                        False   \n",
       "33                                        False   \n",
       "34                                        False   \n",
       "35                                        False   \n",
       "36                                        False   \n",
       "\n",
       "   recommender_extra_params.path_item_embedding  \\\n",
       "0                                         False   \n",
       "1                                         False   \n",
       "2                                         False   \n",
       "3                                         False   \n",
       "4                                         False   \n",
       "5                                         False   \n",
       "6                                         False   \n",
       "7                                         False   \n",
       "8                                         False   \n",
       "9                                         False   \n",
       "10                                        False   \n",
       "11                                        False   \n",
       "12                                        False   \n",
       "13                                        False   \n",
       "14                                        False   \n",
       "15                                        False   \n",
       "16                                        False   \n",
       "17                                        False   \n",
       "18                                        False   \n",
       "19                                        False   \n",
       "20                                        False   \n",
       "21                                        False   \n",
       "22                                        False   \n",
       "23                                        False   \n",
       "24                                        False   \n",
       "25                                        False   \n",
       "26                                        False   \n",
       "27                                        False   \n",
       "28                                        False   \n",
       "29                                        False   \n",
       "30                                        False   \n",
       "31                                        False   \n",
       "32                                        False   \n",
       "33                                        False   \n",
       "34                                        False   \n",
       "35                                        False   \n",
       "36                                        False   \n",
       "\n",
       "   recommender_extra_params.freeze_embedding  optimizer_params.weight_decay  \\\n",
       "0                                      False                          0.010   \n",
       "1                                      False                          0.000   \n",
       "2                                      False                          0.000   \n",
       "3                                      False                          0.010   \n",
       "4                                      False                          0.010   \n",
       "5                                      False                          0.010   \n",
       "6                                      False                          0.001   \n",
       "7                                      False                          0.000   \n",
       "8                                      False                          0.010   \n",
       "9                                      False                          0.010   \n",
       "10                                     False                          0.010   \n",
       "11                                     False                          0.010   \n",
       "12                                     False                          0.001   \n",
       "13                                     False                          0.000   \n",
       "14                                     False                          0.000   \n",
       "15                                     False                          0.000   \n",
       "16                                     False                          0.000   \n",
       "17                                     False                          0.000   \n",
       "18                                     False                          0.010   \n",
       "19                                     False                          0.000   \n",
       "20                                     False                          0.010   \n",
       "21                                     False                          0.010   \n",
       "22                                     False                          0.000   \n",
       "23                                     False                          0.010   \n",
       "24                                     False                          0.000   \n",
       "25                                     False                          0.000   \n",
       "26                                     False                          0.000   \n",
       "27                                     False                          0.010   \n",
       "28                                     False                          0.010   \n",
       "29                                     False                          0.000   \n",
       "30                                     False                          0.010   \n",
       "31                                     False                          0.001   \n",
       "32                                     False                          0.001   \n",
       "33                                     False                          0.001   \n",
       "34                                     False                          0.010   \n",
       "35                                     False                          0.000   \n",
       "36                                     False                          0.010   \n",
       "\n",
       "    loss_function_params.alpha  loss_function_params.gamma  \\\n",
       "0                        1.000                       3.000   \n",
       "1                        1.000                       3.000   \n",
       "2                        1.000                       3.000   \n",
       "3                        1.000                       3.000   \n",
       "4                        1.000                       3.000   \n",
       "5                        1.000                       3.000   \n",
       "6                        1.000                       3.000   \n",
       "7                        1.000                       3.000   \n",
       "8                        1.000                       3.000   \n",
       "9                        1.000                       3.000   \n",
       "10                       1.000                       3.000   \n",
       "11                       1.000                       3.000   \n",
       "12                       1.000                       3.000   \n",
       "13                       1.000                       3.000   \n",
       "14                       1.000                       3.000   \n",
       "15                       1.000                       3.000   \n",
       "16                       1.000                       3.000   \n",
       "17                       1.000                       3.000   \n",
       "18                       1.000                       3.000   \n",
       "19                       1.000                       3.000   \n",
       "20                       1.000                       3.000   \n",
       "21                       1.000                       3.000   \n",
       "22                       1.000                       3.000   \n",
       "23                       1.000                       3.000   \n",
       "24                       1.000                       3.000   \n",
       "25                       1.000                       3.000   \n",
       "26                       1.000                       3.000   \n",
       "27                       1.000                       3.000   \n",
       "28                       1.000                       3.000   \n",
       "29                       1.000                       3.000   \n",
       "30                       1.000                       3.000   \n",
       "31                       1.000                       3.000   \n",
       "32                       1.000                       3.000   \n",
       "33                       1.000                       3.000   \n",
       "34                       1.000                       3.000   \n",
       "35                       1.000                       3.000   \n",
       "36                       1.000                       3.000   \n",
       "\n",
       "   loss_function_params.c  \\\n",
       "0                   0.800   \n",
       "1                   0.000   \n",
       "2                   1.000   \n",
       "3                   0.800   \n",
       "4                   0.000   \n",
       "5                   0.800   \n",
       "6                   0.000   \n",
       "7                   0.000   \n",
       "8                   0.000   \n",
       "9                   1.000   \n",
       "10                  1.000   \n",
       "11                  0.800   \n",
       "12                  0.000   \n",
       "13                  0.000   \n",
       "14                  0.000   \n",
       "15                  0.000   \n",
       "16                  0.000   \n",
       "17                  0.000   \n",
       "18                  0.000   \n",
       "19                  0.000   \n",
       "20                  0.900   \n",
       "21                  0.800   \n",
       "22                  1.000   \n",
       "23                  0.000   \n",
       "24                  0.000   \n",
       "25                  1.000   \n",
       "26                  1.000   \n",
       "27                  1.000   \n",
       "28                  0.800   \n",
       "29                  1.000   \n",
       "30                  0.800   \n",
       "31                  0.000   \n",
       "32                  0.000   \n",
       "33                  0.900   \n",
       "34                  0.000   \n",
       "35                  1.000   \n",
       "36                  0.700   \n",
       "\n",
       "   data_frames_preparation_extra_params.user_features_file  \\\n",
       "0                           all_user_features_100.csv        \n",
       "1                                                 NaN        \n",
       "2                                                 NaN        \n",
       "3                                                 NaN        \n",
       "4                                                 NaN        \n",
       "5                                                 NaN        \n",
       "6                                                 NaN        \n",
       "7                                                 NaN        \n",
       "8                                                 NaN        \n",
       "9                                                 NaN        \n",
       "10                                                NaN        \n",
       "11                                                NaN        \n",
       "12                                                NaN        \n",
       "13                                                NaN        \n",
       "14                                                NaN        \n",
       "15                                                NaN        \n",
       "16                                                NaN        \n",
       "17                                                NaN        \n",
       "18                                                NaN        \n",
       "19                                                NaN        \n",
       "20                                                NaN        \n",
       "21                                                NaN        \n",
       "22                                                NaN        \n",
       "23                                                NaN        \n",
       "24                                                NaN        \n",
       "25                                                NaN        \n",
       "26                                                NaN        \n",
       "27                                                NaN        \n",
       "28                                                NaN        \n",
       "29                                                NaN        \n",
       "30                                                NaN        \n",
       "31                                                NaN        \n",
       "32                                                NaN        \n",
       "33                           all_user_features_10.csv        \n",
       "34                                                NaN        \n",
       "35                                                NaN        \n",
       "36                                                NaN        \n",
       "\n",
       "   loss_function_params.epsilon  recommender_extra_params.n_user_features  \n",
       "0                         0.100                                       nan  \n",
       "1                           nan                                       nan  \n",
       "2                           nan                                       nan  \n",
       "3                           nan                                       nan  \n",
       "4                           nan                                       nan  \n",
       "5                           nan                                       nan  \n",
       "6                           nan                                       nan  \n",
       "7                           nan                                       nan  \n",
       "8                           nan                                       nan  \n",
       "9                           nan                                       nan  \n",
       "10                          nan                                       nan  \n",
       "11                          nan                                       nan  \n",
       "12                          nan                                       nan  \n",
       "13                          nan                                       nan  \n",
       "14                          nan                                       nan  \n",
       "15                          nan                                       nan  \n",
       "16                          nan                                       nan  \n",
       "17                          nan                                       nan  \n",
       "18                          nan                                       nan  \n",
       "19                          nan                                       nan  \n",
       "20                          nan                                       nan  \n",
       "21                          nan                                       nan  \n",
       "22                          nan                                       nan  \n",
       "23                          nan                                       nan  \n",
       "24                          nan                                       nan  \n",
       "25                          nan                                       nan  \n",
       "26                          nan                                       nan  \n",
       "27                          nan                                       nan  \n",
       "28                          nan                                       nan  \n",
       "29                          nan                                       nan  \n",
       "30                          nan                                       nan  \n",
       "31                          nan                                       nan  \n",
       "32                          nan                                       nan  \n",
       "33                        0.100                                       nan  \n",
       "34                          nan                                       nan  \n",
       "35                          nan                                       nan  \n",
       "36                          nan                                       nan  \n",
       "\n",
       "[37 rows x 65 columns]"
      ],
      "text/html": "<div>\n<style scoped>\n    .dataframe tbody tr th:only-of-type {\n        vertical-align: middle;\n    }\n\n    .dataframe tbody tr th {\n        vertical-align: top;\n    }\n\n    .dataframe thead th {\n        text-align: right;\n    }\n</style>\n<table border=\"1\" class=\"dataframe\">\n  <thead>\n    <tr style=\"text-align: right;\">\n      <th></th>\n      <th>path_x</th>\n      <th>task_name</th>\n      <th>count</th>\n      <th>acc@4</th>\n      <th>model_x</th>\n      <th>path_y</th>\n      <th>project</th>\n      <th>sample_size</th>\n      <th>minimum_interactions</th>\n      <th>session_test_size</th>\n      <th>...</th>\n      <th>recommender_extra_params.from_index_mapping</th>\n      <th>recommender_extra_params.path_item_embedding</th>\n      <th>recommender_extra_params.freeze_embedding</th>\n      <th>optimizer_params.weight_decay</th>\n      <th>loss_function_params.alpha</th>\n      <th>loss_function_params.gamma</th>\n      <th>loss_function_params.c</th>\n      <th>data_frames_preparation_extra_params.user_features_file</th>\n      <th>loss_function_params.epsilon</th>\n      <th>recommender_extra_params.n_user_features</th>\n    </tr>\n  </thead>\n  <tbody>\n    <tr>\n      <th>0</th>\n      <td>SupervisedModelTraining____mars_gym_model_b___...</td>\n      <td>SupervisedModelTraining____mars_gym_model_b___...</td>\n      <td>21671.000</td>\n      <td>0.499</td>\n      <td>SupervisedModelTraining____mars_gym_model_b___...</td>\n      <td>SupervisedModelTraining____mars_gym_model_b___...</td>\n      <td>config.conf1_rnn</td>\n      <td>-1.000</td>\n      <td>5.000</td>\n      <td>0.100</td>\n      <td>...</td>\n      <td>False</td>\n      <td>False</td>\n      <td>False</td>\n      <td>0.010</td>\n      <td>1.000</td>\n      <td>3.000</td>\n      <td>0.800</td>\n      <td>all_user_features_100.csv</td>\n      <td>0.100</td>\n      <td>nan</td>\n    </tr>\n    <tr>\n      <th>1</th>\n      <td>SupervisedModelTraining____mars_gym_model_b___...</td>\n      <td>SupervisedModelTraining____mars_gym_model_b___...</td>\n      <td>21671.000</td>\n      <td>0.000</td>\n      <td>SupervisedModelTraining____mars_gym_model_b___...</td>\n      <td>SupervisedModelTraining____mars_gym_model_b___...</td>\n      <td>config.conf1_rnn</td>\n      <td>-1.000</td>\n      <td>5.000</td>\n      <td>0.100</td>\n      <td>...</td>\n      <td>False</td>\n      <td>False</td>\n      <td>False</td>\n      <td>0.000</td>\n      <td>1.000</td>\n      <td>3.000</td>\n      <td>0.000</td>\n      <td>NaN</td>\n      <td>nan</td>\n      <td>nan</td>\n    </tr>\n    <tr>\n      <th>2</th>\n      <td>SupervisedModelTraining____mars_gym_model_b___...</td>\n      <td>SupervisedModelTraining____mars_gym_model_b___...</td>\n      <td>21671.000</td>\n      <td>0.367</td>\n      <td>SupervisedModelTraining____mars_gym_model_b___...</td>\n      <td>SupervisedModelTraining____mars_gym_model_b___...</td>\n      <td>config.conf1_rnn</td>\n      <td>-1.000</td>\n      <td>5.000</td>\n      <td>0.100</td>\n      <td>...</td>\n      <td>False</td>\n      <td>False</td>\n      <td>False</td>\n      <td>0.000</td>\n      <td>1.000</td>\n      <td>3.000</td>\n      <td>1.000</td>\n      <td>NaN</td>\n      <td>nan</td>\n      <td>nan</td>\n    </tr>\n    <tr>\n      <th>3</th>\n      <td>SupervisedModelTraining____mars_gym_model_b___...</td>\n      <td>SupervisedModelTraining____mars_gym_model_b___...</td>\n      <td>21671.000</td>\n      <td>0.495</td>\n      <td>SupervisedModelTraining____mars_gym_model_b___...</td>\n      <td>SupervisedModelTraining____mars_gym_model_b___...</td>\n      <td>config.conf1_rnn</td>\n      <td>-1.000</td>\n      <td>5.000</td>\n      <td>0.100</td>\n      <td>...</td>\n      <td>False</td>\n      <td>False</td>\n      <td>False</td>\n      <td>0.010</td>\n      <td>1.000</td>\n      <td>3.000</td>\n      <td>0.800</td>\n      <td>NaN</td>\n      <td>nan</td>\n      <td>nan</td>\n    </tr>\n    <tr>\n      <th>4</th>\n      <td>SupervisedModelTraining____mars_gym_model_b___...</td>\n      <td>SupervisedModelTraining____mars_gym_model_b___...</td>\n      <td>21671.000</td>\n      <td>0.011</td>\n      <td>SupervisedModelTraining____mars_gym_model_b___...</td>\n      <td>SupervisedModelTraining____mars_gym_model_b___...</td>\n      <td>config.conf1_rnn</td>\n      <td>-1.000</td>\n      <td>5.000</td>\n      <td>0.100</td>\n      <td>...</td>\n      <td>False</td>\n      <td>False</td>\n      <td>False</td>\n      <td>0.010</td>\n      <td>1.000</td>\n      <td>3.000</td>\n      <td>0.000</td>\n      <td>NaN</td>\n      <td>nan</td>\n      <td>nan</td>\n    </tr>\n    <tr>\n      <th>5</th>\n      <td>SupervisedModelTraining____mars_gym_model_b___...</td>\n      <td>SupervisedModelTraining____mars_gym_model_b___...</td>\n      <td>21671.000</td>\n      <td>0.528</td>\n      <td>SupervisedModelTraining____mars_gym_model_b___...</td>\n      <td>SupervisedModelTraining____mars_gym_model_b___...</td>\n      <td>config.conf1_rnn</td>\n      <td>-1.000</td>\n      <td>5.000</td>\n      <td>0.100</td>\n      <td>...</td>\n      <td>False</td>\n      <td>False</td>\n      <td>False</td>\n      <td>0.010</td>\n      <td>1.000</td>\n      <td>3.000</td>\n      <td>0.800</td>\n      <td>NaN</td>\n      <td>nan</td>\n      <td>nan</td>\n    </tr>\n    <tr>\n      <th>6</th>\n      <td>SupervisedModelTraining____mars_gym_model_b___...</td>\n      <td>SupervisedModelTraining____mars_gym_model_b___...</td>\n      <td>21671.000</td>\n      <td>0.002</td>\n      <td>SupervisedModelTraining____mars_gym_model_b___...</td>\n      <td>SupervisedModelTraining____mars_gym_model_b___...</td>\n      <td>config.conf1_rnn</td>\n      <td>-1.000</td>\n      <td>5.000</td>\n      <td>0.100</td>\n      <td>...</td>\n      <td>False</td>\n      <td>False</td>\n      <td>False</td>\n      <td>0.001</td>\n      <td>1.000</td>\n      <td>3.000</td>\n      <td>0.000</td>\n      <td>NaN</td>\n      <td>nan</td>\n      <td>nan</td>\n    </tr>\n    <tr>\n      <th>7</th>\n      <td>SupervisedModelTraining____mars_gym_model_b___...</td>\n      <td>SupervisedModelTraining____mars_gym_model_b___...</td>\n      <td>21671.000</td>\n      <td>0.000</td>\n      <td>SupervisedModelTraining____mars_gym_model_b___...</td>\n      <td>SupervisedModelTraining____mars_gym_model_b___...</td>\n      <td>config.conf1_rnn</td>\n      <td>-1.000</td>\n      <td>5.000</td>\n      <td>0.100</td>\n      <td>...</td>\n      <td>False</td>\n      <td>False</td>\n      <td>False</td>\n      <td>0.000</td>\n      <td>1.000</td>\n      <td>3.000</td>\n      <td>0.000</td>\n      <td>NaN</td>\n      <td>nan</td>\n      <td>nan</td>\n    </tr>\n    <tr>\n      <th>8</th>\n      <td>SupervisedModelTraining____mars_gym_model_b___...</td>\n      <td>SupervisedModelTraining____mars_gym_model_b___...</td>\n      <td>21671.000</td>\n      <td>0.000</td>\n      <td>SupervisedModelTraining____mars_gym_model_b___...</td>\n      <td>SupervisedModelTraining____mars_gym_model_b___...</td>\n      <td>config.conf1_rnn</td>\n      <td>-1.000</td>\n      <td>5.000</td>\n      <td>0.100</td>\n      <td>...</td>\n      <td>False</td>\n      <td>False</td>\n      <td>False</td>\n      <td>0.010</td>\n      <td>1.000</td>\n      <td>3.000</td>\n      <td>0.000</td>\n      <td>NaN</td>\n      <td>nan</td>\n      <td>nan</td>\n    </tr>\n    <tr>\n      <th>9</th>\n      <td>SupervisedModelTraining____mars_gym_model_b___...</td>\n      <td>SupervisedModelTraining____mars_gym_model_b___...</td>\n      <td>21671.000</td>\n      <td>0.002</td>\n      <td>SupervisedModelTraining____mars_gym_model_b___...</td>\n      <td>SupervisedModelTraining____mars_gym_model_b___...</td>\n      <td>config.conf1_rnn</td>\n      <td>-1.000</td>\n      <td>5.000</td>\n      <td>0.100</td>\n      <td>...</td>\n      <td>False</td>\n      <td>False</td>\n      <td>False</td>\n      <td>0.010</td>\n      <td>1.000</td>\n      <td>3.000</td>\n      <td>1.000</td>\n      <td>NaN</td>\n      <td>nan</td>\n      <td>nan</td>\n    </tr>\n    <tr>\n      <th>10</th>\n      <td>SupervisedModelTraining____mars_gym_model_b___...</td>\n      <td>SupervisedModelTraining____mars_gym_model_b___...</td>\n      <td>21671.000</td>\n      <td>0.503</td>\n      <td>SupervisedModelTraining____mars_gym_model_b___...</td>\n      <td>SupervisedModelTraining____mars_gym_model_b___...</td>\n      <td>config.conf1_rnn</td>\n      <td>-1.000</td>\n      <td>5.000</td>\n      <td>0.100</td>\n      <td>...</td>\n      <td>False</td>\n      <td>False</td>\n      <td>False</td>\n      <td>0.010</td>\n      <td>1.000</td>\n      <td>3.000</td>\n      <td>1.000</td>\n      <td>NaN</td>\n      <td>nan</td>\n      <td>nan</td>\n    </tr>\n    <tr>\n      <th>11</th>\n      <td>SupervisedModelTraining____mars_gym_model_b___...</td>\n      <td>SupervisedModelTraining____mars_gym_model_b___...</td>\n      <td>21671.000</td>\n      <td>0.528</td>\n      <td>SupervisedModelTraining____mars_gym_model_b___...</td>\n      <td>SupervisedModelTraining____mars_gym_model_b___...</td>\n      <td>config.conf1_rnn</td>\n      <td>-1.000</td>\n      <td>5.000</td>\n      <td>0.100</td>\n      <td>...</td>\n      <td>False</td>\n      <td>False</td>\n      <td>False</td>\n      <td>0.010</td>\n      <td>1.000</td>\n      <td>3.000</td>\n      <td>0.800</td>\n      <td>NaN</td>\n      <td>nan</td>\n      <td>nan</td>\n    </tr>\n    <tr>\n      <th>12</th>\n      <td>SupervisedModelTraining____mars_gym_model_b___...</td>\n      <td>SupervisedModelTraining____mars_gym_model_b___...</td>\n      <td>21671.000</td>\n      <td>0.032</td>\n      <td>SupervisedModelTraining____mars_gym_model_b___...</td>\n      <td>SupervisedModelTraining____mars_gym_model_b___...</td>\n      <td>config.conf1_rnn</td>\n      <td>-1.000</td>\n      <td>5.000</td>\n      <td>0.100</td>\n      <td>...</td>\n      <td>False</td>\n      <td>False</td>\n      <td>False</td>\n      <td>0.001</td>\n      <td>1.000</td>\n      <td>3.000</td>\n      <td>0.000</td>\n      <td>NaN</td>\n      <td>nan</td>\n      <td>nan</td>\n    </tr>\n    <tr>\n      <th>13</th>\n      <td>SupervisedModelTraining____mars_gym_model_b___...</td>\n      <td>SupervisedModelTraining____mars_gym_model_b___...</td>\n      <td>21671.000</td>\n      <td>0.000</td>\n      <td>SupervisedModelTraining____mars_gym_model_b___...</td>\n      <td>SupervisedModelTraining____mars_gym_model_b___...</td>\n      <td>config.conf1_rnn</td>\n      <td>-1.000</td>\n      <td>5.000</td>\n      <td>0.100</td>\n      <td>...</td>\n      <td>False</td>\n      <td>False</td>\n      <td>False</td>\n      <td>0.000</td>\n      <td>1.000</td>\n      <td>3.000</td>\n      <td>0.000</td>\n      <td>NaN</td>\n      <td>nan</td>\n      <td>nan</td>\n    </tr>\n    <tr>\n      <th>14</th>\n      <td>SupervisedModelTraining____mars_gym_model_b___...</td>\n      <td>SupervisedModelTraining____mars_gym_model_b___...</td>\n      <td>21671.000</td>\n      <td>0.000</td>\n      <td>SupervisedModelTraining____mars_gym_model_b___...</td>\n      <td>SupervisedModelTraining____mars_gym_model_b___...</td>\n      <td>config.conf1_rnn</td>\n      <td>-1.000</td>\n      <td>5.000</td>\n      <td>0.100</td>\n      <td>...</td>\n      <td>False</td>\n      <td>False</td>\n      <td>False</td>\n      <td>0.000</td>\n      <td>1.000</td>\n      <td>3.000</td>\n      <td>0.000</td>\n      <td>NaN</td>\n      <td>nan</td>\n      <td>nan</td>\n    </tr>\n    <tr>\n      <th>15</th>\n      <td>SupervisedModelTraining____mars_gym_model_b___...</td>\n      <td>SupervisedModelTraining____mars_gym_model_b___...</td>\n      <td>21671.000</td>\n      <td>0.000</td>\n      <td>SupervisedModelTraining____mars_gym_model_b___...</td>\n      <td>SupervisedModelTraining____mars_gym_model_b___...</td>\n      <td>config.conf1_rnn</td>\n      <td>-1.000</td>\n      <td>5.000</td>\n      <td>0.100</td>\n      <td>...</td>\n      <td>False</td>\n      <td>False</td>\n      <td>False</td>\n      <td>0.000</td>\n      <td>1.000</td>\n      <td>3.000</td>\n      <td>0.000</td>\n      <td>NaN</td>\n      <td>nan</td>\n      <td>nan</td>\n    </tr>\n    <tr>\n      <th>16</th>\n      <td>SupervisedModelTraining____mars_gym_model_b___...</td>\n      <td>SupervisedModelTraining____mars_gym_model_b___...</td>\n      <td>21671.000</td>\n      <td>0.014</td>\n      <td>SupervisedModelTraining____mars_gym_model_b___...</td>\n      <td>SupervisedModelTraining____mars_gym_model_b___...</td>\n      <td>config.conf1_rnn</td>\n      <td>-1.000</td>\n      <td>5.000</td>\n      <td>0.100</td>\n      <td>...</td>\n      <td>False</td>\n      <td>False</td>\n      <td>False</td>\n      <td>0.000</td>\n      <td>1.000</td>\n      <td>3.000</td>\n      <td>0.000</td>\n      <td>NaN</td>\n      <td>nan</td>\n      <td>nan</td>\n    </tr>\n    <tr>\n      <th>17</th>\n      <td>SupervisedModelTraining____mars_gym_model_b___...</td>\n      <td>SupervisedModelTraining____mars_gym_model_b___...</td>\n      <td>21671.000</td>\n      <td>0.001</td>\n      <td>SupervisedModelTraining____mars_gym_model_b___...</td>\n      <td>SupervisedModelTraining____mars_gym_model_b___...</td>\n      <td>config.conf1_rnn</td>\n      <td>-1.000</td>\n      <td>5.000</td>\n      <td>0.100</td>\n      <td>...</td>\n      <td>False</td>\n      <td>False</td>\n      <td>False</td>\n      <td>0.000</td>\n      <td>1.000</td>\n      <td>3.000</td>\n      <td>0.000</td>\n      <td>NaN</td>\n      <td>nan</td>\n      <td>nan</td>\n    </tr>\n    <tr>\n      <th>18</th>\n      <td>SupervisedModelTraining____mars_gym_model_b___...</td>\n      <td>SupervisedModelTraining____mars_gym_model_b___...</td>\n      <td>21671.000</td>\n      <td>0.002</td>\n      <td>SupervisedModelTraining____mars_gym_model_b___...</td>\n      <td>SupervisedModelTraining____mars_gym_model_b___...</td>\n      <td>config.conf1_rnn</td>\n      <td>-1.000</td>\n      <td>5.000</td>\n      <td>0.100</td>\n      <td>...</td>\n      <td>False</td>\n      <td>False</td>\n      <td>False</td>\n      <td>0.010</td>\n      <td>1.000</td>\n      <td>3.000</td>\n      <td>0.000</td>\n      <td>NaN</td>\n      <td>nan</td>\n      <td>nan</td>\n    </tr>\n    <tr>\n      <th>19</th>\n      <td>SupervisedModelTraining____mars_gym_model_b___...</td>\n      <td>SupervisedModelTraining____mars_gym_model_b___...</td>\n      <td>21671.000</td>\n      <td>0.013</td>\n      <td>SupervisedModelTraining____mars_gym_model_b___...</td>\n      <td>SupervisedModelTraining____mars_gym_model_b___...</td>\n      <td>config.conf1_rnn</td>\n      <td>-1.000</td>\n      <td>5.000</td>\n      <td>0.100</td>\n      <td>...</td>\n      <td>False</td>\n      <td>False</td>\n      <td>False</td>\n      <td>0.000</td>\n      <td>1.000</td>\n      <td>3.000</td>\n      <td>0.000</td>\n      <td>NaN</td>\n      <td>nan</td>\n      <td>nan</td>\n    </tr>\n    <tr>\n      <th>20</th>\n      <td>SupervisedModelTraining____mars_gym_model_b___...</td>\n      <td>SupervisedModelTraining____mars_gym_model_b___...</td>\n      <td>21671.000</td>\n      <td>0.515</td>\n      <td>SupervisedModelTraining____mars_gym_model_b___...</td>\n      <td>SupervisedModelTraining____mars_gym_model_b___...</td>\n      <td>config.conf1_rnn</td>\n      <td>-1.000</td>\n      <td>5.000</td>\n      <td>0.100</td>\n      <td>...</td>\n      <td>False</td>\n      <td>False</td>\n      <td>False</td>\n      <td>0.010</td>\n      <td>1.000</td>\n      <td>3.000</td>\n      <td>0.900</td>\n      <td>NaN</td>\n      <td>nan</td>\n      <td>nan</td>\n    </tr>\n    <tr>\n      <th>21</th>\n      <td>SupervisedModelTraining____mars_gym_model_b___...</td>\n      <td>SupervisedModelTraining____mars_gym_model_b___...</td>\n      <td>21671.000</td>\n      <td>0.531</td>\n      <td>SupervisedModelTraining____mars_gym_model_b___...</td>\n      <td>SupervisedModelTraining____mars_gym_model_b___...</td>\n      <td>config.conf1_rnn</td>\n      <td>-1.000</td>\n      <td>5.000</td>\n      <td>0.100</td>\n      <td>...</td>\n      <td>False</td>\n      <td>False</td>\n      <td>False</td>\n      <td>0.010</td>\n      <td>1.000</td>\n      <td>3.000</td>\n      <td>0.800</td>\n      <td>NaN</td>\n      <td>nan</td>\n      <td>nan</td>\n    </tr>\n    <tr>\n      <th>22</th>\n      <td>SupervisedModelTraining____mars_gym_model_b___...</td>\n      <td>SupervisedModelTraining____mars_gym_model_b___...</td>\n      <td>21671.000</td>\n      <td>0.505</td>\n      <td>SupervisedModelTraining____mars_gym_model_b___...</td>\n      <td>SupervisedModelTraining____mars_gym_model_b___...</td>\n      <td>config.conf1_rnn</td>\n      <td>-1.000</td>\n      <td>5.000</td>\n      <td>0.100</td>\n      <td>...</td>\n      <td>False</td>\n      <td>False</td>\n      <td>False</td>\n      <td>0.000</td>\n      <td>1.000</td>\n      <td>3.000</td>\n      <td>1.000</td>\n      <td>NaN</td>\n      <td>nan</td>\n      <td>nan</td>\n    </tr>\n    <tr>\n      <th>23</th>\n      <td>SupervisedModelTraining____mars_gym_model_b___...</td>\n      <td>SupervisedModelTraining____mars_gym_model_b___...</td>\n      <td>21671.000</td>\n      <td>0.000</td>\n      <td>SupervisedModelTraining____mars_gym_model_b___...</td>\n      <td>SupervisedModelTraining____mars_gym_model_b___...</td>\n      <td>config.conf1_rnn</td>\n      <td>-1.000</td>\n      <td>5.000</td>\n      <td>0.100</td>\n      <td>...</td>\n      <td>False</td>\n      <td>False</td>\n      <td>False</td>\n      <td>0.010</td>\n      <td>1.000</td>\n      <td>3.000</td>\n      <td>0.000</td>\n      <td>NaN</td>\n      <td>nan</td>\n      <td>nan</td>\n    </tr>\n    <tr>\n      <th>24</th>\n      <td>SupervisedModelTraining____mars_gym_model_b___...</td>\n      <td>SupervisedModelTraining____mars_gym_model_b___...</td>\n      <td>21671.000</td>\n      <td>0.000</td>\n      <td>SupervisedModelTraining____mars_gym_model_b___...</td>\n      <td>SupervisedModelTraining____mars_gym_model_b___...</td>\n      <td>config.conf1_rnn</td>\n      <td>-1.000</td>\n      <td>5.000</td>\n      <td>0.100</td>\n      <td>...</td>\n      <td>False</td>\n      <td>False</td>\n      <td>False</td>\n      <td>0.000</td>\n      <td>1.000</td>\n      <td>3.000</td>\n      <td>0.000</td>\n      <td>NaN</td>\n      <td>nan</td>\n      <td>nan</td>\n    </tr>\n    <tr>\n      <th>25</th>\n      <td>SupervisedModelTraining____mars_gym_model_b___...</td>\n      <td>SupervisedModelTraining____mars_gym_model_b___...</td>\n      <td>21671.000</td>\n      <td>0.438</td>\n      <td>SupervisedModelTraining____mars_gym_model_b___...</td>\n      <td>SupervisedModelTraining____mars_gym_model_b___...</td>\n      <td>config.conf1_rnn</td>\n      <td>-1.000</td>\n      <td>5.000</td>\n      <td>0.100</td>\n      <td>...</td>\n      <td>False</td>\n      <td>False</td>\n      <td>False</td>\n      <td>0.000</td>\n      <td>1.000</td>\n      <td>3.000</td>\n      <td>1.000</td>\n      <td>NaN</td>\n      <td>nan</td>\n      <td>nan</td>\n    </tr>\n    <tr>\n      <th>26</th>\n      <td>SupervisedModelTraining____mars_gym_model_b___...</td>\n      <td>SupervisedModelTraining____mars_gym_model_b___...</td>\n      <td>21671.000</td>\n      <td>0.491</td>\n      <td>SupervisedModelTraining____mars_gym_model_b___...</td>\n      <td>SupervisedModelTraining____mars_gym_model_b___...</td>\n      <td>config.conf1_rnn</td>\n      <td>-1.000</td>\n      <td>5.000</td>\n      <td>0.100</td>\n      <td>...</td>\n      <td>False</td>\n      <td>False</td>\n      <td>False</td>\n      <td>0.000</td>\n      <td>1.000</td>\n      <td>3.000</td>\n      <td>1.000</td>\n      <td>NaN</td>\n      <td>nan</td>\n      <td>nan</td>\n    </tr>\n    <tr>\n      <th>27</th>\n      <td>SupervisedModelTraining____mars_gym_model_b___...</td>\n      <td>SupervisedModelTraining____mars_gym_model_b___...</td>\n      <td>21671.000</td>\n      <td>0.293</td>\n      <td>SupervisedModelTraining____mars_gym_model_b___...</td>\n      <td>SupervisedModelTraining____mars_gym_model_b___...</td>\n      <td>config.conf1_rnn</td>\n      <td>-1.000</td>\n      <td>5.000</td>\n      <td>0.100</td>\n      <td>...</td>\n      <td>False</td>\n      <td>False</td>\n      <td>False</td>\n      <td>0.010</td>\n      <td>1.000</td>\n      <td>3.000</td>\n      <td>1.000</td>\n      <td>NaN</td>\n      <td>nan</td>\n      <td>nan</td>\n    </tr>\n    <tr>\n      <th>28</th>\n      <td>SupervisedModelTraining____mars_gym_model_b___...</td>\n      <td>SupervisedModelTraining____mars_gym_model_b___...</td>\n      <td>21671.000</td>\n      <td>0.398</td>\n      <td>SupervisedModelTraining____mars_gym_model_b___...</td>\n      <td>SupervisedModelTraining____mars_gym_model_b___...</td>\n      <td>config.conf1_rnn</td>\n      <td>-1.000</td>\n      <td>5.000</td>\n      <td>0.100</td>\n      <td>...</td>\n      <td>False</td>\n      <td>False</td>\n      <td>False</td>\n      <td>0.010</td>\n      <td>1.000</td>\n      <td>3.000</td>\n      <td>0.800</td>\n      <td>NaN</td>\n      <td>nan</td>\n      <td>nan</td>\n    </tr>\n    <tr>\n      <th>29</th>\n      <td>SupervisedModelTraining____mars_gym_model_b___...</td>\n      <td>SupervisedModelTraining____mars_gym_model_b___...</td>\n      <td>21671.000</td>\n      <td>0.478</td>\n      <td>SupervisedModelTraining____mars_gym_model_b___...</td>\n      <td>SupervisedModelTraining____mars_gym_model_b___...</td>\n      <td>config.conf1_rnn</td>\n      <td>-1.000</td>\n      <td>5.000</td>\n      <td>0.100</td>\n      <td>...</td>\n      <td>False</td>\n      <td>False</td>\n      <td>False</td>\n      <td>0.000</td>\n      <td>1.000</td>\n      <td>3.000</td>\n      <td>1.000</td>\n      <td>NaN</td>\n      <td>nan</td>\n      <td>nan</td>\n    </tr>\n    <tr>\n      <th>30</th>\n      <td>SupervisedModelTraining____mars_gym_model_b___...</td>\n      <td>SupervisedModelTraining____mars_gym_model_b___...</td>\n      <td>21671.000</td>\n      <td>0.536</td>\n      <td>SupervisedModelTraining____mars_gym_model_b___...</td>\n      <td>SupervisedModelTraining____mars_gym_model_b___...</td>\n      <td>config.conf1_rnn</td>\n      <td>-1.000</td>\n      <td>5.000</td>\n      <td>0.100</td>\n      <td>...</td>\n      <td>False</td>\n      <td>False</td>\n      <td>False</td>\n      <td>0.010</td>\n      <td>1.000</td>\n      <td>3.000</td>\n      <td>0.800</td>\n      <td>NaN</td>\n      <td>nan</td>\n      <td>nan</td>\n    </tr>\n    <tr>\n      <th>31</th>\n      <td>SupervisedModelTraining____mars_gym_model_b___...</td>\n      <td>SupervisedModelTraining____mars_gym_model_b___...</td>\n      <td>21671.000</td>\n      <td>0.003</td>\n      <td>SupervisedModelTraining____mars_gym_model_b___...</td>\n      <td>SupervisedModelTraining____mars_gym_model_b___...</td>\n      <td>config.conf1_rnn</td>\n      <td>-1.000</td>\n      <td>5.000</td>\n      <td>0.100</td>\n      <td>...</td>\n      <td>False</td>\n      <td>False</td>\n      <td>False</td>\n      <td>0.001</td>\n      <td>1.000</td>\n      <td>3.000</td>\n      <td>0.000</td>\n      <td>NaN</td>\n      <td>nan</td>\n      <td>nan</td>\n    </tr>\n    <tr>\n      <th>32</th>\n      <td>SupervisedModelTraining____mars_gym_model_b___...</td>\n      <td>SupervisedModelTraining____mars_gym_model_b___...</td>\n      <td>21671.000</td>\n      <td>0.000</td>\n      <td>SupervisedModelTraining____mars_gym_model_b___...</td>\n      <td>SupervisedModelTraining____mars_gym_model_b___...</td>\n      <td>config.conf1_rnn</td>\n      <td>-1.000</td>\n      <td>5.000</td>\n      <td>0.100</td>\n      <td>...</td>\n      <td>False</td>\n      <td>False</td>\n      <td>False</td>\n      <td>0.001</td>\n      <td>1.000</td>\n      <td>3.000</td>\n      <td>0.000</td>\n      <td>NaN</td>\n      <td>nan</td>\n      <td>nan</td>\n    </tr>\n    <tr>\n      <th>33</th>\n      <td>SupervisedModelTraining____mars_gym_model_b___...</td>\n      <td>SupervisedModelTraining____mars_gym_model_b___...</td>\n      <td>21671.000</td>\n      <td>0.478</td>\n      <td>SupervisedModelTraining____mars_gym_model_b___...</td>\n      <td>SupervisedModelTraining____mars_gym_model_b___...</td>\n      <td>config.conf1_rnn</td>\n      <td>-1.000</td>\n      <td>5.000</td>\n      <td>0.100</td>\n      <td>...</td>\n      <td>False</td>\n      <td>False</td>\n      <td>False</td>\n      <td>0.001</td>\n      <td>1.000</td>\n      <td>3.000</td>\n      <td>0.900</td>\n      <td>all_user_features_10.csv</td>\n      <td>0.100</td>\n      <td>nan</td>\n    </tr>\n    <tr>\n      <th>34</th>\n      <td>SupervisedModelTraining____mars_gym_model_b___...</td>\n      <td>SupervisedModelTraining____mars_gym_model_b___...</td>\n      <td>21671.000</td>\n      <td>0.000</td>\n      <td>SupervisedModelTraining____mars_gym_model_b___...</td>\n      <td>SupervisedModelTraining____mars_gym_model_b___...</td>\n      <td>config.conf1_rnn</td>\n      <td>-1.000</td>\n      <td>5.000</td>\n      <td>0.100</td>\n      <td>...</td>\n      <td>False</td>\n      <td>False</td>\n      <td>False</td>\n      <td>0.010</td>\n      <td>1.000</td>\n      <td>3.000</td>\n      <td>0.000</td>\n      <td>NaN</td>\n      <td>nan</td>\n      <td>nan</td>\n    </tr>\n    <tr>\n      <th>35</th>\n      <td>SupervisedModelTraining____mars_gym_model_b___...</td>\n      <td>SupervisedModelTraining____mars_gym_model_b___...</td>\n      <td>21671.000</td>\n      <td>0.414</td>\n      <td>SupervisedModelTraining____mars_gym_model_b___...</td>\n      <td>SupervisedModelTraining____mars_gym_model_b___...</td>\n      <td>config.conf1_rnn</td>\n      <td>-1.000</td>\n      <td>5.000</td>\n      <td>0.100</td>\n      <td>...</td>\n      <td>False</td>\n      <td>False</td>\n      <td>False</td>\n      <td>0.000</td>\n      <td>1.000</td>\n      <td>3.000</td>\n      <td>1.000</td>\n      <td>NaN</td>\n      <td>nan</td>\n      <td>nan</td>\n    </tr>\n    <tr>\n      <th>36</th>\n      <td>SupervisedModelTraining____mars_gym_model_b___...</td>\n      <td>SupervisedModelTraining____mars_gym_model_b___...</td>\n      <td>21671.000</td>\n      <td>0.403</td>\n      <td>SupervisedModelTraining____mars_gym_model_b___...</td>\n      <td>SupervisedModelTraining____mars_gym_model_b___...</td>\n      <td>config.conf1_rnn</td>\n      <td>-1.000</td>\n      <td>5.000</td>\n      <td>0.100</td>\n      <td>...</td>\n      <td>False</td>\n      <td>False</td>\n      <td>False</td>\n      <td>0.010</td>\n      <td>1.000</td>\n      <td>3.000</td>\n      <td>0.700</td>\n      <td>NaN</td>\n      <td>nan</td>\n      <td>nan</td>\n    </tr>\n  </tbody>\n</table>\n<p>37 rows × 65 columns</p>\n</div>"
     },
     "metadata": {},
     "execution_count": 13
    }
   ],
   "source": [
    "df.shape\n",
    "df"
   ]
  },
  {
   "cell_type": "code",
   "execution_count": 14,
   "metadata": {
    "scrolled": false
   },
   "outputs": [
    {
     "output_type": "execute_result",
     "data": {
      "text/plain": [
       "Index(['path_x', 'task_name', 'count', 'acc@4', 'model_x', 'path_y', 'project',\n",
       "       'sample_size', 'minimum_interactions', 'session_test_size', 'test_size',\n",
       "       'dataset_split_method', 'test_split_type', 'val_size', 'n_splits',\n",
       "       'split_index', 'sampling_strategy', 'balance_fields',\n",
       "       'use_sampling_in_validation', 'seed', 'observation',\n",
       "       'load_index_mapping_path', 'negative_proportion',\n",
       "       'recommender_module_class', 'device', 'batch_size', 'epochs',\n",
       "       'optimizer', 'learning_rate', 'loss_function_class', 'loss_function',\n",
       "       'gradient_norm_clipping', 'gradient_norm_clipping_type',\n",
       "       'early_stopping_patience', 'early_stopping_min_delta', 'monitor_metric',\n",
       "       'monitor_mode', 'generator_workers', 'pin_memory', 'run_evaluate',\n",
       "       'run_evaluate_extra_params', 'sample_size_eval', 'metrics',\n",
       "       'bandit_policy_class', 'model_y',\n",
       "       'data_frames_preparation_extra_params.test_split',\n",
       "       'data_frames_preparation_extra_params.window_trip',\n",
       "       'data_frames_preparation_extra_params.column_stratification',\n",
       "       'data_frames_preparation_extra_params.filter_last_step',\n",
       "       'data_frames_preparation_extra_params.balance_sample_step',\n",
       "       'data_frames_preparation_extra_params.filter_trip_size',\n",
       "       'recommender_extra_params.n_factors',\n",
       "       'recommender_extra_params.hidden_size',\n",
       "       'recommender_extra_params.n_layers', 'recommender_extra_params.dropout',\n",
       "       'recommender_extra_params.from_index_mapping',\n",
       "       'recommender_extra_params.path_item_embedding',\n",
       "       'recommender_extra_params.freeze_embedding',\n",
       "       'optimizer_params.weight_decay', 'loss_function_params.alpha',\n",
       "       'loss_function_params.gamma', 'loss_function_params.c',\n",
       "       'data_frames_preparation_extra_params.user_features_file',\n",
       "       'loss_function_params.epsilon',\n",
       "       'recommender_extra_params.n_user_features'],\n",
       "      dtype='object')"
      ]
     },
     "metadata": {},
     "execution_count": 14
    }
   ],
   "source": [
    "df.columns\n"
   ]
  },
  {
   "cell_type": "code",
   "execution_count": 15,
   "metadata": {},
   "outputs": [
    {
     "output_type": "execute_result",
     "data": {
      "text/plain": [
       "(37, 65)"
      ]
     },
     "metadata": {},
     "execution_count": 15
    }
   ],
   "source": [
    "df = df[df['project'] == 'config.conf1_rnn']\n",
    "df.shape"
   ]
  },
  {
   "cell_type": "code",
   "execution_count": 16,
   "metadata": {},
   "outputs": [
    {
     "output_type": "execute_result",
     "data": {
      "text/plain": [
       "                                               path_x  \\\n",
       "30  SupervisedModelTraining____mars_gym_model_b___...   \n",
       "21  SupervisedModelTraining____mars_gym_model_b___...   \n",
       "5   SupervisedModelTraining____mars_gym_model_b___...   \n",
       "11  SupervisedModelTraining____mars_gym_model_b___...   \n",
       "20  SupervisedModelTraining____mars_gym_model_b___...   \n",
       "22  SupervisedModelTraining____mars_gym_model_b___...   \n",
       "10  SupervisedModelTraining____mars_gym_model_b___...   \n",
       "0   SupervisedModelTraining____mars_gym_model_b___...   \n",
       "3   SupervisedModelTraining____mars_gym_model_b___...   \n",
       "26  SupervisedModelTraining____mars_gym_model_b___...   \n",
       "\n",
       "                                            task_name     count  acc@4  \\\n",
       "30  SupervisedModelTraining____mars_gym_model_b___... 21671.000  0.536   \n",
       "21  SupervisedModelTraining____mars_gym_model_b___... 21671.000  0.531   \n",
       "5   SupervisedModelTraining____mars_gym_model_b___... 21671.000  0.528   \n",
       "11  SupervisedModelTraining____mars_gym_model_b___... 21671.000  0.528   \n",
       "20  SupervisedModelTraining____mars_gym_model_b___... 21671.000  0.515   \n",
       "22  SupervisedModelTraining____mars_gym_model_b___... 21671.000  0.505   \n",
       "10  SupervisedModelTraining____mars_gym_model_b___... 21671.000  0.503   \n",
       "0   SupervisedModelTraining____mars_gym_model_b___... 21671.000  0.499   \n",
       "3   SupervisedModelTraining____mars_gym_model_b___... 21671.000  0.495   \n",
       "26  SupervisedModelTraining____mars_gym_model_b___... 21671.000  0.491   \n",
       "\n",
       "                                              model_x  \\\n",
       "30  SupervisedModelTraining____mars_gym_model_b___...   \n",
       "21  SupervisedModelTraining____mars_gym_model_b___...   \n",
       "5   SupervisedModelTraining____mars_gym_model_b___...   \n",
       "11  SupervisedModelTraining____mars_gym_model_b___...   \n",
       "20  SupervisedModelTraining____mars_gym_model_b___...   \n",
       "22  SupervisedModelTraining____mars_gym_model_b___...   \n",
       "10  SupervisedModelTraining____mars_gym_model_b___...   \n",
       "0   SupervisedModelTraining____mars_gym_model_b___...   \n",
       "3   SupervisedModelTraining____mars_gym_model_b___...   \n",
       "26  SupervisedModelTraining____mars_gym_model_b___...   \n",
       "\n",
       "                                               path_y           project  \\\n",
       "30  SupervisedModelTraining____mars_gym_model_b___...  config.conf1_rnn   \n",
       "21  SupervisedModelTraining____mars_gym_model_b___...  config.conf1_rnn   \n",
       "5   SupervisedModelTraining____mars_gym_model_b___...  config.conf1_rnn   \n",
       "11  SupervisedModelTraining____mars_gym_model_b___...  config.conf1_rnn   \n",
       "20  SupervisedModelTraining____mars_gym_model_b___...  config.conf1_rnn   \n",
       "22  SupervisedModelTraining____mars_gym_model_b___...  config.conf1_rnn   \n",
       "10  SupervisedModelTraining____mars_gym_model_b___...  config.conf1_rnn   \n",
       "0   SupervisedModelTraining____mars_gym_model_b___...  config.conf1_rnn   \n",
       "3   SupervisedModelTraining____mars_gym_model_b___...  config.conf1_rnn   \n",
       "26  SupervisedModelTraining____mars_gym_model_b___...  config.conf1_rnn   \n",
       "\n",
       "    sample_size  minimum_interactions  session_test_size  ...  \\\n",
       "30       -1.000                 5.000              0.100  ...   \n",
       "21       -1.000                 5.000              0.100  ...   \n",
       "5        -1.000                 5.000              0.100  ...   \n",
       "11       -1.000                 5.000              0.100  ...   \n",
       "20       -1.000                 5.000              0.100  ...   \n",
       "22       -1.000                 5.000              0.100  ...   \n",
       "10       -1.000                 5.000              0.100  ...   \n",
       "0        -1.000                 5.000              0.100  ...   \n",
       "3        -1.000                 5.000              0.100  ...   \n",
       "26       -1.000                 5.000              0.100  ...   \n",
       "\n",
       "    recommender_extra_params.from_index_mapping  \\\n",
       "30                                        False   \n",
       "21                                        False   \n",
       "5                                         False   \n",
       "11                                        False   \n",
       "20                                        False   \n",
       "22                                        False   \n",
       "10                                        False   \n",
       "0                                         False   \n",
       "3                                         False   \n",
       "26                                        False   \n",
       "\n",
       "   recommender_extra_params.path_item_embedding  \\\n",
       "30                                        False   \n",
       "21                                        False   \n",
       "5                                         False   \n",
       "11                                        False   \n",
       "20                                        False   \n",
       "22                                        False   \n",
       "10                                        False   \n",
       "0                                         False   \n",
       "3                                         False   \n",
       "26                                        False   \n",
       "\n",
       "   recommender_extra_params.freeze_embedding  optimizer_params.weight_decay  \\\n",
       "30                                     False                          0.010   \n",
       "21                                     False                          0.010   \n",
       "5                                      False                          0.010   \n",
       "11                                     False                          0.010   \n",
       "20                                     False                          0.010   \n",
       "22                                     False                          0.000   \n",
       "10                                     False                          0.010   \n",
       "0                                      False                          0.010   \n",
       "3                                      False                          0.010   \n",
       "26                                     False                          0.000   \n",
       "\n",
       "    loss_function_params.alpha  loss_function_params.gamma  \\\n",
       "30                       1.000                       3.000   \n",
       "21                       1.000                       3.000   \n",
       "5                        1.000                       3.000   \n",
       "11                       1.000                       3.000   \n",
       "20                       1.000                       3.000   \n",
       "22                       1.000                       3.000   \n",
       "10                       1.000                       3.000   \n",
       "0                        1.000                       3.000   \n",
       "3                        1.000                       3.000   \n",
       "26                       1.000                       3.000   \n",
       "\n",
       "   loss_function_params.c  \\\n",
       "30                  0.800   \n",
       "21                  0.800   \n",
       "5                   0.800   \n",
       "11                  0.800   \n",
       "20                  0.900   \n",
       "22                  1.000   \n",
       "10                  1.000   \n",
       "0                   0.800   \n",
       "3                   0.800   \n",
       "26                  1.000   \n",
       "\n",
       "   data_frames_preparation_extra_params.user_features_file  \\\n",
       "30                                                NaN        \n",
       "21                                                NaN        \n",
       "5                                                 NaN        \n",
       "11                                                NaN        \n",
       "20                                                NaN        \n",
       "22                                                NaN        \n",
       "10                                                NaN        \n",
       "0                           all_user_features_100.csv        \n",
       "3                                                 NaN        \n",
       "26                                                NaN        \n",
       "\n",
       "   loss_function_params.epsilon  recommender_extra_params.n_user_features  \n",
       "30                          nan                                       nan  \n",
       "21                          nan                                       nan  \n",
       "5                           nan                                       nan  \n",
       "11                          nan                                       nan  \n",
       "20                          nan                                       nan  \n",
       "22                          nan                                       nan  \n",
       "10                          nan                                       nan  \n",
       "0                         0.100                                       nan  \n",
       "3                           nan                                       nan  \n",
       "26                          nan                                       nan  \n",
       "\n",
       "[10 rows x 65 columns]"
      ],
      "text/html": "<div>\n<style scoped>\n    .dataframe tbody tr th:only-of-type {\n        vertical-align: middle;\n    }\n\n    .dataframe tbody tr th {\n        vertical-align: top;\n    }\n\n    .dataframe thead th {\n        text-align: right;\n    }\n</style>\n<table border=\"1\" class=\"dataframe\">\n  <thead>\n    <tr style=\"text-align: right;\">\n      <th></th>\n      <th>path_x</th>\n      <th>task_name</th>\n      <th>count</th>\n      <th>acc@4</th>\n      <th>model_x</th>\n      <th>path_y</th>\n      <th>project</th>\n      <th>sample_size</th>\n      <th>minimum_interactions</th>\n      <th>session_test_size</th>\n      <th>...</th>\n      <th>recommender_extra_params.from_index_mapping</th>\n      <th>recommender_extra_params.path_item_embedding</th>\n      <th>recommender_extra_params.freeze_embedding</th>\n      <th>optimizer_params.weight_decay</th>\n      <th>loss_function_params.alpha</th>\n      <th>loss_function_params.gamma</th>\n      <th>loss_function_params.c</th>\n      <th>data_frames_preparation_extra_params.user_features_file</th>\n      <th>loss_function_params.epsilon</th>\n      <th>recommender_extra_params.n_user_features</th>\n    </tr>\n  </thead>\n  <tbody>\n    <tr>\n      <th>30</th>\n      <td>SupervisedModelTraining____mars_gym_model_b___...</td>\n      <td>SupervisedModelTraining____mars_gym_model_b___...</td>\n      <td>21671.000</td>\n      <td>0.536</td>\n      <td>SupervisedModelTraining____mars_gym_model_b___...</td>\n      <td>SupervisedModelTraining____mars_gym_model_b___...</td>\n      <td>config.conf1_rnn</td>\n      <td>-1.000</td>\n      <td>5.000</td>\n      <td>0.100</td>\n      <td>...</td>\n      <td>False</td>\n      <td>False</td>\n      <td>False</td>\n      <td>0.010</td>\n      <td>1.000</td>\n      <td>3.000</td>\n      <td>0.800</td>\n      <td>NaN</td>\n      <td>nan</td>\n      <td>nan</td>\n    </tr>\n    <tr>\n      <th>21</th>\n      <td>SupervisedModelTraining____mars_gym_model_b___...</td>\n      <td>SupervisedModelTraining____mars_gym_model_b___...</td>\n      <td>21671.000</td>\n      <td>0.531</td>\n      <td>SupervisedModelTraining____mars_gym_model_b___...</td>\n      <td>SupervisedModelTraining____mars_gym_model_b___...</td>\n      <td>config.conf1_rnn</td>\n      <td>-1.000</td>\n      <td>5.000</td>\n      <td>0.100</td>\n      <td>...</td>\n      <td>False</td>\n      <td>False</td>\n      <td>False</td>\n      <td>0.010</td>\n      <td>1.000</td>\n      <td>3.000</td>\n      <td>0.800</td>\n      <td>NaN</td>\n      <td>nan</td>\n      <td>nan</td>\n    </tr>\n    <tr>\n      <th>5</th>\n      <td>SupervisedModelTraining____mars_gym_model_b___...</td>\n      <td>SupervisedModelTraining____mars_gym_model_b___...</td>\n      <td>21671.000</td>\n      <td>0.528</td>\n      <td>SupervisedModelTraining____mars_gym_model_b___...</td>\n      <td>SupervisedModelTraining____mars_gym_model_b___...</td>\n      <td>config.conf1_rnn</td>\n      <td>-1.000</td>\n      <td>5.000</td>\n      <td>0.100</td>\n      <td>...</td>\n      <td>False</td>\n      <td>False</td>\n      <td>False</td>\n      <td>0.010</td>\n      <td>1.000</td>\n      <td>3.000</td>\n      <td>0.800</td>\n      <td>NaN</td>\n      <td>nan</td>\n      <td>nan</td>\n    </tr>\n    <tr>\n      <th>11</th>\n      <td>SupervisedModelTraining____mars_gym_model_b___...</td>\n      <td>SupervisedModelTraining____mars_gym_model_b___...</td>\n      <td>21671.000</td>\n      <td>0.528</td>\n      <td>SupervisedModelTraining____mars_gym_model_b___...</td>\n      <td>SupervisedModelTraining____mars_gym_model_b___...</td>\n      <td>config.conf1_rnn</td>\n      <td>-1.000</td>\n      <td>5.000</td>\n      <td>0.100</td>\n      <td>...</td>\n      <td>False</td>\n      <td>False</td>\n      <td>False</td>\n      <td>0.010</td>\n      <td>1.000</td>\n      <td>3.000</td>\n      <td>0.800</td>\n      <td>NaN</td>\n      <td>nan</td>\n      <td>nan</td>\n    </tr>\n    <tr>\n      <th>20</th>\n      <td>SupervisedModelTraining____mars_gym_model_b___...</td>\n      <td>SupervisedModelTraining____mars_gym_model_b___...</td>\n      <td>21671.000</td>\n      <td>0.515</td>\n      <td>SupervisedModelTraining____mars_gym_model_b___...</td>\n      <td>SupervisedModelTraining____mars_gym_model_b___...</td>\n      <td>config.conf1_rnn</td>\n      <td>-1.000</td>\n      <td>5.000</td>\n      <td>0.100</td>\n      <td>...</td>\n      <td>False</td>\n      <td>False</td>\n      <td>False</td>\n      <td>0.010</td>\n      <td>1.000</td>\n      <td>3.000</td>\n      <td>0.900</td>\n      <td>NaN</td>\n      <td>nan</td>\n      <td>nan</td>\n    </tr>\n    <tr>\n      <th>22</th>\n      <td>SupervisedModelTraining____mars_gym_model_b___...</td>\n      <td>SupervisedModelTraining____mars_gym_model_b___...</td>\n      <td>21671.000</td>\n      <td>0.505</td>\n      <td>SupervisedModelTraining____mars_gym_model_b___...</td>\n      <td>SupervisedModelTraining____mars_gym_model_b___...</td>\n      <td>config.conf1_rnn</td>\n      <td>-1.000</td>\n      <td>5.000</td>\n      <td>0.100</td>\n      <td>...</td>\n      <td>False</td>\n      <td>False</td>\n      <td>False</td>\n      <td>0.000</td>\n      <td>1.000</td>\n      <td>3.000</td>\n      <td>1.000</td>\n      <td>NaN</td>\n      <td>nan</td>\n      <td>nan</td>\n    </tr>\n    <tr>\n      <th>10</th>\n      <td>SupervisedModelTraining____mars_gym_model_b___...</td>\n      <td>SupervisedModelTraining____mars_gym_model_b___...</td>\n      <td>21671.000</td>\n      <td>0.503</td>\n      <td>SupervisedModelTraining____mars_gym_model_b___...</td>\n      <td>SupervisedModelTraining____mars_gym_model_b___...</td>\n      <td>config.conf1_rnn</td>\n      <td>-1.000</td>\n      <td>5.000</td>\n      <td>0.100</td>\n      <td>...</td>\n      <td>False</td>\n      <td>False</td>\n      <td>False</td>\n      <td>0.010</td>\n      <td>1.000</td>\n      <td>3.000</td>\n      <td>1.000</td>\n      <td>NaN</td>\n      <td>nan</td>\n      <td>nan</td>\n    </tr>\n    <tr>\n      <th>0</th>\n      <td>SupervisedModelTraining____mars_gym_model_b___...</td>\n      <td>SupervisedModelTraining____mars_gym_model_b___...</td>\n      <td>21671.000</td>\n      <td>0.499</td>\n      <td>SupervisedModelTraining____mars_gym_model_b___...</td>\n      <td>SupervisedModelTraining____mars_gym_model_b___...</td>\n      <td>config.conf1_rnn</td>\n      <td>-1.000</td>\n      <td>5.000</td>\n      <td>0.100</td>\n      <td>...</td>\n      <td>False</td>\n      <td>False</td>\n      <td>False</td>\n      <td>0.010</td>\n      <td>1.000</td>\n      <td>3.000</td>\n      <td>0.800</td>\n      <td>all_user_features_100.csv</td>\n      <td>0.100</td>\n      <td>nan</td>\n    </tr>\n    <tr>\n      <th>3</th>\n      <td>SupervisedModelTraining____mars_gym_model_b___...</td>\n      <td>SupervisedModelTraining____mars_gym_model_b___...</td>\n      <td>21671.000</td>\n      <td>0.495</td>\n      <td>SupervisedModelTraining____mars_gym_model_b___...</td>\n      <td>SupervisedModelTraining____mars_gym_model_b___...</td>\n      <td>config.conf1_rnn</td>\n      <td>-1.000</td>\n      <td>5.000</td>\n      <td>0.100</td>\n      <td>...</td>\n      <td>False</td>\n      <td>False</td>\n      <td>False</td>\n      <td>0.010</td>\n      <td>1.000</td>\n      <td>3.000</td>\n      <td>0.800</td>\n      <td>NaN</td>\n      <td>nan</td>\n      <td>nan</td>\n    </tr>\n    <tr>\n      <th>26</th>\n      <td>SupervisedModelTraining____mars_gym_model_b___...</td>\n      <td>SupervisedModelTraining____mars_gym_model_b___...</td>\n      <td>21671.000</td>\n      <td>0.491</td>\n      <td>SupervisedModelTraining____mars_gym_model_b___...</td>\n      <td>SupervisedModelTraining____mars_gym_model_b___...</td>\n      <td>config.conf1_rnn</td>\n      <td>-1.000</td>\n      <td>5.000</td>\n      <td>0.100</td>\n      <td>...</td>\n      <td>False</td>\n      <td>False</td>\n      <td>False</td>\n      <td>0.000</td>\n      <td>1.000</td>\n      <td>3.000</td>\n      <td>1.000</td>\n      <td>NaN</td>\n      <td>nan</td>\n      <td>nan</td>\n    </tr>\n  </tbody>\n</table>\n<p>10 rows × 65 columns</p>\n</div>"
     },
     "metadata": {},
     "execution_count": 16
    }
   ],
   "source": [
    "df.sort_values(['acc@4'], ascending=False).head(10)"
   ]
  },
  {
   "cell_type": "code",
   "execution_count": 21,
   "metadata": {},
   "outputs": [
    {
     "output_type": "display_data",
     "data": {
      "application/vnd.plotly.v1+json": {
       "config": {
        "plotlyServerURL": "https://plot.ly"
       },
       "data": [
        {
         "dimensions": [
          {
           "label": "n_factors",
           "values": [
            100,
            50,
            50,
            100,
            50,
            100,
            50,
            100,
            200,
            100,
            200,
            100,
            100,
            200,
            100,
            100,
            50,
            50,
            100,
            100,
            100,
            100,
            200,
            200,
            200,
            200,
            100,
            100,
            100,
            50,
            100,
            50,
            200,
            100,
            200,
            50,
            100
           ]
          },
          {
           "label": "hidden_size",
           "values": [
            300,
            100,
            10,
            300,
            100,
            300,
            500,
            500,
            300,
            300,
            100,
            300,
            300,
            100,
            100,
            300,
            500,
            10,
            500,
            500,
            300,
            300,
            100,
            10,
            10,
            10,
            500,
            300,
            300,
            10,
            300,
            500,
            100,
            300,
            10,
            500,
            300
           ]
          },
          {
           "label": "n_layers",
           "values": [
            2,
            4,
            4,
            2,
            4,
            2,
            4,
            1,
            2,
            2,
            2,
            2,
            4,
            4,
            1,
            1,
            2,
            1,
            2,
            4,
            2,
            2,
            2,
            4,
            2,
            1,
            2,
            2,
            2,
            2,
            2,
            1,
            2,
            2,
            2,
            4,
            2
           ]
          },
          {
           "label": "dropout",
           "values": [
            0.3,
            0,
            0.6,
            0.3,
            0,
            0.3,
            0.4,
            0.2,
            0.2,
            0.3,
            0.2,
            0.3,
            0.4,
            0,
            0.2,
            0.6,
            0,
            0.4,
            0.6,
            0,
            0.3,
            0.3,
            0.2,
            0.6,
            0,
            0.6,
            0.2,
            0.3,
            0.3,
            0.2,
            0.3,
            0.6,
            0,
            0.3,
            0.6,
            0,
            0.3
           ]
          },
          {
           "label": "learning_rate",
           "values": [
            0.001,
            0.0001,
            0.0001,
            0.001,
            0.0001,
            0.001,
            0.001,
            0.0001,
            0.001,
            0.001,
            0.001,
            0.001,
            0.0001,
            0.001,
            0.0001,
            0.001,
            0.001,
            0.001,
            0.0001,
            0.001,
            0.001,
            0.001,
            0.0001,
            0.0001,
            0.0001,
            0.001,
            0.0001,
            0.001,
            0.001,
            0.0001,
            0.001,
            0.0001,
            0.0001,
            0.001,
            0.0001,
            0.0001,
            0.001
           ]
          },
          {
           "label": "batch_size",
           "values": [
            128,
            256,
            256,
            128,
            64,
            128,
            256,
            128,
            256,
            128,
            64,
            128,
            64,
            64,
            256,
            256,
            128,
            64,
            64,
            64,
            128,
            128,
            64,
            64,
            64,
            64,
            64,
            128,
            128,
            64,
            128,
            256,
            256,
            128,
            256,
            256,
            128
           ]
          },
          {
           "label": "optimizer",
           "values": [
            "radam",
            "radam",
            "adam",
            "radam",
            "adam",
            "radam",
            "radam",
            "radam",
            "adam",
            "radam",
            "radam",
            "radam",
            "adam",
            "radam",
            "radam",
            "adam",
            "adam",
            "radam",
            "adam",
            "adam",
            "radam",
            "radam",
            "radam",
            "adam",
            "radam",
            "adam",
            "adam",
            "radam",
            "adam",
            "radam",
            "radam",
            "radam",
            "radam",
            "adam",
            "adam",
            "adam",
            "adam"
           ]
          },
          {
           "label": "balance_loss",
           "values": [
            0.8,
            0,
            1,
            0.8,
            0,
            0.8,
            0,
            0,
            0,
            1,
            1,
            0.8,
            0,
            0,
            0,
            0,
            0,
            0,
            0,
            0,
            0.9,
            0.8,
            1,
            0,
            0,
            1,
            1,
            1,
            0.8,
            1,
            0.8,
            0,
            0,
            0.9,
            0,
            1,
            0.7
           ]
          },
          {
           "label": "epsilon",
           "values": [
            0.1,
            null,
            null,
            null,
            null,
            null,
            null,
            null,
            null,
            null,
            null,
            null,
            null,
            null,
            null,
            null,
            null,
            null,
            null,
            null,
            null,
            null,
            null,
            null,
            null,
            null,
            null,
            null,
            null,
            null,
            null,
            null,
            null,
            0.1,
            null,
            null,
            null
           ]
          },
          {
           "label": "WeightDecay",
           "values": [
            0.01,
            0,
            0,
            0.01,
            0.01,
            0.01,
            0.001,
            0.00001,
            0.01,
            0.01,
            0.01,
            0.01,
            0.001,
            0,
            0,
            0,
            0.00001,
            0,
            0.01,
            0.00001,
            0.01,
            0.01,
            0,
            0.01,
            0,
            0.00001,
            0,
            0.01,
            0.01,
            0,
            0.01,
            0.001,
            0.001,
            0.001,
            0.01,
            0,
            0.01
           ]
          }
         ],
         "domain": {
          "x": [
           0,
           1
          ],
          "y": [
           0,
           1
          ]
         },
         "line": {
          "color": [
           0.4985925891744728,
           0.000046144617230400075,
           0.36749573162290616,
           0.4949471644132712,
           0.010751695814683217,
           0.5276175534123945,
           0.0016612062202944027,
           0.00023072308615200036,
           0.000046144617230400075,
           0.001891929306446403,
           0.5034839186008953,
           0.5276175534123945,
           0.03170135203728485,
           0.0001384338516912002,
           0.0003691569378432006,
           0,
           0.013889529786350422,
           0.0005998800239952009,
           0.0022149416270592034,
           0.013289649762355221,
           0.5152507959946472,
           0.5307553873840617,
           0.5048221125005768,
           0.0001384338516912002,
           0.00009228923446080015,
           0.4375432605786535,
           0.4913940288865304,
           0.29347976558534444,
           0.39790503437773983,
           0.47759678833464075,
           0.5357851506621752,
           0.002999400119976005,
           0.000046144617230400075,
           0.47778136680356237,
           0.000046144617230400075,
           0.41419408426007104,
           0.40265792995247107
          ],
          "coloraxis": "coloraxis"
         },
         "name": "",
         "type": "parcats"
        }
       ],
       "layout": {
        "coloraxis": {
         "colorbar": {
          "title": {
           "text": "acc@4"
          }
         },
         "colorscale": [
          [
           0,
           "rgb(255,255,204)"
          ],
          [
           0.125,
           "rgb(255,237,160)"
          ],
          [
           0.25,
           "rgb(254,217,118)"
          ],
          [
           0.375,
           "rgb(254,178,76)"
          ],
          [
           0.5,
           "rgb(253,141,60)"
          ],
          [
           0.625,
           "rgb(252,78,42)"
          ],
          [
           0.75,
           "rgb(227,26,28)"
          ],
          [
           0.875,
           "rgb(189,0,38)"
          ],
          [
           1,
           "rgb(128,0,38)"
          ]
         ]
        },
        "legend": {
         "tracegroupgap": 0
        },
        "margin": {
         "t": 60
        },
        "template": {
         "data": {
          "bar": [
           {
            "error_x": {
             "color": "#2a3f5f"
            },
            "error_y": {
             "color": "#2a3f5f"
            },
            "marker": {
             "line": {
              "color": "#E5ECF6",
              "width": 0.5
             }
            },
            "type": "bar"
           }
          ],
          "barpolar": [
           {
            "marker": {
             "line": {
              "color": "#E5ECF6",
              "width": 0.5
             }
            },
            "type": "barpolar"
           }
          ],
          "carpet": [
           {
            "aaxis": {
             "endlinecolor": "#2a3f5f",
             "gridcolor": "white",
             "linecolor": "white",
             "minorgridcolor": "white",
             "startlinecolor": "#2a3f5f"
            },
            "baxis": {
             "endlinecolor": "#2a3f5f",
             "gridcolor": "white",
             "linecolor": "white",
             "minorgridcolor": "white",
             "startlinecolor": "#2a3f5f"
            },
            "type": "carpet"
           }
          ],
          "choropleth": [
           {
            "colorbar": {
             "outlinewidth": 0,
             "ticks": ""
            },
            "type": "choropleth"
           }
          ],
          "contour": [
           {
            "colorbar": {
             "outlinewidth": 0,
             "ticks": ""
            },
            "colorscale": [
             [
              0,
              "#0d0887"
             ],
             [
              0.1111111111111111,
              "#46039f"
             ],
             [
              0.2222222222222222,
              "#7201a8"
             ],
             [
              0.3333333333333333,
              "#9c179e"
             ],
             [
              0.4444444444444444,
              "#bd3786"
             ],
             [
              0.5555555555555556,
              "#d8576b"
             ],
             [
              0.6666666666666666,
              "#ed7953"
             ],
             [
              0.7777777777777778,
              "#fb9f3a"
             ],
             [
              0.8888888888888888,
              "#fdca26"
             ],
             [
              1,
              "#f0f921"
             ]
            ],
            "type": "contour"
           }
          ],
          "contourcarpet": [
           {
            "colorbar": {
             "outlinewidth": 0,
             "ticks": ""
            },
            "type": "contourcarpet"
           }
          ],
          "heatmap": [
           {
            "colorbar": {
             "outlinewidth": 0,
             "ticks": ""
            },
            "colorscale": [
             [
              0,
              "#0d0887"
             ],
             [
              0.1111111111111111,
              "#46039f"
             ],
             [
              0.2222222222222222,
              "#7201a8"
             ],
             [
              0.3333333333333333,
              "#9c179e"
             ],
             [
              0.4444444444444444,
              "#bd3786"
             ],
             [
              0.5555555555555556,
              "#d8576b"
             ],
             [
              0.6666666666666666,
              "#ed7953"
             ],
             [
              0.7777777777777778,
              "#fb9f3a"
             ],
             [
              0.8888888888888888,
              "#fdca26"
             ],
             [
              1,
              "#f0f921"
             ]
            ],
            "type": "heatmap"
           }
          ],
          "heatmapgl": [
           {
            "colorbar": {
             "outlinewidth": 0,
             "ticks": ""
            },
            "colorscale": [
             [
              0,
              "#0d0887"
             ],
             [
              0.1111111111111111,
              "#46039f"
             ],
             [
              0.2222222222222222,
              "#7201a8"
             ],
             [
              0.3333333333333333,
              "#9c179e"
             ],
             [
              0.4444444444444444,
              "#bd3786"
             ],
             [
              0.5555555555555556,
              "#d8576b"
             ],
             [
              0.6666666666666666,
              "#ed7953"
             ],
             [
              0.7777777777777778,
              "#fb9f3a"
             ],
             [
              0.8888888888888888,
              "#fdca26"
             ],
             [
              1,
              "#f0f921"
             ]
            ],
            "type": "heatmapgl"
           }
          ],
          "histogram": [
           {
            "marker": {
             "colorbar": {
              "outlinewidth": 0,
              "ticks": ""
             }
            },
            "type": "histogram"
           }
          ],
          "histogram2d": [
           {
            "colorbar": {
             "outlinewidth": 0,
             "ticks": ""
            },
            "colorscale": [
             [
              0,
              "#0d0887"
             ],
             [
              0.1111111111111111,
              "#46039f"
             ],
             [
              0.2222222222222222,
              "#7201a8"
             ],
             [
              0.3333333333333333,
              "#9c179e"
             ],
             [
              0.4444444444444444,
              "#bd3786"
             ],
             [
              0.5555555555555556,
              "#d8576b"
             ],
             [
              0.6666666666666666,
              "#ed7953"
             ],
             [
              0.7777777777777778,
              "#fb9f3a"
             ],
             [
              0.8888888888888888,
              "#fdca26"
             ],
             [
              1,
              "#f0f921"
             ]
            ],
            "type": "histogram2d"
           }
          ],
          "histogram2dcontour": [
           {
            "colorbar": {
             "outlinewidth": 0,
             "ticks": ""
            },
            "colorscale": [
             [
              0,
              "#0d0887"
             ],
             [
              0.1111111111111111,
              "#46039f"
             ],
             [
              0.2222222222222222,
              "#7201a8"
             ],
             [
              0.3333333333333333,
              "#9c179e"
             ],
             [
              0.4444444444444444,
              "#bd3786"
             ],
             [
              0.5555555555555556,
              "#d8576b"
             ],
             [
              0.6666666666666666,
              "#ed7953"
             ],
             [
              0.7777777777777778,
              "#fb9f3a"
             ],
             [
              0.8888888888888888,
              "#fdca26"
             ],
             [
              1,
              "#f0f921"
             ]
            ],
            "type": "histogram2dcontour"
           }
          ],
          "mesh3d": [
           {
            "colorbar": {
             "outlinewidth": 0,
             "ticks": ""
            },
            "type": "mesh3d"
           }
          ],
          "parcoords": [
           {
            "line": {
             "colorbar": {
              "outlinewidth": 0,
              "ticks": ""
             }
            },
            "type": "parcoords"
           }
          ],
          "pie": [
           {
            "automargin": true,
            "type": "pie"
           }
          ],
          "scatter": [
           {
            "marker": {
             "colorbar": {
              "outlinewidth": 0,
              "ticks": ""
             }
            },
            "type": "scatter"
           }
          ],
          "scatter3d": [
           {
            "line": {
             "colorbar": {
              "outlinewidth": 0,
              "ticks": ""
             }
            },
            "marker": {
             "colorbar": {
              "outlinewidth": 0,
              "ticks": ""
             }
            },
            "type": "scatter3d"
           }
          ],
          "scattercarpet": [
           {
            "marker": {
             "colorbar": {
              "outlinewidth": 0,
              "ticks": ""
             }
            },
            "type": "scattercarpet"
           }
          ],
          "scattergeo": [
           {
            "marker": {
             "colorbar": {
              "outlinewidth": 0,
              "ticks": ""
             }
            },
            "type": "scattergeo"
           }
          ],
          "scattergl": [
           {
            "marker": {
             "colorbar": {
              "outlinewidth": 0,
              "ticks": ""
             }
            },
            "type": "scattergl"
           }
          ],
          "scattermapbox": [
           {
            "marker": {
             "colorbar": {
              "outlinewidth": 0,
              "ticks": ""
             }
            },
            "type": "scattermapbox"
           }
          ],
          "scatterpolar": [
           {
            "marker": {
             "colorbar": {
              "outlinewidth": 0,
              "ticks": ""
             }
            },
            "type": "scatterpolar"
           }
          ],
          "scatterpolargl": [
           {
            "marker": {
             "colorbar": {
              "outlinewidth": 0,
              "ticks": ""
             }
            },
            "type": "scatterpolargl"
           }
          ],
          "scatterternary": [
           {
            "marker": {
             "colorbar": {
              "outlinewidth": 0,
              "ticks": ""
             }
            },
            "type": "scatterternary"
           }
          ],
          "surface": [
           {
            "colorbar": {
             "outlinewidth": 0,
             "ticks": ""
            },
            "colorscale": [
             [
              0,
              "#0d0887"
             ],
             [
              0.1111111111111111,
              "#46039f"
             ],
             [
              0.2222222222222222,
              "#7201a8"
             ],
             [
              0.3333333333333333,
              "#9c179e"
             ],
             [
              0.4444444444444444,
              "#bd3786"
             ],
             [
              0.5555555555555556,
              "#d8576b"
             ],
             [
              0.6666666666666666,
              "#ed7953"
             ],
             [
              0.7777777777777778,
              "#fb9f3a"
             ],
             [
              0.8888888888888888,
              "#fdca26"
             ],
             [
              1,
              "#f0f921"
             ]
            ],
            "type": "surface"
           }
          ],
          "table": [
           {
            "cells": {
             "fill": {
              "color": "#EBF0F8"
             },
             "line": {
              "color": "white"
             }
            },
            "header": {
             "fill": {
              "color": "#C8D4E3"
             },
             "line": {
              "color": "white"
             }
            },
            "type": "table"
           }
          ]
         },
         "layout": {
          "annotationdefaults": {
           "arrowcolor": "#2a3f5f",
           "arrowhead": 0,
           "arrowwidth": 1
          },
          "coloraxis": {
           "colorbar": {
            "outlinewidth": 0,
            "ticks": ""
           }
          },
          "colorscale": {
           "diverging": [
            [
             0,
             "#8e0152"
            ],
            [
             0.1,
             "#c51b7d"
            ],
            [
             0.2,
             "#de77ae"
            ],
            [
             0.3,
             "#f1b6da"
            ],
            [
             0.4,
             "#fde0ef"
            ],
            [
             0.5,
             "#f7f7f7"
            ],
            [
             0.6,
             "#e6f5d0"
            ],
            [
             0.7,
             "#b8e186"
            ],
            [
             0.8,
             "#7fbc41"
            ],
            [
             0.9,
             "#4d9221"
            ],
            [
             1,
             "#276419"
            ]
           ],
           "sequential": [
            [
             0,
             "#0d0887"
            ],
            [
             0.1111111111111111,
             "#46039f"
            ],
            [
             0.2222222222222222,
             "#7201a8"
            ],
            [
             0.3333333333333333,
             "#9c179e"
            ],
            [
             0.4444444444444444,
             "#bd3786"
            ],
            [
             0.5555555555555556,
             "#d8576b"
            ],
            [
             0.6666666666666666,
             "#ed7953"
            ],
            [
             0.7777777777777778,
             "#fb9f3a"
            ],
            [
             0.8888888888888888,
             "#fdca26"
            ],
            [
             1,
             "#f0f921"
            ]
           ],
           "sequentialminus": [
            [
             0,
             "#0d0887"
            ],
            [
             0.1111111111111111,
             "#46039f"
            ],
            [
             0.2222222222222222,
             "#7201a8"
            ],
            [
             0.3333333333333333,
             "#9c179e"
            ],
            [
             0.4444444444444444,
             "#bd3786"
            ],
            [
             0.5555555555555556,
             "#d8576b"
            ],
            [
             0.6666666666666666,
             "#ed7953"
            ],
            [
             0.7777777777777778,
             "#fb9f3a"
            ],
            [
             0.8888888888888888,
             "#fdca26"
            ],
            [
             1,
             "#f0f921"
            ]
           ]
          },
          "colorway": [
           "#636efa",
           "#EF553B",
           "#00cc96",
           "#ab63fa",
           "#FFA15A",
           "#19d3f3",
           "#FF6692",
           "#B6E880",
           "#FF97FF",
           "#FECB52"
          ],
          "font": {
           "color": "#2a3f5f"
          },
          "geo": {
           "bgcolor": "white",
           "lakecolor": "white",
           "landcolor": "#E5ECF6",
           "showlakes": true,
           "showland": true,
           "subunitcolor": "white"
          },
          "hoverlabel": {
           "align": "left"
          },
          "hovermode": "closest",
          "mapbox": {
           "style": "light"
          },
          "paper_bgcolor": "white",
          "plot_bgcolor": "#E5ECF6",
          "polar": {
           "angularaxis": {
            "gridcolor": "white",
            "linecolor": "white",
            "ticks": ""
           },
           "bgcolor": "#E5ECF6",
           "radialaxis": {
            "gridcolor": "white",
            "linecolor": "white",
            "ticks": ""
           }
          },
          "scene": {
           "xaxis": {
            "backgroundcolor": "#E5ECF6",
            "gridcolor": "white",
            "gridwidth": 2,
            "linecolor": "white",
            "showbackground": true,
            "ticks": "",
            "zerolinecolor": "white"
           },
           "yaxis": {
            "backgroundcolor": "#E5ECF6",
            "gridcolor": "white",
            "gridwidth": 2,
            "linecolor": "white",
            "showbackground": true,
            "ticks": "",
            "zerolinecolor": "white"
           },
           "zaxis": {
            "backgroundcolor": "#E5ECF6",
            "gridcolor": "white",
            "gridwidth": 2,
            "linecolor": "white",
            "showbackground": true,
            "ticks": "",
            "zerolinecolor": "white"
           }
          },
          "shapedefaults": {
           "line": {
            "color": "#2a3f5f"
           }
          },
          "ternary": {
           "aaxis": {
            "gridcolor": "white",
            "linecolor": "white",
            "ticks": ""
           },
           "baxis": {
            "gridcolor": "white",
            "linecolor": "white",
            "ticks": ""
           },
           "bgcolor": "#E5ECF6",
           "caxis": {
            "gridcolor": "white",
            "linecolor": "white",
            "ticks": ""
           }
          },
          "title": {
           "x": 0.05
          },
          "xaxis": {
           "automargin": true,
           "gridcolor": "white",
           "linecolor": "white",
           "ticks": "",
           "title": {
            "standoff": 15
           },
           "zerolinecolor": "white",
           "zerolinewidth": 2
          },
          "yaxis": {
           "automargin": true,
           "gridcolor": "white",
           "linecolor": "white",
           "ticks": "",
           "title": {
            "standoff": 15
           },
           "zerolinecolor": "white",
           "zerolinewidth": 2
          }
         }
        },
        "width": 1200
       }
      }
     },
     "metadata": {}
    }
   ],
   "source": [
    "import plotly.express as px\n",
    "\n",
    "columns = {\n",
    "    'recommender_extra_params.n_factors': 'n_factors',\n",
    "    'recommender_extra_params.hidden_size': 'hidden_size',\n",
    "    'recommender_extra_params.n_layers': 'n_layers',\n",
    "    'recommender_extra_params.dropout': \"dropout\",\n",
    "    # 'data_frames_preparation_extra_params.window_trip': \"window_trip\",\n",
    "    'learning_rate': \"learning_rate\",\n",
    "    'batch_size': \"batch_size\",\n",
    "    'optimizer': \"optimizer\",\n",
    "    'loss_function_params.c': \"balance_loss\",\n",
    "    'loss_function_params.epsilon': \"epsilon\",\n",
    "    'optimizer_params.weight_decay': \"WeightDecay\",\n",
    "}\n",
    "\n",
    "\n",
    "fig = px.parallel_categories(df, dimensions=list(columns.keys()),\n",
    "                            color=\"acc@4\", width=1200,\n",
    "                            color_continuous_scale=px.colors.sequential.YlOrRd,\n",
    "                            labels=columns)\n",
    "fig.show()"
   ]
  },
  {
   "cell_type": "code",
   "execution_count": 22,
   "metadata": {},
   "outputs": [
    {
     "output_type": "execute_result",
     "data": {
      "text/plain": [
       "recommender_extra_params.n_factors                                                100.000\n",
       "recommender_extra_params.hidden_size                                              300.000\n",
       "recommender_extra_params.n_layers                                                   2.000\n",
       "recommender_extra_params.dropout                                                    0.300\n",
       "learning_rate                                                                       0.001\n",
       "batch_size                                                                        128.000\n",
       "optimizer                                                                           radam\n",
       "loss_function_params.c                                                              0.800\n",
       "loss_function_params.epsilon                                                          NaN\n",
       "optimizer_params.weight_decay                                                       0.010\n",
       "acc@4                                                                               0.536\n",
       "task_name                               SupervisedModelTraining____mars_gym_model_b___...\n",
       "Name: 30, dtype: object"
      ]
     },
     "metadata": {},
     "execution_count": 22
    }
   ],
   "source": [
    "best_model = df.sort_values(['acc@4'], ascending=False).iloc[0][list(columns.keys()) + ['acc@4', 'task_name']]#.task_name\n",
    "best_model"
   ]
  },
  {
   "cell_type": "code",
   "execution_count": 20,
   "metadata": {},
   "outputs": [
    {
     "output_type": "execute_result",
     "data": {
      "text/plain": [
       "0.5357851506621752"
      ]
     },
     "metadata": {},
     "execution_count": 20
    }
   ],
   "source": [
    "best_model['acc@4']"
   ]
  },
  {
   "cell_type": "code",
   "execution_count": null,
   "metadata": {},
   "outputs": [],
   "source": []
  },
  {
   "cell_type": "code",
   "execution_count": null,
   "metadata": {},
   "outputs": [],
   "source": []
  },
  {
   "cell_type": "code",
   "execution_count": null,
   "metadata": {},
   "outputs": [],
   "source": []
  },
  {
   "cell_type": "code",
   "execution_count": null,
   "metadata": {},
   "outputs": [],
   "source": []
  },
  {
   "cell_type": "code",
   "execution_count": null,
   "metadata": {},
   "outputs": [],
   "source": []
  },
  {
   "cell_type": "code",
   "execution_count": null,
   "metadata": {},
   "outputs": [],
   "source": []
  },
  {
   "cell_type": "code",
   "execution_count": null,
   "metadata": {},
   "outputs": [],
   "source": []
  },
  {
   "cell_type": "code",
   "execution_count": null,
   "metadata": {},
   "outputs": [],
   "source": []
  },
  {
   "cell_type": "code",
   "execution_count": null,
   "metadata": {},
   "outputs": [],
   "source": []
  },
  {
   "cell_type": "code",
   "execution_count": null,
   "metadata": {},
   "outputs": [],
   "source": []
  },
  {
   "cell_type": "code",
   "execution_count": null,
   "metadata": {},
   "outputs": [],
   "source": []
  },
  {
   "cell_type": "code",
   "execution_count": null,
   "metadata": {},
   "outputs": [],
   "source": []
  }
 ],
 "metadata": {
  "kernelspec": {
   "display_name": "Python 3",
   "language": "python",
   "name": "python3"
  },
  "language_info": {
   "codemirror_mode": {
    "name": "ipython",
    "version": 3
   },
   "file_extension": ".py",
   "mimetype": "text/x-python",
   "name": "python",
   "nbconvert_exporter": "python",
   "pygments_lexer": "ipython3",
   "version": "3.6.12-final"
  },
  "toc": {
   "base_numbering": 1,
   "nav_menu": {},
   "number_sections": true,
   "sideBar": true,
   "skip_h1_title": false,
   "title_cell": "Table of Contents",
   "title_sidebar": "Contents",
   "toc_cell": false,
   "toc_position": {},
   "toc_section_display": true,
   "toc_window_display": false
  }
 },
 "nbformat": 4,
 "nbformat_minor": 4
}