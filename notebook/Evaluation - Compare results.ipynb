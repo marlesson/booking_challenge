{
 "cells": [
  {
   "source": [
    "## Tunning Analisis"
   ],
   "cell_type": "markdown",
   "metadata": {}
  },
  {
   "cell_type": "code",
   "execution_count": 100,
   "metadata": {},
   "outputs": [],
   "source": [
    "import pandas as pd\n",
    "import json\n",
    "import os\n",
    "from pandas.io.json import json_normalize\n",
    "import numpy as np\n",
    "import scipy\n",
    "pd.options.display.float_format = '{:.3f}'.format\n"
   ]
  },
  {
   "cell_type": "code",
   "execution_count": 101,
   "metadata": {},
   "outputs": [],
   "source": [
    "# output/evaluation/EvaluationTask/results/SupervisedModelTraining____mars_gym_model_b____0ad3fb1a1b_50a71bd4ea\n",
    "path = '/home/marlesson/workspace/booking_challenge/output/evaluation/EvaluationTask/results'\n",
    "PATH_TRAIN = \"/home/marlesson/workspace/booking_challenge/output/models/\""
   ]
  },
  {
   "cell_type": "code",
   "execution_count": 102,
   "metadata": {},
   "outputs": [
    {
     "output_type": "execute_result",
     "data": {
      "text/plain": [
       "['SupervisedModelTraining____mars_gym_model_b____fe94ffde36_9045760f56',\n",
       " 'SupervisedModelTraining____mars_gym_model_b____3c881def21_7e9d55ce5a',\n",
       " 'SupervisedModelTraining____mars_gym_model_b____822330452c_f8e1cce339',\n",
       " 'SupervisedModelTraining____mars_gym_model_b____291ff27fbc_aea0d50b66',\n",
       " 'SupervisedModelTraining____mars_gym_model_b____16a8189b8b_64e80958f1']"
      ]
     },
     "metadata": {},
     "execution_count": 102
    }
   ],
   "source": [
    "paths = []\n",
    "models = []\n",
    "\n",
    "for root, dirs, files in os.walk(path):\n",
    "    if \"/results\" in root and \"Evaluation\" in root:\n",
    "        for d in dirs:\n",
    "            paths.append(os.path.join(root, d))\n",
    "            models.append(d)  # .replace(\"_\"+d.split(\"_\")[-1], \"\")\n",
    "models[:5]"
   ]
  },
  {
   "cell_type": "code",
   "execution_count": 103,
   "metadata": {},
   "outputs": [],
   "source": [
    "\n",
    "results =  dict(zip(models, paths))\n",
    "results\n",
    "def fetch_training_path():\n",
    "    paths = []\n",
    "    models = []\n",
    "    for root, dirs, files in os.walk(PATH_TRAIN):\n",
    "        if \"/results\" in root:\n",
    "            for d in dirs:\n",
    "                paths.append(os.path.join(root, d))\n",
    "                models.append(d)\n",
    "\n",
    "    return dict(zip(models, paths))\n",
    "\n",
    "#results"
   ]
  },
  {
   "cell_type": "code",
   "execution_count": 104,
   "metadata": {},
   "outputs": [],
   "source": [
    "def json2df(paths, file, idx):\n",
    "    data = []\n",
    "    for model, path in paths.items():\n",
    "        file_path = os.path.join(path, file)\n",
    "        try:\n",
    "            with open(file_path) as json_file:\n",
    "                d = json.load(json_file)\n",
    "                d[\"path\"] = path.split(\"/\")[-1]\n",
    "                d[\"model\"] = d[\"path\"].replace(\"_\" + d[\"path\"].split(\"_\")[-1], \"\")\n",
    "\n",
    "                data.append(d)\n",
    "        except:\n",
    "            data.append({\"path\": path.split(\"/\")[-1]})\n",
    "\n",
    "    df = pd.DataFrame.from_dict(json_normalize(data), orient=\"columns\")\n",
    "\n",
    "    df = df.set_index(idx)\n",
    "\n",
    "    return df"
   ]
  },
  {
   "cell_type": "code",
   "execution_count": 105,
   "metadata": {},
   "outputs": [
    {
     "output_type": "execute_result",
     "data": {
      "text/plain": [
       "                                                                                            task_name  \\\n",
       "path                                                                                                    \n",
       "SupervisedModelTraining____mars_gym_model_b____...  SupervisedModelTraining____mars_gym_model_b___...   \n",
       "SupervisedModelTraining____mars_gym_model_b____...  SupervisedModelTraining____mars_gym_model_b___...   \n",
       "SupervisedModelTraining____mars_gym_model_b____...  SupervisedModelTraining____mars_gym_model_b___...   \n",
       "SupervisedModelTraining____mars_gym_model_b____...  SupervisedModelTraining____mars_gym_model_b___...   \n",
       "SupervisedModelTraining____mars_gym_model_b____...  SupervisedModelTraining____mars_gym_model_b___...   \n",
       "SupervisedModelTraining____mars_gym_model_b____...  SupervisedModelTraining____mars_gym_model_b___...   \n",
       "SupervisedModelTraining____mars_gym_model_b____...  SupervisedModelTraining____mars_gym_model_b___...   \n",
       "SupervisedModelTraining____mars_gym_model_b____...  SupervisedModelTraining____mars_gym_model_b___...   \n",
       "SupervisedModelTraining____mars_gym_model_b____...  SupervisedModelTraining____mars_gym_model_b___...   \n",
       "SupervisedModelTraining____mars_gym_model_b____...  SupervisedModelTraining____mars_gym_model_b___...   \n",
       "SupervisedModelTraining____mars_gym_model_b____...  SupervisedModelTraining____mars_gym_model_b___...   \n",
       "SupervisedModelTraining____mars_gym_model_b____...  SupervisedModelTraining____mars_gym_model_b___...   \n",
       "SupervisedModelTraining____mars_gym_model_b____...  SupervisedModelTraining____mars_gym_model_b___...   \n",
       "\n",
       "                                                    count  acc@4  \\\n",
       "path                                                               \n",
       "SupervisedModelTraining____mars_gym_model_b____...  21671   0.37   \n",
       "SupervisedModelTraining____mars_gym_model_b____...  21671   0.00   \n",
       "SupervisedModelTraining____mars_gym_model_b____...  21671   0.50   \n",
       "SupervisedModelTraining____mars_gym_model_b____...  21671   0.53   \n",
       "SupervisedModelTraining____mars_gym_model_b____...  21671   0.00   \n",
       "SupervisedModelTraining____mars_gym_model_b____...  21671   0.01   \n",
       "SupervisedModelTraining____mars_gym_model_b____...  21671   0.52   \n",
       "SupervisedModelTraining____mars_gym_model_b____...  21671   0.50   \n",
       "SupervisedModelTraining____mars_gym_model_b____...  21671   0.00   \n",
       "SupervisedModelTraining____mars_gym_model_b____...  21671   0.00   \n",
       "SupervisedModelTraining____mars_gym_model_b____...  21671   0.52   \n",
       "SupervisedModelTraining____mars_gym_model_b____...  21671   0.48   \n",
       "SupervisedModelTraining____mars_gym_model_b____...  21671   0.00   \n",
       "\n",
       "                                                                                                model  \n",
       "path                                                                                                   \n",
       "SupervisedModelTraining____mars_gym_model_b____...  SupervisedModelTraining____mars_gym_model_b___...  \n",
       "SupervisedModelTraining____mars_gym_model_b____...  SupervisedModelTraining____mars_gym_model_b___...  \n",
       "SupervisedModelTraining____mars_gym_model_b____...  SupervisedModelTraining____mars_gym_model_b___...  \n",
       "SupervisedModelTraining____mars_gym_model_b____...  SupervisedModelTraining____mars_gym_model_b___...  \n",
       "SupervisedModelTraining____mars_gym_model_b____...  SupervisedModelTraining____mars_gym_model_b___...  \n",
       "SupervisedModelTraining____mars_gym_model_b____...  SupervisedModelTraining____mars_gym_model_b___...  \n",
       "SupervisedModelTraining____mars_gym_model_b____...  SupervisedModelTraining____mars_gym_model_b___...  \n",
       "SupervisedModelTraining____mars_gym_model_b____...  SupervisedModelTraining____mars_gym_model_b___...  \n",
       "SupervisedModelTraining____mars_gym_model_b____...  SupervisedModelTraining____mars_gym_model_b___...  \n",
       "SupervisedModelTraining____mars_gym_model_b____...  SupervisedModelTraining____mars_gym_model_b___...  \n",
       "SupervisedModelTraining____mars_gym_model_b____...  SupervisedModelTraining____mars_gym_model_b___...  \n",
       "SupervisedModelTraining____mars_gym_model_b____...  SupervisedModelTraining____mars_gym_model_b___...  \n",
       "SupervisedModelTraining____mars_gym_model_b____...  SupervisedModelTraining____mars_gym_model_b___...  "
      ],
      "text/html": "<div>\n<style scoped>\n    .dataframe tbody tr th:only-of-type {\n        vertical-align: middle;\n    }\n\n    .dataframe tbody tr th {\n        vertical-align: top;\n    }\n\n    .dataframe thead th {\n        text-align: right;\n    }\n</style>\n<table border=\"1\" class=\"dataframe\">\n  <thead>\n    <tr style=\"text-align: right;\">\n      <th></th>\n      <th>task_name</th>\n      <th>count</th>\n      <th>acc@4</th>\n      <th>model</th>\n    </tr>\n    <tr>\n      <th>path</th>\n      <th></th>\n      <th></th>\n      <th></th>\n      <th></th>\n    </tr>\n  </thead>\n  <tbody>\n    <tr>\n      <th>SupervisedModelTraining____mars_gym_model_b____fe94ffde36_9045760f56</th>\n      <td>SupervisedModelTraining____mars_gym_model_b___...</td>\n      <td>21671</td>\n      <td>0.37</td>\n      <td>SupervisedModelTraining____mars_gym_model_b___...</td>\n    </tr>\n    <tr>\n      <th>SupervisedModelTraining____mars_gym_model_b____3c881def21_7e9d55ce5a</th>\n      <td>SupervisedModelTraining____mars_gym_model_b___...</td>\n      <td>21671</td>\n      <td>0.00</td>\n      <td>SupervisedModelTraining____mars_gym_model_b___...</td>\n    </tr>\n    <tr>\n      <th>SupervisedModelTraining____mars_gym_model_b____822330452c_f8e1cce339</th>\n      <td>SupervisedModelTraining____mars_gym_model_b___...</td>\n      <td>21671</td>\n      <td>0.50</td>\n      <td>SupervisedModelTraining____mars_gym_model_b___...</td>\n    </tr>\n    <tr>\n      <th>SupervisedModelTraining____mars_gym_model_b____291ff27fbc_aea0d50b66</th>\n      <td>SupervisedModelTraining____mars_gym_model_b___...</td>\n      <td>21671</td>\n      <td>0.53</td>\n      <td>SupervisedModelTraining____mars_gym_model_b___...</td>\n    </tr>\n    <tr>\n      <th>SupervisedModelTraining____mars_gym_model_b____16a8189b8b_64e80958f1</th>\n      <td>SupervisedModelTraining____mars_gym_model_b___...</td>\n      <td>21671</td>\n      <td>0.00</td>\n      <td>SupervisedModelTraining____mars_gym_model_b___...</td>\n    </tr>\n    <tr>\n      <th>SupervisedModelTraining____mars_gym_model_b____0c49038918_6c3359aba3</th>\n      <td>SupervisedModelTraining____mars_gym_model_b___...</td>\n      <td>21671</td>\n      <td>0.01</td>\n      <td>SupervisedModelTraining____mars_gym_model_b___...</td>\n    </tr>\n    <tr>\n      <th>SupervisedModelTraining____mars_gym_model_b____5c19dd615c_d7f0e12f42</th>\n      <td>SupervisedModelTraining____mars_gym_model_b___...</td>\n      <td>21671</td>\n      <td>0.52</td>\n      <td>SupervisedModelTraining____mars_gym_model_b___...</td>\n    </tr>\n    <tr>\n      <th>SupervisedModelTraining____mars_gym_model_b____37ce2fdd57_3e17239d2d</th>\n      <td>SupervisedModelTraining____mars_gym_model_b___...</td>\n      <td>21671</td>\n      <td>0.50</td>\n      <td>SupervisedModelTraining____mars_gym_model_b___...</td>\n    </tr>\n    <tr>\n      <th>SupervisedModelTraining____mars_gym_model_b____d6ea2403f2_9564bc4d03</th>\n      <td>SupervisedModelTraining____mars_gym_model_b___...</td>\n      <td>21671</td>\n      <td>0.00</td>\n      <td>SupervisedModelTraining____mars_gym_model_b___...</td>\n    </tr>\n    <tr>\n      <th>SupervisedModelTraining____mars_gym_model_b____88fed69335_2ebffb3b0b</th>\n      <td>SupervisedModelTraining____mars_gym_model_b___...</td>\n      <td>21671</td>\n      <td>0.00</td>\n      <td>SupervisedModelTraining____mars_gym_model_b___...</td>\n    </tr>\n    <tr>\n      <th>SupervisedModelTraining____mars_gym_model_b____0ad3fb1a1b_50a71bd4ea</th>\n      <td>SupervisedModelTraining____mars_gym_model_b___...</td>\n      <td>21671</td>\n      <td>0.52</td>\n      <td>SupervisedModelTraining____mars_gym_model_b___...</td>\n    </tr>\n    <tr>\n      <th>SupervisedModelTraining____mars_gym_model_b____57e987a1ff_68fa998dbd</th>\n      <td>SupervisedModelTraining____mars_gym_model_b___...</td>\n      <td>21671</td>\n      <td>0.48</td>\n      <td>SupervisedModelTraining____mars_gym_model_b___...</td>\n    </tr>\n    <tr>\n      <th>SupervisedModelTraining____mars_gym_model_b____6b5c4e0f46_de74242baa</th>\n      <td>SupervisedModelTraining____mars_gym_model_b___...</td>\n      <td>21671</td>\n      <td>0.00</td>\n      <td>SupervisedModelTraining____mars_gym_model_b___...</td>\n    </tr>\n  </tbody>\n</table>\n</div>"
     },
     "metadata": {},
     "execution_count": 105
    }
   ],
   "source": [
    "metrics = json2df(results, \"metric.json\", \"path\")\n",
    "metrics"
   ]
  },
  {
   "cell_type": "code",
   "execution_count": 106,
   "metadata": {},
   "outputs": [
    {
     "output_type": "execute_result",
     "data": {
      "text/plain": [
       "(13, 4)"
      ]
     },
     "metadata": {},
     "execution_count": 106
    }
   ],
   "source": [
    "metrics.shape"
   ]
  },
  {
   "cell_type": "code",
   "execution_count": 107,
   "metadata": {},
   "outputs": [
    {
     "output_type": "execute_result",
     "data": {
      "text/plain": [
       "                                                             project  \\\n",
       "path                                                                   \n",
       "SupervisedModelTraining____mars_gym_model_b____...  config.conf1_rnn   \n",
       "SupervisedModelTraining____mars_gym_model_b____...  config.conf1_rnn   \n",
       "SupervisedModelTraining____mars_gym_model_b____...  config.conf1_rnn   \n",
       "SupervisedModelTraining____mars_gym_model_b____...  config.conf1_rnn   \n",
       "SupervisedModelTraining____mars_gym_model_b____...  config.conf1_rnn   \n",
       "\n",
       "                                                    sample_size  \\\n",
       "path                                                              \n",
       "SupervisedModelTraining____mars_gym_model_b____...           -1   \n",
       "SupervisedModelTraining____mars_gym_model_b____...           -1   \n",
       "SupervisedModelTraining____mars_gym_model_b____...           -1   \n",
       "SupervisedModelTraining____mars_gym_model_b____...           -1   \n",
       "SupervisedModelTraining____mars_gym_model_b____...           -1   \n",
       "\n",
       "                                                    minimum_interactions  \\\n",
       "path                                                                       \n",
       "SupervisedModelTraining____mars_gym_model_b____...                     5   \n",
       "SupervisedModelTraining____mars_gym_model_b____...                     5   \n",
       "SupervisedModelTraining____mars_gym_model_b____...                     5   \n",
       "SupervisedModelTraining____mars_gym_model_b____...                     5   \n",
       "SupervisedModelTraining____mars_gym_model_b____...                     5   \n",
       "\n",
       "                                                    session_test_size  \\\n",
       "path                                                                    \n",
       "SupervisedModelTraining____mars_gym_model_b____...               0.10   \n",
       "SupervisedModelTraining____mars_gym_model_b____...               0.10   \n",
       "SupervisedModelTraining____mars_gym_model_b____...               0.10   \n",
       "SupervisedModelTraining____mars_gym_model_b____...               0.10   \n",
       "SupervisedModelTraining____mars_gym_model_b____...               0.10   \n",
       "\n",
       "                                                    test_size  \\\n",
       "path                                                            \n",
       "SupervisedModelTraining____mars_gym_model_b____...       0.00   \n",
       "SupervisedModelTraining____mars_gym_model_b____...       0.00   \n",
       "SupervisedModelTraining____mars_gym_model_b____...       0.00   \n",
       "SupervisedModelTraining____mars_gym_model_b____...       0.00   \n",
       "SupervisedModelTraining____mars_gym_model_b____...       0.00   \n",
       "\n",
       "                                                   dataset_split_method  \\\n",
       "path                                                                      \n",
       "SupervisedModelTraining____mars_gym_model_b____...                 time   \n",
       "SupervisedModelTraining____mars_gym_model_b____...                 time   \n",
       "SupervisedModelTraining____mars_gym_model_b____...                 time   \n",
       "SupervisedModelTraining____mars_gym_model_b____...                 time   \n",
       "SupervisedModelTraining____mars_gym_model_b____...                 time   \n",
       "\n",
       "                                                   test_split_type  val_size  \\\n",
       "path                                                                           \n",
       "SupervisedModelTraining____mars_gym_model_b____...          random      0.10   \n",
       "SupervisedModelTraining____mars_gym_model_b____...          random      0.10   \n",
       "SupervisedModelTraining____mars_gym_model_b____...          random      0.10   \n",
       "SupervisedModelTraining____mars_gym_model_b____...          random      0.10   \n",
       "SupervisedModelTraining____mars_gym_model_b____...          random      0.10   \n",
       "\n",
       "                                                    n_splits  split_index  \\\n",
       "path                                                                        \n",
       "SupervisedModelTraining____mars_gym_model_b____...         5            0   \n",
       "SupervisedModelTraining____mars_gym_model_b____...         5            0   \n",
       "SupervisedModelTraining____mars_gym_model_b____...         5            0   \n",
       "SupervisedModelTraining____mars_gym_model_b____...         5            0   \n",
       "SupervisedModelTraining____mars_gym_model_b____...         5            0   \n",
       "\n",
       "                                                    ...  \\\n",
       "path                                                ...   \n",
       "SupervisedModelTraining____mars_gym_model_b____...  ...   \n",
       "SupervisedModelTraining____mars_gym_model_b____...  ...   \n",
       "SupervisedModelTraining____mars_gym_model_b____...  ...   \n",
       "SupervisedModelTraining____mars_gym_model_b____...  ...   \n",
       "SupervisedModelTraining____mars_gym_model_b____...  ...   \n",
       "\n",
       "                                                   recommender_extra_params.hidden_size  \\\n",
       "path                                                                                      \n",
       "SupervisedModelTraining____mars_gym_model_b____...                                   10   \n",
       "SupervisedModelTraining____mars_gym_model_b____...                                  300   \n",
       "SupervisedModelTraining____mars_gym_model_b____...                                  500   \n",
       "SupervisedModelTraining____mars_gym_model_b____...                                   10   \n",
       "SupervisedModelTraining____mars_gym_model_b____...                                   10   \n",
       "\n",
       "                                                   recommender_extra_params.n_layers  \\\n",
       "path                                                                                   \n",
       "SupervisedModelTraining____mars_gym_model_b____...                                 1   \n",
       "SupervisedModelTraining____mars_gym_model_b____...                                 2   \n",
       "SupervisedModelTraining____mars_gym_model_b____...                                 2   \n",
       "SupervisedModelTraining____mars_gym_model_b____...                                 2   \n",
       "SupervisedModelTraining____mars_gym_model_b____...                                 4   \n",
       "\n",
       "                                                    recommender_extra_params.dropout  \\\n",
       "path                                                                                   \n",
       "SupervisedModelTraining____mars_gym_model_b____...                              0.60   \n",
       "SupervisedModelTraining____mars_gym_model_b____...                              0.30   \n",
       "SupervisedModelTraining____mars_gym_model_b____...                              0.00   \n",
       "SupervisedModelTraining____mars_gym_model_b____...                              0.00   \n",
       "SupervisedModelTraining____mars_gym_model_b____...                              0.60   \n",
       "\n",
       "                                                    recommender_extra_params.from_index_mapping  \\\n",
       "path                                                                                              \n",
       "SupervisedModelTraining____mars_gym_model_b____...                                        False   \n",
       "SupervisedModelTraining____mars_gym_model_b____...                                        False   \n",
       "SupervisedModelTraining____mars_gym_model_b____...                                        False   \n",
       "SupervisedModelTraining____mars_gym_model_b____...                                        False   \n",
       "SupervisedModelTraining____mars_gym_model_b____...                                        False   \n",
       "\n",
       "                                                   recommender_extra_params.path_item_embedding  \\\n",
       "path                                                                                              \n",
       "SupervisedModelTraining____mars_gym_model_b____...                                        False   \n",
       "SupervisedModelTraining____mars_gym_model_b____...                                        False   \n",
       "SupervisedModelTraining____mars_gym_model_b____...                                        False   \n",
       "SupervisedModelTraining____mars_gym_model_b____...                                        False   \n",
       "SupervisedModelTraining____mars_gym_model_b____...                                        False   \n",
       "\n",
       "                                                   recommender_extra_params.freeze_embedding  \\\n",
       "path                                                                                           \n",
       "SupervisedModelTraining____mars_gym_model_b____...                                     False   \n",
       "SupervisedModelTraining____mars_gym_model_b____...                                     False   \n",
       "SupervisedModelTraining____mars_gym_model_b____...                                     False   \n",
       "SupervisedModelTraining____mars_gym_model_b____...                                     False   \n",
       "SupervisedModelTraining____mars_gym_model_b____...                                     False   \n",
       "\n",
       "                                                    optimizer_params.weight_decay  \\\n",
       "path                                                                                \n",
       "SupervisedModelTraining____mars_gym_model_b____...                           0.00   \n",
       "SupervisedModelTraining____mars_gym_model_b____...                           0.01   \n",
       "SupervisedModelTraining____mars_gym_model_b____...                           0.00   \n",
       "SupervisedModelTraining____mars_gym_model_b____...                           0.00   \n",
       "SupervisedModelTraining____mars_gym_model_b____...                           0.01   \n",
       "\n",
       "                                                   loss_function_params.alpha  \\\n",
       "path                                                                            \n",
       "SupervisedModelTraining____mars_gym_model_b____...                          1   \n",
       "SupervisedModelTraining____mars_gym_model_b____...                          1   \n",
       "SupervisedModelTraining____mars_gym_model_b____...                          1   \n",
       "SupervisedModelTraining____mars_gym_model_b____...                          1   \n",
       "SupervisedModelTraining____mars_gym_model_b____...                          1   \n",
       "\n",
       "                                                   loss_function_params.gamma  \\\n",
       "path                                                                            \n",
       "SupervisedModelTraining____mars_gym_model_b____...                          3   \n",
       "SupervisedModelTraining____mars_gym_model_b____...                          3   \n",
       "SupervisedModelTraining____mars_gym_model_b____...                          3   \n",
       "SupervisedModelTraining____mars_gym_model_b____...                          3   \n",
       "SupervisedModelTraining____mars_gym_model_b____...                          3   \n",
       "\n",
       "                                                    loss_function_params.c  \n",
       "path                                                                        \n",
       "SupervisedModelTraining____mars_gym_model_b____...                    1.00  \n",
       "SupervisedModelTraining____mars_gym_model_b____...                    0.90  \n",
       "SupervisedModelTraining____mars_gym_model_b____...                    0.00  \n",
       "SupervisedModelTraining____mars_gym_model_b____...                    0.00  \n",
       "SupervisedModelTraining____mars_gym_model_b____...                    0.00  \n",
       "\n",
       "[5 rows x 56 columns]"
      ],
      "text/html": "<div>\n<style scoped>\n    .dataframe tbody tr th:only-of-type {\n        vertical-align: middle;\n    }\n\n    .dataframe tbody tr th {\n        vertical-align: top;\n    }\n\n    .dataframe thead th {\n        text-align: right;\n    }\n</style>\n<table border=\"1\" class=\"dataframe\">\n  <thead>\n    <tr style=\"text-align: right;\">\n      <th></th>\n      <th>project</th>\n      <th>sample_size</th>\n      <th>minimum_interactions</th>\n      <th>session_test_size</th>\n      <th>test_size</th>\n      <th>dataset_split_method</th>\n      <th>test_split_type</th>\n      <th>val_size</th>\n      <th>n_splits</th>\n      <th>split_index</th>\n      <th>...</th>\n      <th>recommender_extra_params.hidden_size</th>\n      <th>recommender_extra_params.n_layers</th>\n      <th>recommender_extra_params.dropout</th>\n      <th>recommender_extra_params.from_index_mapping</th>\n      <th>recommender_extra_params.path_item_embedding</th>\n      <th>recommender_extra_params.freeze_embedding</th>\n      <th>optimizer_params.weight_decay</th>\n      <th>loss_function_params.alpha</th>\n      <th>loss_function_params.gamma</th>\n      <th>loss_function_params.c</th>\n    </tr>\n    <tr>\n      <th>path</th>\n      <th></th>\n      <th></th>\n      <th></th>\n      <th></th>\n      <th></th>\n      <th></th>\n      <th></th>\n      <th></th>\n      <th></th>\n      <th></th>\n      <th></th>\n      <th></th>\n      <th></th>\n      <th></th>\n      <th></th>\n      <th></th>\n      <th></th>\n      <th></th>\n      <th></th>\n      <th></th>\n      <th></th>\n    </tr>\n  </thead>\n  <tbody>\n    <tr>\n      <th>SupervisedModelTraining____mars_gym_model_b____a57b2a2e08</th>\n      <td>config.conf1_rnn</td>\n      <td>-1</td>\n      <td>5</td>\n      <td>0.10</td>\n      <td>0.00</td>\n      <td>time</td>\n      <td>random</td>\n      <td>0.10</td>\n      <td>5</td>\n      <td>0</td>\n      <td>...</td>\n      <td>10</td>\n      <td>1</td>\n      <td>0.60</td>\n      <td>False</td>\n      <td>False</td>\n      <td>False</td>\n      <td>0.00</td>\n      <td>1</td>\n      <td>3</td>\n      <td>1.00</td>\n    </tr>\n    <tr>\n      <th>SupervisedModelTraining____mars_gym_model_b____5c19dd615c</th>\n      <td>config.conf1_rnn</td>\n      <td>-1</td>\n      <td>5</td>\n      <td>0.10</td>\n      <td>0.00</td>\n      <td>time</td>\n      <td>random</td>\n      <td>0.10</td>\n      <td>5</td>\n      <td>0</td>\n      <td>...</td>\n      <td>300</td>\n      <td>2</td>\n      <td>0.30</td>\n      <td>False</td>\n      <td>False</td>\n      <td>False</td>\n      <td>0.01</td>\n      <td>1</td>\n      <td>3</td>\n      <td>0.90</td>\n    </tr>\n    <tr>\n      <th>SupervisedModelTraining____mars_gym_model_b____0c49038918</th>\n      <td>config.conf1_rnn</td>\n      <td>-1</td>\n      <td>5</td>\n      <td>0.10</td>\n      <td>0.00</td>\n      <td>time</td>\n      <td>random</td>\n      <td>0.10</td>\n      <td>5</td>\n      <td>0</td>\n      <td>...</td>\n      <td>500</td>\n      <td>2</td>\n      <td>0.00</td>\n      <td>False</td>\n      <td>False</td>\n      <td>False</td>\n      <td>0.00</td>\n      <td>1</td>\n      <td>3</td>\n      <td>0.00</td>\n    </tr>\n    <tr>\n      <th>SupervisedModelTraining____mars_gym_model_b____88fed69335</th>\n      <td>config.conf1_rnn</td>\n      <td>-1</td>\n      <td>5</td>\n      <td>0.10</td>\n      <td>0.00</td>\n      <td>time</td>\n      <td>random</td>\n      <td>0.10</td>\n      <td>5</td>\n      <td>0</td>\n      <td>...</td>\n      <td>10</td>\n      <td>2</td>\n      <td>0.00</td>\n      <td>False</td>\n      <td>False</td>\n      <td>False</td>\n      <td>0.00</td>\n      <td>1</td>\n      <td>3</td>\n      <td>0.00</td>\n    </tr>\n    <tr>\n      <th>SupervisedModelTraining____mars_gym_model_b____d6ea2403f2</th>\n      <td>config.conf1_rnn</td>\n      <td>-1</td>\n      <td>5</td>\n      <td>0.10</td>\n      <td>0.00</td>\n      <td>time</td>\n      <td>random</td>\n      <td>0.10</td>\n      <td>5</td>\n      <td>0</td>\n      <td>...</td>\n      <td>10</td>\n      <td>4</td>\n      <td>0.60</td>\n      <td>False</td>\n      <td>False</td>\n      <td>False</td>\n      <td>0.01</td>\n      <td>1</td>\n      <td>3</td>\n      <td>0.00</td>\n    </tr>\n  </tbody>\n</table>\n<p>5 rows × 56 columns</p>\n</div>"
     },
     "metadata": {},
     "execution_count": 107
    }
   ],
   "source": [
    "params = json2df(fetch_training_path(), \"params.json\", \"path\")\n",
    "params.head()"
   ]
  },
  {
   "cell_type": "code",
   "execution_count": 108,
   "metadata": {},
   "outputs": [
    {
     "output_type": "execute_result",
     "data": {
      "text/plain": [
       "project                                                                                     config.conf1_rnn\n",
       "sample_size                                                                                               -1\n",
       "minimum_interactions                                                                                       5\n",
       "session_test_size                                                                                       0.10\n",
       "test_size                                                                                               0.00\n",
       "dataset_split_method                                                                                    time\n",
       "test_split_type                                                                                       random\n",
       "val_size                                                                                                0.10\n",
       "n_splits                                                                                                   5\n",
       "split_index                                                                                                0\n",
       "sampling_strategy                                                                                       none\n",
       "balance_fields                                                                                            []\n",
       "use_sampling_in_validation                                                                             False\n",
       "seed                                                                                                      42\n",
       "observation                                                                                                 \n",
       "load_index_mapping_path                                                                                 None\n",
       "negative_proportion                                                                                     0.00\n",
       "recommender_module_class                                                                     model.NARMModel\n",
       "device                                                                                                  cuda\n",
       "batch_size                                                                                                64\n",
       "epochs                                                                                                   200\n",
       "optimizer                                                                                               adam\n",
       "learning_rate                                                                                           0.00\n",
       "loss_function_class                                                                           loss.FocalLoss\n",
       "loss_function                                                                                             ce\n",
       "gradient_norm_clipping                                                                                  0.00\n",
       "gradient_norm_clipping_type                                                                                2\n",
       "early_stopping_patience                                                                                    5\n",
       "early_stopping_min_delta                                                                                0.00\n",
       "monitor_metric                                                                                      val_loss\n",
       "monitor_mode                                                                                             min\n",
       "generator_workers                                                                                          0\n",
       "pin_memory                                                                                             False\n",
       "run_evaluate                                                                                           False\n",
       "run_evaluate_extra_params                                         --only-new-interactions --only-exist-items\n",
       "sample_size_eval                                                                                        None\n",
       "metrics                                                                        [loss, top_k_acc, top_k_acc2]\n",
       "bandit_policy_class                                                        mars_gym.model.bandit.ModelPolicy\n",
       "model                                                         SupervisedModelTraining____mars_gym_model_b___\n",
       "data_frames_preparation_extra_params.test_split                                                         0.10\n",
       "data_frames_preparation_extra_params.window_trip                                                          10\n",
       "data_frames_preparation_extra_params.column_stratification                                           user_id\n",
       "data_frames_preparation_extra_params.filter_last_step                                                   True\n",
       "data_frames_preparation_extra_params.balance_sample_step                                              200000\n",
       "data_frames_preparation_extra_params.filter_trip_size                                                      0\n",
       "recommender_extra_params.n_factors                                                                       200\n",
       "recommender_extra_params.hidden_size                                                                      10\n",
       "recommender_extra_params.n_layers                                                                          1\n",
       "recommender_extra_params.dropout                                                                        0.60\n",
       "recommender_extra_params.from_index_mapping                                                            False\n",
       "recommender_extra_params.path_item_embedding                                                           False\n",
       "recommender_extra_params.freeze_embedding                                                              False\n",
       "optimizer_params.weight_decay                                                                           0.00\n",
       "loss_function_params.alpha                                                                                 1\n",
       "loss_function_params.gamma                                                                                 3\n",
       "loss_function_params.c                                                                                  1.00\n",
       "Name: SupervisedModelTraining____mars_gym_model_b____a57b2a2e08, dtype: object"
      ]
     },
     "metadata": {},
     "execution_count": 108
    }
   ],
   "source": [
    "params.iloc[0]"
   ]
  },
  {
   "cell_type": "code",
   "execution_count": 109,
   "metadata": {},
   "outputs": [
    {
     "output_type": "execute_result",
     "data": {
      "text/plain": [
       "(13, 56)"
      ]
     },
     "metadata": {},
     "execution_count": 109
    }
   ],
   "source": [
    "params.shape"
   ]
  },
  {
   "cell_type": "code",
   "execution_count": 110,
   "metadata": {},
   "outputs": [
    {
     "output_type": "execute_result",
     "data": {
      "text/plain": [
       "                  5   \n",
       "SupervisedModelTraining____mars_gym_model_b____...                     5   \n",
       "SupervisedModelTraining____mars_gym_model_b____...                     5   \n",
       "SupervisedModelTraining____mars_gym_model_b____...                     5   \n",
       "\n",
       "                                                    session_test_size  \\\n",
       "path                                                                    \n",
       "SupervisedModelTraining____mars_gym_model_b____...               0.10   \n",
       "SupervisedModelTraining____mars_gym_model_b____...               0.10   \n",
       "SupervisedModelTraining____mars_gym_model_b____...               0.10   \n",
       "SupervisedModelTraining____mars_gym_model_b____...               0.10   \n",
       "SupervisedModelTraining____mars_gym_model_b____...               0.10   \n",
       "SupervisedModelTraining____mars_gym_model_b____...               0.10   \n",
       "SupervisedModelTraining____mars_gym_model_b____...               0.10   \n",
       "SupervisedModelTraining____mars_gym_model_b____...               0.10   \n",
       "SupervisedModelTraining____mars_gym_model_b____...               0.10   \n",
       "SupervisedModelTraining____mars_gym_model_b____...               0.10   \n",
       "SupervisedModelTraining____mars_gym_model_b____...               0.10   \n",
       "SupervisedModelTraining____mars_gym_model_b____...               0.10   \n",
       "SupervisedModelTraining____mars_gym_model_b____...               0.10   \n",
       "\n",
       "                                                    test_size  \\\n",
       "path                                                            \n",
       "SupervisedModelTraining____mars_gym_model_b____...       0.00   \n",
       "SupervisedModelTraining____mars_gym_model_b____...       0.00   \n",
       "SupervisedModelTraining____mars_gym_model_b____...       0.00   \n",
       "SupervisedModelTraining____mars_gym_model_b____...       0.00   \n",
       "SupervisedModelTraining____mars_gym_model_b____...       0.00   \n",
       "SupervisedModelTraining____mars_gym_model_b____...       0.00   \n",
       "SupervisedModelTraining____mars_gym_model_b____...       0.00   \n",
       "SupervisedModelTraining____mars_gym_model_b____...       0.00   \n",
       "SupervisedModelTraining____mars_gym_model_b____...       0.00   \n",
       "SupervisedModelTraining____mars_gym_model_b____...       0.00   \n",
       "SupervisedModelTraining____mars_gym_model_b____...       0.00   \n",
       "SupervisedModelTraining____mars_gym_model_b____...       0.00   \n",
       "SupervisedModelTraining____mars_gym_model_b____...       0.00   \n",
       "\n",
       "                                                   dataset_split_method  \\\n",
       "path                                                                      \n",
       "SupervisedModelTraining____mars_gym_model_b____...                 time   \n",
       "SupervisedModelTraining____mars_gym_model_b____...                 time   \n",
       "SupervisedModelTraining____mars_gym_model_b____...                 time   \n",
       "SupervisedModelTraining____mars_gym_model_b____...                 time   \n",
       "SupervisedModelTraining____mars_gym_model_b____...                 time   \n",
       "SupervisedModelTraining____mars_gym_model_b____...                 time   \n",
       "SupervisedModelTraining____mars_gym_model_b____...                 time   \n",
       "SupervisedModelTraining____mars_gym_model_b____...                 time   \n",
       "SupervisedModelTraining____mars_gym_model_b____...                 time   \n",
       "SupervisedModelTraining____mars_gym_model_b____...                 time   \n",
       "SupervisedModelTraining____mars_gym_model_b____...                 time   \n",
       "SupervisedModelTraining____mars_gym_model_b____...                 time   \n",
       "SupervisedModelTraining____mars_gym_model_b____...                 time   \n",
       "\n",
       "                                                   test_split_type  val_size  \\\n",
       "path                                                                           \n",
       "SupervisedModelTraining____mars_gym_model_b____...          random      0.10   \n",
       "SupervisedModelTraining____mars_gym_model_b____...          random      0.10   \n",
       "SupervisedModelTraining____mars_gym_model_b____...          random      0.10   \n",
       "SupervisedModelTraining____mars_gym_model_b____...          random      0.10   \n",
       "SupervisedModelTraining____mars_gym_model_b____...          random      0.10   \n",
       "SupervisedModelTraining____mars_gym_model_b____...          random      0.10   \n",
       "SupervisedModelTraining____mars_gym_model_b____...          random      0.10   \n",
       "SupervisedModelTraining____mars_gym_model_b____...          random      0.10   \n",
       "SupervisedModelTraining____mars_gym_model_b____...          random      0.10   \n",
       "SupervisedModelTraining____mars_gym_model_b____...          random      0.10   \n",
       "SupervisedModelTraining____mars_gym_model_b____...          random      0.10   \n",
       "SupervisedModelTraining____mars_gym_model_b____...          random      0.10   \n",
       "SupervisedModelTraining____mars_gym_model_b____...          random      0.10   \n",
       "\n",
       "                                                    n_splits  split_index  \\\n",
       "path                                                                        \n",
       "SupervisedModelTraining____mars_gym_model_b____...         5            0   \n",
       "SupervisedModelTraining____mars_gym_model_b____...         5            0   \n",
       "SupervisedModelTraining____mars_gym_model_b____...         5            0   \n",
       "SupervisedModelTraining____mars_gym_model_b____...         5            0   \n",
       "SupervisedModelTraining____mars_gym_model_b____...         5            0   \n",
       "SupervisedModelTraining____mars_gym_model_b____...         5            0   \n",
       "SupervisedModelTraining____mars_gym_model_b____...         5            0   \n",
       "SupervisedModelTraining____mars_gym_model_b____...         5            0   \n",
       "SupervisedModelTraining____mars_gym_model_b____...         5            0   \n",
       "SupervisedModelTraining____mars_gym_model_b____...         5            0   \n",
       "SupervisedModelTraining____mars_gym_model_b____...         5            0   \n",
       "SupervisedModelTraining____mars_gym_model_b____...         5            0   \n",
       "SupervisedModelTraining____mars_gym_model_b____...         5            0   \n",
       "\n",
       "                                                    ...  \\\n",
       "path                                                ...   \n",
       "SupervisedModelTraining____mars_gym_model_b____...  ...   \n",
       "SupervisedModelTraining____mars_gym_model_b____...  ...   \n",
       "SupervisedModelTraining____mars_gym_model_b____...  ...   \n",
       "SupervisedModelTraining____mars_gym_model_b____...  ...   \n",
       "SupervisedModelTraining____mars_gym_model_b____...  ...   \n",
       "SupervisedModelTraining____mars_gym_model_b____...  ...   \n",
       "SupervisedModelTraining____mars_gym_model_b____...  ...   \n",
       "SupervisedModelTraining____mars_gym_model_b____...  ...   \n",
       "SupervisedModelTraining____mars_gym_model_b____...  ...   \n",
       "SupervisedModelTraining____mars_gym_model_b____...  ...   \n",
       "SupervisedModelTraining____mars_gym_model_b____...  ...   \n",
       "SupervisedModelTraining____mars_gym_model_b____...  ...   \n",
       "SupervisedModelTraining____mars_gym_model_b____...  ...   \n",
       "\n",
       "                                                   recommender_extra_params.hidden_size  \\\n",
       "path                                                                                      \n",
       "SupervisedModelTraining____mars_gym_model_b____...                                   10   \n",
       "SupervisedModelTraining____mars_gym_model_b____...                                  300   \n",
       "SupervisedModelTraining____mars_gym_model_b____...                                  500   \n",
       "SupervisedModelTraining____mars_gym_model_b____...                                   10   \n",
       "SupervisedModelTraining____mars_gym_model_b____...                                   10   \n",
       "SupervisedModelTraining____mars_gym_model_b____...                                   10   \n",
       "SupervisedModelTraining____mars_gym_model_b____...                                  500   \n",
       "SupervisedModelTraining____mars_gym_model_b____...                                  100   \n",
       "SupervisedModelTraining____mars_gym_model_b____...                                  100   \n",
       "SupervisedModelTraining____mars_gym_model_b____...                                   10   \n",
       "SupervisedModelTraining____mars_gym_model_b____...                                  300   \n",
       "SupervisedModelTraining____mars_gym_model_b____...                                   10   \n",
       "SupervisedModelTraining____mars_gym_model_b____...                                  300   \n",
       "\n",
       "                                                   recommender_extra_params.n_layers  \\\n",
       "path                                                                                   \n",
       "SupervisedModelTraining____mars_gym_model_b____...                                 1   \n",
       "SupervisedModelTraining____mars_gym_model_b____...                                 2   \n",
       "SupervisedModelTraining____mars_gym_model_b____...                                 2   \n",
       "SupervisedModelTraining____mars_gym_model_b____...                                 2   \n",
       "SupervisedModelTraining____mars_gym_model_b____...                                 4   \n",
       "SupervisedModelTraining____mars_gym_model_b____...                                 2   \n",
       "SupervisedModelTraining____mars_gym_model_b____...                                 1   \n",
       "SupervisedModelTraining____mars_gym_model_b____...                                 2   \n",
       "SupervisedModelTraining____mars_gym_model_b____...                                 2   \n",
       "SupervisedModelTraining____mars_gym_model_b____...                                 2   \n",
       "SupervisedModelTraining____mars_gym_model_b____...                                 2   \n",
       "SupervisedModelTraining____mars_gym_model_b____...                                 4   \n",
       "SupervisedModelTraining____mars_gym_model_b____...                                 1   \n",
       "\n",
       "                                                    recommender_extra_params.dropout  \\\n",
       "path                                                                                   \n",
       "SupervisedModelTraining____mars_gym_model_b____...                              0.60   \n",
       "SupervisedModelTraining____mars_gym_model_b____...                              0.30   \n",
       "SupervisedModelTraining____mars_gym_model_b____...                              0.00   \n",
       "SupervisedModelTraining____mars_gym_model_b____...                              0.00   \n",
       "SupervisedModelTraining____mars_gym_model_b____...                              0.60   \n",
       "SupervisedModelTraining____mars_gym_model_b____...                              0.60   \n",
       "SupervisedModelTraining____mars_gym_model_b____...                              0.20   \n",
       "SupervisedModelTraining____mars_gym_model_b____...                              0.20   \n",
       "SupervisedModelTraining____mars_gym_model_b____...                              0.20   \n",
       "SupervisedModelTraining____mars_gym_model_b____...                              0.20   \n",
       "SupervisedModelTraining____mars_gym_model_b____...                              0.30   \n",
       "SupervisedModelTraining____mars_gym_model_b____...                              0.60   \n",
       "SupervisedModelTraining____mars_gym_model_b____...                              0.60   \n",
       "\n",
       "                                                    recommender_extra_params.from_index_mapping  \\\n",
       "path                                                                                              \n",
       "SupervisedModelTraining____mars_gym_model_b____...                                        False   \n",
       "SupervisedModelTraining____mars_gym_model_b____...                                        False   \n",
       "SupervisedModelTraining____mars_gym_model_b____...                                        False   \n",
       "SupervisedModelTraining____mars_gym_model_b____...                                        False   \n",
       "SupervisedModelTraining____mars_gym_model_b____...                                        False   \n",
       "SupervisedModelTraining____mars_gym_model_b____...                                        False   \n",
       "SupervisedModelTraining____mars_gym_model_b____...                                        False   \n",
       "SupervisedModelTraining____mars_gym_model_b____...                                        False   \n",
       "SupervisedModelTraining____mars_gym_model_b____...                                        False   \n",
       "SupervisedModelTraining____mars_gym_model_b____...                                        False   \n",
       "SupervisedModelTraining____mars_gym_model_b____...                                        False   \n",
       "SupervisedModelTraining____mars_gym_model_b____...                                        False   \n",
       "SupervisedModelTraining____mars_gym_model_b____...                                        False   \n",
       "\n",
       "                                                   recommender_extra_params.path_item_embedding  \\\n",
       "path                                                                                              \n",
       "SupervisedModelTraining____mars_gym_model_b____...                                        False   \n",
       "SupervisedModelTraining____mars_gym_model_b____...                                        False   \n",
       "SupervisedModelTraining____mars_gym_model_b____...                                        False   \n",
       "SupervisedModelTraining____mars_gym_model_b____...                                        False   \n",
       "SupervisedModelTraining____mars_gym_model_b____...                                        False   \n",
       "SupervisedModelTraining____mars_gym_model_b____...                                        False   \n",
       "SupervisedModelTraining____mars_gym_model_b____...                                        False   \n",
       "SupervisedModelTraining____mars_gym_model_b____...                                        False   \n",
       "SupervisedModelTraining____mars_gym_model_b____...                                        False   \n",
       "SupervisedModelTraining____mars_gym_model_b____...                                        False   \n",
       "SupervisedModelTraining____mars_gym_model_b____...                                        False   \n",
       "SupervisedModelTraining____mars_gym_model_b____...                                        False   \n",
       "SupervisedModelTraining____mars_gym_model_b____...                                        False   \n",
       "\n",
       "                                                   recommender_extra_params.freeze_embedding  \\\n",
       "path                                                                                           \n",
       "SupervisedModelTraining____mars_gym_model_b____...                                     False   \n",
       "SupervisedModelTraining____mars_gym_model_b____...                                     False   \n",
       "SupervisedModelTraining____mars_gym_model_b____...                                     False   \n",
       "SupervisedModelTraining____mars_gym_model_b____...                                     False   \n",
       "SupervisedModelTraining____mars_gym_model_b____...                                     False   \n",
       "SupervisedModelTraining____mars_gym_model_b____...                                     False   \n",
       "SupervisedModelTraining____mars_gym_model_b____...                                     False   \n",
       "SupervisedModelTraining____mars_gym_model_b____...                                     False   \n",
       "SupervisedModelTraining____mars_gym_model_b____...                                     False   \n",
       "SupervisedModelTraining____mars_gym_model_b____...                                     False   \n",
       "SupervisedModelTraining____mars_gym_model_b____...                                     False   \n",
       "SupervisedModelTraining____mars_gym_model_b____...                                     False   \n",
       "SupervisedModelTraining____mars_gym_model_b____...                                     False   \n",
       "\n",
       "                                                    optimizer_params.weight_decay  \\\n",
       "path                                                                                \n",
       "SupervisedModelTraining____mars_gym_model_b____...                           0.00   \n",
       "SupervisedModelTraining____mars_gym_model_b____...                           0.01   \n",
       "SupervisedModelTraining____mars_gym_model_b____...                           0.00   \n",
       "SupervisedModelTraining____mars_gym_model_b____...                           0.00   \n",
       "SupervisedModelTraining____mars_gym_model_b____...                           0.01   \n",
       "SupervisedModelTraining____mars_gym_model_b____...                           0.01   \n",
       "SupervisedModelTraining____mars_gym_model_b____...                           0.00   \n",
       "SupervisedModelTraining____mars_gym_model_b____...                           0.01   \n",
       "SupervisedModelTraining____mars_gym_model_b____...                           0.00   \n",
       "SupervisedModelTraining____mars_gym_model_b____...                           0.00   \n",
       "SupervisedModelTraining____mars_gym_model_b____...                           0.01   \n",
       "SupervisedModelTraining____mars_gym_model_b____...                           0.00   \n",
       "SupervisedModelTraining____mars_gym_model_b____...                           0.00   \n",
       "\n",
       "                                                   loss_function_params.alpha  \\\n",
       "path                                                                            \n",
       "SupervisedModelTraining____mars_gym_model_b____...                          1   \n",
       "SupervisedModelTraining____mars_gym_model_b____...                          1   \n",
       "SupervisedModelTraining____mars_gym_model_b____...                          1   \n",
       "SupervisedModelTraining____mars_gym_model_b____...                          1   \n",
       "SupervisedModelTraining____mars_gym_model_b____...                          1   \n",
       "SupervisedModelTraining____mars_gym_model_b____...                          1   \n",
       "SupervisedModelTraining____mars_gym_model_b____...                          1   \n",
       "SupervisedModelTraining____mars_gym_model_b____...                          1   \n",
       "SupervisedModelTraining____mars_gym_model_b____...                          1   \n",
       "SupervisedModelTraining____mars_gym_model_b____...                          1   \n",
       "SupervisedModelTraining____mars_gym_model_b____...                          1   \n",
       "SupervisedModelTraining____mars_gym_model_b____...                          1   \n",
       "SupervisedModelTraining____mars_gym_model_b____...                          1   \n",
       "\n",
       "                                                   loss_function_params.gamma  \\\n",
       "path                                                                            \n",
       "SupervisedModelTraining____mars_gym_model_b____...                          3   \n",
       "SupervisedModelTraining____mars_gym_model_b____...                          3   \n",
       "SupervisedModelTraining____mars_gym_model_b____...                          3   \n",
       "SupervisedModelTraining____mars_gym_model_b____...                          3   \n",
       "SupervisedModelTraining____mars_gym_model_b____...                          3   \n",
       "SupervisedModelTraining____mars_gym_model_b____...                          3   \n",
       "SupervisedModelTraining____mars_gym_model_b____...                          3   \n",
       "SupervisedModelTraining____mars_gym_model_b____...                          3   \n",
       "SupervisedModelTraining____mars_gym_model_b____...                          3   \n",
       "SupervisedModelTraining____mars_gym_model_b____...                          3   \n",
       "SupervisedModelTraining____mars_gym_model_b____...                          3   \n",
       "SupervisedModelTraining____mars_gym_model_b____...                          3   \n",
       "SupervisedModelTraining____mars_gym_model_b____...                          3   \n",
       "\n",
       "                                                    loss_function_params.c  \n",
       "path                                                                        \n",
       "SupervisedModelTraining____mars_gym_model_b____...                    1.00  \n",
       "SupervisedModelTraining____mars_gym_model_b____...                    0.90  \n",
       "SupervisedModelTraining____mars_gym_model_b____...                    0.00  \n",
       "SupervisedModelTraining____mars_gym_model_b____...                    0.00  \n",
       "SupervisedModelTraining____mars_gym_model_b____...                    0.00  \n",
       "SupervisedModelTraining____mars_gym_model_b____...                    0.00  \n",
       "SupervisedModelTraining____mars_gym_model_b____...                    0.00  \n",
       "SupervisedModelTraining____mars_gym_model_b____...                    1.00  \n",
       "SupervisedModelTraining____mars_gym_model_b____...                    1.00  \n",
       "SupervisedModelTraining____mars_gym_model_b____...                    1.00  \n",
       "SupervisedModelTraining____mars_gym_model_b____...                    0.80  \n",
       "SupervisedModelTraining____mars_gym_model_b____...                    1.00  \n",
       "SupervisedModelTraining____mars_gym_model_b____...                    0.00  \n",
       "\n",
       "[13 rows x 56 columns]"
      ],
      "text/html": "<div>\n<style scoped>\n    .dataframe tbody tr th:only-of-type {\n        vertical-align: middle;\n    }\n\n    .dataframe tbody tr th {\n        vertical-align: top;\n    }\n\n    .dataframe thead th {\n        text-align: right;\n    }\n</style>\n<table border=\"1\" class=\"dataframe\">\n  <thead>\n    <tr style=\"text-align: right;\">\n      <th></th>\n      <th>project</th>\n      <th>sample_size</th>\n      <th>minimum_interactions</th>\n      <th>session_test_size</th>\n      <th>test_size</th>\n      <th>dataset_split_method</th>\n      <th>test_split_type</th>\n      <th>val_size</th>\n      <th>n_splits</th>\n      <th>split_index</th>\n      <th>...</th>\n      <th>recommender_extra_params.hidden_size</th>\n      <th>recommender_extra_params.n_layers</th>\n      <th>recommender_extra_params.dropout</th>\n      <th>recommender_extra_params.from_index_mapping</th>\n      <th>recommender_extra_params.path_item_embedding</th>\n      <th>recommender_extra_params.freeze_embedding</th>\n      <th>optimizer_params.weight_decay</th>\n      <th>loss_function_params.alpha</th>\n      <th>loss_function_params.gamma</th>\n      <th>loss_function_params.c</th>\n    </tr>\n    <tr>\n      <th>path</th>\n      <th></th>\n      <th></th>\n      <th></th>\n      <th></th>\n      <th></th>\n      <th></th>\n      <th></th>\n      <th></th>\n      <th></th>\n      <th></th>\n      <th></th>\n      <th></th>\n      <th></th>\n      <th></th>\n      <th></th>\n      <th></th>\n      <th></th>\n      <th></th>\n      <th></th>\n      <th></th>\n      <th></th>\n    </tr>\n  </thead>\n  <tbody>\n    <tr>\n      <th>SupervisedModelTraining____mars_gym_model_b____a57b2a2e08</th>\n      <td>config.conf1_rnn</td>\n      <td>-1</td>\n      <td>5</td>\n      <td>0.10</td>\n      <td>0.00</td>\n      <td>time</td>\n      <td>random</td>\n      <td>0.10</td>\n      <td>5</td>\n      <td>0</td>\n      <td>...</td>\n      <td>10</td>\n      <td>1</td>\n      <td>0.60</td>\n      <td>False</td>\n      <td>False</td>\n      <td>False</td>\n      <td>0.00</td>\n      <td>1</td>\n      <td>3</td>\n      <td>1.00</td>\n    </tr>\n    <tr>\n      <th>SupervisedModelTraining____mars_gym_model_b____5c19dd615c</th>\n      <td>config.conf1_rnn</td>\n      <td>-1</td>\n      <td>5</td>\n      <td>0.10</td>\n      <td>0.00</td>\n      <td>time</td>\n      <td>random</td>\n      <td>0.10</td>\n      <td>5</td>\n      <td>0</td>\n      <td>...</td>\n      <td>300</td>\n      <td>2</td>\n      <td>0.30</td>\n      <td>False</td>\n      <td>False</td>\n      <td>False</td>\n      <td>0.01</td>\n      <td>1</td>\n      <td>3</td>\n      <td>0.90</td>\n    </tr>\n    <tr>\n      <th>SupervisedModelTraining____mars_gym_model_b____0c49038918</th>\n      <td>config.conf1_rnn</td>\n      <td>-1</td>\n      <td>5</td>\n      <td>0.10</td>\n      <td>0.00</td>\n      <td>time</td>\n      <td>random</td>\n      <td>0.10</td>\n      <td>5</td>\n      <td>0</td>\n      <td>...</td>\n      <td>500</td>\n      <td>2</td>\n      <td>0.00</td>\n      <td>False</td>\n      <td>False</td>\n      <td>False</td>\n      <td>0.00</td>\n      <td>1</td>\n      <td>3</td>\n      <td>0.00</td>\n    </tr>\n    <tr>\n      <th>SupervisedModelTraining____mars_gym_model_b____88fed69335</th>\n      <td>config.conf1_rnn</td>\n      <td>-1</td>\n      <td>5</td>\n      <td>0.10</td>\n      <td>0.00</td>\n      <td>time</td>\n      <td>random</td>\n      <td>0.10</td>\n      <td>5</td>\n      <td>0</td>\n      <td>...</td>\n      <td>10</td>\n      <td>2</td>\n      <td>0.00</td>\n      <td>False</td>\n      <td>False</td>\n      <td>False</td>\n      <td>0.00</td>\n      <td>1</td>\n      <td>3</td>\n      <td>0.00</td>\n    </tr>\n    <tr>\n      <th>SupervisedModelTraining____mars_gym_model_b____d6ea2403f2</th>\n      <td>config.conf1_rnn</td>\n      <td>-1</td>\n      <td>5</td>\n      <td>0.10</td>\n      <td>0.00</td>\n      <td>time</td>\n      <td>random</td>\n      <td>0.10</td>\n      <td>5</td>\n      <td>0</td>\n      <td>...</td>\n      <td>10</td>\n      <td>4</td>\n      <td>0.60</td>\n      <td>False</td>\n      <td>False</td>\n      <td>False</td>\n      <td>0.01</td>\n      <td>1</td>\n      <td>3</td>\n      <td>0.00</td>\n    </tr>\n    <tr>\n      <th>SupervisedModelTraining____mars_gym_model_b____6b5c4e0f46</th>\n      <td>config.conf1_rnn</td>\n      <td>-1</td>\n      <td>5</td>\n      <td>0.10</td>\n      <td>0.00</td>\n      <td>time</td>\n      <td>random</td>\n      <td>0.10</td>\n      <td>5</td>\n      <td>0</td>\n      <td>...</td>\n      <td>10</td>\n      <td>2</td>\n      <td>0.60</td>\n      <td>False</td>\n      <td>False</td>\n      <td>False</td>\n      <td>0.01</td>\n      <td>1</td>\n      <td>3</td>\n      <td>0.00</td>\n    </tr>\n    <tr>\n      <th>SupervisedModelTraining____mars_gym_model_b____3c881def21</th>\n      <td>config.conf1_rnn</td>\n      <td>-1</td>\n      <td>5</td>\n      <td>0.10</td>\n      <td>0.00</td>\n      <td>time</td>\n      <td>random</td>\n      <td>0.10</td>\n      <td>5</td>\n      <td>0</td>\n      <td>...</td>\n      <td>500</td>\n      <td>1</td>\n      <td>0.20</td>\n      <td>False</td>\n      <td>False</td>\n      <td>False</td>\n      <td>0.00</td>\n      <td>1</td>\n      <td>3</td>\n      <td>0.00</td>\n    </tr>\n    <tr>\n      <th>SupervisedModelTraining____mars_gym_model_b____822330452c</th>\n      <td>config.conf1_rnn</td>\n      <td>-1</td>\n      <td>5</td>\n      <td>0.10</td>\n      <td>0.00</td>\n      <td>time</td>\n      <td>random</td>\n      <td>0.10</td>\n      <td>5</td>\n      <td>0</td>\n      <td>...</td>\n      <td>100</td>\n      <td>2</td>\n      <td>0.20</td>\n      <td>False</td>\n      <td>False</td>\n      <td>False</td>\n      <td>0.01</td>\n      <td>1</td>\n      <td>3</td>\n      <td>1.00</td>\n    </tr>\n    <tr>\n      <th>SupervisedModelTraining____mars_gym_model_b____37ce2fdd57</th>\n      <td>config.conf1_rnn</td>\n      <td>-1</td>\n      <td>5</td>\n      <td>0.10</td>\n      <td>0.00</td>\n      <td>time</td>\n      <td>random</td>\n      <td>0.10</td>\n      <td>5</td>\n      <td>0</td>\n      <td>...</td>\n      <td>100</td>\n      <td>2</td>\n      <td>0.20</td>\n      <td>False</td>\n      <td>False</td>\n      <td>False</td>\n      <td>0.00</td>\n      <td>1</td>\n      <td>3</td>\n      <td>1.00</td>\n    </tr>\n    <tr>\n      <th>SupervisedModelTraining____mars_gym_model_b____57e987a1ff</th>\n      <td>config.conf1_rnn</td>\n      <td>-1</td>\n      <td>5</td>\n      <td>0.10</td>\n      <td>0.00</td>\n      <td>time</td>\n      <td>random</td>\n      <td>0.10</td>\n      <td>5</td>\n      <td>0</td>\n      <td>...</td>\n      <td>10</td>\n      <td>2</td>\n      <td>0.20</td>\n      <td>False</td>\n      <td>False</td>\n      <td>False</td>\n      <td>0.00</td>\n      <td>1</td>\n      <td>3</td>\n      <td>1.00</td>\n    </tr>\n    <tr>\n      <th>SupervisedModelTraining____mars_gym_model_b____291ff27fbc</th>\n      <td>config.conf1_rnn</td>\n      <td>-1</td>\n      <td>5</td>\n      <td>0.10</td>\n      <td>0.00</td>\n      <td>time</td>\n      <td>random</td>\n      <td>0.10</td>\n      <td>5</td>\n      <td>0</td>\n      <td>...</td>\n      <td>300</td>\n      <td>2</td>\n      <td>0.30</td>\n      <td>False</td>\n      <td>False</td>\n      <td>False</td>\n      <td>0.01</td>\n      <td>1</td>\n      <td>3</td>\n      <td>0.80</td>\n    </tr>\n    <tr>\n      <th>SupervisedModelTraining____mars_gym_model_b____fe94ffde36</th>\n      <td>config.conf1_rnn</td>\n      <td>-1</td>\n      <td>5</td>\n      <td>0.10</td>\n      <td>0.00</td>\n      <td>time</td>\n      <td>random</td>\n      <td>0.10</td>\n      <td>5</td>\n      <td>0</td>\n      <td>...</td>\n      <td>10</td>\n      <td>4</td>\n      <td>0.60</td>\n      <td>False</td>\n      <td>False</td>\n      <td>False</td>\n      <td>0.00</td>\n      <td>1</td>\n      <td>3</td>\n      <td>1.00</td>\n    </tr>\n    <tr>\n      <th>SupervisedModelTraining____mars_gym_model_b____16a8189b8b</th>\n      <td>config.conf1_rnn</td>\n      <td>-1</td>\n      <td>5</td>\n      <td>0.10</td>\n      <td>0.00</td>\n      <td>time</td>\n      <td>random</td>\n      <td>0.10</td>\n      <td>5</td>\n      <td>0</td>\n      <td>...</td>\n      <td>300</td>\n      <td>1</td>\n      <td>0.60</td>\n      <td>False</td>\n      <td>False</td>\n      <td>False</td>\n      <td>0.00</td>\n      <td>1</td>\n      <td>3</td>\n      <td>0.00</td>\n    </tr>\n  </tbody>\n</table>\n<p>13 rows × 56 columns</p>\n</div>"
     },
     "metadata": {},
     "execution_count": 110
    }
   ],
   "source": [
    "params"
   ]
  },
  {
   "cell_type": "markdown",
   "metadata": {},
   "source": [
    "## Data"
   ]
  },
  {
   "cell_type": "code",
   "execution_count": 111,
   "metadata": {},
   "outputs": [
    {
     "output_type": "execute_result",
     "data": {
      "text/plain": [
       "                                              path_x  \\\n",
       "0  SupervisedModelTraining____mars_gym_model_b___...   \n",
       "1  SupervisedModelTraining____mars_gym_model_b___...   \n",
       "2  SupervisedModelTraining____mars_gym_model_b___...   \n",
       "3  SupervisedModelTraining____mars_gym_model_b___...   \n",
       "4  SupervisedModelTraining____mars_gym_model_b___...   \n",
       "\n",
       "                                           task_name  count  acc@4  \\\n",
       "0  SupervisedModelTraining____mars_gym_model_b___...  21671   0.37   \n",
       "1  SupervisedModelTraining____mars_gym_model_b___...  21671   0.00   \n",
       "2  SupervisedModelTraining____mars_gym_model_b___...  21671   0.50   \n",
       "3  SupervisedModelTraining____mars_gym_model_b___...  21671   0.53   \n",
       "4  SupervisedModelTraining____mars_gym_model_b___...  21671   0.00   \n",
       "\n",
       "                                             model_x  \\\n",
       "0  SupervisedModelTraining____mars_gym_model_b___...   \n",
       "1  SupervisedModelTraining____mars_gym_model_b___...   \n",
       "2  SupervisedModelTraining____mars_gym_model_b___...   \n",
       "3  SupervisedModelTraining____mars_gym_model_b___...   \n",
       "4  SupervisedModelTraining____mars_gym_model_b___...   \n",
       "\n",
       "                                              path_y           project  \\\n",
       "0  SupervisedModelTraining____mars_gym_model_b___...  config.conf1_rnn   \n",
       "1  SupervisedModelTraining____mars_gym_model_b___...  config.conf1_rnn   \n",
       "2  SupervisedModelTraining____mars_gym_model_b___...  config.conf1_rnn   \n",
       "3  SupervisedModelTraining____mars_gym_model_b___...  config.conf1_rnn   \n",
       "4  SupervisedModelTraining____mars_gym_model_b___...  config.conf1_rnn   \n",
       "\n",
       "   sample_size  minimum_interactions  session_test_size  ...  \\\n",
       "0           -1                     5               0.10  ...   \n",
       "1           -1                     5               0.10  ...   \n",
       "2           -1                     5               0.10  ...   \n",
       "3           -1                     5               0.10  ...   \n",
       "4           -1                     5               0.10  ...   \n",
       "\n",
       "   recommender_extra_params.hidden_size recommender_extra_params.n_layers  \\\n",
       "0                                    10                                 4   \n",
       "1                                   500                                 1   \n",
       "2                                   100                                 2   \n",
       "3                                   300                                 2   \n",
       "4                                   300                                 1   \n",
       "\n",
       "  recommender_extra_params.dropout  \\\n",
       "0                             0.60   \n",
       "1                             0.20   \n",
       "2                             0.20   \n",
       "3                             0.30   \n",
       "4                             0.60   \n",
       "\n",
       "   recommender_extra_params.from_index_mapping  \\\n",
       "0                                        False   \n",
       "1                                        False   \n",
       "2                                        False   \n",
       "3                                        False   \n",
       "4                                        False   \n",
       "\n",
       "   recommender_extra_params.path_item_embedding  \\\n",
       "0                                         False   \n",
       "1                                         False   \n",
       "2                                         False   \n",
       "3                                         False   \n",
       "4                                         False   \n",
       "\n",
       "   recommender_extra_params.freeze_embedding optimizer_params.weight_decay  \\\n",
       "0                                      False                          0.00   \n",
       "1                                      False                          0.00   \n",
       "2                                      False                          0.01   \n",
       "3                                      False                          0.01   \n",
       "4                                      False                          0.00   \n",
       "\n",
       "  loss_function_params.alpha  loss_function_params.gamma  \\\n",
       "0                          1                           3   \n",
       "1                          1                           3   \n",
       "2                          1                           3   \n",
       "3                          1                           3   \n",
       "4                          1                           3   \n",
       "\n",
       "   loss_function_params.c  \n",
       "0                    1.00  \n",
       "1                    0.00  \n",
       "2                    1.00  \n",
       "3                    0.80  \n",
       "4                    0.00  \n",
       "\n",
       "[5 rows x 62 columns]"
      ],
      "text/html": "<div>\n<style scoped>\n    .dataframe tbody tr th:only-of-type {\n        vertical-align: middle;\n    }\n\n    .dataframe tbody tr th {\n        vertical-align: top;\n    }\n\n    .dataframe thead th {\n        text-align: right;\n    }\n</style>\n<table border=\"1\" class=\"dataframe\">\n  <thead>\n    <tr style=\"text-align: right;\">\n      <th></th>\n      <th>path_x</th>\n      <th>task_name</th>\n      <th>count</th>\n      <th>acc@4</th>\n      <th>model_x</th>\n      <th>path_y</th>\n      <th>project</th>\n      <th>sample_size</th>\n      <th>minimum_interactions</th>\n      <th>session_test_size</th>\n      <th>...</th>\n      <th>recommender_extra_params.hidden_size</th>\n      <th>recommender_extra_params.n_layers</th>\n      <th>recommender_extra_params.dropout</th>\n      <th>recommender_extra_params.from_index_mapping</th>\n      <th>recommender_extra_params.path_item_embedding</th>\n      <th>recommender_extra_params.freeze_embedding</th>\n      <th>optimizer_params.weight_decay</th>\n      <th>loss_function_params.alpha</th>\n      <th>loss_function_params.gamma</th>\n      <th>loss_function_params.c</th>\n    </tr>\n  </thead>\n  <tbody>\n    <tr>\n      <th>0</th>\n      <td>SupervisedModelTraining____mars_gym_model_b___...</td>\n      <td>SupervisedModelTraining____mars_gym_model_b___...</td>\n      <td>21671</td>\n      <td>0.37</td>\n      <td>SupervisedModelTraining____mars_gym_model_b___...</td>\n      <td>SupervisedModelTraining____mars_gym_model_b___...</td>\n      <td>config.conf1_rnn</td>\n      <td>-1</td>\n      <td>5</td>\n      <td>0.10</td>\n      <td>...</td>\n      <td>10</td>\n      <td>4</td>\n      <td>0.60</td>\n      <td>False</td>\n      <td>False</td>\n      <td>False</td>\n      <td>0.00</td>\n      <td>1</td>\n      <td>3</td>\n      <td>1.00</td>\n    </tr>\n    <tr>\n      <th>1</th>\n      <td>SupervisedModelTraining____mars_gym_model_b___...</td>\n      <td>SupervisedModelTraining____mars_gym_model_b___...</td>\n      <td>21671</td>\n      <td>0.00</td>\n      <td>SupervisedModelTraining____mars_gym_model_b___...</td>\n      <td>SupervisedModelTraining____mars_gym_model_b___...</td>\n      <td>config.conf1_rnn</td>\n      <td>-1</td>\n      <td>5</td>\n      <td>0.10</td>\n      <td>...</td>\n      <td>500</td>\n      <td>1</td>\n      <td>0.20</td>\n      <td>False</td>\n      <td>False</td>\n      <td>False</td>\n      <td>0.00</td>\n      <td>1</td>\n      <td>3</td>\n      <td>0.00</td>\n    </tr>\n    <tr>\n      <th>2</th>\n      <td>SupervisedModelTraining____mars_gym_model_b___...</td>\n      <td>SupervisedModelTraining____mars_gym_model_b___...</td>\n      <td>21671</td>\n      <td>0.50</td>\n      <td>SupervisedModelTraining____mars_gym_model_b___...</td>\n      <td>SupervisedModelTraining____mars_gym_model_b___...</td>\n      <td>config.conf1_rnn</td>\n      <td>-1</td>\n      <td>5</td>\n      <td>0.10</td>\n      <td>...</td>\n      <td>100</td>\n      <td>2</td>\n      <td>0.20</td>\n      <td>False</td>\n      <td>False</td>\n      <td>False</td>\n      <td>0.01</td>\n      <td>1</td>\n      <td>3</td>\n      <td>1.00</td>\n    </tr>\n    <tr>\n      <th>3</th>\n      <td>SupervisedModelTraining____mars_gym_model_b___...</td>\n      <td>SupervisedModelTraining____mars_gym_model_b___...</td>\n      <td>21671</td>\n      <td>0.53</td>\n      <td>SupervisedModelTraining____mars_gym_model_b___...</td>\n      <td>SupervisedModelTraining____mars_gym_model_b___...</td>\n      <td>config.conf1_rnn</td>\n      <td>-1</td>\n      <td>5</td>\n      <td>0.10</td>\n      <td>...</td>\n      <td>300</td>\n      <td>2</td>\n      <td>0.30</td>\n      <td>False</td>\n      <td>False</td>\n      <td>False</td>\n      <td>0.01</td>\n      <td>1</td>\n      <td>3</td>\n      <td>0.80</td>\n    </tr>\n    <tr>\n      <th>4</th>\n      <td>SupervisedModelTraining____mars_gym_model_b___...</td>\n      <td>SupervisedModelTraining____mars_gym_model_b___...</td>\n      <td>21671</td>\n      <td>0.00</td>\n      <td>SupervisedModelTraining____mars_gym_model_b___...</td>\n      <td>SupervisedModelTraining____mars_gym_model_b___...</td>\n      <td>config.conf1_rnn</td>\n      <td>-1</td>\n      <td>5</td>\n      <td>0.10</td>\n      <td>...</td>\n      <td>300</td>\n      <td>1</td>\n      <td>0.60</td>\n      <td>False</td>\n      <td>False</td>\n      <td>False</td>\n      <td>0.00</td>\n      <td>1</td>\n      <td>3</td>\n      <td>0.00</td>\n    </tr>\n  </tbody>\n</table>\n<p>5 rows × 62 columns</p>\n</div>"
     },
     "metadata": {},
     "execution_count": 111
    }
   ],
   "source": [
    "df = metrics.reset_index().merge(params.reset_index(), left_on='model', right_on='path')\n",
    "#df['model_class'] = df.apply(lambda row: str(row['model_task']).split(\"_\")[0] + \".\"+str(row['recommender_module_class']), axis=1)\n",
    "df.head()"
   ]
  },
  {
   "cell_type": "code",
   "execution_count": 112,
   "metadata": {},
   "outputs": [
    {
     "output_type": "execute_result",
     "data": {
      "text/plain": [
       "                                               path_x  \\\n",
       "0   SupervisedModelTraining____mars_gym_model_b___...   \n",
       "1   SupervisedModelTraining____mars_gym_model_b___...   \n",
       "2   SupervisedModelTraining____mars_gym_model_b___...   \n",
       "3   SupervisedModelTraining____mars_gym_model_b___...   \n",
       "4   SupervisedModelTraining____mars_gym_model_b___...   \n",
       "5   SupervisedModelTraining____mars_gym_model_b___...   \n",
       "6   SupervisedModelTraining____mars_gym_model_b___...   \n",
       "7   SupervisedModelTraining____mars_gym_model_b___...   \n",
       "8   SupervisedModelTraining____mars_gym_model_b___...   \n",
       "9   SupervisedModelTraining____mars_gym_model_b___...   \n",
       "10  SupervisedModelTraining____mars_gym_model_b___...   \n",
       "11  SupervisedModelTraining____mars_gym_model_b___...   \n",
       "\n",
       "                                            task_name  count  acc@4  \\\n",
       "0   SupervisedModelTraining____mars_gym_model_b___...  21671   0.37   \n",
       "1   SupervisedModelTraining____mars_gym_model_b___...  21671   0.00   \n",
       "2   SupervisedModelTraining____mars_gym_model_b___...  21671   0.50   \n",
       "3   SupervisedModelTraining____mars_gym_model_b___...  21671   0.53   \n",
       "4   SupervisedModelTraining____mars_gym_model_b___...  21671   0.00   \n",
       "5   SupervisedModelTraining____mars_gym_model_b___...  21671   0.01   \n",
       "6   SupervisedModelTraining____mars_gym_model_b___...  21671   0.52   \n",
       "7   SupervisedModelTraining____mars_gym_model_b___...  21671   0.50   \n",
       "8   SupervisedModelTraining____mars_gym_model_b___...  21671   0.00   \n",
       "9   SupervisedModelTraining____mars_gym_model_b___...  21671   0.00   \n",
       "10  SupervisedModelTraining____mars_gym_model_b___...  21671   0.48   \n",
       "11  SupervisedModelTraining____mars_gym_model_b___...  21671   0.00   \n",
       "\n",
       "                                              model_x  \\\n",
       "0   SupervisedModelTraining____mars_gym_model_b___...   \n",
       "1   SupervisedModelTraining____mars_gym_model_b___...   \n",
       "2   SupervisedModelTraining____mars_gym_model_b___...   \n",
       "3   SupervisedModelTraining____mars_gym_model_b___...   \n",
       "4   SupervisedModelTraining____mars_gym_model_b___...   \n",
       "5   SupervisedModelTraining____mars_gym_model_b___...   \n",
       "6   SupervisedModelTraining____mars_gym_model_b___...   \n",
       "7   SupervisedModelTraining____mars_gym_model_b___...   \n",
       "8   SupervisedModelTraining____mars_gym_model_b___...   \n",
       "9   SupervisedModelTraining____mars_gym_model_b___...   \n",
       "10  SupervisedModelTraining____mars_gym_model_b___...   \n",
       "11  SupervisedModelTraining____mars_gym_model_b___...   \n",
       "\n",
       "                                               path_y           project  \\\n",
       "0   SupervisedModelTraining____mars_gym_model_b___...  config.conf1_rnn   \n",
       "1   SupervisedModelTraining____mars_gym_model_b___...  config.conf1_rnn   \n",
       "2   SupervisedModelTraining____mars_gym_model_b___...  config.conf1_rnn   \n",
       "3   SupervisedModelTraining____mars_gym_model_b___...  config.conf1_rnn   \n",
       "4   SupervisedModelTraining____mars_gym_model_b___...  config.conf1_rnn   \n",
       "5   SupervisedModelTraining____mars_gym_model_b___...  config.conf1_rnn   \n",
       "6   SupervisedModelTraining____mars_gym_model_b___...  config.conf1_rnn   \n",
       "7   SupervisedModelTraining____mars_gym_model_b___...  config.conf1_rnn   \n",
       "8   SupervisedModelTraining____mars_gym_model_b___...  config.conf1_rnn   \n",
       "9   SupervisedModelTraining____mars_gym_model_b___...  config.conf1_rnn   \n",
       "10  SupervisedModelTraining____mars_gym_model_b___...  config.conf1_rnn   \n",
       "11  SupervisedModelTraining____mars_gym_model_b___...  config.conf1_rnn   \n",
       "\n",
       "    sample_size  minimum_interactions  session_test_size  ...  \\\n",
       "0            -1                     5               0.10  ...   \n",
       "1            -1                     5               0.10  ...   \n",
       "2            -1                     5               0.10  ...   \n",
       "3            -1                     5               0.10  ...   \n",
       "4            -1                     5               0.10  ...   \n",
       "5            -1                     5               0.10  ...   \n",
       "6            -1                     5               0.10  ...   \n",
       "7            -1                     5               0.10  ...   \n",
       "8            -1                     5               0.10  ...   \n",
       "9            -1                     5               0.10  ...   \n",
       "10           -1                     5               0.10  ...   \n",
       "11           -1                     5               0.10  ...   \n",
       "\n",
       "    recommender_extra_params.hidden_size recommender_extra_params.n_layers  \\\n",
       "0                                     10                                 4   \n",
       "1                                    500                                 1   \n",
       "2                                    100                                 2   \n",
       "3                                    300                                 2   \n",
       "4                                    300                                 1   \n",
       "5                                    500                                 2   \n",
       "6                                    300                                 2   \n",
       "7                                    100                                 2   \n",
       "8                                     10                                 4   \n",
       "9                                     10                                 2   \n",
       "10                                    10                                 2   \n",
       "11                                    10                                 2   \n",
       "\n",
       "   recommender_extra_params.dropout  \\\n",
       "0                              0.60   \n",
       "1                              0.20   \n",
       "2                              0.20   \n",
       "3                              0.30   \n",
       "4                              0.60   \n",
       "5                              0.00   \n",
       "6                              0.30   \n",
       "7                              0.20   \n",
       "8                              0.60   \n",
       "9                              0.00   \n",
       "10                             0.20   \n",
       "11                             0.60   \n",
       "\n",
       "    recommender_extra_params.from_index_mapping  \\\n",
       "0                                         False   \n",
       "1                                         False   \n",
       "2                                         False   \n",
       "3                                         False   \n",
       "4                                         False   \n",
       "5                                         False   \n",
       "6                                         False   \n",
       "7                                         False   \n",
       "8                                         False   \n",
       "9                                         False   \n",
       "10                                        False   \n",
       "11                                        False   \n",
       "\n",
       "    recommender_extra_params.path_item_embedding  \\\n",
       "0                                          False   \n",
       "1                                          False   \n",
       "2                                          False   \n",
       "3                                          False   \n",
       "4                                          False   \n",
       "5                                          False   \n",
       "6                                          False   \n",
       "7                                          False   \n",
       "8                                          False   \n",
       "9                                          False   \n",
       "10                                         False   \n",
       "11                                         False   \n",
       "\n",
       "    recommender_extra_params.freeze_embedding optimizer_params.weight_decay  \\\n",
       "0                                       False                          0.00   \n",
       "1                                       False                          0.00   \n",
       "2                                       False                          0.01   \n",
       "3                                       False                          0.01   \n",
       "4                                       False                          0.00   \n",
       "5                                       False                          0.00   \n",
       "6                                       False                          0.01   \n",
       "7                                       False                          0.00   \n",
       "8                                       False                          0.01   \n",
       "9                                       False                          0.00   \n",
       "10                                      False                          0.00   \n",
       "11                                      False                          0.01   \n",
       "\n",
       "   loss_function_params.alpha  loss_function_params.gamma  \\\n",
       "0                           1                           3   \n",
       "1                           1                           3   \n",
       "2                           1                           3   \n",
       "3                           1                           3   \n",
       "4                           1                           3   \n",
       "5                           1                           3   \n",
       "6                           1                           3   \n",
       "7                           1                           3   \n",
       "8                           1                           3   \n",
       "9                           1                           3   \n",
       "10                          1                           3   \n",
       "11                          1                           3   \n",
       "\n",
       "    loss_function_params.c  \n",
       "0                     1.00  \n",
       "1                     0.00  \n",
       "2                     1.00  \n",
       "3                     0.80  \n",
       "4                     0.00  \n",
       "5                     0.00  \n",
       "6                     0.90  \n",
       "7                     1.00  \n",
       "8                     0.00  \n",
       "9                     0.00  \n",
       "10                    1.00  \n",
       "11                    0.00  \n",
       "\n",
       "[12 rows x 62 columns]"
      ],
      "text/html": "<div>\n<style scoped>\n    .dataframe tbody tr th:only-of-type {\n        vertical-align: middle;\n    }\n\n    .dataframe tbody tr th {\n        vertical-align: top;\n    }\n\n    .dataframe thead th {\n        text-align: right;\n    }\n</style>\n<table border=\"1\" class=\"dataframe\">\n  <thead>\n    <tr style=\"text-align: right;\">\n      <th></th>\n      <th>path_x</th>\n      <th>task_name</th>\n      <th>count</th>\n      <th>acc@4</th>\n      <th>model_x</th>\n      <th>path_y</th>\n      <th>project</th>\n      <th>sample_size</th>\n      <th>minimum_interactions</th>\n      <th>session_test_size</th>\n      <th>...</th>\n      <th>recommender_extra_params.hidden_size</th>\n      <th>recommender_extra_params.n_layers</th>\n      <th>recommender_extra_params.dropout</th>\n      <th>recommender_extra_params.from_index_mapping</th>\n      <th>recommender_extra_params.path_item_embedding</th>\n      <th>recommender_extra_params.freeze_embedding</th>\n      <th>optimizer_params.weight_decay</th>\n      <th>loss_function_params.alpha</th>\n      <th>loss_function_params.gamma</th>\n      <th>loss_function_params.c</th>\n    </tr>\n  </thead>\n  <tbody>\n    <tr>\n      <th>0</th>\n      <td>SupervisedModelTraining____mars_gym_model_b___...</td>\n      <td>SupervisedModelTraining____mars_gym_model_b___...</td>\n      <td>21671</td>\n      <td>0.37</td>\n      <td>SupervisedModelTraining____mars_gym_model_b___...</td>\n      <td>SupervisedModelTraining____mars_gym_model_b___...</td>\n      <td>config.conf1_rnn</td>\n      <td>-1</td>\n      <td>5</td>\n      <td>0.10</td>\n      <td>...</td>\n      <td>10</td>\n      <td>4</td>\n      <td>0.60</td>\n      <td>False</td>\n      <td>False</td>\n      <td>False</td>\n      <td>0.00</td>\n      <td>1</td>\n      <td>3</td>\n      <td>1.00</td>\n    </tr>\n    <tr>\n      <th>1</th>\n      <td>SupervisedModelTraining____mars_gym_model_b___...</td>\n      <td>SupervisedModelTraining____mars_gym_model_b___...</td>\n      <td>21671</td>\n      <td>0.00</td>\n      <td>SupervisedModelTraining____mars_gym_model_b___...</td>\n      <td>SupervisedModelTraining____mars_gym_model_b___...</td>\n      <td>config.conf1_rnn</td>\n      <td>-1</td>\n      <td>5</td>\n      <td>0.10</td>\n      <td>...</td>\n      <td>500</td>\n      <td>1</td>\n      <td>0.20</td>\n      <td>False</td>\n      <td>False</td>\n      <td>False</td>\n      <td>0.00</td>\n      <td>1</td>\n      <td>3</td>\n      <td>0.00</td>\n    </tr>\n    <tr>\n      <th>2</th>\n      <td>SupervisedModelTraining____mars_gym_model_b___...</td>\n      <td>SupervisedModelTraining____mars_gym_model_b___...</td>\n      <td>21671</td>\n      <td>0.50</td>\n      <td>SupervisedModelTraining____mars_gym_model_b___...</td>\n      <td>SupervisedModelTraining____mars_gym_model_b___...</td>\n      <td>config.conf1_rnn</td>\n      <td>-1</td>\n      <td>5</td>\n      <td>0.10</td>\n      <td>...</td>\n      <td>100</td>\n      <td>2</td>\n      <td>0.20</td>\n      <td>False</td>\n      <td>False</td>\n      <td>False</td>\n      <td>0.01</td>\n      <td>1</td>\n      <td>3</td>\n      <td>1.00</td>\n    </tr>\n    <tr>\n      <th>3</th>\n      <td>SupervisedModelTraining____mars_gym_model_b___...</td>\n      <td>SupervisedModelTraining____mars_gym_model_b___...</td>\n      <td>21671</td>\n      <td>0.53</td>\n      <td>SupervisedModelTraining____mars_gym_model_b___...</td>\n      <td>SupervisedModelTraining____mars_gym_model_b___...</td>\n      <td>config.conf1_rnn</td>\n      <td>-1</td>\n      <td>5</td>\n      <td>0.10</td>\n      <td>...</td>\n      <td>300</td>\n      <td>2</td>\n      <td>0.30</td>\n      <td>False</td>\n      <td>False</td>\n      <td>False</td>\n      <td>0.01</td>\n      <td>1</td>\n      <td>3</td>\n      <td>0.80</td>\n    </tr>\n    <tr>\n      <th>4</th>\n      <td>SupervisedModelTraining____mars_gym_model_b___...</td>\n      <td>SupervisedModelTraining____mars_gym_model_b___...</td>\n      <td>21671</td>\n      <td>0.00</td>\n      <td>SupervisedModelTraining____mars_gym_model_b___...</td>\n      <td>SupervisedModelTraining____mars_gym_model_b___...</td>\n      <td>config.conf1_rnn</td>\n      <td>-1</td>\n      <td>5</td>\n      <td>0.10</td>\n      <td>...</td>\n      <td>300</td>\n      <td>1</td>\n      <td>0.60</td>\n      <td>False</td>\n      <td>False</td>\n      <td>False</td>\n      <td>0.00</td>\n      <td>1</td>\n      <td>3</td>\n      <td>0.00</td>\n    </tr>\n    <tr>\n      <th>5</th>\n      <td>SupervisedModelTraining____mars_gym_model_b___...</td>\n      <td>SupervisedModelTraining____mars_gym_model_b___...</td>\n      <td>21671</td>\n      <td>0.01</td>\n      <td>SupervisedModelTraining____mars_gym_model_b___...</td>\n      <td>SupervisedModelTraining____mars_gym_model_b___...</td>\n      <td>config.conf1_rnn</td>\n      <td>-1</td>\n      <td>5</td>\n      <td>0.10</td>\n      <td>...</td>\n      <td>500</td>\n      <td>2</td>\n      <td>0.00</td>\n      <td>False</td>\n      <td>False</td>\n      <td>False</td>\n      <td>0.00</td>\n      <td>1</td>\n      <td>3</td>\n      <td>0.00</td>\n    </tr>\n    <tr>\n      <th>6</th>\n      <td>SupervisedModelTraining____mars_gym_model_b___...</td>\n      <td>SupervisedModelTraining____mars_gym_model_b___...</td>\n      <td>21671</td>\n      <td>0.52</td>\n      <td>SupervisedModelTraining____mars_gym_model_b___...</td>\n      <td>SupervisedModelTraining____mars_gym_model_b___...</td>\n      <td>config.conf1_rnn</td>\n      <td>-1</td>\n      <td>5</td>\n      <td>0.10</td>\n      <td>...</td>\n      <td>300</td>\n      <td>2</td>\n      <td>0.30</td>\n      <td>False</td>\n      <td>False</td>\n      <td>False</td>\n      <td>0.01</td>\n      <td>1</td>\n      <td>3</td>\n      <td>0.90</td>\n    </tr>\n    <tr>\n      <th>7</th>\n      <td>SupervisedModelTraining____mars_gym_model_b___...</td>\n      <td>SupervisedModelTraining____mars_gym_model_b___...</td>\n      <td>21671</td>\n      <td>0.50</td>\n      <td>SupervisedModelTraining____mars_gym_model_b___...</td>\n      <td>SupervisedModelTraining____mars_gym_model_b___...</td>\n      <td>config.conf1_rnn</td>\n      <td>-1</td>\n      <td>5</td>\n      <td>0.10</td>\n      <td>...</td>\n      <td>100</td>\n      <td>2</td>\n      <td>0.20</td>\n      <td>False</td>\n      <td>False</td>\n      <td>False</td>\n      <td>0.00</td>\n      <td>1</td>\n      <td>3</td>\n      <td>1.00</td>\n    </tr>\n    <tr>\n      <th>8</th>\n      <td>SupervisedModelTraining____mars_gym_model_b___...</td>\n      <td>SupervisedModelTraining____mars_gym_model_b___...</td>\n      <td>21671</td>\n      <td>0.00</td>\n      <td>SupervisedModelTraining____mars_gym_model_b___...</td>\n      <td>SupervisedModelTraining____mars_gym_model_b___...</td>\n      <td>config.conf1_rnn</td>\n      <td>-1</td>\n      <td>5</td>\n      <td>0.10</td>\n      <td>...</td>\n      <td>10</td>\n      <td>4</td>\n      <td>0.60</td>\n      <td>False</td>\n      <td>False</td>\n      <td>False</td>\n      <td>0.01</td>\n      <td>1</td>\n      <td>3</td>\n      <td>0.00</td>\n    </tr>\n    <tr>\n      <th>9</th>\n      <td>SupervisedModelTraining____mars_gym_model_b___...</td>\n      <td>SupervisedModelTraining____mars_gym_model_b___...</td>\n      <td>21671</td>\n      <td>0.00</td>\n      <td>SupervisedModelTraining____mars_gym_model_b___...</td>\n      <td>SupervisedModelTraining____mars_gym_model_b___...</td>\n      <td>config.conf1_rnn</td>\n      <td>-1</td>\n      <td>5</td>\n      <td>0.10</td>\n      <td>...</td>\n      <td>10</td>\n      <td>2</td>\n      <td>0.00</td>\n      <td>False</td>\n      <td>False</td>\n      <td>False</td>\n      <td>0.00</td>\n      <td>1</td>\n      <td>3</td>\n      <td>0.00</td>\n    </tr>\n    <tr>\n      <th>10</th>\n      <td>SupervisedModelTraining____mars_gym_model_b___...</td>\n      <td>SupervisedModelTraining____mars_gym_model_b___...</td>\n      <td>21671</td>\n      <td>0.48</td>\n      <td>SupervisedModelTraining____mars_gym_model_b___...</td>\n      <td>SupervisedModelTraining____mars_gym_model_b___...</td>\n      <td>config.conf1_rnn</td>\n      <td>-1</td>\n      <td>5</td>\n      <td>0.10</td>\n      <td>...</td>\n      <td>10</td>\n      <td>2</td>\n      <td>0.20</td>\n      <td>False</td>\n      <td>False</td>\n      <td>False</td>\n      <td>0.00</td>\n      <td>1</td>\n      <td>3</td>\n      <td>1.00</td>\n    </tr>\n    <tr>\n      <th>11</th>\n      <td>SupervisedModelTraining____mars_gym_model_b___...</td>\n      <td>SupervisedModelTraining____mars_gym_model_b___...</td>\n      <td>21671</td>\n      <td>0.00</td>\n      <td>SupervisedModelTraining____mars_gym_model_b___...</td>\n      <td>SupervisedModelTraining____mars_gym_model_b___...</td>\n      <td>config.conf1_rnn</td>\n      <td>-1</td>\n      <td>5</td>\n      <td>0.10</td>\n      <td>...</td>\n      <td>10</td>\n      <td>2</td>\n      <td>0.60</td>\n      <td>False</td>\n      <td>False</td>\n      <td>False</td>\n      <td>0.01</td>\n      <td>1</td>\n      <td>3</td>\n      <td>0.00</td>\n    </tr>\n  </tbody>\n</table>\n<p>12 rows × 62 columns</p>\n</div>"
     },
     "metadata": {},
     "execution_count": 112
    }
   ],
   "source": [
    "df.shape\n",
    "df"
   ]
  },
  {
   "cell_type": "code",
   "execution_count": 113,
   "metadata": {
    "scrolled": false
   },
   "outputs": [
    {
     "output_type": "execute_result",
     "data": {
      "text/plain": [
       "Index(['path_x', 'task_name', 'count', 'acc@4', 'model_x', 'path_y', 'project',\n",
       "       'sample_size', 'minimum_interactions', 'session_test_size', 'test_size',\n",
       "       'dataset_split_method', 'test_split_type', 'val_size', 'n_splits',\n",
       "       'split_index', 'sampling_strategy', 'balance_fields',\n",
       "       'use_sampling_in_validation', 'seed', 'observation',\n",
       "       'load_index_mapping_path', 'negative_proportion',\n",
       "       'recommender_module_class', 'device', 'batch_size', 'epochs',\n",
       "       'optimizer', 'learning_rate', 'loss_function_class', 'loss_function',\n",
       "       'gradient_norm_clipping', 'gradient_norm_clipping_type',\n",
       "       'early_stopping_patience', 'early_stopping_min_delta', 'monitor_metric',\n",
       "       'monitor_mode', 'generator_workers', 'pin_memory', 'run_evaluate',\n",
       "       'run_evaluate_extra_params', 'sample_size_eval', 'metrics',\n",
       "       'bandit_policy_class', 'model_y',\n",
       "       'data_frames_preparation_extra_params.test_split',\n",
       "       'data_frames_preparation_extra_params.window_trip',\n",
       "       'data_frames_preparation_extra_params.column_stratification',\n",
       "       'data_frames_preparation_extra_params.filter_last_step',\n",
       "       'data_frames_preparation_extra_params.balance_sample_step',\n",
       "       'data_frames_preparation_extra_params.filter_trip_size',\n",
       "       'recommender_extra_params.n_factors',\n",
       "       'recommender_extra_params.hidden_size',\n",
       "       'recommender_extra_params.n_layers', 'recommender_extra_params.dropout',\n",
       "       'recommender_extra_params.from_index_mapping',\n",
       "       'recommender_extra_params.path_item_embedding',\n",
       "       'recommender_extra_params.freeze_embedding',\n",
       "       'optimizer_params.weight_decay', 'loss_function_params.alpha',\n",
       "       'loss_function_params.gamma', 'loss_function_params.c'],\n",
       "      dtype='object')"
      ]
     },
     "metadata": {},
     "execution_count": 113
    }
   ],
   "source": [
    "df.columns\n"
   ]
  },
  {
   "cell_type": "code",
   "execution_count": 114,
   "metadata": {},
   "outputs": [
    {
     "output_type": "execute_result",
     "data": {
      "text/plain": [
       "(12, 62)"
      ]
     },
     "metadata": {},
     "execution_count": 114
    }
   ],
   "source": [
    "df = df[df['project'] == 'config.conf1_rnn']\n",
    "df.shape"
   ]
  },
  {
   "cell_type": "code",
   "execution_count": 115,
   "metadata": {},
   "outputs": [
    {
     "output_type": "execute_result",
     "data": {
      "text/plain": [
       "                                               path_x  \\\n",
       "3   SupervisedModelTraining____mars_gym_model_b___...   \n",
       "6   SupervisedModelTraining____mars_gym_model_b___...   \n",
       "7   SupervisedModelTraining____mars_gym_model_b___...   \n",
       "2   SupervisedModelTraining____mars_gym_model_b___...   \n",
       "10  SupervisedModelTraining____mars_gym_model_b___...   \n",
       "0   SupervisedModelTraining____mars_gym_model_b___...   \n",
       "5   SupervisedModelTraining____mars_gym_model_b___...   \n",
       "1   SupervisedModelTraining____mars_gym_model_b___...   \n",
       "8   SupervisedModelTraining____mars_gym_model_b___...   \n",
       "9   SupervisedModelTraining____mars_gym_model_b___...   \n",
       "\n",
       "                                            task_name  count  acc@4  \\\n",
       "3   SupervisedModelTraining____mars_gym_model_b___...  21671   0.53   \n",
       "6   SupervisedModelTraining____mars_gym_model_b___...  21671   0.52   \n",
       "7   SupervisedModelTraining____mars_gym_model_b___...  21671   0.50   \n",
       "2   SupervisedModelTraining____mars_gym_model_b___...  21671   0.50   \n",
       "10  SupervisedModelTraining____mars_gym_model_b___...  21671   0.48   \n",
       "0   SupervisedModelTraining____mars_gym_model_b___...  21671   0.37   \n",
       "5   SupervisedModelTraining____mars_gym_model_b___...  21671   0.01   \n",
       "1   SupervisedModelTraining____mars_gym_model_b___...  21671   0.00   \n",
       "8   SupervisedModelTraining____mars_gym_model_b___...  21671   0.00   \n",
       "9   SupervisedModelTraining____mars_gym_model_b___...  21671   0.00   \n",
       "\n",
       "                                              model_x  \\\n",
       "3   SupervisedModelTraining____mars_gym_model_b___...   \n",
       "6   SupervisedModelTraining____mars_gym_model_b___...   \n",
       "7   SupervisedModelTraining____mars_gym_model_b___...   \n",
       "2   SupervisedModelTraining____mars_gym_model_b___...   \n",
       "10  SupervisedModelTraining____mars_gym_model_b___...   \n",
       "0   SupervisedModelTraining____mars_gym_model_b___...   \n",
       "5   SupervisedModelTraining____mars_gym_model_b___...   \n",
       "1   SupervisedModelTraining____mars_gym_model_b___...   \n",
       "8   SupervisedModelTraining____mars_gym_model_b___...   \n",
       "9   SupervisedModelTraining____mars_gym_model_b___...   \n",
       "\n",
       "                                               path_y           project  \\\n",
       "3   SupervisedModelTraining____mars_gym_model_b___...  config.conf1_rnn   \n",
       "6   SupervisedModelTraining____mars_gym_model_b___...  config.conf1_rnn   \n",
       "7   SupervisedModelTraining____mars_gym_model_b___...  config.conf1_rnn   \n",
       "2   SupervisedModelTraining____mars_gym_model_b___...  config.conf1_rnn   \n",
       "10  SupervisedModelTraining____mars_gym_model_b___...  config.conf1_rnn   \n",
       "0   SupervisedModelTraining____mars_gym_model_b___...  config.conf1_rnn   \n",
       "5   SupervisedModelTraining____mars_gym_model_b___...  config.conf1_rnn   \n",
       "1   SupervisedModelTraining____mars_gym_model_b___...  config.conf1_rnn   \n",
       "8   SupervisedModelTraining____mars_gym_model_b___...  config.conf1_rnn   \n",
       "9   SupervisedModelTraining____mars_gym_model_b___...  config.conf1_rnn   \n",
       "\n",
       "    sample_size  minimum_interactions  session_test_size  ...  \\\n",
       "3            -1                     5               0.10  ...   \n",
       "6            -1                     5               0.10  ...   \n",
       "7            -1                     5               0.10  ...   \n",
       "2            -1                     5               0.10  ...   \n",
       "10           -1                     5               0.10  ...   \n",
       "0            -1                     5               0.10  ...   \n",
       "5            -1                     5               0.10  ...   \n",
       "1            -1                     5               0.10  ...   \n",
       "8            -1                     5               0.10  ...   \n",
       "9            -1                     5               0.10  ...   \n",
       "\n",
       "    recommender_extra_params.hidden_size recommender_extra_params.n_layers  \\\n",
       "3                                    300                                 2   \n",
       "6                                    300                                 2   \n",
       "7                                    100                                 2   \n",
       "2                                    100                                 2   \n",
       "10                                    10                                 2   \n",
       "0                                     10                                 4   \n",
       "5                                    500                                 2   \n",
       "1                                    500                                 1   \n",
       "8                                     10                                 4   \n",
       "9                                     10                                 2   \n",
       "\n",
       "   recommender_extra_params.dropout  \\\n",
       "3                              0.30   \n",
       "6                              0.30   \n",
       "7                              0.20   \n",
       "2                              0.20   \n",
       "10                             0.20   \n",
       "0                              0.60   \n",
       "5                              0.00   \n",
       "1                              0.20   \n",
       "8                              0.60   \n",
       "9                              0.00   \n",
       "\n",
       "    recommender_extra_params.from_index_mapping  \\\n",
       "3                                         False   \n",
       "6                                         False   \n",
       "7                                         False   \n",
       "2                                         False   \n",
       "10                                        False   \n",
       "0                                         False   \n",
       "5                                         False   \n",
       "1                                         False   \n",
       "8                                         False   \n",
       "9                                         False   \n",
       "\n",
       "    recommender_extra_params.path_item_embedding  \\\n",
       "3                                          False   \n",
       "6                                          False   \n",
       "7                                          False   \n",
       "2                                          False   \n",
       "10                                         False   \n",
       "0                                          False   \n",
       "5                                          False   \n",
       "1                                          False   \n",
       "8                                          False   \n",
       "9                                          False   \n",
       "\n",
       "    recommender_extra_params.freeze_embedding optimizer_params.weight_decay  \\\n",
       "3                                       False                          0.01   \n",
       "6                                       False                          0.01   \n",
       "7                                       False                          0.00   \n",
       "2                                       False                          0.01   \n",
       "10                                      False                          0.00   \n",
       "0                                       False                          0.00   \n",
       "5                                       False                          0.00   \n",
       "1                                       False                          0.00   \n",
       "8                                       False                          0.01   \n",
       "9                                       False                          0.00   \n",
       "\n",
       "   loss_function_params.alpha  loss_function_params.gamma  \\\n",
       "3                           1                           3   \n",
       "6                           1                           3   \n",
       "7                           1                           3   \n",
       "2                           1                           3   \n",
       "10                          1                           3   \n",
       "0                           1                           3   \n",
       "5                           1                           3   \n",
       "1                           1                           3   \n",
       "8                           1                           3   \n",
       "9                           1                           3   \n",
       "\n",
       "    loss_function_params.c  \n",
       "3                     0.80  \n",
       "6                     0.90  \n",
       "7                     1.00  \n",
       "2                     1.00  \n",
       "10                    1.00  \n",
       "0                     1.00  \n",
       "5                     0.00  \n",
       "1                     0.00  \n",
       "8                     0.00  \n",
       "9                     0.00  \n",
       "\n",
       "[10 rows x 62 columns]"
      ],
      "text/html": "<div>\n<style scoped>\n    .dataframe tbody tr th:only-of-type {\n        vertical-align: middle;\n    }\n\n    .dataframe tbody tr th {\n        vertical-align: top;\n    }\n\n    .dataframe thead th {\n        text-align: right;\n    }\n</style>\n<table border=\"1\" class=\"dataframe\">\n  <thead>\n    <tr style=\"text-align: right;\">\n      <th></th>\n      <th>path_x</th>\n      <th>task_name</th>\n      <th>count</th>\n      <th>acc@4</th>\n      <th>model_x</th>\n      <th>path_y</th>\n      <th>project</th>\n      <th>sample_size</th>\n      <th>minimum_interactions</th>\n      <th>session_test_size</th>\n      <th>...</th>\n      <th>recommender_extra_params.hidden_size</th>\n      <th>recommender_extra_params.n_layers</th>\n      <th>recommender_extra_params.dropout</th>\n      <th>recommender_extra_params.from_index_mapping</th>\n      <th>recommender_extra_params.path_item_embedding</th>\n      <th>recommender_extra_params.freeze_embedding</th>\n      <th>optimizer_params.weight_decay</th>\n      <th>loss_function_params.alpha</th>\n      <th>loss_function_params.gamma</th>\n      <th>loss_function_params.c</th>\n    </tr>\n  </thead>\n  <tbody>\n    <tr>\n      <th>3</th>\n      <td>SupervisedModelTraining____mars_gym_model_b___...</td>\n      <td>SupervisedModelTraining____mars_gym_model_b___...</td>\n      <td>21671</td>\n      <td>0.53</td>\n      <td>SupervisedModelTraining____mars_gym_model_b___...</td>\n      <td>SupervisedModelTraining____mars_gym_model_b___...</td>\n      <td>config.conf1_rnn</td>\n      <td>-1</td>\n      <td>5</td>\n      <td>0.10</td>\n      <td>...</td>\n      <td>300</td>\n      <td>2</td>\n      <td>0.30</td>\n      <td>False</td>\n      <td>False</td>\n      <td>False</td>\n      <td>0.01</td>\n      <td>1</td>\n      <td>3</td>\n      <td>0.80</td>\n    </tr>\n    <tr>\n      <th>6</th>\n      <td>SupervisedModelTraining____mars_gym_model_b___...</td>\n      <td>SupervisedModelTraining____mars_gym_model_b___...</td>\n      <td>21671</td>\n      <td>0.52</td>\n      <td>SupervisedModelTraining____mars_gym_model_b___...</td>\n      <td>SupervisedModelTraining____mars_gym_model_b___...</td>\n      <td>config.conf1_rnn</td>\n      <td>-1</td>\n      <td>5</td>\n      <td>0.10</td>\n      <td>...</td>\n      <td>300</td>\n      <td>2</td>\n      <td>0.30</td>\n      <td>False</td>\n      <td>False</td>\n      <td>False</td>\n      <td>0.01</td>\n      <td>1</td>\n      <td>3</td>\n      <td>0.90</td>\n    </tr>\n    <tr>\n      <th>7</th>\n      <td>SupervisedModelTraining____mars_gym_model_b___...</td>\n      <td>SupervisedModelTraining____mars_gym_model_b___...</td>\n      <td>21671</td>\n      <td>0.50</td>\n      <td>SupervisedModelTraining____mars_gym_model_b___...</td>\n      <td>SupervisedModelTraining____mars_gym_model_b___...</td>\n      <td>config.conf1_rnn</td>\n      <td>-1</td>\n      <td>5</td>\n      <td>0.10</td>\n      <td>...</td>\n      <td>100</td>\n      <td>2</td>\n      <td>0.20</td>\n      <td>False</td>\n      <td>False</td>\n      <td>False</td>\n      <td>0.00</td>\n      <td>1</td>\n      <td>3</td>\n      <td>1.00</td>\n    </tr>\n    <tr>\n      <th>2</th>\n      <td>SupervisedModelTraining____mars_gym_model_b___...</td>\n      <td>SupervisedModelTraining____mars_gym_model_b___...</td>\n      <td>21671</td>\n      <td>0.50</td>\n      <td>SupervisedModelTraining____mars_gym_model_b___...</td>\n      <td>SupervisedModelTraining____mars_gym_model_b___...</td>\n      <td>config.conf1_rnn</td>\n      <td>-1</td>\n      <td>5</td>\n      <td>0.10</td>\n      <td>...</td>\n      <td>100</td>\n      <td>2</td>\n      <td>0.20</td>\n      <td>False</td>\n      <td>False</td>\n      <td>False</td>\n      <td>0.01</td>\n      <td>1</td>\n      <td>3</td>\n      <td>1.00</td>\n    </tr>\n    <tr>\n      <th>10</th>\n      <td>SupervisedModelTraining____mars_gym_model_b___...</td>\n      <td>SupervisedModelTraining____mars_gym_model_b___...</td>\n      <td>21671</td>\n      <td>0.48</td>\n      <td>SupervisedModelTraining____mars_gym_model_b___...</td>\n      <td>SupervisedModelTraining____mars_gym_model_b___...</td>\n      <td>config.conf1_rnn</td>\n      <td>-1</td>\n      <td>5</td>\n      <td>0.10</td>\n      <td>...</td>\n      <td>10</td>\n      <td>2</td>\n      <td>0.20</td>\n      <td>False</td>\n      <td>False</td>\n      <td>False</td>\n      <td>0.00</td>\n      <td>1</td>\n      <td>3</td>\n      <td>1.00</td>\n    </tr>\n    <tr>\n      <th>0</th>\n      <td>SupervisedModelTraining____mars_gym_model_b___...</td>\n      <td>SupervisedModelTraining____mars_gym_model_b___...</td>\n      <td>21671</td>\n      <td>0.37</td>\n      <td>SupervisedModelTraining____mars_gym_model_b___...</td>\n      <td>SupervisedModelTraining____mars_gym_model_b___...</td>\n      <td>config.conf1_rnn</td>\n      <td>-1</td>\n      <td>5</td>\n      <td>0.10</td>\n      <td>...</td>\n      <td>10</td>\n      <td>4</td>\n      <td>0.60</td>\n      <td>False</td>\n      <td>False</td>\n      <td>False</td>\n      <td>0.00</td>\n      <td>1</td>\n      <td>3</td>\n      <td>1.00</td>\n    </tr>\n    <tr>\n      <th>5</th>\n      <td>SupervisedModelTraining____mars_gym_model_b___...</td>\n      <td>SupervisedModelTraining____mars_gym_model_b___...</td>\n      <td>21671</td>\n      <td>0.01</td>\n      <td>SupervisedModelTraining____mars_gym_model_b___...</td>\n      <td>SupervisedModelTraining____mars_gym_model_b___...</td>\n      <td>config.conf1_rnn</td>\n      <td>-1</td>\n      <td>5</td>\n      <td>0.10</td>\n      <td>...</td>\n      <td>500</td>\n      <td>2</td>\n      <td>0.00</td>\n      <td>False</td>\n      <td>False</td>\n      <td>False</td>\n      <td>0.00</td>\n      <td>1</td>\n      <td>3</td>\n      <td>0.00</td>\n    </tr>\n    <tr>\n      <th>1</th>\n      <td>SupervisedModelTraining____mars_gym_model_b___...</td>\n      <td>SupervisedModelTraining____mars_gym_model_b___...</td>\n      <td>21671</td>\n      <td>0.00</td>\n      <td>SupervisedModelTraining____mars_gym_model_b___...</td>\n      <td>SupervisedModelTraining____mars_gym_model_b___...</td>\n      <td>config.conf1_rnn</td>\n      <td>-1</td>\n      <td>5</td>\n      <td>0.10</td>\n      <td>...</td>\n      <td>500</td>\n      <td>1</td>\n      <td>0.20</td>\n      <td>False</td>\n      <td>False</td>\n      <td>False</td>\n      <td>0.00</td>\n      <td>1</td>\n      <td>3</td>\n      <td>0.00</td>\n    </tr>\n    <tr>\n      <th>8</th>\n      <td>SupervisedModelTraining____mars_gym_model_b___...</td>\n      <td>SupervisedModelTraining____mars_gym_model_b___...</td>\n      <td>21671</td>\n      <td>0.00</td>\n      <td>SupervisedModelTraining____mars_gym_model_b___...</td>\n      <td>SupervisedModelTraining____mars_gym_model_b___...</td>\n      <td>config.conf1_rnn</td>\n      <td>-1</td>\n      <td>5</td>\n      <td>0.10</td>\n      <td>...</td>\n      <td>10</td>\n      <td>4</td>\n      <td>0.60</td>\n      <td>False</td>\n      <td>False</td>\n      <td>False</td>\n      <td>0.01</td>\n      <td>1</td>\n      <td>3</td>\n      <td>0.00</td>\n    </tr>\n    <tr>\n      <th>9</th>\n      <td>SupervisedModelTraining____mars_gym_model_b___...</td>\n      <td>SupervisedModelTraining____mars_gym_model_b___...</td>\n      <td>21671</td>\n      <td>0.00</td>\n      <td>SupervisedModelTraining____mars_gym_model_b___...</td>\n      <td>SupervisedModelTraining____mars_gym_model_b___...</td>\n      <td>config.conf1_rnn</td>\n      <td>-1</td>\n      <td>5</td>\n      <td>0.10</td>\n      <td>...</td>\n      <td>10</td>\n      <td>2</td>\n      <td>0.00</td>\n      <td>False</td>\n      <td>False</td>\n      <td>False</td>\n      <td>0.00</td>\n      <td>1</td>\n      <td>3</td>\n      <td>0.00</td>\n    </tr>\n  </tbody>\n</table>\n<p>10 rows × 62 columns</p>\n</div>"
     },
     "metadata": {},
     "execution_count": 115
    }
   ],
   "source": [
    "df.sort_values(['acc@4'], ascending=False).head(10)"
   ]
  },
  {
   "cell_type": "code",
   "execution_count": 128,
   "metadata": {},
   "outputs": [
    {
     "output_type": "display_data",
     "data": {
      "application/vnd.plotly.v1+json": {
       "config": {
        "plotlyServerURL": "https://plot.ly"
       },
       "data": [
        {
         "dimensions": [
          {
           "label": "n_factors",
           "values": [
            50,
            50,
            50,
            100,
            100,
            100,
            100,
            200,
            200,
            200,
            200,
            200
           ]
          },
          {
           "label": "hidden_size",
           "values": [
            10,
            10,
            500,
            300,
            300,
            300,
            500,
            10,
            10,
            10,
            100,
            100
           ]
          },
          {
           "label": "n_layers",
           "values": [
            4,
            2,
            2,
            2,
            1,
            2,
            1,
            4,
            2,
            2,
            2,
            2
           ]
          },
          {
           "label": "dropout",
           "values": [
            0.6,
            0.2,
            0,
            0.3,
            0.6,
            0.3,
            0.2,
            0.6,
            0,
            0.6,
            0.2,
            0.2
           ]
          },
          {
           "label": "learning_rate",
           "values": [
            0.0001,
            0.0001,
            0.001,
            0.001,
            0.001,
            0.001,
            0.0001,
            0.0001,
            0.0001,
            0.0001,
            0.001,
            0.0001
           ]
          },
          {
           "label": "batch_size",
           "values": [
            256,
            64,
            128,
            128,
            256,
            128,
            128,
            64,
            64,
            256,
            64,
            64
           ]
          },
          {
           "label": "optimizer",
           "values": [
            "adam",
            "radam",
            "adam",
            "radam",
            "adam",
            "radam",
            "radam",
            "adam",
            "radam",
            "adam",
            "radam",
            "radam"
           ]
          },
          {
           "label": "balance_loss",
           "values": [
            1,
            1,
            0,
            0.8,
            0,
            0.9,
            0,
            0,
            0,
            0,
            1,
            1
           ]
          },
          {
           "label": "WeightDecay",
           "values": [
            0,
            0,
            0.00001,
            0.01,
            0,
            0.01,
            0.00001,
            0.01,
            0,
            0.01,
            0.01,
            0
           ]
          }
         ],
         "domain": {
          "x": [
           0,
           1
          ],
          "y": [
           0,
           1
          ]
         },
         "line": {
          "color": [
           0.36749573162290616,
           0.47759678833464075,
           0.013889529786350422,
           0.5276175534123945,
           0,
           0.5152507959946472,
           0.00023072308615200036,
           0.0001384338516912002,
           0.00009228923446080015,
           0.000046144617230400075,
           0.5034839186008953,
           0.5048221125005768
          ],
          "coloraxis": "coloraxis"
         },
         "name": "",
         "type": "parcats"
        }
       ],
       "layout": {
        "coloraxis": {
         "colorbar": {
          "title": {
           "text": "acc@4"
          }
         },
         "colorscale": [
          [
           0,
           "rgb(255,255,204)"
          ],
          [
           0.125,
           "rgb(255,237,160)"
          ],
          [
           0.25,
           "rgb(254,217,118)"
          ],
          [
           0.375,
           "rgb(254,178,76)"
          ],
          [
           0.5,
           "rgb(253,141,60)"
          ],
          [
           0.625,
           "rgb(252,78,42)"
          ],
          [
           0.75,
           "rgb(227,26,28)"
          ],
          [
           0.875,
           "rgb(189,0,38)"
          ],
          [
           1,
           "rgb(128,0,38)"
          ]
         ]
        },
        "legend": {
         "tracegroupgap": 0
        },
        "margin": {
         "t": 60
        },
        "template": {
         "data": {
          "bar": [
           {
            "error_x": {
             "color": "#2a3f5f"
            },
            "error_y": {
             "color": "#2a3f5f"
            },
            "marker": {
             "line": {
              "color": "#E5ECF6",
              "width": 0.5
             }
            },
            "type": "bar"
           }
          ],
          "barpolar": [
           {
            "marker": {
             "line": {
              "color": "#E5ECF6",
              "width": 0.5
             }
            },
            "type": "barpolar"
           }
          ],
          "carpet": [
           {
            "aaxis": {
             "endlinecolor": "#2a3f5f",
             "gridcolor": "white",
             "linecolor": "white",
             "minorgridcolor": "white",
             "startlinecolor": "#2a3f5f"
            },
            "baxis": {
             "endlinecolor": "#2a3f5f",
             "gridcolor": "white",
             "linecolor": "white",
             "minorgridcolor": "white",
             "startlinecolor": "#2a3f5f"
            },
            "type": "carpet"
           }
          ],
          "choropleth": [
           {
            "colorbar": {
             "outlinewidth": 0,
             "ticks": ""
            },
            "type": "choropleth"
           }
          ],
          "contour": [
           {
            "colorbar": {
             "outlinewidth": 0,
             "ticks": ""
            },
            "colorscale": [
             [
              0,
              "#0d0887"
             ],
             [
              0.1111111111111111,
              "#46039f"
             ],
             [
              0.2222222222222222,
              "#7201a8"
             ],
             [
              0.3333333333333333,
              "#9c179e"
             ],
             [
              0.4444444444444444,
              "#bd3786"
             ],
             [
              0.5555555555555556,
              "#d8576b"
             ],
             [
              0.6666666666666666,
              "#ed7953"
             ],
             [
              0.7777777777777778,
              "#fb9f3a"
             ],
             [
              0.8888888888888888,
              "#fdca26"
             ],
             [
              1,
              "#f0f921"
             ]
            ],
            "type": "contour"
           }
          ],
          "contourcarpet": [
           {
            "colorbar": {
             "outlinewidth": 0,
             "ticks": ""
            },
            "type": "contourcarpet"
           }
          ],
          "heatmap": [
           {
            "colorbar": {
             "outlinewidth": 0,
             "ticks": ""
            },
            "colorscale": [
             [
              0,
              "#0d0887"
             ],
             [
              0.1111111111111111,
              "#46039f"
             ],
             [
              0.2222222222222222,
              "#7201a8"
             ],
             [
              0.3333333333333333,
              "#9c179e"
             ],
             [
              0.4444444444444444,
              "#bd3786"
             ],
             [
              0.5555555555555556,
              "#d8576b"
             ],
             [
              0.6666666666666666,
              "#ed7953"
             ],
             [
              0.7777777777777778,
              "#fb9f3a"
             ],
             [
              0.8888888888888888,
              "#fdca26"
             ],
             [
              1,
              "#f0f921"
             ]
            ],
            "type": "heatmap"
           }
          ],
          "heatmapgl": [
           {
            "colorbar": {
             "outlinewidth": 0,
             "ticks": ""
            },
            "colorscale": [
             [
              0,
              "#0d0887"
             ],
             [
              0.1111111111111111,
              "#46039f"
             ],
             [
              0.2222222222222222,
              "#7201a8"
             ],
             [
              0.3333333333333333,
              "#9c179e"
             ],
             [
              0.4444444444444444,
              "#bd3786"
             ],
             [
              0.5555555555555556,
              "#d8576b"
             ],
             [
              0.6666666666666666,
              "#ed7953"
             ],
             [
              0.7777777777777778,
              "#fb9f3a"
             ],
             [
              0.8888888888888888,
              "#fdca26"
             ],
             [
              1,
              "#f0f921"
             ]
            ],
            "type": "heatmapgl"
           }
          ],
          "histogram": [
           {
            "marker": {
             "colorbar": {
              "outlinewidth": 0,
              "ticks": ""
             }
            },
            "type": "histogram"
           }
          ],
          "histogram2d": [
           {
            "colorbar": {
             "outlinewidth": 0,
             "ticks": ""
            },
            "colorscale": [
             [
              0,
              "#0d0887"
             ],
             [
              0.1111111111111111,
              "#46039f"
             ],
             [
              0.2222222222222222,
              "#7201a8"
             ],
             [
              0.3333333333333333,
              "#9c179e"
             ],
             [
              0.4444444444444444,
              "#bd3786"
             ],
             [
              0.5555555555555556,
              "#d8576b"
             ],
             [
              0.6666666666666666,
              "#ed7953"
             ],
             [
              0.7777777777777778,
              "#fb9f3a"
             ],
             [
              0.8888888888888888,
              "#fdca26"
             ],
             [
              1,
              "#f0f921"
             ]
            ],
            "type": "histogram2d"
           }
          ],
          "histogram2dcontour": [
           {
            "colorbar": {
             "outlinewidth": 0,
             "ticks": ""
            },
            "colorscale": [
             [
              0,
              "#0d0887"
             ],
             [
              0.1111111111111111,
              "#46039f"
             ],
             [
              0.2222222222222222,
              "#7201a8"
             ],
             [
              0.3333333333333333,
              "#9c179e"
             ],
             [
              0.4444444444444444,
              "#bd3786"
             ],
             [
              0.5555555555555556,
              "#d8576b"
             ],
             [
              0.6666666666666666,
              "#ed7953"
             ],
             [
              0.7777777777777778,
              "#fb9f3a"
             ],
             [
              0.8888888888888888,
              "#fdca26"
             ],
             [
              1,
              "#f0f921"
             ]
            ],
            "type": "histogram2dcontour"
           }
          ],
          "mesh3d": [
           {
            "colorbar": {
             "outlinewidth": 0,
             "ticks": ""
            },
            "type": "mesh3d"
           }
          ],
          "parcoords": [
           {
            "line": {
             "colorbar": {
              "outlinewidth": 0,
              "ticks": ""
             }
            },
            "type": "parcoords"
           }
          ],
          "pie": [
           {
            "automargin": true,
            "type": "pie"
           }
          ],
          "scatter": [
           {
            "marker": {
             "colorbar": {
              "outlinewidth": 0,
              "ticks": ""
             }
            },
            "type": "scatter"
           }
          ],
          "scatter3d": [
           {
            "line": {
             "colorbar": {
              "outlinewidth": 0,
              "ticks": ""
             }
            },
            "marker": {
             "colorbar": {
              "outlinewidth": 0,
              "ticks": ""
             }
            },
            "type": "scatter3d"
           }
          ],
          "scattercarpet": [
           {
            "marker": {
             "colorbar": {
              "outlinewidth": 0,
              "ticks": ""
             }
            },
            "type": "scattercarpet"
           }
          ],
          "scattergeo": [
           {
            "marker": {
             "colorbar": {
              "outlinewidth": 0,
              "ticks": ""
             }
            },
            "type": "scattergeo"
           }
          ],
          "scattergl": [
           {
            "marker": {
             "colorbar": {
              "outlinewidth": 0,
              "ticks": ""
             }
            },
            "type": "scattergl"
           }
          ],
          "scattermapbox": [
           {
            "marker": {
             "colorbar": {
              "outlinewidth": 0,
              "ticks": ""
             }
            },
            "type": "scattermapbox"
           }
          ],
          "scatterpolar": [
           {
            "marker": {
             "colorbar": {
              "outlinewidth": 0,
              "ticks": ""
             }
            },
            "type": "scatterpolar"
           }
          ],
          "scatterpolargl": [
           {
            "marker": {
             "colorbar": {
              "outlinewidth": 0,
              "ticks": ""
             }
            },
            "type": "scatterpolargl"
           }
          ],
          "scatterternary": [
           {
            "marker": {
             "colorbar": {
              "outlinewidth": 0,
              "ticks": ""
             }
            },
            "type": "scatterternary"
           }
          ],
          "surface": [
           {
            "colorbar": {
             "outlinewidth": 0,
             "ticks": ""
            },
            "colorscale": [
             [
              0,
              "#0d0887"
             ],
             [
              0.1111111111111111,
              "#46039f"
             ],
             [
              0.2222222222222222,
              "#7201a8"
             ],
             [
              0.3333333333333333,
              "#9c179e"
             ],
             [
              0.4444444444444444,
              "#bd3786"
             ],
             [
              0.5555555555555556,
              "#d8576b"
             ],
             [
              0.6666666666666666,
              "#ed7953"
             ],
             [
              0.7777777777777778,
              "#fb9f3a"
             ],
             [
              0.8888888888888888,
              "#fdca26"
             ],
             [
              1,
              "#f0f921"
             ]
            ],
            "type": "surface"
           }
          ],
          "table": [
           {
            "cells": {
             "fill": {
              "color": "#EBF0F8"
             },
             "line": {
              "color": "white"
             }
            },
            "header": {
             "fill": {
              "color": "#C8D4E3"
             },
             "line": {
              "color": "white"
             }
            },
            "type": "table"
           }
          ]
         },
         "layout": {
          "annotationdefaults": {
           "arrowcolor": "#2a3f5f",
           "arrowhead": 0,
           "arrowwidth": 1
          },
          "coloraxis": {
           "colorbar": {
            "outlinewidth": 0,
            "ticks": ""
           }
          },
          "colorscale": {
           "diverging": [
            [
             0,
             "#8e0152"
            ],
            [
             0.1,
             "#c51b7d"
            ],
            [
             0.2,
             "#de77ae"
            ],
            [
             0.3,
             "#f1b6da"
            ],
            [
             0.4,
             "#fde0ef"
            ],
            [
             0.5,
             "#f7f7f7"
            ],
            [
             0.6,
             "#e6f5d0"
            ],
            [
             0.7,
             "#b8e186"
            ],
            [
             0.8,
             "#7fbc41"
            ],
            [
             0.9,
             "#4d9221"
            ],
            [
             1,
             "#276419"
            ]
           ],
           "sequential": [
            [
             0,
             "#0d0887"
            ],
            [
             0.1111111111111111,
             "#46039f"
            ],
            [
             0.2222222222222222,
             "#7201a8"
            ],
            [
             0.3333333333333333,
             "#9c179e"
            ],
            [
             0.4444444444444444,
             "#bd3786"
            ],
            [
             0.5555555555555556,
             "#d8576b"
            ],
            [
             0.6666666666666666,
             "#ed7953"
            ],
            [
             0.7777777777777778,
             "#fb9f3a"
            ],
            [
             0.8888888888888888,
             "#fdca26"
            ],
            [
             1,
             "#f0f921"
            ]
           ],
           "sequentialminus": [
            [
             0,
             "#0d0887"
            ],
            [
             0.1111111111111111,
             "#46039f"
            ],
            [
             0.2222222222222222,
             "#7201a8"
            ],
            [
             0.3333333333333333,
             "#9c179e"
            ],
            [
             0.4444444444444444,
             "#bd3786"
            ],
            [
             0.5555555555555556,
             "#d8576b"
            ],
            [
             0.6666666666666666,
             "#ed7953"
            ],
            [
             0.7777777777777778,
             "#fb9f3a"
            ],
            [
             0.8888888888888888,
             "#fdca26"
            ],
            [
             1,
             "#f0f921"
            ]
           ]
          },
          "colorway": [
           "#636efa",
           "#EF553B",
           "#00cc96",
           "#ab63fa",
           "#FFA15A",
           "#19d3f3",
           "#FF6692",
           "#B6E880",
           "#FF97FF",
           "#FECB52"
          ],
          "font": {
           "color": "#2a3f5f"
          },
          "geo": {
           "bgcolor": "white",
           "lakecolor": "white",
           "landcolor": "#E5ECF6",
           "showlakes": true,
           "showland": true,
           "subunitcolor": "white"
          },
          "hoverlabel": {
           "align": "left"
          },
          "hovermode": "closest",
          "mapbox": {
           "style": "light"
          },
          "paper_bgcolor": "white",
          "plot_bgcolor": "#E5ECF6",
          "polar": {
           "angularaxis": {
            "gridcolor": "white",
            "linecolor": "white",
            "ticks": ""
           },
           "bgcolor": "#E5ECF6",
           "radialaxis": {
            "gridcolor": "white",
            "linecolor": "white",
            "ticks": ""
           }
          },
          "scene": {
           "xaxis": {
            "backgroundcolor": "#E5ECF6",
            "gridcolor": "white",
            "gridwidth": 2,
            "linecolor": "white",
            "showbackground": true,
            "ticks": "",
            "zerolinecolor": "white"
           },
           "yaxis": {
            "backgroundcolor": "#E5ECF6",
            "gridcolor": "white",
            "gridwidth": 2,
            "linecolor": "white",
            "showbackground": true,
            "ticks": "",
            "zerolinecolor": "white"
           },
           "zaxis": {
            "backgroundcolor": "#E5ECF6",
            "gridcolor": "white",
            "gridwidth": 2,
            "linecolor": "white",
            "showbackground": true,
            "ticks": "",
            "zerolinecolor": "white"
           }
          },
          "shapedefaults": {
           "line": {
            "color": "#2a3f5f"
           }
          },
          "ternary": {
           "aaxis": {
            "gridcolor": "white",
            "linecolor": "white",
            "ticks": ""
           },
           "baxis": {
            "gridcolor": "white",
            "linecolor": "white",
            "ticks": ""
           },
           "bgcolor": "#E5ECF6",
           "caxis": {
            "gridcolor": "white",
            "linecolor": "white",
            "ticks": ""
           }
          },
          "title": {
           "x": 0.05
          },
          "xaxis": {
           "automargin": true,
           "gridcolor": "white",
           "linecolor": "white",
           "ticks": "",
           "title": {
            "standoff": 15
           },
           "zerolinecolor": "white",
           "zerolinewidth": 2
          },
          "yaxis": {
           "automargin": true,
           "gridcolor": "white",
           "linecolor": "white",
           "ticks": "",
           "title": {
            "standoff": 15
           },
           "zerolinecolor": "white",
           "zerolinewidth": 2
          }
         }
        },
        "width": 1200
       }
      }
     },
     "metadata": {}
    }
   ],
   "source": [
    "import plotly.express as px\n",
    "\n",
    "columns = {\n",
    "    'recommender_extra_params.n_factors': 'n_factors',\n",
    "    'recommender_extra_params.hidden_size': 'hidden_size',\n",
    "    'recommender_extra_params.n_layers': 'n_layers',\n",
    "    'recommender_extra_params.dropout': \"dropout\",\n",
    "    # 'data_frames_preparation_extra_params.window_trip': \"window_trip\",\n",
    "    'learning_rate': \"learning_rate\",\n",
    "    'batch_size': \"batch_size\",\n",
    "    'optimizer': \"optimizer\",\n",
    "    'loss_function_params.c': \"balance_loss\",\n",
    "    'optimizer_params.weight_decay': \"WeightDecay\",\n",
    "}\n",
    "\n",
    "\n",
    "fig = px.parallel_categories(df, dimensions=list(columns.keys()),\n",
    "                            color=\"acc@4\", width=1200,\n",
    "                            color_continuous_scale=px.colors.sequential.YlOrRd,\n",
    "                            labels=columns)\n",
    "fig.show()"
   ]
  },
  {
   "cell_type": "code",
   "execution_count": 130,
   "metadata": {},
   "outputs": [
    {
     "output_type": "execute_result",
     "data": {
      "text/plain": [
       "'SupervisedModelTraining____mars_gym_model_b____291ff27fbc_aea0d50b66'"
      ]
     },
     "metadata": {},
     "execution_count": 130
    }
   ],
   "source": [
    "df.sort_values(['acc@4'], ascending=False).iloc[0][list(columns.keys()) + ['acc@4', 'task_name']].task_name"
   ]
  },
  {
   "cell_type": "code",
   "execution_count": null,
   "metadata": {},
   "outputs": [],
   "source": []
  },
  {
   "cell_type": "code",
   "execution_count": null,
   "metadata": {},
   "outputs": [],
   "source": []
  },
  {
   "cell_type": "code",
   "execution_count": null,
   "metadata": {},
   "outputs": [],
   "source": []
  },
  {
   "cell_type": "code",
   "execution_count": null,
   "metadata": {},
   "outputs": [],
   "source": []
  },
  {
   "cell_type": "code",
   "execution_count": null,
   "metadata": {},
   "outputs": [],
   "source": []
  },
  {
   "cell_type": "code",
   "execution_count": null,
   "metadata": {},
   "outputs": [],
   "source": []
  },
  {
   "cell_type": "code",
   "execution_count": null,
   "metadata": {},
   "outputs": [],
   "source": []
  },
  {
   "cell_type": "code",
   "execution_count": null,
   "metadata": {},
   "outputs": [],
   "source": []
  },
  {
   "cell_type": "code",
   "execution_count": null,
   "metadata": {},
   "outputs": [],
   "source": []
  },
  {
   "cell_type": "code",
   "execution_count": null,
   "metadata": {},
   "outputs": [],
   "source": []
  },
  {
   "cell_type": "code",
   "execution_count": null,
   "metadata": {},
   "outputs": [],
   "source": []
  },
  {
   "cell_type": "code",
   "execution_count": null,
   "metadata": {},
   "outputs": [],
   "source": []
  },
  {
   "cell_type": "code",
   "execution_count": null,
   "metadata": {},
   "outputs": [],
   "source": []
  }
 ],
 "metadata": {
  "kernelspec": {
   "display_name": "Python 3",
   "language": "python",
   "name": "python3"
  },
  "language_info": {
   "codemirror_mode": {
    "name": "ipython",
    "version": 3
   },
   "file_extension": ".py",
   "mimetype": "text/x-python",
   "name": "python",
   "nbconvert_exporter": "python",
   "pygments_lexer": "ipython3",
   "version": "3.6.12-final"
  },
  "toc": {
   "base_numbering": 1,
   "nav_menu": {},
   "number_sections": true,
   "sideBar": true,
   "skip_h1_title": false,
   "title_cell": "Table of Contents",
   "title_sidebar": "Contents",
   "toc_cell": false,
   "toc_position": {},
   "toc_section_display": true,
   "toc_window_display": false
  }
 },
 "nbformat": 4,
 "nbformat_minor": 4
}