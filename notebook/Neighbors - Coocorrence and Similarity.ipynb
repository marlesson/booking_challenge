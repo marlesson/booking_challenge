{
 "cells": [
  {
   "cell_type": "code",
   "execution_count": 1,
   "metadata": {},
   "outputs": [],
   "source": [
    "import numpy as np\n",
    "import itertools\n",
    "import pandas as pd\n",
    "import seaborn as sns\n",
    "import matplotlib.pyplot as plt\n",
    "from pandas_profiling import ProfileReport\n",
    "from scipy.sparse import csr_matrix\n",
    "from sklearn.metrics.pairwise import cosine_similarity\n",
    "from datetime import datetime, timedelta\n",
    "from scipy import sparse\n",
    "%matplotlib inline\n",
    "\n",
    "sns.set_theme(style=\"ticks\")"
   ]
  },
  {
   "cell_type": "code",
   "execution_count": 2,
   "metadata": {},
   "outputs": [
    {
     "data": {
      "text/html": [
       "<div>\n",
       "<style scoped>\n",
       "    .dataframe tbody tr th:only-of-type {\n",
       "        vertical-align: middle;\n",
       "    }\n",
       "\n",
       "    .dataframe tbody tr th {\n",
       "        vertical-align: top;\n",
       "    }\n",
       "\n",
       "    .dataframe thead th {\n",
       "        text-align: right;\n",
       "    }\n",
       "</style>\n",
       "<table border=\"1\" class=\"dataframe\">\n",
       "  <thead>\n",
       "    <tr style=\"text-align: right;\">\n",
       "      <th></th>\n",
       "      <th>Unnamed: 0</th>\n",
       "      <th>user_id</th>\n",
       "      <th>checkin</th>\n",
       "      <th>checkout</th>\n",
       "      <th>city_id</th>\n",
       "      <th>device_class</th>\n",
       "      <th>affiliate_id</th>\n",
       "      <th>booker_country</th>\n",
       "      <th>hotel_country</th>\n",
       "      <th>utrip_id</th>\n",
       "    </tr>\n",
       "  </thead>\n",
       "  <tbody>\n",
       "    <tr>\n",
       "      <th>0</th>\n",
       "      <td>0</td>\n",
       "      <td>1006220</td>\n",
       "      <td>2016-04-09</td>\n",
       "      <td>2016-04-11</td>\n",
       "      <td>31114</td>\n",
       "      <td>desktop</td>\n",
       "      <td>384</td>\n",
       "      <td>Gondal</td>\n",
       "      <td>Gondal</td>\n",
       "      <td>1006220_1</td>\n",
       "    </tr>\n",
       "    <tr>\n",
       "      <th>1</th>\n",
       "      <td>1</td>\n",
       "      <td>1006220</td>\n",
       "      <td>2016-04-11</td>\n",
       "      <td>2016-04-12</td>\n",
       "      <td>39641</td>\n",
       "      <td>desktop</td>\n",
       "      <td>384</td>\n",
       "      <td>Gondal</td>\n",
       "      <td>Gondal</td>\n",
       "      <td>1006220_1</td>\n",
       "    </tr>\n",
       "    <tr>\n",
       "      <th>2</th>\n",
       "      <td>2</td>\n",
       "      <td>1006220</td>\n",
       "      <td>2016-04-12</td>\n",
       "      <td>2016-04-16</td>\n",
       "      <td>20232</td>\n",
       "      <td>desktop</td>\n",
       "      <td>384</td>\n",
       "      <td>Gondal</td>\n",
       "      <td>Glubbdubdrib</td>\n",
       "      <td>1006220_1</td>\n",
       "    </tr>\n",
       "    <tr>\n",
       "      <th>3</th>\n",
       "      <td>3</td>\n",
       "      <td>1006220</td>\n",
       "      <td>2016-04-16</td>\n",
       "      <td>2016-04-17</td>\n",
       "      <td>24144</td>\n",
       "      <td>desktop</td>\n",
       "      <td>384</td>\n",
       "      <td>Gondal</td>\n",
       "      <td>Gondal</td>\n",
       "      <td>1006220_1</td>\n",
       "    </tr>\n",
       "    <tr>\n",
       "      <th>4</th>\n",
       "      <td>4</td>\n",
       "      <td>1010293</td>\n",
       "      <td>2016-07-09</td>\n",
       "      <td>2016-07-10</td>\n",
       "      <td>5325</td>\n",
       "      <td>mobile</td>\n",
       "      <td>359</td>\n",
       "      <td>The Devilfire Empire</td>\n",
       "      <td>Cobra Island</td>\n",
       "      <td>1010293_1</td>\n",
       "    </tr>\n",
       "  </tbody>\n",
       "</table>\n",
       "</div>"
      ],
      "text/plain": [
       "   Unnamed: 0  user_id    checkin   checkout city_id device_class  \\\n",
       "0           0  1006220 2016-04-09 2016-04-11   31114      desktop   \n",
       "1           1  1006220 2016-04-11 2016-04-12   39641      desktop   \n",
       "2           2  1006220 2016-04-12 2016-04-16   20232      desktop   \n",
       "3           3  1006220 2016-04-16 2016-04-17   24144      desktop   \n",
       "4           4  1010293 2016-07-09 2016-07-10    5325       mobile   \n",
       "\n",
       "  affiliate_id        booker_country hotel_country   utrip_id  \n",
       "0          384                Gondal        Gondal  1006220_1  \n",
       "1          384                Gondal        Gondal  1006220_1  \n",
       "2          384                Gondal  Glubbdubdrib  1006220_1  \n",
       "3          384                Gondal        Gondal  1006220_1  \n",
       "4          359  The Devilfire Empire  Cobra Island  1010293_1  "
      ]
     },
     "execution_count": 2,
     "metadata": {},
     "output_type": "execute_result"
    }
   ],
   "source": [
    "df_all = pd.read_csv('../data/Booking/booking_train_set.csv', \n",
    "                 dtype={\"user_id\": str, \"city_id\": str, 'affiliate_id': str,\n",
    "                       'utrip_id': str},parse_dates=['checkin', 'checkout'])\n",
    "\n",
    "df_all.head()"
   ]
  },
  {
   "cell_type": "code",
   "execution_count": 3,
   "metadata": {},
   "outputs": [
    {
     "data": {
      "text/html": [
       "<div>\n",
       "<style scoped>\n",
       "    .dataframe tbody tr th:only-of-type {\n",
       "        vertical-align: middle;\n",
       "    }\n",
       "\n",
       "    .dataframe tbody tr th {\n",
       "        vertical-align: top;\n",
       "    }\n",
       "\n",
       "    .dataframe thead th {\n",
       "        text-align: right;\n",
       "    }\n",
       "</style>\n",
       "<table border=\"1\" class=\"dataframe\">\n",
       "  <thead>\n",
       "    <tr style=\"text-align: right;\">\n",
       "      <th></th>\n",
       "      <th>utrip_id</th>\n",
       "      <th>last_step</th>\n",
       "      <th>user_id</th>\n",
       "      <th>count_unique_city</th>\n",
       "      <th>trip_size</th>\n",
       "      <th>start_trip</th>\n",
       "      <th>end_trip</th>\n",
       "      <th>user_city_count</th>\n",
       "      <th>user_city_unique</th>\n",
       "      <th>user_trip_count</th>\n",
       "      <th>...</th>\n",
       "      <th>start_trip_is_weekend</th>\n",
       "      <th>start_trip_quarter_sin</th>\n",
       "      <th>start_trip_quarter_cos</th>\n",
       "      <th>start_trip_month_sin</th>\n",
       "      <th>start_trip_month_cos</th>\n",
       "      <th>start_trip_day_sin</th>\n",
       "      <th>start_trip_day_cos</th>\n",
       "      <th>start_trip_week_sin</th>\n",
       "      <th>start_trip_week_cos</th>\n",
       "      <th>user_features</th>\n",
       "    </tr>\n",
       "  </thead>\n",
       "  <tbody>\n",
       "    <tr>\n",
       "      <th>0</th>\n",
       "      <td>1000027_1</td>\n",
       "      <td>4</td>\n",
       "      <td>1000027</td>\n",
       "      <td>4</td>\n",
       "      <td>3</td>\n",
       "      <td>2016-08-13</td>\n",
       "      <td>2016-08-18</td>\n",
       "      <td>-0.050130</td>\n",
       "      <td>-0.560293</td>\n",
       "      <td>-0.314496</td>\n",
       "      <td>...</td>\n",
       "      <td>1</td>\n",
       "      <td>-1.000000e+00</td>\n",
       "      <td>-1.836970e-16</td>\n",
       "      <td>-8.660254e-01</td>\n",
       "      <td>-0.500000</td>\n",
       "      <td>-0.680773</td>\n",
       "      <td>-0.732494</td>\n",
       "      <td>-0.866025</td>\n",
       "      <td>0.5</td>\n",
       "      <td>[0.16040363907814026, -0.16208097338676453, -0...</td>\n",
       "    </tr>\n",
       "    <tr>\n",
       "      <th>1</th>\n",
       "      <td>1000083_1</td>\n",
       "      <td>4</td>\n",
       "      <td>1000083</td>\n",
       "      <td>4</td>\n",
       "      <td>3</td>\n",
       "      <td>2016-06-13</td>\n",
       "      <td>2016-06-16</td>\n",
       "      <td>-0.050130</td>\n",
       "      <td>-0.560293</td>\n",
       "      <td>-0.314496</td>\n",
       "      <td>...</td>\n",
       "      <td>0</td>\n",
       "      <td>1.224647e-16</td>\n",
       "      <td>-1.000000e+00</td>\n",
       "      <td>1.224647e-16</td>\n",
       "      <td>-1.000000</td>\n",
       "      <td>0.296713</td>\n",
       "      <td>-0.954967</td>\n",
       "      <td>0.000000</td>\n",
       "      <td>1.0</td>\n",
       "      <td>[0.11315741389989853, -0.053704582154750824, -...</td>\n",
       "    </tr>\n",
       "    <tr>\n",
       "      <th>2</th>\n",
       "      <td>100008_1</td>\n",
       "      <td>5</td>\n",
       "      <td>100008</td>\n",
       "      <td>5</td>\n",
       "      <td>4</td>\n",
       "      <td>2016-07-18</td>\n",
       "      <td>2016-07-25</td>\n",
       "      <td>0.203099</td>\n",
       "      <td>-0.325337</td>\n",
       "      <td>-0.314496</td>\n",
       "      <td>...</td>\n",
       "      <td>0</td>\n",
       "      <td>-1.000000e+00</td>\n",
       "      <td>-1.836970e-16</td>\n",
       "      <td>-5.000000e-01</td>\n",
       "      <td>-0.866025</td>\n",
       "      <td>-0.296713</td>\n",
       "      <td>-0.954967</td>\n",
       "      <td>0.000000</td>\n",
       "      <td>1.0</td>\n",
       "      <td>[0.041144490242004395, -0.17495191097259521, -...</td>\n",
       "    </tr>\n",
       "    <tr>\n",
       "      <th>3</th>\n",
       "      <td>1000136_1</td>\n",
       "      <td>5</td>\n",
       "      <td>1000136</td>\n",
       "      <td>5</td>\n",
       "      <td>4</td>\n",
       "      <td>2016-10-08</td>\n",
       "      <td>2016-10-15</td>\n",
       "      <td>0.203099</td>\n",
       "      <td>-0.325337</td>\n",
       "      <td>-0.314496</td>\n",
       "      <td>...</td>\n",
       "      <td>1</td>\n",
       "      <td>-2.449294e-16</td>\n",
       "      <td>1.000000e+00</td>\n",
       "      <td>-8.660254e-01</td>\n",
       "      <td>0.500000</td>\n",
       "      <td>-0.989932</td>\n",
       "      <td>0.141540</td>\n",
       "      <td>-0.866025</td>\n",
       "      <td>0.5</td>\n",
       "      <td>[0.0011888369917869568, -0.1449287086725235, -...</td>\n",
       "    </tr>\n",
       "    <tr>\n",
       "      <th>4</th>\n",
       "      <td>1000145_1</td>\n",
       "      <td>5</td>\n",
       "      <td>1000145</td>\n",
       "      <td>5</td>\n",
       "      <td>4</td>\n",
       "      <td>2016-07-16</td>\n",
       "      <td>2016-07-28</td>\n",
       "      <td>0.203099</td>\n",
       "      <td>-0.325337</td>\n",
       "      <td>-0.314496</td>\n",
       "      <td>...</td>\n",
       "      <td>1</td>\n",
       "      <td>-1.000000e+00</td>\n",
       "      <td>-1.836970e-16</td>\n",
       "      <td>-5.000000e-01</td>\n",
       "      <td>-0.866025</td>\n",
       "      <td>-0.263665</td>\n",
       "      <td>-0.964614</td>\n",
       "      <td>-0.866025</td>\n",
       "      <td>0.5</td>\n",
       "      <td>[0.041662052273750305, -0.2262377291917801, -0...</td>\n",
       "    </tr>\n",
       "  </tbody>\n",
       "</table>\n",
       "<p>5 rows × 55 columns</p>\n",
       "</div>"
      ],
      "text/plain": [
       "    utrip_id  last_step  user_id  count_unique_city  trip_size  start_trip  \\\n",
       "0  1000027_1          4  1000027                  4          3  2016-08-13   \n",
       "1  1000083_1          4  1000083                  4          3  2016-06-13   \n",
       "2   100008_1          5   100008                  5          4  2016-07-18   \n",
       "3  1000136_1          5  1000136                  5          4  2016-10-08   \n",
       "4  1000145_1          5  1000145                  5          4  2016-07-16   \n",
       "\n",
       "     end_trip  user_city_count  user_city_unique  user_trip_count  ...  \\\n",
       "0  2016-08-18        -0.050130         -0.560293        -0.314496  ...   \n",
       "1  2016-06-16        -0.050130         -0.560293        -0.314496  ...   \n",
       "2  2016-07-25         0.203099         -0.325337        -0.314496  ...   \n",
       "3  2016-10-15         0.203099         -0.325337        -0.314496  ...   \n",
       "4  2016-07-28         0.203099         -0.325337        -0.314496  ...   \n",
       "\n",
       "   start_trip_is_weekend start_trip_quarter_sin start_trip_quarter_cos  \\\n",
       "0                      1          -1.000000e+00          -1.836970e-16   \n",
       "1                      0           1.224647e-16          -1.000000e+00   \n",
       "2                      0          -1.000000e+00          -1.836970e-16   \n",
       "3                      1          -2.449294e-16           1.000000e+00   \n",
       "4                      1          -1.000000e+00          -1.836970e-16   \n",
       "\n",
       "  start_trip_month_sin start_trip_month_cos start_trip_day_sin  \\\n",
       "0        -8.660254e-01            -0.500000          -0.680773   \n",
       "1         1.224647e-16            -1.000000           0.296713   \n",
       "2        -5.000000e-01            -0.866025          -0.296713   \n",
       "3        -8.660254e-01             0.500000          -0.989932   \n",
       "4        -5.000000e-01            -0.866025          -0.263665   \n",
       "\n",
       "  start_trip_day_cos start_trip_week_sin start_trip_week_cos  \\\n",
       "0          -0.732494           -0.866025                 0.5   \n",
       "1          -0.954967            0.000000                 1.0   \n",
       "2          -0.954967            0.000000                 1.0   \n",
       "3           0.141540           -0.866025                 0.5   \n",
       "4          -0.964614           -0.866025                 0.5   \n",
       "\n",
       "                                       user_features  \n",
       "0  [0.16040363907814026, -0.16208097338676453, -0...  \n",
       "1  [0.11315741389989853, -0.053704582154750824, -...  \n",
       "2  [0.041144490242004395, -0.17495191097259521, -...  \n",
       "3  [0.0011888369917869568, -0.1449287086725235, -...  \n",
       "4  [0.041662052273750305, -0.2262377291917801, -0...  \n",
       "\n",
       "[5 rows x 55 columns]"
      ]
     },
     "execution_count": 3,
     "metadata": {},
     "output_type": "execute_result"
    }
   ],
   "source": [
    "df = pd.read_csv('../output/booking/dataset/train_0.1_10.csv')\n",
    "\n",
    "df.head()"
   ]
  },
  {
   "cell_type": "code",
   "execution_count": 4,
   "metadata": {},
   "outputs": [
    {
     "data": {
      "text/plain": [
       "0              [0, 0, 0, 0, 0, 0, 8183, 15626, 60902, M]\n",
       "1             [0, 0, 0, 0, 0, 0, 55990, 14705, 35160, M]\n",
       "2           [0, 0, 0, 0, 0, 11306, 12096, 6761, 6779, M]\n",
       "3         [0, 0, 0, 0, 0, 62541, 42482, 20345, 33540, M]\n",
       "4         [0, 0, 0, 0, 0, 47499, 27112, 17764, 56651, M]\n",
       "                               ...                      \n",
       "183995          [0, 0, 0, 0, 0, 0, 4476, 1034, 64876, M]\n",
       "183996        [0, 0, 0, 0, 0, 0, 17775, 66634, 17775, M]\n",
       "183997          [0, 0, 0, 0, 0, 0, 8335, 21328, 8335, M]\n",
       "183998        [0, 0, 0, 0, 0, 0, 51291, 66969, 67169, M]\n",
       "183999          [0, 0, 0, 0, 0, 0, 17944, 47075, 228, M]\n",
       "Name: city_id_list, Length: 184000, dtype: object"
      ]
     },
     "execution_count": 4,
     "metadata": {},
     "output_type": "execute_result"
    }
   ],
   "source": [
    "df['city_id_list'] = df['city_id_list'].apply(eval)\n",
    "df['city_id_list']"
   ]
  },
  {
   "cell_type": "code",
   "execution_count": null,
   "metadata": {},
   "outputs": [],
   "source": []
  },
  {
   "cell_type": "markdown",
   "metadata": {},
   "source": [
    "## Coocorrence"
   ]
  },
  {
   "cell_type": "code",
   "execution_count": 5,
   "metadata": {},
   "outputs": [],
   "source": [
    "def create_co_occurences_matrix(allowed_words, documents):\n",
    "    word_to_id       = dict(zip(allowed_words, range(len(allowed_words))))\n",
    "    documents_as_ids = [np.sort([word_to_id[w] for w in doc if w in word_to_id]).astype('uint32') for doc in documents]\n",
    "    row_ind, col_ind = zip(*itertools.chain(*[[(i, w) for w in doc] for i, doc in enumerate(documents_as_ids)]))\n",
    "    \n",
    "    data        = np.ones(len(row_ind), dtype='uint32')  # use unsigned int for better memory utilization\n",
    "    max_word_id = max(itertools.chain(*documents_as_ids)) + 1\n",
    "    \n",
    "    docs_words_matrix = csr_matrix((data, (row_ind, col_ind)), shape=(len(documents_as_ids), max_word_id))  # efficient arithmetic operations with CSR * CSR\n",
    "    words_cooc_matrix = docs_words_matrix.T * docs_words_matrix  # multiplying docs_words_matrix with its transpose matrix would generate the co-occurences matrix\n",
    "    words_cooc_matrix.setdiag(0)\n",
    "\n",
    "    return words_cooc_matrix, word_to_id "
   ]
  },
  {
   "cell_type": "code",
   "execution_count": 6,
   "metadata": {},
   "outputs": [],
   "source": [
    "item_idx = np.unique(df_all['city_id'])\n",
    "lists    = list(df['city_id_list'])"
   ]
  },
  {
   "cell_type": "code",
   "execution_count": 7,
   "metadata": {},
   "outputs": [
    {
     "name": "stderr",
     "output_type": "stream",
     "text": [
      "/home/marlesson/anaconda3/lib/python3.7/site-packages/scipy/sparse/_index.py:124: SparseEfficiencyWarning: Changing the sparsity structure of a csc_matrix is expensive. lil_matrix is more efficient.\n",
      "  self._set_arrayXarray(i, j, x)\n"
     ]
    }
   ],
   "source": [
    "cooc_matrix, cooc_to_idx = create_co_occurences_matrix(item_idx, lists)\n",
    "cooc_to_id =  {v: k for k, v in cooc_to_idx.items()}"
   ]
  },
  {
   "cell_type": "code",
   "execution_count": 8,
   "metadata": {},
   "outputs": [
    {
     "data": {
      "text/plain": [
       "(array([29690,  7751,  4223, ..., 26374, 26373,     0]), 39900)"
      ]
     },
     "execution_count": 8,
     "metadata": {},
     "output_type": "execute_result"
    }
   ],
   "source": [
    "uid    = cooc_to_idx['29770'] #52818\n",
    "scores = np.argsort(np.array(cooc_matrix[uid].todense())[0])[::-1]\n",
    "scores, np.max(scores)"
   ]
  },
  {
   "cell_type": "code",
   "execution_count": 9,
   "metadata": {
    "scrolled": true
   },
   "outputs": [
    {
     "data": {
      "text/plain": [
       "[('55196', 643),\n",
       " ('21929', 569),\n",
       " ('16521', 422),\n",
       " ('52818', 338),\n",
       " ('46258', 332),\n",
       " ('48343', 326),\n",
       " ('44869', 275),\n",
       " ('36063', 239),\n",
       " ('64269', 233),\n",
       " ('37601', 214)]"
      ]
     },
     "execution_count": 9,
     "metadata": {},
     "output_type": "execute_result"
    }
   ],
   "source": [
    "[(cooc_to_id[_id], cooc_matrix[uid,_id]) for _id in scores[:10]]"
   ]
  },
  {
   "cell_type": "code",
   "execution_count": 10,
   "metadata": {},
   "outputs": [
    {
     "data": {
      "text/plain": [
       "(39901, 39901)"
      ]
     },
     "execution_count": 10,
     "metadata": {},
     "output_type": "execute_result"
    }
   ],
   "source": [
    "cooc_matrix.shape"
   ]
  },
  {
   "cell_type": "code",
   "execution_count": 11,
   "metadata": {},
   "outputs": [],
   "source": [
    "def get_neighbors(uid,cooc_matrix, cooc_to_idx,cooc_to_id, top=10):\n",
    "    if uid in cooc_to_idx:\n",
    "        uid    = cooc_to_idx[uid] \n",
    "        scores = np.argsort(np.array(cooc_matrix[uid].todense())[0])[::-1]\n",
    "\n",
    "        return [cooc_to_id[_id] for _id in scores[:top]],\\\n",
    "                    [cooc_matrix[uid,_id] for _id in scores[:top]]\n",
    "    else:\n",
    "        return [], []"
   ]
  },
  {
   "cell_type": "code",
   "execution_count": 12,
   "metadata": {},
   "outputs": [
    {
     "data": {
      "text/plain": [
       "[('55196', 643),\n",
       " ('21929', 569),\n",
       " ('16521', 422),\n",
       " ('52818', 338),\n",
       " ('46258', 332),\n",
       " ('48343', 326),\n",
       " ('44869', 275),\n",
       " ('36063', 239),\n",
       " ('64269', 233),\n",
       " ('37601', 214)]"
      ]
     },
     "execution_count": 12,
     "metadata": {},
     "output_type": "execute_result"
    }
   ],
   "source": [
    "uid = '29770'\n",
    "items, scores = get_neighbors(uid, cooc_matrix, cooc_to_idx, cooc_to_id, top=10)\n",
    "list(zip(items, scores))"
   ]
  },
  {
   "cell_type": "markdown",
   "metadata": {},
   "source": [
    "# Item Neiborhods  - KDTree"
   ]
  },
  {
   "cell_type": "code",
   "execution_count": 5,
   "metadata": {},
   "outputs": [
    {
     "name": "stdout",
     "output_type": "stream",
     "text": [
      "(1049635, 10) (117200, 10)\n"
     ]
    },
    {
     "data": {
      "text/html": [
       "<div>\n",
       "<style scoped>\n",
       "    .dataframe tbody tr th:only-of-type {\n",
       "        vertical-align: middle;\n",
       "    }\n",
       "\n",
       "    .dataframe tbody tr th {\n",
       "        vertical-align: top;\n",
       "    }\n",
       "\n",
       "    .dataframe thead th {\n",
       "        text-align: right;\n",
       "    }\n",
       "</style>\n",
       "<table border=\"1\" class=\"dataframe\">\n",
       "  <thead>\n",
       "    <tr style=\"text-align: right;\">\n",
       "      <th></th>\n",
       "      <th>Unnamed: 0</th>\n",
       "      <th>user_id</th>\n",
       "      <th>checkin</th>\n",
       "      <th>checkout</th>\n",
       "      <th>city_id</th>\n",
       "      <th>device_class</th>\n",
       "      <th>affiliate_id</th>\n",
       "      <th>booker_country</th>\n",
       "      <th>hotel_country</th>\n",
       "      <th>utrip_id</th>\n",
       "      <th>visit</th>\n",
       "    </tr>\n",
       "  </thead>\n",
       "  <tbody>\n",
       "    <tr>\n",
       "      <th>7504</th>\n",
       "      <td>7504</td>\n",
       "      <td>2595109</td>\n",
       "      <td>2015-12-31</td>\n",
       "      <td>2016-01-01</td>\n",
       "      <td>27404</td>\n",
       "      <td>mobile</td>\n",
       "      <td>359</td>\n",
       "      <td>The Devilfire Empire</td>\n",
       "      <td>Cobra Island</td>\n",
       "      <td>2595109_1</td>\n",
       "      <td>1</td>\n",
       "    </tr>\n",
       "    <tr>\n",
       "      <th>986596</th>\n",
       "      <td>986596</td>\n",
       "      <td>2000964</td>\n",
       "      <td>2015-12-31</td>\n",
       "      <td>2016-01-01</td>\n",
       "      <td>63341</td>\n",
       "      <td>mobile</td>\n",
       "      <td>8151</td>\n",
       "      <td>The Devilfire Empire</td>\n",
       "      <td>Cobra Island</td>\n",
       "      <td>2000964_1</td>\n",
       "      <td>1</td>\n",
       "    </tr>\n",
       "    <tr>\n",
       "      <th>1104472</th>\n",
       "      <td>1104472</td>\n",
       "      <td>2379328</td>\n",
       "      <td>2016-01-01</td>\n",
       "      <td>2016-01-02</td>\n",
       "      <td>65663</td>\n",
       "      <td>mobile</td>\n",
       "      <td>3449</td>\n",
       "      <td>Tcherkistan</td>\n",
       "      <td>Oceania</td>\n",
       "      <td>2379328_1</td>\n",
       "      <td>1</td>\n",
       "    </tr>\n",
       "    <tr>\n",
       "      <th>788050</th>\n",
       "      <td>788050</td>\n",
       "      <td>1379517</td>\n",
       "      <td>2016-01-01</td>\n",
       "      <td>2016-01-03</td>\n",
       "      <td>47499</td>\n",
       "      <td>mobile</td>\n",
       "      <td>7360</td>\n",
       "      <td>Elbonia</td>\n",
       "      <td>Kangan</td>\n",
       "      <td>1379517_1</td>\n",
       "      <td>1</td>\n",
       "    </tr>\n",
       "    <tr>\n",
       "      <th>765551</th>\n",
       "      <td>765551</td>\n",
       "      <td>2147992</td>\n",
       "      <td>2016-01-01</td>\n",
       "      <td>2016-01-04</td>\n",
       "      <td>51259</td>\n",
       "      <td>mobile</td>\n",
       "      <td>9452</td>\n",
       "      <td>Gondal</td>\n",
       "      <td>Oceania</td>\n",
       "      <td>2147992_1</td>\n",
       "      <td>1</td>\n",
       "    </tr>\n",
       "  </tbody>\n",
       "</table>\n",
       "</div>"
      ],
      "text/plain": [
       "         Unnamed: 0  user_id    checkin   checkout city_id device_class  \\\n",
       "7504           7504  2595109 2015-12-31 2016-01-01   27404       mobile   \n",
       "986596       986596  2000964 2015-12-31 2016-01-01   63341       mobile   \n",
       "1104472     1104472  2379328 2016-01-01 2016-01-02   65663       mobile   \n",
       "788050       788050  1379517 2016-01-01 2016-01-03   47499       mobile   \n",
       "765551       765551  2147992 2016-01-01 2016-01-04   51259       mobile   \n",
       "\n",
       "        affiliate_id        booker_country hotel_country   utrip_id  visit  \n",
       "7504             359  The Devilfire Empire  Cobra Island  2595109_1      1  \n",
       "986596          8151  The Devilfire Empire  Cobra Island  2000964_1      1  \n",
       "1104472         3449           Tcherkistan       Oceania  2379328_1      1  \n",
       "788050          7360               Elbonia        Kangan  1379517_1      1  \n",
       "765551          9452                Gondal       Oceania  2147992_1      1  "
      ]
     },
     "execution_count": 5,
     "metadata": {},
     "output_type": "execute_result"
    }
   ],
   "source": [
    "from sklearn.model_selection import train_test_split\n",
    "\n",
    "df_trip = df_all[['utrip_id']].drop_duplicates()\n",
    "df_train, df_test = train_test_split(df_trip, test_size=0.1, random_state=42)\n",
    "df_train, df_test = df_all[df_all['utrip_id'].isin(df_train['utrip_id'])].sort_values('checkin'), \\\n",
    "                    df_all[df_all['utrip_id'].isin(df_test['utrip_id'])].sort_values('checkin')\n",
    "print(df_train.shape, df_test.shape)\n",
    "\n",
    "df_train['visit'] = 1\n",
    "df_train.head()"
   ]
  },
  {
   "cell_type": "code",
   "execution_count": 23,
   "metadata": {},
   "outputs": [],
   "source": [
    "df_train = df_train.sample(1000)"
   ]
  },
  {
   "cell_type": "code",
   "execution_count": 24,
   "metadata": {},
   "outputs": [],
   "source": [
    "from pandas.api.types import CategoricalDtype\n",
    "from sklearn.neighbors import KDTree\n",
    "from scipy.spatial import KDTree as KDT\n",
    "\n",
    "def create_sparse_matrix(df: pd.DataFrame, col_row, col_col):\n",
    "\n",
    "    item_c    = CategoricalDtype(sorted(df[col_row].unique()), ordered=True)\n",
    "    session_c = CategoricalDtype(sorted(df[col_col].unique()), ordered=True)\n",
    "\n",
    "    row = df[col_row].astype(item_c).cat.codes\n",
    "    col = df[col_col].astype(session_c).cat.codes\n",
    "\n",
    "    sparse_matrix = csr_matrix((df[\"visit\"], (row, col)), \\\n",
    "                            shape=(item_c.categories.size, session_c.categories.size))\n",
    "    return sparse_matrix\n"
   ]
  },
  {
   "cell_type": "code",
   "execution_count": 25,
   "metadata": {},
   "outputs": [
    {
     "data": {
      "text/plain": [
       "<689x998 sparse matrix of type '<class 'numpy.int64'>'\n",
       "\twith 1000 stored elements in Compressed Sparse Row format>"
      ]
     },
     "execution_count": 25,
     "metadata": {},
     "output_type": "execute_result"
    }
   ],
   "source": [
    "item_idx = np.unique(df_train['city_id'])\n",
    "lists    = list(df['city_id_list'])\n",
    "sparse_matrix = create_sparse_matrix(df_train,'city_id', 'utrip_id')\n",
    "sparse_matrix"
   ]
  },
  {
   "cell_type": "code",
   "execution_count": 26,
   "metadata": {},
   "outputs": [
    {
     "data": {
      "text/plain": [
       "array([[0, 0, 0, ..., 0, 0, 0],\n",
       "       [0, 0, 0, ..., 0, 0, 0],\n",
       "       [0, 0, 0, ..., 0, 0, 0],\n",
       "       ...,\n",
       "       [0, 0, 0, ..., 0, 0, 0],\n",
       "       [0, 0, 0, ..., 0, 0, 0],\n",
       "       [0, 0, 0, ..., 0, 0, 0]])"
      ]
     },
     "execution_count": 26,
     "metadata": {},
     "output_type": "execute_result"
    }
   ],
   "source": [
    "np.asarray(sparse_matrix.todense())"
   ]
  },
  {
   "cell_type": "code",
   "execution_count": 39,
   "metadata": {},
   "outputs": [
    {
     "data": {
      "text/plain": [
       "(array([[0.        , 1.41421356, 1.41421356],\n",
       "        [0.        , 1.73205081, 1.73205081]]), array([[  0,  15, 169],\n",
       "        [  1,  15, 169]]))"
      ]
     },
     "execution_count": 39,
     "metadata": {},
     "output_type": "execute_result"
    }
   ],
   "source": [
    "X    = sparse_matrix.todense()\n",
    "tree = KDTree(X, leaf_size=10)\n",
    "\n",
    "dist, ind = tree.query(X[:2], k=3)   \n",
    "dist, ind"
   ]
  },
  {
   "cell_type": "code",
   "execution_count": 45,
   "metadata": {},
   "outputs": [],
   "source": [
    "matrix_item_idx  = dict(zip(item_idx, list(range(len(item_idx)))))\n",
    "matrix_item_id   = {v: k for k, v in matrix_item_idx.items()}\n",
    "sparse_matrix    = sparse_matrix\n",
    "#np.fill_diagonal(cos_matrix, 0)\n",
    "#cos_matrix       = sparse.csr_matrix(cos_matrix)"
   ]
  },
  {
   "cell_type": "code",
   "execution_count": 50,
   "metadata": {},
   "outputs": [
    {
     "data": {
      "text/plain": [
       "(array([[0., 2., 2.]]), array([[232, 214, 213]]))"
      ]
     },
     "execution_count": 50,
     "metadata": {},
     "output_type": "execute_result"
    }
   ],
   "source": [
    "uid = '29770'\n",
    "uid    = matrix_item_idx[uid] \n",
    "dist, ind = tree.query(np.array(sparse_matrix[uid].todense()), k=3)   \n",
    "dist, ind "
   ]
  },
  {
   "cell_type": "code",
   "execution_count": 61,
   "metadata": {},
   "outputs": [],
   "source": [
    "def get_neighbors_tree(uid, tree, sparse_matrix, cooc_to_idx, cooc_to_id, top=10):\n",
    "    if uid in cooc_to_idx:\n",
    "        uid      = cooc_to_idx[uid] \n",
    "        \n",
    "        dist, ind = tree.query(np.array(sparse_matrix[uid].todense()), k=top+1)   \n",
    "\n",
    "        return [cooc_to_id[_id] for _id in ind[0][1:]],\\\n",
    "                    dist[0][1:]\n",
    "    else:\n",
    "        return [], []"
   ]
  },
  {
   "cell_type": "code",
   "execution_count": 62,
   "metadata": {},
   "outputs": [
    {
     "data": {
      "text/plain": [
       "[('2808', 2.0),\n",
       " ('28496', 2.0),\n",
       " ('28479', 2.0),\n",
       " ('2813', 2.0),\n",
       " ('28115', 2.0),\n",
       " ('28154', 2.0),\n",
       " ('28455', 2.0),\n",
       " ('27634', 2.0),\n",
       " ('27695', 2.0),\n",
       " ('28968', 2.0)]"
      ]
     },
     "execution_count": 62,
     "metadata": {},
     "output_type": "execute_result"
    }
   ],
   "source": [
    "uid = '29770'\n",
    "items, scores = get_neighbors_tree(uid, tree, sparse_matrix, matrix_item_idx, matrix_item_id, top=10)\n",
    "list(zip(items, scores))"
   ]
  },
  {
   "cell_type": "markdown",
   "metadata": {},
   "source": [
    "## Session Similarity"
   ]
  },
  {
   "cell_type": "code",
   "execution_count": 13,
   "metadata": {},
   "outputs": [
    {
     "name": "stdout",
     "output_type": "stream",
     "text": [
      "(1049635, 10) (117200, 10)\n"
     ]
    },
    {
     "data": {
      "text/html": [
       "<div>\n",
       "<style scoped>\n",
       "    .dataframe tbody tr th:only-of-type {\n",
       "        vertical-align: middle;\n",
       "    }\n",
       "\n",
       "    .dataframe tbody tr th {\n",
       "        vertical-align: top;\n",
       "    }\n",
       "\n",
       "    .dataframe thead th {\n",
       "        text-align: right;\n",
       "    }\n",
       "</style>\n",
       "<table border=\"1\" class=\"dataframe\">\n",
       "  <thead>\n",
       "    <tr style=\"text-align: right;\">\n",
       "      <th></th>\n",
       "      <th>Unnamed: 0</th>\n",
       "      <th>user_id</th>\n",
       "      <th>checkin</th>\n",
       "      <th>checkout</th>\n",
       "      <th>city_id</th>\n",
       "      <th>device_class</th>\n",
       "      <th>affiliate_id</th>\n",
       "      <th>booker_country</th>\n",
       "      <th>hotel_country</th>\n",
       "      <th>utrip_id</th>\n",
       "      <th>visit</th>\n",
       "    </tr>\n",
       "  </thead>\n",
       "  <tbody>\n",
       "    <tr>\n",
       "      <th>7504</th>\n",
       "      <td>7504</td>\n",
       "      <td>2595109</td>\n",
       "      <td>2015-12-31</td>\n",
       "      <td>2016-01-01</td>\n",
       "      <td>27404</td>\n",
       "      <td>mobile</td>\n",
       "      <td>359</td>\n",
       "      <td>The Devilfire Empire</td>\n",
       "      <td>Cobra Island</td>\n",
       "      <td>2595109_1</td>\n",
       "      <td>1</td>\n",
       "    </tr>\n",
       "    <tr>\n",
       "      <th>986596</th>\n",
       "      <td>986596</td>\n",
       "      <td>2000964</td>\n",
       "      <td>2015-12-31</td>\n",
       "      <td>2016-01-01</td>\n",
       "      <td>63341</td>\n",
       "      <td>mobile</td>\n",
       "      <td>8151</td>\n",
       "      <td>The Devilfire Empire</td>\n",
       "      <td>Cobra Island</td>\n",
       "      <td>2000964_1</td>\n",
       "      <td>1</td>\n",
       "    </tr>\n",
       "    <tr>\n",
       "      <th>1104472</th>\n",
       "      <td>1104472</td>\n",
       "      <td>2379328</td>\n",
       "      <td>2016-01-01</td>\n",
       "      <td>2016-01-02</td>\n",
       "      <td>65663</td>\n",
       "      <td>mobile</td>\n",
       "      <td>3449</td>\n",
       "      <td>Tcherkistan</td>\n",
       "      <td>Oceania</td>\n",
       "      <td>2379328_1</td>\n",
       "      <td>1</td>\n",
       "    </tr>\n",
       "    <tr>\n",
       "      <th>788050</th>\n",
       "      <td>788050</td>\n",
       "      <td>1379517</td>\n",
       "      <td>2016-01-01</td>\n",
       "      <td>2016-01-03</td>\n",
       "      <td>47499</td>\n",
       "      <td>mobile</td>\n",
       "      <td>7360</td>\n",
       "      <td>Elbonia</td>\n",
       "      <td>Kangan</td>\n",
       "      <td>1379517_1</td>\n",
       "      <td>1</td>\n",
       "    </tr>\n",
       "    <tr>\n",
       "      <th>765551</th>\n",
       "      <td>765551</td>\n",
       "      <td>2147992</td>\n",
       "      <td>2016-01-01</td>\n",
       "      <td>2016-01-04</td>\n",
       "      <td>51259</td>\n",
       "      <td>mobile</td>\n",
       "      <td>9452</td>\n",
       "      <td>Gondal</td>\n",
       "      <td>Oceania</td>\n",
       "      <td>2147992_1</td>\n",
       "      <td>1</td>\n",
       "    </tr>\n",
       "  </tbody>\n",
       "</table>\n",
       "</div>"
      ],
      "text/plain": [
       "         Unnamed: 0  user_id    checkin   checkout city_id device_class  \\\n",
       "7504           7504  2595109 2015-12-31 2016-01-01   27404       mobile   \n",
       "986596       986596  2000964 2015-12-31 2016-01-01   63341       mobile   \n",
       "1104472     1104472  2379328 2016-01-01 2016-01-02   65663       mobile   \n",
       "788050       788050  1379517 2016-01-01 2016-01-03   47499       mobile   \n",
       "765551       765551  2147992 2016-01-01 2016-01-04   51259       mobile   \n",
       "\n",
       "        affiliate_id        booker_country hotel_country   utrip_id  visit  \n",
       "7504             359  The Devilfire Empire  Cobra Island  2595109_1      1  \n",
       "986596          8151  The Devilfire Empire  Cobra Island  2000964_1      1  \n",
       "1104472         3449           Tcherkistan       Oceania  2379328_1      1  \n",
       "788050          7360               Elbonia        Kangan  1379517_1      1  \n",
       "765551          9452                Gondal       Oceania  2147992_1      1  "
      ]
     },
     "execution_count": 13,
     "metadata": {},
     "output_type": "execute_result"
    }
   ],
   "source": [
    "from sklearn.model_selection import train_test_split\n",
    "\n",
    "df_trip = df_all[['utrip_id']].drop_duplicates()\n",
    "df_train, df_test = train_test_split(df_trip, test_size=0.1, random_state=42)\n",
    "df_train, df_test = df_all[df_all['utrip_id'].isin(df_train['utrip_id'])].sort_values('checkin'), \\\n",
    "                    df_all[df_all['utrip_id'].isin(df_test['utrip_id'])].sort_values('checkin')\n",
    "print(df_train.shape, df_test.shape)\n",
    "\n",
    "df_train['visit'] = 1\n",
    "df_train.head()"
   ]
  },
  {
   "cell_type": "code",
   "execution_count": 14,
   "metadata": {
    "scrolled": true
   },
   "outputs": [],
   "source": [
    "# sample_days = 500\n",
    "# test_days = 30\n",
    "# # Split Data\n",
    "# max_timestamp        = df_all.checkout.max()\n",
    "# init_train_timestamp = max_timestamp - timedelta(days = sample_days)\n",
    "# init_test_timestamp  = max_timestamp - timedelta(days = test_days)\n",
    "\n",
    "# # TODO Garantir que o usuário fique com a sessão no train ou test\n",
    "# df_train = df_all[(df_all.checkout >= init_train_timestamp) & (df_all.checkout < init_test_timestamp)]\n",
    "\n",
    "# df_train['visit'] = 1\n",
    "# df_train.head()"
   ]
  },
  {
   "cell_type": "code",
   "execution_count": 15,
   "metadata": {},
   "outputs": [],
   "source": [
    "from pandas.api.types import CategoricalDtype\n",
    "\n",
    "def create_sparse_matrix(df: pd.DataFrame, col_row, col_col):\n",
    "\n",
    "    item_c    = CategoricalDtype(sorted(df[col_row].unique()), ordered=True)\n",
    "    session_c = CategoricalDtype(sorted(df[col_col].unique()), ordered=True)\n",
    "\n",
    "    row = df[col_row].astype(item_c).cat.codes\n",
    "    col = df[col_col].astype(session_c).cat.codes\n",
    "\n",
    "    sparse_matrix = csr_matrix((df[\"visit\"], (row, col)), \\\n",
    "                            shape=(item_c.categories.size, session_c.categories.size))\n",
    "    return sparse_matrix\n"
   ]
  },
  {
   "cell_type": "code",
   "execution_count": 16,
   "metadata": {},
   "outputs": [
    {
     "data": {
      "text/plain": [
       "<38542x195917 sparse matrix of type '<class 'numpy.int64'>'\n",
       "\twith 930661 stored elements in Compressed Sparse Row format>"
      ]
     },
     "execution_count": 16,
     "metadata": {},
     "output_type": "execute_result"
    }
   ],
   "source": [
    "item_idx = np.unique(df_train['city_id'])\n",
    "lists    = list(df['city_id_list'])\n",
    "sparse_matrix = create_sparse_matrix(df_train,'city_id', 'utrip_id')\n",
    "sparse_matrix"
   ]
  },
  {
   "cell_type": "code",
   "execution_count": 17,
   "metadata": {},
   "outputs": [],
   "source": [
    "matrix_item_idx  = dict(zip(item_idx, list(range(len(item_idx)))))\n",
    "matrix_item_id   = {v: k for k, v in matrix_item_idx.items()}\n",
    "sparse_matrix    = sparse_matrix\n",
    "cos_matrix       = cosine_similarity(sparse_matrix)\n",
    "np.fill_diagonal(cos_matrix, 0)\n",
    "cos_matrix       = sparse.csr_matrix(cos_matrix)"
   ]
  },
  {
   "cell_type": "code",
   "execution_count": 18,
   "metadata": {},
   "outputs": [
    {
     "data": {
      "text/plain": [
       "<38542x38542 sparse matrix of type '<class 'numpy.float64'>'\n",
       "\twith 1310568 stored elements in Compressed Sparse Row format>"
      ]
     },
     "execution_count": 18,
     "metadata": {},
     "output_type": "execute_result"
    }
   ],
   "source": [
    "cos_matrix"
   ]
  },
  {
   "cell_type": "code",
   "execution_count": 19,
   "metadata": {},
   "outputs": [
    {
     "data": {
      "text/plain": [
       "(38542, 38542)"
      ]
     },
     "execution_count": 19,
     "metadata": {},
     "output_type": "execute_result"
    }
   ],
   "source": [
    "cos_matrix.shape"
   ]
  },
  {
   "cell_type": "code",
   "execution_count": 20,
   "metadata": {},
   "outputs": [
    {
     "data": {
      "text/plain": [
       "[('55196', 0.24882198273062126),\n",
       " ('48343', 0.20464527077161979),\n",
       " ('46258', 0.20346990117670205),\n",
       " ('37601', 0.17198514232928655),\n",
       " ('52818', 0.1684835559978779),\n",
       " ('21929', 0.16547570960762317),\n",
       " ('2201', 0.15737139444466414),\n",
       " ('53831', 0.14395272344687032),\n",
       " ('19333', 0.1376106689462748),\n",
       " ('53363', 0.1282264589232733)]"
      ]
     },
     "execution_count": 20,
     "metadata": {},
     "output_type": "execute_result"
    }
   ],
   "source": [
    "# def get_neighbors(uid,cooc_matrix, cooc_to_idx,cooc_to_id, top=10):\n",
    "#     uid    = cooc_to_idx[uid] \n",
    "#     scores = np.argsort(np.array(cooc_matrix[uid].todense())[0])[::-1]\n",
    "    \n",
    "#     return [(cooc_to_id[_id], cooc_matrix[uid,_id]) for _id in scores[:top]]\n",
    "\n",
    "uid = '29770'\n",
    "items, scores = get_neighbors(uid, cos_matrix, matrix_item_idx, matrix_item_id, top=10)\n",
    "list(zip(items, scores))"
   ]
  },
  {
   "cell_type": "markdown",
   "metadata": {},
   "source": [
    "## Session With Country"
   ]
  },
  {
   "cell_type": "code",
   "execution_count": 21,
   "metadata": {},
   "outputs": [
    {
     "data": {
      "text/plain": [
       "<38542x194 sparse matrix of type '<class 'numpy.int64'>'\n",
       "\twith 38542 stored elements in Compressed Sparse Row format>"
      ]
     },
     "execution_count": 21,
     "metadata": {},
     "output_type": "execute_result"
    }
   ],
   "source": [
    "item_idx = np.unique(df_train['city_id'])\n",
    "lists    = list(df['city_id_list'])\n",
    "sparse_matrix_c = create_sparse_matrix(df_train,'city_id', 'hotel_country')\n",
    "sparse_matrix_c"
   ]
  },
  {
   "cell_type": "code",
   "execution_count": 22,
   "metadata": {},
   "outputs": [
    {
     "data": {
      "text/plain": [
       "<38542x196111 sparse matrix of type '<class 'numpy.int64'>'\n",
       "\twith 969203 stored elements in COOrdinate format>"
      ]
     },
     "execution_count": 22,
     "metadata": {},
     "output_type": "execute_result"
    }
   ],
   "source": [
    "from scipy.sparse import hstack\n",
    "\n",
    "sparse_matrix = hstack((sparse_matrix, sparse_matrix_c))\n",
    "sparse_matrix"
   ]
  },
  {
   "cell_type": "code",
   "execution_count": 23,
   "metadata": {},
   "outputs": [],
   "source": [
    "matrix_item_idx  = dict(zip(item_idx, list(range(len(item_idx)))))\n",
    "matrix_item_id   = {v: k for k, v in matrix_item_idx.items()}\n",
    "sparse_matrix    = sparse_matrix\n",
    "cos_matrix_c       = cosine_similarity(sparse_matrix)\n",
    "np.fill_diagonal(cos_matrix_c, 0)\n",
    "cos_matrix_c       = sparse.csr_matrix(cos_matrix_c)"
   ]
  },
  {
   "cell_type": "code",
   "execution_count": 24,
   "metadata": {},
   "outputs": [
    {
     "data": {
      "text/plain": [
       "<38542x38542 sparse matrix of type '<class 'numpy.float64'>'\n",
       "\twith 95869942 stored elements in Compressed Sparse Row format>"
      ]
     },
     "execution_count": 24,
     "metadata": {},
     "output_type": "execute_result"
    }
   ],
   "source": [
    "cos_matrix_c"
   ]
  },
  {
   "cell_type": "code",
   "execution_count": 25,
   "metadata": {},
   "outputs": [
    {
     "data": {
      "text/plain": [
       "[('52818', 0.999653732787077),\n",
       " ('44869', 0.9995221146702377),\n",
       " ('46258', 0.9994775585730016),\n",
       " ('19333', 0.9993984561367825),\n",
       " ('53859', 0.99935079526557),\n",
       " ('4021', 0.9992434997448933),\n",
       " ('53363', 0.9992352798493708),\n",
       " ('37601', 0.9992160895788205),\n",
       " ('18083', 0.9991620780586361),\n",
       " ('67353', 0.9991615441041853)]"
      ]
     },
     "execution_count": 25,
     "metadata": {},
     "output_type": "execute_result"
    }
   ],
   "source": [
    "# def get_neighbors(uid,cooc_matrix, cooc_to_idx,cooc_to_id, top=10):\n",
    "#     uid    = cooc_to_idx[uid] \n",
    "#     scores = np.argsort(np.array(cooc_matrix[uid].todense())[0])[::-1]\n",
    "    \n",
    "#     return [(cooc_to_id[_id], cooc_matrix[uid,_id]) for _id in scores[:top]]\n",
    "\n",
    "uid = '29770'\n",
    "items, scores = get_neighbors(uid, cos_matrix_c, matrix_item_idx, matrix_item_id, top=10)\n",
    "list(zip(items, scores))"
   ]
  },
  {
   "cell_type": "code",
   "execution_count": null,
   "metadata": {},
   "outputs": [],
   "source": []
  },
  {
   "cell_type": "markdown",
   "metadata": {},
   "source": [
    "## Save"
   ]
  },
  {
   "cell_type": "code",
   "execution_count": 26,
   "metadata": {},
   "outputs": [
    {
     "data": {
      "text/html": [
       "<div>\n",
       "<style scoped>\n",
       "    .dataframe tbody tr th:only-of-type {\n",
       "        vertical-align: middle;\n",
       "    }\n",
       "\n",
       "    .dataframe tbody tr th {\n",
       "        vertical-align: top;\n",
       "    }\n",
       "\n",
       "    .dataframe thead th {\n",
       "        text-align: right;\n",
       "    }\n",
       "</style>\n",
       "<table border=\"1\" class=\"dataframe\">\n",
       "  <thead>\n",
       "    <tr style=\"text-align: right;\">\n",
       "      <th></th>\n",
       "      <th>Unnamed: 0</th>\n",
       "      <th>user_id</th>\n",
       "      <th>checkin</th>\n",
       "      <th>checkout</th>\n",
       "      <th>city_id</th>\n",
       "      <th>device_class</th>\n",
       "      <th>affiliate_id</th>\n",
       "      <th>booker_country</th>\n",
       "      <th>hotel_country</th>\n",
       "      <th>utrip_id</th>\n",
       "    </tr>\n",
       "  </thead>\n",
       "  <tbody>\n",
       "    <tr>\n",
       "      <th>0</th>\n",
       "      <td>0</td>\n",
       "      <td>1006220</td>\n",
       "      <td>2016-04-09</td>\n",
       "      <td>2016-04-11</td>\n",
       "      <td>31114</td>\n",
       "      <td>desktop</td>\n",
       "      <td>384</td>\n",
       "      <td>Gondal</td>\n",
       "      <td>Gondal</td>\n",
       "      <td>1006220_1</td>\n",
       "    </tr>\n",
       "    <tr>\n",
       "      <th>1</th>\n",
       "      <td>1</td>\n",
       "      <td>1006220</td>\n",
       "      <td>2016-04-11</td>\n",
       "      <td>2016-04-12</td>\n",
       "      <td>39641</td>\n",
       "      <td>desktop</td>\n",
       "      <td>384</td>\n",
       "      <td>Gondal</td>\n",
       "      <td>Gondal</td>\n",
       "      <td>1006220_1</td>\n",
       "    </tr>\n",
       "    <tr>\n",
       "      <th>2</th>\n",
       "      <td>2</td>\n",
       "      <td>1006220</td>\n",
       "      <td>2016-04-12</td>\n",
       "      <td>2016-04-16</td>\n",
       "      <td>20232</td>\n",
       "      <td>desktop</td>\n",
       "      <td>384</td>\n",
       "      <td>Gondal</td>\n",
       "      <td>Glubbdubdrib</td>\n",
       "      <td>1006220_1</td>\n",
       "    </tr>\n",
       "    <tr>\n",
       "      <th>3</th>\n",
       "      <td>3</td>\n",
       "      <td>1006220</td>\n",
       "      <td>2016-04-16</td>\n",
       "      <td>2016-04-17</td>\n",
       "      <td>24144</td>\n",
       "      <td>desktop</td>\n",
       "      <td>384</td>\n",
       "      <td>Gondal</td>\n",
       "      <td>Gondal</td>\n",
       "      <td>1006220_1</td>\n",
       "    </tr>\n",
       "    <tr>\n",
       "      <th>4</th>\n",
       "      <td>4</td>\n",
       "      <td>1010293</td>\n",
       "      <td>2016-07-09</td>\n",
       "      <td>2016-07-10</td>\n",
       "      <td>5325</td>\n",
       "      <td>mobile</td>\n",
       "      <td>359</td>\n",
       "      <td>The Devilfire Empire</td>\n",
       "      <td>Cobra Island</td>\n",
       "      <td>1010293_1</td>\n",
       "    </tr>\n",
       "  </tbody>\n",
       "</table>\n",
       "</div>"
      ],
      "text/plain": [
       "   Unnamed: 0  user_id    checkin   checkout city_id device_class  \\\n",
       "0           0  1006220 2016-04-09 2016-04-11   31114      desktop   \n",
       "1           1  1006220 2016-04-11 2016-04-12   39641      desktop   \n",
       "2           2  1006220 2016-04-12 2016-04-16   20232      desktop   \n",
       "3           3  1006220 2016-04-16 2016-04-17   24144      desktop   \n",
       "4           4  1010293 2016-07-09 2016-07-10    5325       mobile   \n",
       "\n",
       "  affiliate_id        booker_country hotel_country   utrip_id  \n",
       "0          384                Gondal        Gondal  1006220_1  \n",
       "1          384                Gondal        Gondal  1006220_1  \n",
       "2          384                Gondal  Glubbdubdrib  1006220_1  \n",
       "3          384                Gondal        Gondal  1006220_1  \n",
       "4          359  The Devilfire Empire  Cobra Island  1010293_1  "
      ]
     },
     "execution_count": 26,
     "metadata": {},
     "output_type": "execute_result"
    }
   ],
   "source": [
    "df_all.head()"
   ]
  },
  {
   "cell_type": "code",
   "execution_count": 27,
   "metadata": {},
   "outputs": [
    {
     "name": "stdout",
     "output_type": "stream",
     "text": [
      "CPU times: user 28min 50s, sys: 1.27 s, total: 28min 51s\n",
      "Wall time: 28min 56s\n"
     ]
    }
   ],
   "source": [
    "%%time \n",
    "\n",
    "top_k     = 50\n",
    "cities_id = list(np.unique(df_all['city_id']))\n",
    "dict_cooc_map   = {c: cities_id for c in cities_id}\n",
    "dict_kdtree_map   = {c: cities_id for c in cities_id}\n",
    "dict_sim_map    = {c: cities_id for c in cities_id}\n",
    "dict_sim_map_c  = {c: cities_id for c in cities_id}\n",
    "\n",
    "uid = '29770'\n",
    "\n",
    "for uid in cities_id:\n",
    "    items, scores = get_neighbors(uid, cooc_matrix, cooc_to_idx, cooc_to_id, top=top_k)\n",
    "    if len(items) > 0:\n",
    "        dict_cooc_map[uid] = items\n",
    "    \n",
    "    items, scores = get_neighbors_tree(uid, tree, sparse_matrix, matrix_item_idx, matrix_item_id, top=top_k)\n",
    "    if len(items) > 0:\n",
    "        dict_kdtree_map[uid] = items\n",
    "    \n",
    "    items, scores = get_neighbors(uid, cos_matrix, matrix_item_idx, matrix_item_id, top=top_k)\n",
    "    if len(items) > 0:\n",
    "        dict_sim_map[uid]  = items\n",
    "        \n",
    "    items, scores = get_neighbors(uid, cos_matrix_c, matrix_item_idx, matrix_item_id, top=top_k)\n",
    "    if len(items) > 0:\n",
    "        dict_sim_map_c[uid]  = items        "
   ]
  },
  {
   "cell_type": "code",
   "execution_count": 28,
   "metadata": {},
   "outputs": [],
   "source": [
    "import pickle \n",
    "\n",
    "# SAVE\n",
    "with open(\"../output/booking/dataset/neighbors_dict_cooc_map.pkl\", \"wb\") as pkl_handle:\n",
    "    pickle.dump(dict_cooc_map, pkl_handle)\n",
    "\n",
    "with open(\"../output/booking/dataset/neighbors_dict_kdtree_map.pkl\", \"wb\") as pkl_handle:\n",
    "    pickle.dump(dict_kdtree_map, pkl_handle)\n",
    "\n",
    "with open(\"../output/booking/dataset/neighbors_dict_sim_map.pkl\", \"wb\") as pkl_handle:\n",
    "    pickle.dump(dict_sim_map, pkl_handle)\n",
    "    \n",
    "with open(\"../output/booking/dataset/neighbors_dict_sim_map_c.pkl\", \"wb\") as pkl_handle:\n",
    "    pickle.dump(dict_sim_map_c, pkl_handle)    \n",
    "# # LOAD\n",
    "# with open(\"../output/booking/dataset/data.pkl\", \"rb\") as pkl_handle:\n",
    "# \toutput = pickle.load(pkl_handle)"
   ]
  },
  {
   "cell_type": "code",
   "execution_count": 29,
   "metadata": {},
   "outputs": [
    {
     "data": {
      "text/plain": [
       "1"
      ]
     },
     "execution_count": 29,
     "metadata": {},
     "output_type": "execute_result"
    }
   ],
   "source": [
    "1"
   ]
  },
  {
   "cell_type": "code",
   "execution_count": null,
   "metadata": {},
   "outputs": [],
   "source": []
  }
 ],
 "metadata": {
  "kernelspec": {
   "display_name": "Python 3",
   "language": "python",
   "name": "python3"
  },
  "language_info": {
   "codemirror_mode": {
    "name": "ipython",
    "version": 3
   },
   "file_extension": ".py",
   "mimetype": "text/x-python",
   "name": "python",
   "nbconvert_exporter": "python",
   "pygments_lexer": "ipython3",
   "version": "3.7.3"
  },
  "toc": {
   "base_numbering": 1,
   "nav_menu": {},
   "number_sections": true,
   "sideBar": true,
   "skip_h1_title": false,
   "title_cell": "Table of Contents",
   "title_sidebar": "Contents",
   "toc_cell": false,
   "toc_position": {},
   "toc_section_display": true,
   "toc_window_display": false
  }
 },
 "nbformat": 4,
 "nbformat_minor": 4
}
