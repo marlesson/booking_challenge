{
 "cells": [
  {
   "cell_type": "code",
   "execution_count": 1,
   "metadata": {},
   "outputs": [],
   "source": [
    "import numpy as np\n",
    "import itertools\n",
    "import pandas as pd\n",
    "import seaborn as sns\n",
    "import matplotlib.pyplot as plt\n",
    "from pandas_profiling import ProfileReport\n",
    "from scipy.sparse import csr_matrix\n",
    "from sklearn.metrics.pairwise import cosine_similarity\n",
    "from datetime import datetime, timedelta\n",
    "from scipy import sparse\n",
    "%matplotlib inline\n",
    "\n",
    "sns.set_theme(style=\"ticks\")"
   ]
  },
  {
   "cell_type": "code",
   "execution_count": 2,
   "metadata": {},
   "outputs": [
    {
     "data": {
      "text/html": [
       "<div>\n",
       "<style scoped>\n",
       "    .dataframe tbody tr th:only-of-type {\n",
       "        vertical-align: middle;\n",
       "    }\n",
       "\n",
       "    .dataframe tbody tr th {\n",
       "        vertical-align: top;\n",
       "    }\n",
       "\n",
       "    .dataframe thead th {\n",
       "        text-align: right;\n",
       "    }\n",
       "</style>\n",
       "<table border=\"1\" class=\"dataframe\">\n",
       "  <thead>\n",
       "    <tr style=\"text-align: right;\">\n",
       "      <th></th>\n",
       "      <th>Unnamed: 0</th>\n",
       "      <th>user_id</th>\n",
       "      <th>checkin</th>\n",
       "      <th>checkout</th>\n",
       "      <th>city_id</th>\n",
       "      <th>device_class</th>\n",
       "      <th>affiliate_id</th>\n",
       "      <th>booker_country</th>\n",
       "      <th>hotel_country</th>\n",
       "      <th>utrip_id</th>\n",
       "    </tr>\n",
       "  </thead>\n",
       "  <tbody>\n",
       "    <tr>\n",
       "      <th>0</th>\n",
       "      <td>0</td>\n",
       "      <td>1006220</td>\n",
       "      <td>2016-04-09</td>\n",
       "      <td>2016-04-11</td>\n",
       "      <td>31114</td>\n",
       "      <td>desktop</td>\n",
       "      <td>384</td>\n",
       "      <td>Gondal</td>\n",
       "      <td>Gondal</td>\n",
       "      <td>1006220_1</td>\n",
       "    </tr>\n",
       "    <tr>\n",
       "      <th>1</th>\n",
       "      <td>1</td>\n",
       "      <td>1006220</td>\n",
       "      <td>2016-04-11</td>\n",
       "      <td>2016-04-12</td>\n",
       "      <td>39641</td>\n",
       "      <td>desktop</td>\n",
       "      <td>384</td>\n",
       "      <td>Gondal</td>\n",
       "      <td>Gondal</td>\n",
       "      <td>1006220_1</td>\n",
       "    </tr>\n",
       "    <tr>\n",
       "      <th>2</th>\n",
       "      <td>2</td>\n",
       "      <td>1006220</td>\n",
       "      <td>2016-04-12</td>\n",
       "      <td>2016-04-16</td>\n",
       "      <td>20232</td>\n",
       "      <td>desktop</td>\n",
       "      <td>384</td>\n",
       "      <td>Gondal</td>\n",
       "      <td>Glubbdubdrib</td>\n",
       "      <td>1006220_1</td>\n",
       "    </tr>\n",
       "    <tr>\n",
       "      <th>3</th>\n",
       "      <td>3</td>\n",
       "      <td>1006220</td>\n",
       "      <td>2016-04-16</td>\n",
       "      <td>2016-04-17</td>\n",
       "      <td>24144</td>\n",
       "      <td>desktop</td>\n",
       "      <td>384</td>\n",
       "      <td>Gondal</td>\n",
       "      <td>Gondal</td>\n",
       "      <td>1006220_1</td>\n",
       "    </tr>\n",
       "    <tr>\n",
       "      <th>4</th>\n",
       "      <td>4</td>\n",
       "      <td>1010293</td>\n",
       "      <td>2016-07-09</td>\n",
       "      <td>2016-07-10</td>\n",
       "      <td>5325</td>\n",
       "      <td>mobile</td>\n",
       "      <td>359</td>\n",
       "      <td>The Devilfire Empire</td>\n",
       "      <td>Cobra Island</td>\n",
       "      <td>1010293_1</td>\n",
       "    </tr>\n",
       "  </tbody>\n",
       "</table>\n",
       "</div>"
      ],
      "text/plain": [
       "   Unnamed: 0  user_id    checkin   checkout city_id device_class  \\\n",
       "0           0  1006220 2016-04-09 2016-04-11   31114      desktop   \n",
       "1           1  1006220 2016-04-11 2016-04-12   39641      desktop   \n",
       "2           2  1006220 2016-04-12 2016-04-16   20232      desktop   \n",
       "3           3  1006220 2016-04-16 2016-04-17   24144      desktop   \n",
       "4           4  1010293 2016-07-09 2016-07-10    5325       mobile   \n",
       "\n",
       "  affiliate_id        booker_country hotel_country   utrip_id  \n",
       "0          384                Gondal        Gondal  1006220_1  \n",
       "1          384                Gondal        Gondal  1006220_1  \n",
       "2          384                Gondal  Glubbdubdrib  1006220_1  \n",
       "3          384                Gondal        Gondal  1006220_1  \n",
       "4          359  The Devilfire Empire  Cobra Island  1010293_1  "
      ]
     },
     "execution_count": 2,
     "metadata": {},
     "output_type": "execute_result"
    }
   ],
   "source": [
    "df_all = pd.read_csv('../data/Booking/booking_train_set.csv', \n",
    "                 dtype={\"user_id\": str, \"city_id\": str, 'affiliate_id': str,\n",
    "                       'utrip_id': str},parse_dates=['checkin', 'checkout'])\n",
    "\n",
    "df_all.head()"
   ]
  },
  {
   "cell_type": "code",
   "execution_count": 3,
   "metadata": {},
   "outputs": [
    {
     "data": {
      "text/html": [
       "<div>\n",
       "<style scoped>\n",
       "    .dataframe tbody tr th:only-of-type {\n",
       "        vertical-align: middle;\n",
       "    }\n",
       "\n",
       "    .dataframe tbody tr th {\n",
       "        vertical-align: top;\n",
       "    }\n",
       "\n",
       "    .dataframe thead th {\n",
       "        text-align: right;\n",
       "    }\n",
       "</style>\n",
       "<table border=\"1\" class=\"dataframe\">\n",
       "  <thead>\n",
       "    <tr style=\"text-align: right;\">\n",
       "      <th></th>\n",
       "      <th>utrip_id</th>\n",
       "      <th>user_id</th>\n",
       "      <th>user_features</th>\n",
       "      <th>count_unique_city</th>\n",
       "      <th>trip_size</th>\n",
       "      <th>start_trip</th>\n",
       "      <th>end_trip</th>\n",
       "      <th>checkin_list</th>\n",
       "      <th>checkout_list</th>\n",
       "      <th>days_since_2016_list</th>\n",
       "      <th>...</th>\n",
       "      <th>affiliate_id_list</th>\n",
       "      <th>booker_country_list</th>\n",
       "      <th>hotel_country_list</th>\n",
       "      <th>step_list</th>\n",
       "      <th>first_city_id</th>\n",
       "      <th>first_hotel_country</th>\n",
       "      <th>last_city_id</th>\n",
       "      <th>last_hotel_country</th>\n",
       "      <th>country_count</th>\n",
       "      <th>duration_sum</th>\n",
       "    </tr>\n",
       "  </thead>\n",
       "  <tbody>\n",
       "    <tr>\n",
       "      <th>0</th>\n",
       "      <td>1000027_1</td>\n",
       "      <td>1000027</td>\n",
       "      <td>[-0.2721548080444336, -0.3261375427246094, -0....</td>\n",
       "      <td>4</td>\n",
       "      <td>3</td>\n",
       "      <td>2016-08-13</td>\n",
       "      <td>2016-08-18</td>\n",
       "      <td>['0', '0', '0', '0', '0', '0', '0', '2016-08-1...</td>\n",
       "      <td>['0', '0', '0', '0', '0', '0', '0', '2016-08-1...</td>\n",
       "      <td>[0, 0, 0, 0, 0, 0, 0, 225, 226, 228]</td>\n",
       "      <td>...</td>\n",
       "      <td>['0', '0', '0', '0', '0', '0', '0', '7168', '7...</td>\n",
       "      <td>['0', '0', '0', '0', '0', '0', '0', 'Elbonia',...</td>\n",
       "      <td>['0', '0', '0', '0', '0', '0', '0', 'Gondal', ...</td>\n",
       "      <td>[0, 0, 0, 0, 0, 0, 0, 1, 2, 3]</td>\n",
       "      <td>8183</td>\n",
       "      <td>Gondal</td>\n",
       "      <td>30628</td>\n",
       "      <td>Gondal</td>\n",
       "      <td>88076</td>\n",
       "      <td>5</td>\n",
       "    </tr>\n",
       "    <tr>\n",
       "      <th>1</th>\n",
       "      <td>1000033_1</td>\n",
       "      <td>1000033</td>\n",
       "      <td>[-0.653695285320282, 0.9078158736228943, 0.579...</td>\n",
       "      <td>4</td>\n",
       "      <td>4</td>\n",
       "      <td>2016-04-09</td>\n",
       "      <td>2016-04-16</td>\n",
       "      <td>['0', '0', '0', '0', '0', '0', '2016-04-09', '...</td>\n",
       "      <td>['0', '0', '0', '0', '0', '0', '2016-04-11', '...</td>\n",
       "      <td>[0, 0, 0, 0, 0, 0, 99, 101, 102, 104]</td>\n",
       "      <td>...</td>\n",
       "      <td>['0', '0', '0', '0', '0', '0', '359', '384', '...</td>\n",
       "      <td>['0', '0', '0', '0', '0', '0', 'Gondal', 'Gond...</td>\n",
       "      <td>['0', '0', '0', '0', '0', '0', 'Cobra Island',...</td>\n",
       "      <td>[0, 0, 0, 0, 0, 0, 1, 2, 3, 4]</td>\n",
       "      <td>38677</td>\n",
       "      <td>Cobra Island</td>\n",
       "      <td>38677</td>\n",
       "      <td>Cobra Island</td>\n",
       "      <td>96654</td>\n",
       "      <td>7</td>\n",
       "    </tr>\n",
       "    <tr>\n",
       "      <th>2</th>\n",
       "      <td>1000045_1</td>\n",
       "      <td>1000045</td>\n",
       "      <td>[-1.1103595495224, -1.2900782823562622, -0.307...</td>\n",
       "      <td>7</td>\n",
       "      <td>6</td>\n",
       "      <td>2016-06-18</td>\n",
       "      <td>2016-06-28</td>\n",
       "      <td>['0', '0', '0', '0', '2016-06-18', '2016-06-20...</td>\n",
       "      <td>['0', '0', '0', '0', '2016-06-20', '2016-06-22...</td>\n",
       "      <td>[0, 0, 0, 0, 169, 171, 173, 175, 176, 177]</td>\n",
       "      <td>...</td>\n",
       "      <td>['0', '0', '0', '0', '2790', '7974', '7974', '...</td>\n",
       "      <td>['0', '0', '0', '0', 'The Devilfire Empire', '...</td>\n",
       "      <td>['0', '0', '0', '0', 'Fook Island', 'Fook Isla...</td>\n",
       "      <td>[0, 0, 0, 0, 1, 2, 3, 4, 5, 6]</td>\n",
       "      <td>64876</td>\n",
       "      <td>Fook Island</td>\n",
       "      <td>36063</td>\n",
       "      <td>Gondal</td>\n",
       "      <td>16624</td>\n",
       "      <td>10</td>\n",
       "    </tr>\n",
       "    <tr>\n",
       "      <th>3</th>\n",
       "      <td>1000083_1</td>\n",
       "      <td>1000083</td>\n",
       "      <td>[1.3209058046340942, 0.19926407933235168, 0.57...</td>\n",
       "      <td>4</td>\n",
       "      <td>3</td>\n",
       "      <td>2016-06-13</td>\n",
       "      <td>2016-06-16</td>\n",
       "      <td>['0', '0', '0', '0', '0', '0', '0', '2016-06-1...</td>\n",
       "      <td>['0', '0', '0', '0', '0', '0', '0', '2016-06-1...</td>\n",
       "      <td>[0, 0, 0, 0, 0, 0, 0, 164, 165, 166]</td>\n",
       "      <td>...</td>\n",
       "      <td>['0', '0', '0', '0', '0', '0', '0', '359', '35...</td>\n",
       "      <td>['0', '0', '0', '0', '0', '0', '0', 'The Devil...</td>\n",
       "      <td>['0', '0', '0', '0', '0', '0', '0', 'Osterlich...</td>\n",
       "      <td>[0, 0, 0, 0, 0, 0, 0, 1, 2, 3]</td>\n",
       "      <td>55990</td>\n",
       "      <td>Osterlich</td>\n",
       "      <td>36063</td>\n",
       "      <td>Gondal</td>\n",
       "      <td>13913</td>\n",
       "      <td>3</td>\n",
       "    </tr>\n",
       "    <tr>\n",
       "      <th>4</th>\n",
       "      <td>100008_1</td>\n",
       "      <td>100008</td>\n",
       "      <td>[-0.346758633852005, 0.11678697913885117, -1.0...</td>\n",
       "      <td>5</td>\n",
       "      <td>4</td>\n",
       "      <td>2016-07-18</td>\n",
       "      <td>2016-07-25</td>\n",
       "      <td>['0', '0', '0', '0', '0', '0', '2016-07-18', '...</td>\n",
       "      <td>['0', '0', '0', '0', '0', '0', '2016-07-21', '...</td>\n",
       "      <td>[0, 0, 0, 0, 0, 0, 199, 202, 203, 204]</td>\n",
       "      <td>...</td>\n",
       "      <td>['0', '0', '0', '0', '0', '0', '8436', '8436',...</td>\n",
       "      <td>['0', '0', '0', '0', '0', '0', 'Gondal', 'Gond...</td>\n",
       "      <td>['0', '0', '0', '0', '0', '0', 'Kamistan', 'Ka...</td>\n",
       "      <td>[0, 0, 0, 0, 0, 0, 1, 2, 3, 4]</td>\n",
       "      <td>11306</td>\n",
       "      <td>Kamistan</td>\n",
       "      <td>65690</td>\n",
       "      <td>Kamistan</td>\n",
       "      <td>6480</td>\n",
       "      <td>7</td>\n",
       "    </tr>\n",
       "  </tbody>\n",
       "</table>\n",
       "<p>5 rows × 23 columns</p>\n",
       "</div>"
      ],
      "text/plain": [
       "    utrip_id  user_id                                      user_features  \\\n",
       "0  1000027_1  1000027  [-0.2721548080444336, -0.3261375427246094, -0....   \n",
       "1  1000033_1  1000033  [-0.653695285320282, 0.9078158736228943, 0.579...   \n",
       "2  1000045_1  1000045  [-1.1103595495224, -1.2900782823562622, -0.307...   \n",
       "3  1000083_1  1000083  [1.3209058046340942, 0.19926407933235168, 0.57...   \n",
       "4   100008_1   100008  [-0.346758633852005, 0.11678697913885117, -1.0...   \n",
       "\n",
       "   count_unique_city  trip_size  start_trip    end_trip  \\\n",
       "0                  4          3  2016-08-13  2016-08-18   \n",
       "1                  4          4  2016-04-09  2016-04-16   \n",
       "2                  7          6  2016-06-18  2016-06-28   \n",
       "3                  4          3  2016-06-13  2016-06-16   \n",
       "4                  5          4  2016-07-18  2016-07-25   \n",
       "\n",
       "                                        checkin_list  \\\n",
       "0  ['0', '0', '0', '0', '0', '0', '0', '2016-08-1...   \n",
       "1  ['0', '0', '0', '0', '0', '0', '2016-04-09', '...   \n",
       "2  ['0', '0', '0', '0', '2016-06-18', '2016-06-20...   \n",
       "3  ['0', '0', '0', '0', '0', '0', '0', '2016-06-1...   \n",
       "4  ['0', '0', '0', '0', '0', '0', '2016-07-18', '...   \n",
       "\n",
       "                                       checkout_list  \\\n",
       "0  ['0', '0', '0', '0', '0', '0', '0', '2016-08-1...   \n",
       "1  ['0', '0', '0', '0', '0', '0', '2016-04-11', '...   \n",
       "2  ['0', '0', '0', '0', '2016-06-20', '2016-06-22...   \n",
       "3  ['0', '0', '0', '0', '0', '0', '0', '2016-06-1...   \n",
       "4  ['0', '0', '0', '0', '0', '0', '2016-07-21', '...   \n",
       "\n",
       "                         days_since_2016_list  ...  \\\n",
       "0        [0, 0, 0, 0, 0, 0, 0, 225, 226, 228]  ...   \n",
       "1       [0, 0, 0, 0, 0, 0, 99, 101, 102, 104]  ...   \n",
       "2  [0, 0, 0, 0, 169, 171, 173, 175, 176, 177]  ...   \n",
       "3        [0, 0, 0, 0, 0, 0, 0, 164, 165, 166]  ...   \n",
       "4      [0, 0, 0, 0, 0, 0, 199, 202, 203, 204]  ...   \n",
       "\n",
       "                                   affiliate_id_list  \\\n",
       "0  ['0', '0', '0', '0', '0', '0', '0', '7168', '7...   \n",
       "1  ['0', '0', '0', '0', '0', '0', '359', '384', '...   \n",
       "2  ['0', '0', '0', '0', '2790', '7974', '7974', '...   \n",
       "3  ['0', '0', '0', '0', '0', '0', '0', '359', '35...   \n",
       "4  ['0', '0', '0', '0', '0', '0', '8436', '8436',...   \n",
       "\n",
       "                                 booker_country_list  \\\n",
       "0  ['0', '0', '0', '0', '0', '0', '0', 'Elbonia',...   \n",
       "1  ['0', '0', '0', '0', '0', '0', 'Gondal', 'Gond...   \n",
       "2  ['0', '0', '0', '0', 'The Devilfire Empire', '...   \n",
       "3  ['0', '0', '0', '0', '0', '0', '0', 'The Devil...   \n",
       "4  ['0', '0', '0', '0', '0', '0', 'Gondal', 'Gond...   \n",
       "\n",
       "                                  hotel_country_list  \\\n",
       "0  ['0', '0', '0', '0', '0', '0', '0', 'Gondal', ...   \n",
       "1  ['0', '0', '0', '0', '0', '0', 'Cobra Island',...   \n",
       "2  ['0', '0', '0', '0', 'Fook Island', 'Fook Isla...   \n",
       "3  ['0', '0', '0', '0', '0', '0', '0', 'Osterlich...   \n",
       "4  ['0', '0', '0', '0', '0', '0', 'Kamistan', 'Ka...   \n",
       "\n",
       "                        step_list first_city_id first_hotel_country  \\\n",
       "0  [0, 0, 0, 0, 0, 0, 0, 1, 2, 3]          8183              Gondal   \n",
       "1  [0, 0, 0, 0, 0, 0, 1, 2, 3, 4]         38677        Cobra Island   \n",
       "2  [0, 0, 0, 0, 1, 2, 3, 4, 5, 6]         64876         Fook Island   \n",
       "3  [0, 0, 0, 0, 0, 0, 0, 1, 2, 3]         55990           Osterlich   \n",
       "4  [0, 0, 0, 0, 0, 0, 1, 2, 3, 4]         11306            Kamistan   \n",
       "\n",
       "  last_city_id  last_hotel_country country_count  duration_sum  \n",
       "0        30628              Gondal         88076             5  \n",
       "1        38677        Cobra Island         96654             7  \n",
       "2        36063              Gondal         16624            10  \n",
       "3        36063              Gondal         13913             3  \n",
       "4        65690            Kamistan          6480             7  \n",
       "\n",
       "[5 rows x 23 columns]"
      ]
     },
     "execution_count": 3,
     "metadata": {},
     "output_type": "execute_result"
    }
   ],
   "source": [
    "df = pd.read_csv('../output/booking/dataset/train_500_30_10.csv')\n",
    "\n",
    "df.head()"
   ]
  },
  {
   "cell_type": "code",
   "execution_count": 4,
   "metadata": {},
   "outputs": [
    {
     "data": {
      "text/plain": [
       "0                 [0, 0, 0, 0, 0, 0, 0, 8183, 15626, 60902]\n",
       "1            [0, 0, 0, 0, 0, 0, 38677, 52089, 21328, 27485]\n",
       "2         [0, 0, 0, 0, 64876, 55128, 9608, 31817, 36170,...\n",
       "3                [0, 0, 0, 0, 0, 0, 0, 55990, 14705, 35160]\n",
       "4              [0, 0, 0, 0, 0, 0, 11306, 12096, 6761, 6779]\n",
       "                                ...                        \n",
       "912359               [0, 0, 0, 0, 0, 0, 0, 0, 51291, 66969]\n",
       "912360           [0, 0, 0, 0, 0, 0, 0, 51291, 66969, 67169]\n",
       "912361                   [0, 0, 0, 0, 0, 0, 0, 0, 0, 17944]\n",
       "912362               [0, 0, 0, 0, 0, 0, 0, 0, 17944, 47075]\n",
       "912363             [0, 0, 0, 0, 0, 0, 0, 17944, 47075, 228]\n",
       "Name: city_id_list, Length: 912364, dtype: object"
      ]
     },
     "execution_count": 4,
     "metadata": {},
     "output_type": "execute_result"
    }
   ],
   "source": [
    "df['city_id_list'] = df['city_id_list'].apply(eval)\n",
    "df['city_id_list']"
   ]
  },
  {
   "cell_type": "code",
   "execution_count": null,
   "metadata": {},
   "outputs": [],
   "source": []
  },
  {
   "cell_type": "markdown",
   "metadata": {},
   "source": [
    "## Coocorrence"
   ]
  },
  {
   "cell_type": "code",
   "execution_count": 5,
   "metadata": {},
   "outputs": [],
   "source": [
    "def create_co_occurences_matrix(allowed_words, documents):\n",
    "    word_to_id       = dict(zip(allowed_words, range(len(allowed_words))))\n",
    "    documents_as_ids = [np.sort([word_to_id[w] for w in doc if w in word_to_id]).astype('uint32') for doc in documents]\n",
    "    row_ind, col_ind = zip(*itertools.chain(*[[(i, w) for w in doc] for i, doc in enumerate(documents_as_ids)]))\n",
    "    \n",
    "    data        = np.ones(len(row_ind), dtype='uint32')  # use unsigned int for better memory utilization\n",
    "    max_word_id = max(itertools.chain(*documents_as_ids)) + 1\n",
    "    \n",
    "    docs_words_matrix = csr_matrix((data, (row_ind, col_ind)), shape=(len(documents_as_ids), max_word_id))  # efficient arithmetic operations with CSR * CSR\n",
    "    words_cooc_matrix = docs_words_matrix.T * docs_words_matrix  # multiplying docs_words_matrix with its transpose matrix would generate the co-occurences matrix\n",
    "    words_cooc_matrix.setdiag(0)\n",
    "\n",
    "    return words_cooc_matrix, word_to_id "
   ]
  },
  {
   "cell_type": "code",
   "execution_count": 6,
   "metadata": {},
   "outputs": [],
   "source": [
    "item_idx = np.unique(df_all['city_id'])\n",
    "lists    = list(df['city_id_list'])"
   ]
  },
  {
   "cell_type": "code",
   "execution_count": 7,
   "metadata": {},
   "outputs": [
    {
     "name": "stderr",
     "output_type": "stream",
     "text": [
      "/home/marlesson/anaconda3/envs/booking_challenge/lib/python3.6/site-packages/scipy/sparse/_index.py:125: SparseEfficiencyWarning: Changing the sparsity structure of a csc_matrix is expensive. lil_matrix is more efficient.\n",
      "  self._set_arrayXarray(i, j, x)\n"
     ]
    }
   ],
   "source": [
    "cooc_matrix, cooc_to_idx = create_co_occurences_matrix(item_idx, lists)\n",
    "cooc_to_id =  {v: k for k, v in cooc_to_idx.items()}"
   ]
  },
  {
   "cell_type": "code",
   "execution_count": 8,
   "metadata": {},
   "outputs": [
    {
     "data": {
      "text/plain": [
       "(array([29690,  7751,  4223, ..., 26375, 26374,     0]), 39900)"
      ]
     },
     "execution_count": 8,
     "metadata": {},
     "output_type": "execute_result"
    }
   ],
   "source": [
    "uid    = cooc_to_idx['29770'] #52818\n",
    "scores = np.argsort(np.array(cooc_matrix[uid].todense())[0])[::-1]\n",
    "scores, np.max(scores)"
   ]
  },
  {
   "cell_type": "code",
   "execution_count": 9,
   "metadata": {
    "scrolled": true
   },
   "outputs": [
    {
     "data": {
      "text/plain": [
       "[('55196', 1904),\n",
       " ('21929', 1525),\n",
       " ('16521', 1093),\n",
       " ('48343', 1074),\n",
       " ('46258', 1056),\n",
       " ('52818', 958),\n",
       " ('44869', 750),\n",
       " ('37601', 707),\n",
       " ('64269', 677),\n",
       " ('36063', 626)]"
      ]
     },
     "execution_count": 9,
     "metadata": {},
     "output_type": "execute_result"
    }
   ],
   "source": [
    "[(cooc_to_id[_id], cooc_matrix[uid,_id]) for _id in scores[:10]]"
   ]
  },
  {
   "cell_type": "code",
   "execution_count": 10,
   "metadata": {},
   "outputs": [
    {
     "data": {
      "text/plain": [
       "(39901, 39901)"
      ]
     },
     "execution_count": 10,
     "metadata": {},
     "output_type": "execute_result"
    }
   ],
   "source": [
    "cooc_matrix.shape"
   ]
  },
  {
   "cell_type": "code",
   "execution_count": 11,
   "metadata": {},
   "outputs": [],
   "source": [
    "def get_neighbors(uid,cooc_matrix, cooc_to_idx,cooc_to_id, top=10):\n",
    "    if uid in cooc_to_idx:\n",
    "        uid    = cooc_to_idx[uid] \n",
    "        scores = np.argsort(np.array(cooc_matrix[uid].todense())[0])[::-1]\n",
    "\n",
    "        return [cooc_to_id[_id] for _id in scores[:top]],\\\n",
    "                    [cooc_matrix[uid,_id] for _id in scores[:top]]\n",
    "    else:\n",
    "        return [], []"
   ]
  },
  {
   "cell_type": "code",
   "execution_count": 12,
   "metadata": {},
   "outputs": [
    {
     "data": {
      "text/plain": [
       "[('55196', 1904),\n",
       " ('21929', 1525),\n",
       " ('16521', 1093),\n",
       " ('48343', 1074),\n",
       " ('46258', 1056),\n",
       " ('52818', 958),\n",
       " ('44869', 750),\n",
       " ('37601', 707),\n",
       " ('64269', 677),\n",
       " ('36063', 626)]"
      ]
     },
     "execution_count": 12,
     "metadata": {},
     "output_type": "execute_result"
    }
   ],
   "source": [
    "uid = '29770'\n",
    "items, scores = get_neighbors(uid, cooc_matrix, cooc_to_idx, cooc_to_id, top=10)\n",
    "list(zip(items, scores))"
   ]
  },
  {
   "cell_type": "code",
   "execution_count": null,
   "metadata": {},
   "outputs": [],
   "source": []
  },
  {
   "cell_type": "markdown",
   "metadata": {},
   "source": [
    "## Session Similarity"
   ]
  },
  {
   "cell_type": "code",
   "execution_count": null,
   "metadata": {},
   "outputs": [],
   "source": []
  },
  {
   "cell_type": "code",
   "execution_count": 13,
   "metadata": {
    "scrolled": true
   },
   "outputs": [
    {
     "name": "stderr",
     "output_type": "stream",
     "text": [
      "/home/marlesson/anaconda3/envs/booking_challenge/lib/python3.6/site-packages/ipykernel_launcher.py:11: SettingWithCopyWarning: \n",
      "A value is trying to be set on a copy of a slice from a DataFrame.\n",
      "Try using .loc[row_indexer,col_indexer] = value instead\n",
      "\n",
      "See the caveats in the documentation: http://pandas.pydata.org/pandas-docs/stable/user_guide/indexing.html#returning-a-view-versus-a-copy\n",
      "  # This is added back by InteractiveShellApp.init_path()\n"
     ]
    },
    {
     "data": {
      "text/html": [
       "<div>\n",
       "<style scoped>\n",
       "    .dataframe tbody tr th:only-of-type {\n",
       "        vertical-align: middle;\n",
       "    }\n",
       "\n",
       "    .dataframe tbody tr th {\n",
       "        vertical-align: top;\n",
       "    }\n",
       "\n",
       "    .dataframe thead th {\n",
       "        text-align: right;\n",
       "    }\n",
       "</style>\n",
       "<table border=\"1\" class=\"dataframe\">\n",
       "  <thead>\n",
       "    <tr style=\"text-align: right;\">\n",
       "      <th></th>\n",
       "      <th>Unnamed: 0</th>\n",
       "      <th>user_id</th>\n",
       "      <th>checkin</th>\n",
       "      <th>checkout</th>\n",
       "      <th>city_id</th>\n",
       "      <th>device_class</th>\n",
       "      <th>affiliate_id</th>\n",
       "      <th>booker_country</th>\n",
       "      <th>hotel_country</th>\n",
       "      <th>utrip_id</th>\n",
       "      <th>visit</th>\n",
       "    </tr>\n",
       "  </thead>\n",
       "  <tbody>\n",
       "    <tr>\n",
       "      <th>0</th>\n",
       "      <td>0</td>\n",
       "      <td>1006220</td>\n",
       "      <td>2016-04-09</td>\n",
       "      <td>2016-04-11</td>\n",
       "      <td>31114</td>\n",
       "      <td>desktop</td>\n",
       "      <td>384</td>\n",
       "      <td>Gondal</td>\n",
       "      <td>Gondal</td>\n",
       "      <td>1006220_1</td>\n",
       "      <td>1</td>\n",
       "    </tr>\n",
       "    <tr>\n",
       "      <th>1</th>\n",
       "      <td>1</td>\n",
       "      <td>1006220</td>\n",
       "      <td>2016-04-11</td>\n",
       "      <td>2016-04-12</td>\n",
       "      <td>39641</td>\n",
       "      <td>desktop</td>\n",
       "      <td>384</td>\n",
       "      <td>Gondal</td>\n",
       "      <td>Gondal</td>\n",
       "      <td>1006220_1</td>\n",
       "      <td>1</td>\n",
       "    </tr>\n",
       "    <tr>\n",
       "      <th>2</th>\n",
       "      <td>2</td>\n",
       "      <td>1006220</td>\n",
       "      <td>2016-04-12</td>\n",
       "      <td>2016-04-16</td>\n",
       "      <td>20232</td>\n",
       "      <td>desktop</td>\n",
       "      <td>384</td>\n",
       "      <td>Gondal</td>\n",
       "      <td>Glubbdubdrib</td>\n",
       "      <td>1006220_1</td>\n",
       "      <td>1</td>\n",
       "    </tr>\n",
       "    <tr>\n",
       "      <th>3</th>\n",
       "      <td>3</td>\n",
       "      <td>1006220</td>\n",
       "      <td>2016-04-16</td>\n",
       "      <td>2016-04-17</td>\n",
       "      <td>24144</td>\n",
       "      <td>desktop</td>\n",
       "      <td>384</td>\n",
       "      <td>Gondal</td>\n",
       "      <td>Gondal</td>\n",
       "      <td>1006220_1</td>\n",
       "      <td>1</td>\n",
       "    </tr>\n",
       "    <tr>\n",
       "      <th>4</th>\n",
       "      <td>4</td>\n",
       "      <td>1010293</td>\n",
       "      <td>2016-07-09</td>\n",
       "      <td>2016-07-10</td>\n",
       "      <td>5325</td>\n",
       "      <td>mobile</td>\n",
       "      <td>359</td>\n",
       "      <td>The Devilfire Empire</td>\n",
       "      <td>Cobra Island</td>\n",
       "      <td>1010293_1</td>\n",
       "      <td>1</td>\n",
       "    </tr>\n",
       "  </tbody>\n",
       "</table>\n",
       "</div>"
      ],
      "text/plain": [
       "   Unnamed: 0  user_id    checkin   checkout city_id device_class  \\\n",
       "0           0  1006220 2016-04-09 2016-04-11   31114      desktop   \n",
       "1           1  1006220 2016-04-11 2016-04-12   39641      desktop   \n",
       "2           2  1006220 2016-04-12 2016-04-16   20232      desktop   \n",
       "3           3  1006220 2016-04-16 2016-04-17   24144      desktop   \n",
       "4           4  1010293 2016-07-09 2016-07-10    5325       mobile   \n",
       "\n",
       "  affiliate_id        booker_country hotel_country   utrip_id  visit  \n",
       "0          384                Gondal        Gondal  1006220_1      1  \n",
       "1          384                Gondal        Gondal  1006220_1      1  \n",
       "2          384                Gondal  Glubbdubdrib  1006220_1      1  \n",
       "3          384                Gondal        Gondal  1006220_1      1  \n",
       "4          359  The Devilfire Empire  Cobra Island  1010293_1      1  "
      ]
     },
     "execution_count": 13,
     "metadata": {},
     "output_type": "execute_result"
    }
   ],
   "source": [
    "sample_days = 500\n",
    "test_days = 30\n",
    "# Split Data\n",
    "max_timestamp        = df_all.checkout.max()\n",
    "init_train_timestamp = max_timestamp - timedelta(days = sample_days)\n",
    "init_test_timestamp  = max_timestamp - timedelta(days = test_days)\n",
    "\n",
    "# TODO Garantir que o usuário fique com a sessão no train ou test\n",
    "df_train = df_all[(df_all.checkout >= init_train_timestamp) & (df_all.checkout < init_test_timestamp)]\n",
    "\n",
    "df_train['visit'] = 1\n",
    "df_train.head()"
   ]
  },
  {
   "cell_type": "code",
   "execution_count": 14,
   "metadata": {},
   "outputs": [],
   "source": [
    "from pandas.api.types import CategoricalDtype\n",
    "\n",
    "def create_sparse_matrix(df: pd.DataFrame):\n",
    "\n",
    "    session_c = CategoricalDtype(sorted(df.utrip_id.unique()), ordered=True)\n",
    "    item_c    = CategoricalDtype(sorted(df.city_id.unique()), ordered=True)\n",
    "\n",
    "    col = df.utrip_id.astype(session_c).cat.codes\n",
    "    row = df.city_id.astype(item_c).cat.codes\n",
    "    sparse_matrix = csr_matrix((df[\"visit\"], (row, col)), \\\n",
    "                            shape=(item_c.categories.size, session_c.categories.size))\n",
    "    return sparse_matrix\n"
   ]
  },
  {
   "cell_type": "code",
   "execution_count": 15,
   "metadata": {},
   "outputs": [
    {
     "data": {
      "text/plain": [
       "<39787x214146 sparse matrix of type '<class 'numpy.int64'>'\n",
       "\twith 1012282 stored elements in Compressed Sparse Row format>"
      ]
     },
     "execution_count": 15,
     "metadata": {},
     "output_type": "execute_result"
    }
   ],
   "source": [
    "item_idx = np.unique(df_train['city_id'])\n",
    "lists    = list(df['city_id_list'])\n",
    "sparse_matrix = create_sparse_matrix(df_train)\n",
    "sparse_matrix"
   ]
  },
  {
   "cell_type": "code",
   "execution_count": 16,
   "metadata": {},
   "outputs": [],
   "source": [
    "matrix_item_idx  = dict(zip(item_idx, list(range(len(item_idx)))))\n",
    "matrix_item_id   =  {v: k for k, v in matrix_item_idx.items()}\n",
    "sparse_matrix    = sparse_matrix\n",
    "cos_matrix       = cosine_similarity(sparse_matrix)\n",
    "np.fill_diagonal(cos_matrix, 0)\n",
    "cos_matrix       = sparse.csr_matrix(cos_matrix)"
   ]
  },
  {
   "cell_type": "code",
   "execution_count": 17,
   "metadata": {},
   "outputs": [
    {
     "data": {
      "text/plain": [
       "<39787x39787 sparse matrix of type '<class 'numpy.float64'>'\n",
       "\twith 1408708 stored elements in Compressed Sparse Row format>"
      ]
     },
     "execution_count": 17,
     "metadata": {},
     "output_type": "execute_result"
    }
   ],
   "source": [
    "cos_matrix"
   ]
  },
  {
   "cell_type": "code",
   "execution_count": 18,
   "metadata": {},
   "outputs": [
    {
     "data": {
      "text/plain": [
       "(39787, 39787)"
      ]
     },
     "execution_count": 18,
     "metadata": {},
     "output_type": "execute_result"
    }
   ],
   "source": [
    "cos_matrix.shape"
   ]
  },
  {
   "cell_type": "code",
   "execution_count": 19,
   "metadata": {},
   "outputs": [
    {
     "data": {
      "text/plain": [
       "[('55196', 0.2532611093140279),\n",
       " ('48343', 0.2095010966509785),\n",
       " ('46258', 0.20714425388042296),\n",
       " ('37601', 0.1763536469542316),\n",
       " ('21929', 0.16746105065885727),\n",
       " ('52818', 0.16626128258249187),\n",
       " ('2201', 0.15931144572277947),\n",
       " ('53831', 0.14325091442726673),\n",
       " ('19333', 0.13975019099745023),\n",
       " ('18083', 0.12923443443450883)]"
      ]
     },
     "execution_count": 19,
     "metadata": {},
     "output_type": "execute_result"
    }
   ],
   "source": [
    "# def get_neighbors(uid,cooc_matrix, cooc_to_idx,cooc_to_id, top=10):\n",
    "#     uid    = cooc_to_idx[uid] \n",
    "#     scores = np.argsort(np.array(cooc_matrix[uid].todense())[0])[::-1]\n",
    "    \n",
    "#     return [(cooc_to_id[_id], cooc_matrix[uid,_id]) for _id in scores[:top]]\n",
    "\n",
    "uid = '29770'\n",
    "items, scores = get_neighbors(uid, cos_matrix, matrix_item_idx, matrix_item_id, top=10)\n",
    "list(zip(items, scores))"
   ]
  },
  {
   "cell_type": "code",
   "execution_count": null,
   "metadata": {},
   "outputs": [],
   "source": []
  },
  {
   "cell_type": "code",
   "execution_count": null,
   "metadata": {},
   "outputs": [],
   "source": []
  },
  {
   "cell_type": "markdown",
   "metadata": {},
   "source": [
    "## Save"
   ]
  },
  {
   "cell_type": "code",
   "execution_count": 20,
   "metadata": {},
   "outputs": [
    {
     "data": {
      "text/html": [
       "<div>\n",
       "<style scoped>\n",
       "    .dataframe tbody tr th:only-of-type {\n",
       "        vertical-align: middle;\n",
       "    }\n",
       "\n",
       "    .dataframe tbody tr th {\n",
       "        vertical-align: top;\n",
       "    }\n",
       "\n",
       "    .dataframe thead th {\n",
       "        text-align: right;\n",
       "    }\n",
       "</style>\n",
       "<table border=\"1\" class=\"dataframe\">\n",
       "  <thead>\n",
       "    <tr style=\"text-align: right;\">\n",
       "      <th></th>\n",
       "      <th>Unnamed: 0</th>\n",
       "      <th>user_id</th>\n",
       "      <th>checkin</th>\n",
       "      <th>checkout</th>\n",
       "      <th>city_id</th>\n",
       "      <th>device_class</th>\n",
       "      <th>affiliate_id</th>\n",
       "      <th>booker_country</th>\n",
       "      <th>hotel_country</th>\n",
       "      <th>utrip_id</th>\n",
       "    </tr>\n",
       "  </thead>\n",
       "  <tbody>\n",
       "    <tr>\n",
       "      <th>0</th>\n",
       "      <td>0</td>\n",
       "      <td>1006220</td>\n",
       "      <td>2016-04-09</td>\n",
       "      <td>2016-04-11</td>\n",
       "      <td>31114</td>\n",
       "      <td>desktop</td>\n",
       "      <td>384</td>\n",
       "      <td>Gondal</td>\n",
       "      <td>Gondal</td>\n",
       "      <td>1006220_1</td>\n",
       "    </tr>\n",
       "    <tr>\n",
       "      <th>1</th>\n",
       "      <td>1</td>\n",
       "      <td>1006220</td>\n",
       "      <td>2016-04-11</td>\n",
       "      <td>2016-04-12</td>\n",
       "      <td>39641</td>\n",
       "      <td>desktop</td>\n",
       "      <td>384</td>\n",
       "      <td>Gondal</td>\n",
       "      <td>Gondal</td>\n",
       "      <td>1006220_1</td>\n",
       "    </tr>\n",
       "    <tr>\n",
       "      <th>2</th>\n",
       "      <td>2</td>\n",
       "      <td>1006220</td>\n",
       "      <td>2016-04-12</td>\n",
       "      <td>2016-04-16</td>\n",
       "      <td>20232</td>\n",
       "      <td>desktop</td>\n",
       "      <td>384</td>\n",
       "      <td>Gondal</td>\n",
       "      <td>Glubbdubdrib</td>\n",
       "      <td>1006220_1</td>\n",
       "    </tr>\n",
       "    <tr>\n",
       "      <th>3</th>\n",
       "      <td>3</td>\n",
       "      <td>1006220</td>\n",
       "      <td>2016-04-16</td>\n",
       "      <td>2016-04-17</td>\n",
       "      <td>24144</td>\n",
       "      <td>desktop</td>\n",
       "      <td>384</td>\n",
       "      <td>Gondal</td>\n",
       "      <td>Gondal</td>\n",
       "      <td>1006220_1</td>\n",
       "    </tr>\n",
       "    <tr>\n",
       "      <th>4</th>\n",
       "      <td>4</td>\n",
       "      <td>1010293</td>\n",
       "      <td>2016-07-09</td>\n",
       "      <td>2016-07-10</td>\n",
       "      <td>5325</td>\n",
       "      <td>mobile</td>\n",
       "      <td>359</td>\n",
       "      <td>The Devilfire Empire</td>\n",
       "      <td>Cobra Island</td>\n",
       "      <td>1010293_1</td>\n",
       "    </tr>\n",
       "  </tbody>\n",
       "</table>\n",
       "</div>"
      ],
      "text/plain": [
       "   Unnamed: 0  user_id    checkin   checkout city_id device_class  \\\n",
       "0           0  1006220 2016-04-09 2016-04-11   31114      desktop   \n",
       "1           1  1006220 2016-04-11 2016-04-12   39641      desktop   \n",
       "2           2  1006220 2016-04-12 2016-04-16   20232      desktop   \n",
       "3           3  1006220 2016-04-16 2016-04-17   24144      desktop   \n",
       "4           4  1010293 2016-07-09 2016-07-10    5325       mobile   \n",
       "\n",
       "  affiliate_id        booker_country hotel_country   utrip_id  \n",
       "0          384                Gondal        Gondal  1006220_1  \n",
       "1          384                Gondal        Gondal  1006220_1  \n",
       "2          384                Gondal  Glubbdubdrib  1006220_1  \n",
       "3          384                Gondal        Gondal  1006220_1  \n",
       "4          359  The Devilfire Empire  Cobra Island  1010293_1  "
      ]
     },
     "execution_count": 20,
     "metadata": {},
     "output_type": "execute_result"
    }
   ],
   "source": [
    "df_all.head()"
   ]
  },
  {
   "cell_type": "code",
   "execution_count": 21,
   "metadata": {
    "scrolled": true
   },
   "outputs": [],
   "source": [
    "top_k     = 500\n",
    "cities_id = list(np.unique(df_all['city_id']))\n",
    "dict_cooc_map  = {c: cities_id for c in cities_id}\n",
    "dict_sim_map   = {c: cities_id for c in cities_id}\n",
    "\n",
    "\n",
    "for uid in cities_id:\n",
    "    items, scores = get_neighbors(uid, cooc_matrix, cooc_to_idx, cooc_to_id, top=top_k)\n",
    "    if len(items) > 0:\n",
    "        dict_cooc_map[uid] = items\n",
    "    \n",
    "    items, scores = get_neighbors(uid, cos_matrix, matrix_item_idx, matrix_item_id, top=top_k)\n",
    "    if len(items) > 0:\n",
    "        dict_sim_map[uid]  = items"
   ]
  },
  {
   "cell_type": "code",
   "execution_count": 22,
   "metadata": {},
   "outputs": [],
   "source": [
    "import pickle \n",
    "\n",
    "# SAVE\n",
    "with open(\"../output/booking/dataset/neighbors_dict_cooc_map.pkl\", \"wb\") as pkl_handle:\n",
    "    pickle.dump(dict_cooc_map, pkl_handle)\n",
    "\n",
    "with open(\"../output/booking/dataset/neighbors_dict_sim_map.pkl\", \"wb\") as pkl_handle:\n",
    "    pickle.dump(dict_sim_map, pkl_handle)\n",
    "    \n",
    "# # LOAD\n",
    "# with open(\"../output/booking/dataset/data.pkl\", \"rb\") as pkl_handle:\n",
    "# \toutput = pickle.load(pkl_handle)"
   ]
  },
  {
   "cell_type": "code",
   "execution_count": null,
   "metadata": {},
   "outputs": [],
   "source": []
  },
  {
   "cell_type": "code",
   "execution_count": null,
   "metadata": {},
   "outputs": [],
   "source": []
  }
 ],
 "metadata": {
  "kernelspec": {
   "display_name": "Python 3",
   "language": "python",
   "name": "python3"
  },
  "language_info": {
   "codemirror_mode": {
    "name": "ipython",
    "version": 3
   },
   "file_extension": ".py",
   "mimetype": "text/x-python",
   "name": "python",
   "nbconvert_exporter": "python",
   "pygments_lexer": "ipython3",
   "version": "3.6.12"
  },
  "toc": {
   "base_numbering": 1,
   "nav_menu": {},
   "number_sections": true,
   "sideBar": true,
   "skip_h1_title": false,
   "title_cell": "Table of Contents",
   "title_sidebar": "Contents",
   "toc_cell": false,
   "toc_position": {},
   "toc_section_display": true,
   "toc_window_display": false
  }
 },
 "nbformat": 4,
 "nbformat_minor": 4
}
